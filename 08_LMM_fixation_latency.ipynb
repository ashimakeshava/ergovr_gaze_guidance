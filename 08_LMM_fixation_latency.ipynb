{
 "cells": [
  {
   "cell_type": "code",
   "execution_count": null,
   "metadata": {
    "scrolled": false
   },
   "outputs": [],
   "source": [
    "library(lme4)\n",
    "library(ggplot2)\n",
    "library(multcomp)\n",
    "library(emmeans)\n",
    "library(plyr)\n",
    "library(performance)\n",
    "library(see)\n",
    "library(gridExtra)\n",
    "library(car)\n",
    "library(lmerTest)\n",
    "library(effects)\n",
    "library(moments)\n",
    "library(effectsize)\n",
    "library(MuMIn)"
   ]
  },
  {
   "cell_type": "code",
   "execution_count": 3,
   "metadata": {},
   "outputs": [],
   "source": [
    "setwd('D:/projects/ErgoVR/code')"
   ]
  },
  {
   "cell_type": "markdown",
   "metadata": {},
   "source": [
    "# read data"
   ]
  },
  {
   "cell_type": "code",
   "execution_count": 2,
   "metadata": {
    "ExecuteTime": {
     "end_time": "2022-02-09T18:49:58.345264Z",
     "start_time": "2022-02-09T18:49:58.152Z"
    }
   },
   "outputs": [],
   "source": [
    "df_exe <- read.csv(file = 't50_execution.csv')\n",
    "df_plan <- read.csv(file = 't50_planning.csv')"
   ]
  },
  {
   "cell_type": "code",
   "execution_count": 5,
   "metadata": {
    "ExecuteTime": {
     "end_time": "2022-01-25T16:01:17.311450Z",
     "start_time": "2022-01-25T16:01:17.262Z"
    }
   },
   "outputs": [
    {
     "data": {
      "text/html": [
       "<table>\n",
       "<thead><tr><th scope=col>X</th><th scope=col>subject_id</th><th scope=col>trial_type</th><th scope=col>trial_num</th><th scope=col>fix_type</th><th scope=col>t50</th><th scope=col>inv_time</th><th scope=col>log_time</th></tr></thead>\n",
       "<tbody>\n",
       "\t<tr><td>0         </td><td>2006      </td><td>easy      </td><td>5         </td><td>current_TO</td><td>0.29160615</td><td> 3.429283 </td><td>-1.2323512</td></tr>\n",
       "\t<tr><td>1         </td><td>2006      </td><td>easy      </td><td>5         </td><td>current_TS</td><td>0.11374691</td><td> 8.791448 </td><td>-2.1737794</td></tr>\n",
       "\t<tr><td>2         </td><td>2006      </td><td>easy      </td><td>5         </td><td>next_TO   </td><td>0.49726099</td><td> 2.011016 </td><td>-0.6986403</td></tr>\n",
       "\t<tr><td>3         </td><td>2006      </td><td>easy      </td><td>5         </td><td>next_TS   </td><td>0.01697754</td><td>58.901366 </td><td>-4.0758643</td></tr>\n",
       "\t<tr><td>4         </td><td>2006      </td><td>easy      </td><td>5         </td><td>other     </td><td>0.04645662</td><td>21.525456 </td><td>-3.0692363</td></tr>\n",
       "\t<tr><td>6         </td><td>2006      </td><td>easy      </td><td>5         </td><td>prev_TS   </td><td>0.01018812</td><td>98.153553 </td><td>-4.5865331</td></tr>\n",
       "</tbody>\n",
       "</table>\n"
      ],
      "text/latex": [
       "\\begin{tabular}{r|llllllll}\n",
       " X & subject\\_id & trial\\_type & trial\\_num & fix\\_type & t50 & inv\\_time & log\\_time\\\\\n",
       "\\hline\n",
       "\t 0            & 2006         & easy         & 5            & current\\_TO & 0.29160615   &  3.429283    & -1.2323512  \\\\\n",
       "\t 1            & 2006         & easy         & 5            & current\\_TS & 0.11374691   &  8.791448    & -2.1737794  \\\\\n",
       "\t 2            & 2006         & easy         & 5            & next\\_TO    & 0.49726099   &  2.011016    & -0.6986403  \\\\\n",
       "\t 3            & 2006         & easy         & 5            & next\\_TS    & 0.01697754   & 58.901366    & -4.0758643  \\\\\n",
       "\t 4          & 2006       & easy       & 5          & other      & 0.04645662 & 21.525456  & -3.0692363\\\\\n",
       "\t 6            & 2006         & easy         & 5            & prev\\_TS    & 0.01018812   & 98.153553    & -4.5865331  \\\\\n",
       "\\end{tabular}\n"
      ],
      "text/markdown": [
       "\n",
       "| X | subject_id | trial_type | trial_num | fix_type | t50 | inv_time | log_time |\n",
       "|---|---|---|---|---|---|---|---|\n",
       "| 0          | 2006       | easy       | 5          | current_TO | 0.29160615 |  3.429283  | -1.2323512 |\n",
       "| 1          | 2006       | easy       | 5          | current_TS | 0.11374691 |  8.791448  | -2.1737794 |\n",
       "| 2          | 2006       | easy       | 5          | next_TO    | 0.49726099 |  2.011016  | -0.6986403 |\n",
       "| 3          | 2006       | easy       | 5          | next_TS    | 0.01697754 | 58.901366  | -4.0758643 |\n",
       "| 4          | 2006       | easy       | 5          | other      | 0.04645662 | 21.525456  | -3.0692363 |\n",
       "| 6          | 2006       | easy       | 5          | prev_TS    | 0.01018812 | 98.153553  | -4.5865331 |\n",
       "\n"
      ],
      "text/plain": [
       "  X subject_id trial_type trial_num fix_type   t50        inv_time  log_time  \n",
       "1 0 2006       easy       5         current_TO 0.29160615  3.429283 -1.2323512\n",
       "2 1 2006       easy       5         current_TS 0.11374691  8.791448 -2.1737794\n",
       "3 2 2006       easy       5         next_TO    0.49726099  2.011016 -0.6986403\n",
       "4 3 2006       easy       5         next_TS    0.01697754 58.901366 -4.0758643\n",
       "5 4 2006       easy       5         other      0.04645662 21.525456 -3.0692363\n",
       "6 6 2006       easy       5         prev_TS    0.01018812 98.153553 -4.5865331"
      ]
     },
     "metadata": {},
     "output_type": "display_data"
    }
   ],
   "source": [
    "head(df_plan)"
   ]
  },
  {
   "cell_type": "markdown",
   "metadata": {},
   "source": [
    "# center the categorical and continuous variables"
   ]
  },
  {
   "cell_type": "code",
   "execution_count": 3,
   "metadata": {
    "ExecuteTime": {
     "end_time": "2022-02-09T18:50:03.301754Z",
     "start_time": "2022-02-09T18:50:03.232Z"
    }
   },
   "outputs": [
    {
     "data": {
      "text/html": [
       "<table>\n",
       "<thead><tr><th></th><th scope=col>2</th></tr></thead>\n",
       "<tbody>\n",
       "\t<tr><th scope=row>easy</th><td>-0.5</td></tr>\n",
       "\t<tr><th scope=row>hard</th><td> 0.5</td></tr>\n",
       "</tbody>\n",
       "</table>\n"
      ],
      "text/latex": [
       "\\begin{tabular}{r|l}\n",
       "  & 2\\\\\n",
       "\\hline\n",
       "\teasy & -0.5\\\\\n",
       "\thard &  0.5\\\\\n",
       "\\end{tabular}\n"
      ],
      "text/markdown": [
       "\n",
       "| <!--/--> | 2 |\n",
       "|---|---|\n",
       "| easy | -0.5 |\n",
       "| hard |  0.5 |\n",
       "\n"
      ],
      "text/plain": [
       "     2   \n",
       "easy -0.5\n",
       "hard  0.5"
      ]
     },
     "metadata": {},
     "output_type": "display_data"
    },
    {
     "data": {
      "text/html": [
       "<table>\n",
       "<thead><tr><th></th><th scope=col>2</th></tr></thead>\n",
       "<tbody>\n",
       "\t<tr><th scope=row>easy</th><td>-0.5</td></tr>\n",
       "\t<tr><th scope=row>hard</th><td> 0.5</td></tr>\n",
       "</tbody>\n",
       "</table>\n"
      ],
      "text/latex": [
       "\\begin{tabular}{r|l}\n",
       "  & 2\\\\\n",
       "\\hline\n",
       "\teasy & -0.5\\\\\n",
       "\thard &  0.5\\\\\n",
       "\\end{tabular}\n"
      ],
      "text/markdown": [
       "\n",
       "| <!--/--> | 2 |\n",
       "|---|---|\n",
       "| easy | -0.5 |\n",
       "| hard |  0.5 |\n",
       "\n"
      ],
      "text/plain": [
       "     2   \n",
       "easy -0.5\n",
       "hard  0.5"
      ]
     },
     "metadata": {},
     "output_type": "display_data"
    }
   ],
   "source": [
    "df_exe$trial_type.effect <- factor(df_exe$trial_type)\n",
    "c <-contr.treatment(2, base=1)\n",
    "my.coding <- matrix(rep(1/2,2),ncol=1)\n",
    "my.simpleT <- c - my.coding\n",
    "contrasts(df_exe$trial_type.effect) <- my.simpleT\n",
    "contrasts(df_exe$trial_type.effect)\n",
    "\n",
    "df_plan$trial_type.effect <- factor(df_plan$trial_type)\n",
    "c <-contr.treatment(2, base=1)\n",
    "my.coding <- matrix(rep(1/2,2),ncol=1)\n",
    "my.simpleT <- c - my.coding\n",
    "contrasts(df_plan$trial_type.effect) <- my.simpleT\n",
    "contrasts(df_plan$trial_type.effect)"
   ]
  },
  {
   "cell_type": "code",
   "execution_count": 4,
   "metadata": {
    "ExecuteTime": {
     "end_time": "2022-02-09T18:50:04.799441Z",
     "start_time": "2022-02-09T18:50:04.733Z"
    },
    "scrolled": false
   },
   "outputs": [
    {
     "data": {
      "text/html": [
       "<table>\n",
       "<thead><tr><th></th><th scope=col>2</th><th scope=col>3</th><th scope=col>4</th><th scope=col>5</th><th scope=col>6</th><th scope=col>7</th></tr></thead>\n",
       "<tbody>\n",
       "\t<tr><th scope=row>current_TO</th><td>-0.1428571</td><td>-0.1428571</td><td>-0.1428571</td><td>-0.1428571</td><td>-0.1428571</td><td>-0.1428571</td></tr>\n",
       "\t<tr><th scope=row>current_TS</th><td> 0.8571429</td><td>-0.1428571</td><td>-0.1428571</td><td>-0.1428571</td><td>-0.1428571</td><td>-0.1428571</td></tr>\n",
       "\t<tr><th scope=row>next_TO</th><td>-0.1428571</td><td> 0.8571429</td><td>-0.1428571</td><td>-0.1428571</td><td>-0.1428571</td><td>-0.1428571</td></tr>\n",
       "\t<tr><th scope=row>next_TS</th><td>-0.1428571</td><td>-0.1428571</td><td> 0.8571429</td><td>-0.1428571</td><td>-0.1428571</td><td>-0.1428571</td></tr>\n",
       "\t<tr><th scope=row>other</th><td>-0.1428571</td><td>-0.1428571</td><td>-0.1428571</td><td> 0.8571429</td><td>-0.1428571</td><td>-0.1428571</td></tr>\n",
       "\t<tr><th scope=row>prev_TO</th><td>-0.1428571</td><td>-0.1428571</td><td>-0.1428571</td><td>-0.1428571</td><td> 0.8571429</td><td>-0.1428571</td></tr>\n",
       "\t<tr><th scope=row>prev_TS</th><td>-0.1428571</td><td>-0.1428571</td><td>-0.1428571</td><td>-0.1428571</td><td>-0.1428571</td><td> 0.8571429</td></tr>\n",
       "</tbody>\n",
       "</table>\n"
      ],
      "text/latex": [
       "\\begin{tabular}{r|llllll}\n",
       "  & 2 & 3 & 4 & 5 & 6 & 7\\\\\n",
       "\\hline\n",
       "\tcurrent\\_TO & -0.1428571 & -0.1428571 & -0.1428571 & -0.1428571 & -0.1428571 & -0.1428571\\\\\n",
       "\tcurrent\\_TS &  0.8571429 & -0.1428571 & -0.1428571 & -0.1428571 & -0.1428571 & -0.1428571\\\\\n",
       "\tnext\\_TO & -0.1428571 &  0.8571429 & -0.1428571 & -0.1428571 & -0.1428571 & -0.1428571\\\\\n",
       "\tnext\\_TS & -0.1428571 & -0.1428571 &  0.8571429 & -0.1428571 & -0.1428571 & -0.1428571\\\\\n",
       "\tother & -0.1428571 & -0.1428571 & -0.1428571 &  0.8571429 & -0.1428571 & -0.1428571\\\\\n",
       "\tprev\\_TO & -0.1428571 & -0.1428571 & -0.1428571 & -0.1428571 &  0.8571429 & -0.1428571\\\\\n",
       "\tprev\\_TS & -0.1428571 & -0.1428571 & -0.1428571 & -0.1428571 & -0.1428571 &  0.8571429\\\\\n",
       "\\end{tabular}\n"
      ],
      "text/markdown": [
       "\n",
       "| <!--/--> | 2 | 3 | 4 | 5 | 6 | 7 |\n",
       "|---|---|---|---|---|---|---|\n",
       "| current_TO | -0.1428571 | -0.1428571 | -0.1428571 | -0.1428571 | -0.1428571 | -0.1428571 |\n",
       "| current_TS |  0.8571429 | -0.1428571 | -0.1428571 | -0.1428571 | -0.1428571 | -0.1428571 |\n",
       "| next_TO | -0.1428571 |  0.8571429 | -0.1428571 | -0.1428571 | -0.1428571 | -0.1428571 |\n",
       "| next_TS | -0.1428571 | -0.1428571 |  0.8571429 | -0.1428571 | -0.1428571 | -0.1428571 |\n",
       "| other | -0.1428571 | -0.1428571 | -0.1428571 |  0.8571429 | -0.1428571 | -0.1428571 |\n",
       "| prev_TO | -0.1428571 | -0.1428571 | -0.1428571 | -0.1428571 |  0.8571429 | -0.1428571 |\n",
       "| prev_TS | -0.1428571 | -0.1428571 | -0.1428571 | -0.1428571 | -0.1428571 |  0.8571429 |\n",
       "\n"
      ],
      "text/plain": [
       "           2          3          4          5          6          7         \n",
       "current_TO -0.1428571 -0.1428571 -0.1428571 -0.1428571 -0.1428571 -0.1428571\n",
       "current_TS  0.8571429 -0.1428571 -0.1428571 -0.1428571 -0.1428571 -0.1428571\n",
       "next_TO    -0.1428571  0.8571429 -0.1428571 -0.1428571 -0.1428571 -0.1428571\n",
       "next_TS    -0.1428571 -0.1428571  0.8571429 -0.1428571 -0.1428571 -0.1428571\n",
       "other      -0.1428571 -0.1428571 -0.1428571  0.8571429 -0.1428571 -0.1428571\n",
       "prev_TO    -0.1428571 -0.1428571 -0.1428571 -0.1428571  0.8571429 -0.1428571\n",
       "prev_TS    -0.1428571 -0.1428571 -0.1428571 -0.1428571 -0.1428571  0.8571429"
      ]
     },
     "metadata": {},
     "output_type": "display_data"
    },
    {
     "data": {
      "text/html": [
       "<table>\n",
       "<thead><tr><th></th><th scope=col>2</th><th scope=col>3</th><th scope=col>4</th><th scope=col>5</th><th scope=col>6</th><th scope=col>7</th></tr></thead>\n",
       "<tbody>\n",
       "\t<tr><th scope=row>current_TO</th><td>-0.1428571</td><td>-0.1428571</td><td>-0.1428571</td><td>-0.1428571</td><td>-0.1428571</td><td>-0.1428571</td></tr>\n",
       "\t<tr><th scope=row>current_TS</th><td> 0.8571429</td><td>-0.1428571</td><td>-0.1428571</td><td>-0.1428571</td><td>-0.1428571</td><td>-0.1428571</td></tr>\n",
       "\t<tr><th scope=row>next_TO</th><td>-0.1428571</td><td> 0.8571429</td><td>-0.1428571</td><td>-0.1428571</td><td>-0.1428571</td><td>-0.1428571</td></tr>\n",
       "\t<tr><th scope=row>next_TS</th><td>-0.1428571</td><td>-0.1428571</td><td> 0.8571429</td><td>-0.1428571</td><td>-0.1428571</td><td>-0.1428571</td></tr>\n",
       "\t<tr><th scope=row>other</th><td>-0.1428571</td><td>-0.1428571</td><td>-0.1428571</td><td> 0.8571429</td><td>-0.1428571</td><td>-0.1428571</td></tr>\n",
       "\t<tr><th scope=row>prev_TO</th><td>-0.1428571</td><td>-0.1428571</td><td>-0.1428571</td><td>-0.1428571</td><td> 0.8571429</td><td>-0.1428571</td></tr>\n",
       "\t<tr><th scope=row>prev_TS</th><td>-0.1428571</td><td>-0.1428571</td><td>-0.1428571</td><td>-0.1428571</td><td>-0.1428571</td><td> 0.8571429</td></tr>\n",
       "</tbody>\n",
       "</table>\n"
      ],
      "text/latex": [
       "\\begin{tabular}{r|llllll}\n",
       "  & 2 & 3 & 4 & 5 & 6 & 7\\\\\n",
       "\\hline\n",
       "\tcurrent\\_TO & -0.1428571 & -0.1428571 & -0.1428571 & -0.1428571 & -0.1428571 & -0.1428571\\\\\n",
       "\tcurrent\\_TS &  0.8571429 & -0.1428571 & -0.1428571 & -0.1428571 & -0.1428571 & -0.1428571\\\\\n",
       "\tnext\\_TO & -0.1428571 &  0.8571429 & -0.1428571 & -0.1428571 & -0.1428571 & -0.1428571\\\\\n",
       "\tnext\\_TS & -0.1428571 & -0.1428571 &  0.8571429 & -0.1428571 & -0.1428571 & -0.1428571\\\\\n",
       "\tother & -0.1428571 & -0.1428571 & -0.1428571 &  0.8571429 & -0.1428571 & -0.1428571\\\\\n",
       "\tprev\\_TO & -0.1428571 & -0.1428571 & -0.1428571 & -0.1428571 &  0.8571429 & -0.1428571\\\\\n",
       "\tprev\\_TS & -0.1428571 & -0.1428571 & -0.1428571 & -0.1428571 & -0.1428571 &  0.8571429\\\\\n",
       "\\end{tabular}\n"
      ],
      "text/markdown": [
       "\n",
       "| <!--/--> | 2 | 3 | 4 | 5 | 6 | 7 |\n",
       "|---|---|---|---|---|---|---|\n",
       "| current_TO | -0.1428571 | -0.1428571 | -0.1428571 | -0.1428571 | -0.1428571 | -0.1428571 |\n",
       "| current_TS |  0.8571429 | -0.1428571 | -0.1428571 | -0.1428571 | -0.1428571 | -0.1428571 |\n",
       "| next_TO | -0.1428571 |  0.8571429 | -0.1428571 | -0.1428571 | -0.1428571 | -0.1428571 |\n",
       "| next_TS | -0.1428571 | -0.1428571 |  0.8571429 | -0.1428571 | -0.1428571 | -0.1428571 |\n",
       "| other | -0.1428571 | -0.1428571 | -0.1428571 |  0.8571429 | -0.1428571 | -0.1428571 |\n",
       "| prev_TO | -0.1428571 | -0.1428571 | -0.1428571 | -0.1428571 |  0.8571429 | -0.1428571 |\n",
       "| prev_TS | -0.1428571 | -0.1428571 | -0.1428571 | -0.1428571 | -0.1428571 |  0.8571429 |\n",
       "\n"
      ],
      "text/plain": [
       "           2          3          4          5          6          7         \n",
       "current_TO -0.1428571 -0.1428571 -0.1428571 -0.1428571 -0.1428571 -0.1428571\n",
       "current_TS  0.8571429 -0.1428571 -0.1428571 -0.1428571 -0.1428571 -0.1428571\n",
       "next_TO    -0.1428571  0.8571429 -0.1428571 -0.1428571 -0.1428571 -0.1428571\n",
       "next_TS    -0.1428571 -0.1428571  0.8571429 -0.1428571 -0.1428571 -0.1428571\n",
       "other      -0.1428571 -0.1428571 -0.1428571  0.8571429 -0.1428571 -0.1428571\n",
       "prev_TO    -0.1428571 -0.1428571 -0.1428571 -0.1428571  0.8571429 -0.1428571\n",
       "prev_TS    -0.1428571 -0.1428571 -0.1428571 -0.1428571 -0.1428571  0.8571429"
      ]
     },
     "metadata": {},
     "output_type": "display_data"
    }
   ],
   "source": [
    "df_exe$fix_type.effect <- factor(df_exe$fix_type)\n",
    "c <-contr.treatment(7, base=1)\n",
    "my.coding <- matrix(rep(1/7,42),ncol=6)\n",
    "my.simpleT <- c - my.coding\n",
    "contrasts(df_exe$fix_type.effect) <- my.simpleT\n",
    "contrasts(df_exe$fix_type.effect)\n",
    "\n",
    "df_plan$fix_type.effect <- factor(df_plan$fix_type)\n",
    "c <-contr.treatment(7, base=1)\n",
    "my.coding <- matrix(rep(1/7,42),ncol=6)\n",
    "my.simpleT <- c - my.coding\n",
    "contrasts(df_plan$fix_type.effect) <- my.simpleT\n",
    "contrasts(df_plan$fix_type.effect)"
   ]
  },
  {
   "cell_type": "markdown",
   "metadata": {},
   "source": [
    "# make models"
   ]
  },
  {
   "cell_type": "code",
   "execution_count": 5,
   "metadata": {
    "ExecuteTime": {
     "end_time": "2022-02-09T19:05:59.193465Z",
     "start_time": "2022-02-09T18:50:24.060Z"
    }
   },
   "outputs": [
    {
     "name": "stderr",
     "output_type": "stream",
     "text": [
      "boundary (singular) fit: see ?isSingular\n",
      "Warning message:\n",
      "\"Model failed to converge with 6 negative eigenvalues: -2.2e+00 -1.6e+01 -9.2e+01 -1.2e+02 -2.7e+02 -4.8e+02\"\n",
      "Correlation matrix not shown by default, as p = 14 > 12.\n",
      "Use print(obj, correlation=TRUE)  or\n",
      "    vcov(obj)        if you need it\n",
      "\n"
     ]
    },
    {
     "data": {
      "text/plain": [
       "Linear mixed model fit by REML. t-tests use Satterthwaite's method [\n",
       "lmerModLmerTest]\n",
       "Formula: \n",
       "t50 ~ 1 + trial_type.effect * fix_type.effect + (1 + trial_type.effect *  \n",
       "    fix_type.effect | subject_id)\n",
       "   Data: df_plan\n",
       "Control: lmerControl(optimizer = \"bobyqa\", optCtrl = list(maxfun = 1e+06))\n",
       "\n",
       "REML criterion at convergence: -4270.2\n",
       "\n",
       "Scaled residuals: \n",
       "    Min      1Q  Median      3Q     Max \n",
       "-2.8557 -0.5117 -0.1502  0.4557  4.0739 \n",
       "\n",
       "Random effects:\n",
       " Groups     Name                                Variance  Std.Dev. Corr       \n",
       " subject_id (Intercept)                         0.0003824 0.01956             \n",
       "            trial_type.effect2                  0.0007530 0.02744  -0.46      \n",
       "            fix_type.effect2                    0.0037144 0.06095   0.03 -0.56\n",
       "            fix_type.effect3                    0.0012918 0.03594   0.32 -0.21\n",
       "            fix_type.effect4                    0.0035606 0.05967   0.40 -0.39\n",
       "            fix_type.effect5                    0.0012021 0.03467  -0.64 -0.13\n",
       "            fix_type.effect6                    0.0033178 0.05760   0.09 -0.74\n",
       "            fix_type.effect7                    0.0014377 0.03792  -0.23 -0.56\n",
       "            trial_type.effect2:fix_type.effect2 0.0095414 0.09768  -0.17  0.87\n",
       "            trial_type.effect2:fix_type.effect3 0.0024776 0.04978   0.05  0.38\n",
       "            trial_type.effect2:fix_type.effect4 0.0110231 0.10499  -0.33  0.65\n",
       "            trial_type.effect2:fix_type.effect5 0.0003663 0.01914   0.26 -0.10\n",
       "            trial_type.effect2:fix_type.effect6 0.0028282 0.05318   0.32  0.47\n",
       "            trial_type.effect2:fix_type.effect7 0.0005175 0.02275   0.43  0.25\n",
       " Residual                                       0.0252399 0.15887             \n",
       "                                                                  \n",
       "                                                                  \n",
       "                                                                  \n",
       "                                                                  \n",
       "  0.16                                                            \n",
       "  0.67  0.05                                                      \n",
       "  0.69  0.05  0.29                                                \n",
       "  0.44  0.46  0.27  0.46                                          \n",
       "  0.74  0.22  0.51  0.84  0.83                                    \n",
       " -0.57 -0.03 -0.08 -0.23 -0.54 -0.45                              \n",
       "  0.06 -0.07 -0.19 -0.18 -0.60 -0.48  0.09                        \n",
       " -0.47  0.00 -0.52 -0.24 -0.67 -0.59  0.47  0.15                  \n",
       " -0.10  0.42 -0.30 -0.36 -0.20 -0.36 -0.18  0.04  0.63            \n",
       " -0.58 -0.03 -0.26 -0.76 -0.76 -0.86  0.48  0.23  0.75  0.62      \n",
       " -0.47  0.25 -0.30 -0.74 -0.56 -0.77  0.26  0.22  0.70  0.82  0.94\n",
       "                                                                  \n",
       "Number of obs: 5479, groups:  subject_id, 48\n",
       "\n",
       "Fixed effects:\n",
       "                                      Estimate Std. Error         df t value\n",
       "(Intercept)                           0.267635   0.003608  50.005278  74.168\n",
       "trial_type.effect2                   -0.012664   0.005979  58.932220  -2.118\n",
       "fix_type.effect2                     -0.039908   0.011774  50.168543  -3.390\n",
       "fix_type.effect3                     -0.064407   0.009256  47.364633  -6.959\n",
       "fix_type.effect4                     -0.046422   0.012197  49.248297  -3.806\n",
       "fix_type.effect5                     -0.329692   0.008903  72.373256 -37.032\n",
       "fix_type.effect6                     -0.347106   0.011966  49.665071 -29.008\n",
       "fix_type.effect7                     -0.351060   0.009282  65.959067 -37.821\n",
       "trial_type.effect2:fix_type.effect2  -0.002190   0.021077  55.385858  -0.104\n",
       "trial_type.effect2:fix_type.effect3  -0.053556   0.016922  83.819240  -3.165\n",
       "trial_type.effect2:fix_type.effect4  -0.009021   0.022940  52.007266  -0.393\n",
       "trial_type.effect2:fix_type.effect5  -0.048418   0.014988 486.198725  -3.230\n",
       "trial_type.effect2:fix_type.effect6  -0.057892   0.018624 123.780094  -3.108\n",
       "trial_type.effect2:fix_type.effect7  -0.035417   0.015356 403.673206  -2.306\n",
       "                                    Pr(>|t|)    \n",
       "(Intercept)                          < 2e-16 ***\n",
       "trial_type.effect2                  0.038397 *  \n",
       "fix_type.effect2                    0.001371 ** \n",
       "fix_type.effect3                    9.09e-09 ***\n",
       "fix_type.effect4                    0.000391 ***\n",
       "fix_type.effect5                     < 2e-16 ***\n",
       "fix_type.effect6                     < 2e-16 ***\n",
       "fix_type.effect7                     < 2e-16 ***\n",
       "trial_type.effect2:fix_type.effect2 0.917613    \n",
       "trial_type.effect2:fix_type.effect3 0.002163 ** \n",
       "trial_type.effect2:fix_type.effect4 0.695762    \n",
       "trial_type.effect2:fix_type.effect5 0.001320 ** \n",
       "trial_type.effect2:fix_type.effect6 0.002334 ** \n",
       "trial_type.effect2:fix_type.effect7 0.021595 *  \n",
       "---\n",
       "Signif. codes:  0 '***' 0.001 '**' 0.01 '*' 0.05 '.' 0.1 ' ' 1\n",
       "optimizer (bobyqa) convergence code: 0 (OK)\n",
       "boundary (singular) fit: see ?isSingular\n"
      ]
     },
     "metadata": {},
     "output_type": "display_data"
    }
   ],
   "source": [
    "\n",
    "model_plan <- lmer(\n",
    "    t50 ~ 1 + trial_type.effect * fix_type.effect\n",
    "    + (1 + trial_type.effect * fix_type.effect | subject_id),\n",
    "    data=df_plan,\n",
    "    control=lmerControl(optimizer=\"bobyqa\", optCtrl=list(maxfun=10e5))\n",
    ")\n",
    "summary(model_plan)\n"
   ]
  },
  {
   "cell_type": "code",
   "execution_count": null,
   "metadata": {
    "ExecuteTime": {
     "end_time": "2022-02-09T19:05:59.635283Z",
     "start_time": "2022-02-09T18:50:25.327Z"
    }
   },
   "outputs": [],
   "source": [
    "tmp <- parameters::model_parameters(model_plan, effects = \"fixed\", df_method = \"satterthwaite\")\n",
    "print(tmp)\n",
    "write.csv(tmp, './model_plan.csv')"
   ]
  },
  {
   "cell_type": "code",
   "execution_count": 6,
   "metadata": {
    "ExecuteTime": {
     "end_time": "2022-02-09T19:09:34.290399Z",
     "start_time": "2022-02-09T19:09:34.242Z"
    }
   },
   "outputs": [
    {
     "data": {
      "text/plain": [
       "                      Df Sum Sq Mean Sq F value   Pr(>F)    \n",
       "trial_type             1   0.09   0.090   3.284 0.070028 .  \n",
       "fix_type               6 126.85  21.142 774.675  < 2e-16 ***\n",
       "trial_type:fix_type    6   0.68   0.113   4.157 0.000357 ***\n",
       "Residuals           5465 149.15   0.027                     \n",
       "---\n",
       "Signif. codes:  0 '***' 0.001 '**' 0.01 '*' 0.05 '.' 0.1 ' ' 1"
      ]
     },
     "metadata": {},
     "output_type": "display_data"
    }
   ],
   "source": [
    "summary(aov(t50 ~ trial_type * fix_type, data=df_plan))"
   ]
  },
  {
   "cell_type": "code",
   "execution_count": 7,
   "metadata": {
    "ExecuteTime": {
     "end_time": "2022-02-09T19:09:40.278611Z",
     "start_time": "2022-02-09T19:09:39.234Z"
    }
   },
   "outputs": [
    {
     "name": "stderr",
     "output_type": "stream",
     "text": [
      "Warning message in mcp2matrix(model, linfct = linfct):\n",
      "\"covariate interactions found -- default contrast might be inappropriate\"Warning message in RET$pfunction(\"adjusted\", ...):\n",
      "\"Completion with error > abseps\""
     ]
    },
    {
     "data": {
      "text/plain": [
       "\n",
       "\t Simultaneous Tests for General Linear Hypotheses\n",
       "\n",
       "Multiple Comparisons of Means: Tukey Contrasts\n",
       "\n",
       "\n",
       "Fit: aov(formula = t50 ~ trial_type * fix_type, data = df_plan)\n",
       "\n",
       "Linear Hypotheses:\n",
       "                              Estimate Std. Error t value Pr(>|t|)    \n",
       "current_TS - current_TO == 0 -0.037960   0.010641  -3.567  0.00662 ** \n",
       "next_TO - current_TO == 0    -0.039134   0.010423  -3.755  0.00345 ** \n",
       "next_TS - current_TO == 0    -0.036849   0.011886  -3.100  0.03137 *  \n",
       "other - current_TO == 0      -0.306042   0.009760 -31.355  < 0.001 ***\n",
       "prev_TO - current_TO == 0    -0.312346   0.011525 -27.102  < 0.001 ***\n",
       "prev_TS - current_TO == 0    -0.334478   0.010066 -33.230  < 0.001 ***\n",
       "next_TO - current_TS == 0    -0.001173   0.011380  -0.103  1.00000    \n",
       "next_TS - current_TS == 0     0.001111   0.012734   0.087  1.00000    \n",
       "other - current_TS == 0      -0.268082   0.010777 -24.875  < 0.001 ***\n",
       "prev_TO - current_TS == 0    -0.274386   0.012398 -22.132  < 0.001 ***\n",
       "prev_TS - current_TS == 0    -0.296518   0.011054 -26.824  < 0.001 ***\n",
       "next_TS - next_TO == 0        0.002284   0.012552   0.182  1.00000    \n",
       "other - next_TO == 0         -0.266909   0.010561 -25.273  < 0.001 ***\n",
       "prev_TO - next_TO == 0       -0.273213   0.012210 -22.375  < 0.001 ***\n",
       "prev_TS - next_TO == 0       -0.295344   0.010844 -27.236  < 0.001 ***\n",
       "other - next_TS == 0         -0.269193   0.012008 -22.419  < 0.001 ***\n",
       "prev_TO - next_TS == 0       -0.275497   0.013481 -20.436  < 0.001 ***\n",
       "prev_TS - next_TS == 0       -0.297629   0.012257 -24.283  < 0.001 ***\n",
       "prev_TO - other == 0         -0.006304   0.011650  -0.541  0.99819    \n",
       "prev_TS - other == 0         -0.028436   0.010209  -2.785  0.07772 .  \n",
       "prev_TS - prev_TO == 0       -0.022132   0.011907  -1.859  0.50508    \n",
       "---\n",
       "Signif. codes:  0 '***' 0.001 '**' 0.01 '*' 0.05 '.' 0.1 ' ' 1\n",
       "(Adjusted p values reported -- single-step method)\n"
      ]
     },
     "metadata": {},
     "output_type": "display_data"
    }
   ],
   "source": [
    "library(multcomp)\n",
    "res = aov(t50 ~ trial_type * fix_type, data=df_plan)\n",
    "summary(glht(res, linfct = mcp(fix_type = \"Tukey\")))"
   ]
  },
  {
   "cell_type": "code",
   "execution_count": 8,
   "metadata": {
    "ExecuteTime": {
     "end_time": "2022-02-09T19:09:44.790593Z",
     "start_time": "2022-02-09T19:09:44.720Z"
    }
   },
   "outputs": [
    {
     "data": {
      "text/html": [
       "<table>\n",
       "<thead><tr><th></th><th scope=col>Sum Sq</th><th scope=col>Df</th><th scope=col>F value</th><th scope=col>Pr(&gt;F)</th></tr></thead>\n",
       "<tbody>\n",
       "\t<tr><th scope=row>trial_type</th><td>  0.2329486 </td><td>   1        </td><td>  8.535402  </td><td>0.0034973084</td></tr>\n",
       "\t<tr><th scope=row>fix_type</th><td>126.8547171 </td><td>   6        </td><td>774.674528  </td><td>0.0000000000</td></tr>\n",
       "\t<tr><th scope=row>trial_type:fix_type</th><td>  0.6806930 </td><td>   6        </td><td>  4.156846  </td><td>0.0003573192</td></tr>\n",
       "\t<tr><th scope=row>Residuals</th><td>149.1510314 </td><td>5465        </td><td>        NA  </td><td>          NA</td></tr>\n",
       "</tbody>\n",
       "</table>\n"
      ],
      "text/latex": [
       "\\begin{tabular}{r|llll}\n",
       "  & Sum Sq & Df & F value & Pr(>F)\\\\\n",
       "\\hline\n",
       "\ttrial\\_type &   0.2329486  &    1         &   8.535402   & 0.0034973084\\\\\n",
       "\tfix\\_type & 126.8547171  &    6         & 774.674528   & 0.0000000000\\\\\n",
       "\ttrial\\_type:fix\\_type &   0.6806930  &    6         &   4.156846   & 0.0003573192\\\\\n",
       "\tResiduals & 149.1510314  & 5465         &         NA   &           NA\\\\\n",
       "\\end{tabular}\n"
      ],
      "text/markdown": [
       "\n",
       "| <!--/--> | Sum Sq | Df | F value | Pr(>F) |\n",
       "|---|---|---|---|---|\n",
       "| trial_type |   0.2329486  |    1         |   8.535402   | 0.0034973084 |\n",
       "| fix_type | 126.8547171  |    6         | 774.674528   | 0.0000000000 |\n",
       "| trial_type:fix_type |   0.6806930  |    6         |   4.156846   | 0.0003573192 |\n",
       "| Residuals | 149.1510314  | 5465         |         NA   |           NA |\n",
       "\n"
      ],
      "text/plain": [
       "                    Sum Sq      Df   F value    Pr(>F)      \n",
       "trial_type            0.2329486    1   8.535402 0.0034973084\n",
       "fix_type            126.8547171    6 774.674528 0.0000000000\n",
       "trial_type:fix_type   0.6806930    6   4.156846 0.0003573192\n",
       "Residuals           149.1510314 5465         NA           NA"
      ]
     },
     "metadata": {},
     "output_type": "display_data"
    }
   ],
   "source": [
    "Anova(res)"
   ]
  },
  {
   "cell_type": "code",
   "execution_count": 9,
   "metadata": {
    "ExecuteTime": {
     "end_time": "2022-02-09T20:28:05.109946Z",
     "start_time": "2022-02-09T19:09:51.418Z"
    }
   },
   "outputs": [
    {
     "name": "stderr",
     "output_type": "stream",
     "text": [
      "Warning message in optwrap(optimizer, devfun, getStart(start, rho$pp), lower = rho$lower, :\n",
      "\"convergence code 1 from bobyqa: bobyqa -- maximum number of function evaluations exceeded\"boundary (singular) fit: see ?isSingular\n",
      "Warning message:\n",
      "\"Model failed to converge with 1 negative eigenvalue: -4.6e-03\"\n",
      "Correlation matrix not shown by default, as p = 14 > 12.\n",
      "Use print(obj, correlation=TRUE)  or\n",
      "    vcov(obj)        if you need it\n",
      "\n"
     ]
    },
    {
     "data": {
      "text/plain": [
       "Linear mixed model fit by REML. t-tests use Satterthwaite's method [\n",
       "lmerModLmerTest]\n",
       "Formula: \n",
       "t50 ~ 1 + trial_type.effect * fix_type.effect + (1 + trial_type.effect *  \n",
       "    fix_type.effect | subject_id)\n",
       "   Data: df_exe\n",
       "Control: lmerControl(optimizer = \"bobyqa\", optCtrl = list(maxfun = 4e+05))\n",
       "\n",
       "REML criterion at convergence: -3738\n",
       "\n",
       "Scaled residuals: \n",
       "    Min      1Q  Median      3Q     Max \n",
       "-2.8982 -0.5639 -0.0850  0.5231  3.9100 \n",
       "\n",
       "Random effects:\n",
       " Groups     Name                                Variance  Std.Dev. Corr       \n",
       " subject_id (Intercept)                         0.0002474 0.01573             \n",
       "            trial_type.effect2                  0.0008410 0.02900  -0.09      \n",
       "            fix_type.effect2                    0.0028641 0.05352   0.77 -0.32\n",
       "            fix_type.effect3                    0.0054125 0.07357   0.85 -0.25\n",
       "            fix_type.effect4                    0.0043717 0.06612   0.60 -0.13\n",
       "            fix_type.effect5                    0.0050044 0.07074   0.69 -0.10\n",
       "            fix_type.effect6                    0.0032423 0.05694   0.65 -0.25\n",
       "            fix_type.effect7                    0.0038305 0.06189   0.90 -0.12\n",
       "            trial_type.effect2:fix_type.effect2 0.0036003 0.06000  -0.72  0.36\n",
       "            trial_type.effect2:fix_type.effect3 0.0131214 0.11455  -0.54  0.66\n",
       "            trial_type.effect2:fix_type.effect4 0.0159339 0.12623  -0.44  0.60\n",
       "            trial_type.effect2:fix_type.effect5 0.0035129 0.05927  -0.63  0.40\n",
       "            trial_type.effect2:fix_type.effect6 0.0041537 0.06445  -0.62  0.67\n",
       "            trial_type.effect2:fix_type.effect7 0.0059337 0.07703  -0.14  0.85\n",
       " Residual                                       0.0278563 0.16690             \n",
       "                                                                  \n",
       "                                                                  \n",
       "                                                                  \n",
       "                                                                  \n",
       "  0.87                                                            \n",
       "  0.67  0.48                                                      \n",
       "  0.95  0.78  0.60                                                \n",
       "  0.95  0.73  0.60  0.98                                          \n",
       "  0.85  0.84  0.56  0.87  0.85                                    \n",
       " -0.90 -0.83 -0.74 -0.84 -0.83 -0.82                              \n",
       " -0.56 -0.56 -0.35 -0.42 -0.50 -0.62  0.75                        \n",
       " -0.83 -0.76 -0.54 -0.70 -0.72 -0.53  0.86  0.61                  \n",
       " -0.93 -0.85 -0.72 -0.84 -0.83 -0.70  0.92  0.53  0.94            \n",
       " -0.83 -0.80 -0.67 -0.68 -0.72 -0.67  0.90  0.73  0.92  0.93      \n",
       " -0.46 -0.29 -0.24 -0.31 -0.45 -0.20  0.32  0.35  0.59  0.50  0.66\n",
       "                                                                  \n",
       "Number of obs: 5476, groups:  subject_id, 48\n",
       "\n",
       "Fixed effects:\n",
       "                                      Estimate Std. Error         df t value\n",
       "(Intercept)                           0.365793   0.003328  48.843917 109.907\n",
       "trial_type.effect2                   -0.024357   0.006410  58.936905  -3.800\n",
       "fix_type.effect2                      0.415202   0.012923  64.942501  32.128\n",
       "fix_type.effect3                      0.427499   0.015006  54.685371  28.489\n",
       "fix_type.effect4                      0.363585   0.014806  58.779998  24.557\n",
       "fix_type.effect5                      0.165864   0.014550  50.480384  11.400\n",
       "fix_type.effect6                      0.326487   0.013290  61.726381  24.566\n",
       "fix_type.effect7                      0.330281   0.013999  52.695381  23.593\n",
       "trial_type.effect2:fix_type.effect2   0.048058   0.022303 122.267676   2.155\n",
       "trial_type.effect2:fix_type.effect3  -0.002634   0.026750  60.681975  -0.098\n",
       "trial_type.effect2:fix_type.effect4  -0.010019   0.028957  63.563289  -0.346\n",
       "trial_type.effect2:fix_type.effect5   0.008889   0.022265 136.469371   0.399\n",
       "trial_type.effect2:fix_type.effect6   0.021718   0.022708 116.349829   0.956\n",
       "trial_type.effect2:fix_type.effect7   0.011716   0.024096  98.406807   0.486\n",
       "                                    Pr(>|t|)    \n",
       "(Intercept)                          < 2e-16 ***\n",
       "trial_type.effect2                  0.000345 ***\n",
       "fix_type.effect2                     < 2e-16 ***\n",
       "fix_type.effect3                     < 2e-16 ***\n",
       "fix_type.effect4                     < 2e-16 ***\n",
       "fix_type.effect5                    1.42e-15 ***\n",
       "fix_type.effect6                     < 2e-16 ***\n",
       "fix_type.effect7                     < 2e-16 ***\n",
       "trial_type.effect2:fix_type.effect2 0.033141 *  \n",
       "trial_type.effect2:fix_type.effect3 0.921875    \n",
       "trial_type.effect2:fix_type.effect4 0.730492    \n",
       "trial_type.effect2:fix_type.effect5 0.690347    \n",
       "trial_type.effect2:fix_type.effect6 0.340848    \n",
       "trial_type.effect2:fix_type.effect7 0.627904    \n",
       "---\n",
       "Signif. codes:  0 '***' 0.001 '**' 0.01 '*' 0.05 '.' 0.1 ' ' 1\n",
       "optimizer (bobyqa) convergence code: 1 (bobyqa -- maximum number of function evaluations exceeded)\n",
       "boundary (singular) fit: see ?isSingular\n"
      ]
     },
     "metadata": {},
     "output_type": "display_data"
    }
   ],
   "source": [
    "model_exe <- lmer(\n",
    "    t50 ~ 1 + trial_type.effect * fix_type.effect\n",
    "    + (1 + trial_type.effect * fix_type.effect | subject_id),\n",
    "    data=df_exe,\n",
    "    control=lmerControl(optimizer=\"bobyqa\", optCtrl=list(maxfun=4e5))\n",
    ")\n",
    "summary(model_exe)"
   ]
  },
  {
   "cell_type": "code",
   "execution_count": 10,
   "metadata": {},
   "outputs": [
    {
     "name": "stderr",
     "output_type": "stream",
     "text": [
      "Warning message:\n",
      "\"Model failed to converge with 1 negative eigenvalue: -1.1e-02\""
     ]
    },
    {
     "name": "stdout",
     "output_type": "stream",
     "text": [
      "# Fixed Effects\n",
      "\n",
      "Parameter                             | Coefficient |       SE |         95% CI |      t |     df |      p\n",
      "----------------------------------------------------------------------------------------------------------\n",
      "(Intercept)                           |        0.37 | 3.33e-03 | [ 0.36,  0.37] | 109.90 |  48.82 | < .001\n",
      "trial_type.effect2                    |       -0.02 | 6.41e-03 | [-0.04, -0.01] |  -3.80 |  58.93 | < .001\n",
      "fix_type.effect2                      |        0.42 |     0.01 | [ 0.39,  0.44] |  32.13 |  64.74 | < .001\n",
      "fix_type.effect3                      |        0.43 |     0.02 | [ 0.40,  0.46] |  28.49 |  54.68 | < .001\n",
      "fix_type.effect4                      |        0.36 |     0.01 | [ 0.33,  0.39] |  24.56 |  58.75 | < .001\n",
      "fix_type.effect5                      |        0.17 |     0.01 | [ 0.14,  0.19] |  11.40 |  50.47 | < .001\n",
      "fix_type.effect6                      |        0.33 |     0.01 | [ 0.30,  0.35] |  24.57 |  61.73 | < .001\n",
      "fix_type.effect7                      |        0.33 |     0.01 | [ 0.30,  0.36] |  23.59 |  52.69 | < .001\n",
      "trial_type.effect2 * fix_type.effect2 |        0.05 |     0.02 | [ 0.00,  0.09] |   2.15 | 122.10 | 0.033 \n",
      "trial_type.effect2 * fix_type.effect3 |   -2.63e-03 |     0.03 | [-0.06,  0.05] |  -0.10 |  60.67 | 0.922 \n",
      "trial_type.effect2 * fix_type.effect4 |       -0.01 |     0.03 | [-0.07,  0.05] |  -0.35 |  63.53 | 0.731 \n",
      "trial_type.effect2 * fix_type.effect5 |    8.89e-03 |     0.02 | [-0.03,  0.05] |   0.40 | 136.42 | 0.690 \n",
      "trial_type.effect2 * fix_type.effect6 |        0.02 |     0.02 | [-0.02,  0.07] |   0.96 | 116.24 | 0.341 \n",
      "trial_type.effect2 * fix_type.effect7 |        0.01 |     0.02 | [-0.04,  0.06] |   0.49 |  98.32 | 0.628 \n"
     ]
    }
   ],
   "source": [
    "tmp <- parameters::model_parameters(model_exe, effects = \"fixed\", df_method = \"satterthwaite\")\n",
    "print(tmp)\n",
    "write.csv(tmp, './model_exe.csv')"
   ]
  },
  {
   "cell_type": "code",
   "execution_count": 18,
   "metadata": {
    "ExecuteTime": {
     "end_time": "2022-02-09T22:01:03.086772Z",
     "start_time": "2022-02-09T22:01:02.557Z"
    },
    "scrolled": false
   },
   "outputs": [
    {
     "data": {
      "image/png": "[encoded data removed]",
      "text/plain": [
       "Plot with title \"Normal Q-Q Plot\""
      ]
     },
     "metadata": {},
     "output_type": "display_data"
    }
   ],
   "source": [
    "par(mfrow=c(2,1))\n",
    "qqnorm(df_plan$t50); qqline(df_plan$t50)\n",
    "qqnorm(df_exe$t50); qqline(df_exe$t50)\n",
    "#qqnorm(df_plan$log_time); qqline(df_plan$log_time)"
   ]
  }
 ],
 "metadata": {
  "kernelspec": {
   "display_name": "R",
   "language": "R",
   "name": "ir"
  },
  "language_info": {
   "codemirror_mode": "r",
   "file_extension": ".r",
   "mimetype": "text/x-r-source",
   "name": "R",
   "pygments_lexer": "r",
   "version": "3.6.1"
  },
  "toc": {
   "base_numbering": 1,
   "nav_menu": {},
   "number_sections": true,
   "sideBar": true,
   "skip_h1_title": false,
   "title_cell": "Table of Contents",
   "title_sidebar": "Contents",
   "toc_cell": false,
   "toc_position": {},
   "toc_section_display": true,
   "toc_window_display": true
  },
  "varInspector": {
   "cols": {
    "lenName": 16,
    "lenType": 16,
    "lenVar": 40
   },
   "kernels_config": {
    "python": {
     "delete_cmd_postfix": "",
     "delete_cmd_prefix": "del ",
     "library": "var_list.py",
     "varRefreshCmd": "print(var_dic_list())"
    },
    "r": {
     "delete_cmd_postfix": ") ",
     "delete_cmd_prefix": "rm(",
     "library": "var_list.r",
     "varRefreshCmd": "cat(var_dic_list()) "
    }
   },
   "types_to_exclude": [
    "module",
    "function",
    "builtin_function_or_method",
    "instance",
    "_Feature"
   ],
   "window_display": false
  }
 },
 "nbformat": 4,
 "nbformat_minor": 4
}
