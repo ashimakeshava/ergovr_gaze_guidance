{
 "cells": [
  {
   "cell_type": "code",
   "execution_count": 12,
   "metadata": {
    "ExecuteTime": {
     "end_time": "2020-11-30T17:19:23.339698Z",
     "start_time": "2020-11-30T17:19:23.323430Z"
    }
   },
   "outputs": [],
   "source": [
    "import os\n",
    "import datetime\n",
    "import glob\n",
    "import pickle\n",
    "\n",
    "import numpy as np\n",
    "import pandas as pd\n",
    "import scipy\n",
    "\n",
    "\n",
    "import matplotlib.pyplot as plt\n",
    "import matplotlib.pylab as mpl\n",
    "import seaborn as sns\n",
    "\n",
    "from IPython.display import display\n",
    "\n",
    "from functools import partial\n",
    "\n",
    "from utils.multi_processing_functions import *\n",
    "\n",
    "PLOT_PATH = './plots_grasp_aligned_fixations/'"
   ]
  },
  {
   "cell_type": "code",
   "execution_count": 2,
   "metadata": {
    "ExecuteTime": {
     "end_time": "2020-11-30T16:46:36.300352Z",
     "start_time": "2020-11-30T16:46:36.288386Z"
    }
   },
   "outputs": [],
   "source": [
    "sns.set(palette='muted', context='talk', style='ticks')\n",
    "scpt = sns.color_palette()"
   ]
  },
  {
   "cell_type": "code",
   "execution_count": 42,
   "metadata": {
    "ExecuteTime": {
     "end_time": "2020-11-30T17:47:15.034230Z",
     "start_time": "2020-11-30T17:47:14.367871Z"
    },
    "scrolled": true
   },
   "outputs": [
    {
     "name": "stdout",
     "output_type": "stream",
     "text": [
      "['shelf_model/collected_depths\\\\task1.pickle', 'shelf_model/collected_depths\\\\task2.pickle', 'shelf_model/collected_depths\\\\task3.pickle']\n"
     ]
    },
    {
     "data": {
      "text/html": [
       "<div>\n",
       "<style scoped>\n",
       "    .dataframe tbody tr th:only-of-type {\n",
       "        vertical-align: middle;\n",
       "    }\n",
       "\n",
       "    .dataframe tbody tr th {\n",
       "        vertical-align: top;\n",
       "    }\n",
       "\n",
       "    .dataframe thead th {\n",
       "        text-align: right;\n",
       "    }\n",
       "</style>\n",
       "<table border=\"1\" class=\"dataframe\">\n",
       "  <thead>\n",
       "    <tr style=\"text-align: right;\">\n",
       "      <th></th>\n",
       "      <th>num_moves</th>\n",
       "      <th>trial_type</th>\n",
       "    </tr>\n",
       "  </thead>\n",
       "  <tbody>\n",
       "    <tr>\n",
       "      <th>0</th>\n",
       "      <td>9</td>\n",
       "      <td>easy</td>\n",
       "    </tr>\n",
       "    <tr>\n",
       "      <th>1</th>\n",
       "      <td>8</td>\n",
       "      <td>easy</td>\n",
       "    </tr>\n",
       "    <tr>\n",
       "      <th>2</th>\n",
       "      <td>10</td>\n",
       "      <td>easy</td>\n",
       "    </tr>\n",
       "    <tr>\n",
       "      <th>3</th>\n",
       "      <td>13</td>\n",
       "      <td>easy</td>\n",
       "    </tr>\n",
       "    <tr>\n",
       "      <th>4</th>\n",
       "      <td>8</td>\n",
       "      <td>easy</td>\n",
       "    </tr>\n",
       "    <tr>\n",
       "      <th>...</th>\n",
       "      <td>...</td>\n",
       "      <td>...</td>\n",
       "    </tr>\n",
       "    <tr>\n",
       "      <th>10548</th>\n",
       "      <td>9</td>\n",
       "      <td>hard</td>\n",
       "    </tr>\n",
       "    <tr>\n",
       "      <th>10549</th>\n",
       "      <td>9</td>\n",
       "      <td>hard</td>\n",
       "    </tr>\n",
       "    <tr>\n",
       "      <th>10550</th>\n",
       "      <td>11</td>\n",
       "      <td>hard</td>\n",
       "    </tr>\n",
       "    <tr>\n",
       "      <th>10551</th>\n",
       "      <td>13</td>\n",
       "      <td>hard</td>\n",
       "    </tr>\n",
       "    <tr>\n",
       "      <th>10552</th>\n",
       "      <td>14</td>\n",
       "      <td>hard</td>\n",
       "    </tr>\n",
       "  </tbody>\n",
       "</table>\n",
       "<p>10553 rows × 2 columns</p>\n",
       "</div>"
      ],
      "text/plain": [
       "       num_moves trial_type\n",
       "0              9       easy\n",
       "1              8       easy\n",
       "2             10       easy\n",
       "3             13       easy\n",
       "4              8       easy\n",
       "...          ...        ...\n",
       "10548          9       hard\n",
       "10549          9       hard\n",
       "10550         11       hard\n",
       "10551         13       hard\n",
       "10552         14       hard\n",
       "\n",
       "[10553 rows x 2 columns]"
      ]
     },
     "metadata": {},
     "output_type": "display_data"
    }
   ],
   "source": [
    "model_df = pd.DataFrame()\n",
    "files = glob.glob('shelf_model/collected_depths/task*.pickle')\n",
    "print(files)\n",
    "for idx, f in enumerate(files):\n",
    "    tmpdf = pd.DataFrame()\n",
    "    with open(f, 'rb') as handle:\n",
    "        tmp = pickle.load(handle)\n",
    "    \n",
    "    if idx == 0:\n",
    "        tmpdf['num_moves'] = pd.Series([t[1] for t in tmp])\n",
    "    else:\n",
    "        tmpdf['num_moves'] = pd.Series([t for t in tmp])\n",
    "        \n",
    "    \n",
    "    tmpdf['trial_type'] = f\n",
    "    model_df = pd.concat([model_df, tmpdf], ignore_index=True)\n",
    "\n",
    "model_df.trial_type = model_df.trial_type.str.split('\\\\', expand=True)[1].str.split('.', expand=True)[0]\n",
    "model_df.trial_type = model_df.trial_type.map({'task1':'easy', 'task2':'hard', 'task3':'hard'})\n",
    "display(model_df)"
   ]
  },
  {
   "cell_type": "code",
   "execution_count": 41,
   "metadata": {
    "ExecuteTime": {
     "end_time": "2020-11-30T17:46:43.874218Z",
     "start_time": "2020-11-30T17:42:53.863608Z"
    }
   },
   "outputs": [
    {
     "name": "stderr",
     "output_type": "stream",
     "text": [
      "C:\\Users\\akeshava\\.conda\\envs\\conda_ergovr\\lib\\site-packages\\IPython\\core\\interactiveshell.py:3063: DtypeWarning: Columns (32,70,71) have mixed types.Specify dtype option on import or set low_memory=False.\n",
      "  interactivity=interactivity, compiler=compiler, result=result)\n"
     ]
    },
    {
     "name": "stdout",
     "output_type": "stream",
     "text": [
      "(10592078, 72)\n",
      "(61, 72)\n"
     ]
    }
   ],
   "source": [
    "samples_df = pd.read_csv(\n",
    "    '../processed_data/EIH/05_ET_samples_graspInfo.csv',\n",
    "    parse_dates = ['timestamp_dt'],\n",
    "    dtype = {\n",
    "        'isFixV': np.bool, 'grasp_onset_bool': np.bool,'grasp_end_bool': np.bool,\n",
    "        'subjectID': int, 'trialNum': int, 'trialID': int,\n",
    "    },\n",
    "    index_col=False,\n",
    ")\n",
    "\n",
    "samples_df = samples_df.rename(columns = {\n",
    "    'subjectID': 'subject_id',\n",
    "    'trialNum' : 'trial_num',\n",
    "    'combinedEye_raycastHitObject' : 'eye_hit',\n",
    "    'eye_shelfHits' : 'eye_shelf_hit',\n",
    "    'trialID' : 'trial_id',\n",
    "    'isFixV' : 'is_fixation',\n",
    "    'nosePointer_shelfHits' : 'head_hit',\n",
    "    'isOutlierFix' : 'is_outlier_fixation',\n",
    "    'handData_graspedObject' : 'grasp'\n",
    "    \n",
    "})\n",
    "print(samples_df.shape)\n",
    "print(samples_df.query('eye_shelf_hit == \"ERROR\"').shape)\n",
    "\n",
    "samples_df = (\n",
    "    samples_df\n",
    "    .query('subject_id not in [2011, 2039, 2034, 2042, 2046]')\n",
    "    .query('eye_shelf_hit != \"ERROR\"')\n",
    "    .query('subject_id != 2022 and trial_num != 0')\n",
    "    .query('subject_id != 2044 and trial_num != 1')\n",
    ")\n",
    "\n",
    "samples_df.loc[\n",
    "    (\n",
    "        (samples_df.subject_id == 2040)\n",
    "        & (samples_df.subjectfileName.str.endswith('_2.etd'))\n",
    "    ), 'trial_num'\n",
    "] += 3\n",
    "\n",
    "samples_df['trial_type'] = (\n",
    "    samples_df\n",
    "    .trial_id\n",
    "    .apply(lambda s: 'easy' if s in np.arange(0,8) else 'hard')\n",
    ")\n",
    "\n",
    "valid_objs = ['Cube_Blue', 'Cube_Green', 'Cube_Red', 'Cube_Yellow',\n",
    "    'Cylinder_Blue', 'Cylinder_Green', 'Cylinder_Red','Cylinder_Yellow',\n",
    "    'Sphere_Blue', 'Sphere_Green', 'Sphere_Red', 'Sphere_Yellow', \n",
    "    'Tetraeder_Blue', 'Tetraeder_Green', 'Tetraeder_Red', 'Tetraeder_Yellow']\n",
    "\n",
    "samples_df.loc[~(samples_df.eye_hit.isin(valid_objs)) & \n",
    "           ~(pd.isnull(samples_df.eye_hit)),\n",
    "               'eye_hit'] ='Other'"
   ]
  },
  {
   "cell_type": "code",
   "execution_count": 4,
   "metadata": {
    "ExecuteTime": {
     "end_time": "2020-07-06T15:26:16.607185Z",
     "start_time": "2020-07-06T15:26:16.599203Z"
    }
   },
   "outputs": [
    {
     "name": "stdout",
     "output_type": "stream",
     "text": [
      "['timestamp_dt', 'combinedEye_position_x', 'combinedEye_position_y', 'combinedEye_position_z', 'combinedEye_direction_x', 'combinedEye_direction_y', 'combinedEye_direction_z', 'eye_hit', 'combinedEye_raycastHitLocation_x', 'combinedEye_raycastHitLocation_y', 'combinedEye_raycastHitLocation_z', 'nosePointer_position_x', 'nosePointer_position_y', 'nosePointer_position_z', 'nosePointer_direction_x', 'nosePointer_direction_y', 'nosePointer_direction_z', 'nosePointer_raycastHitObject', 'nosePointer_raycastHitLocation_x', 'nosePointer_raycastHitLocation_y', 'nosePointer_raycastHitLocation_z', 'handData_transform_position_x', 'handData_transform_position_y', 'handData_transform_position_z', 'handData_transform_rotation_x', 'handData_transform_rotation_y', 'handData_transform_rotation_z', 'handData_transform_rotation_w', 'handData_transform_scale_x', 'handData_transform_scale_y', 'handData_transform_scale_z', 'unixTimestamp_seconds', 'grasp', 'handData_contactPoint_x', 'handData_contactPoint_y', 'handData_contactPoint_z', 'trial_id', 'subject_id', 'trial_num', 'subjectfileName', 'eye_shelf_hit', 'head_hit', 'EIH_pos_x', 'EIH_pos_y', 'EIH_pos_z', 'EIH_dir_x', 'EIH_dir_y', 'EIH_dir_z', 'combined_eye_theta_h', 'combined_eye_theta_v', 'combined_eye_vel_h', 'combined_eye_vel_v', 'eye_angular_vel', 'head_angular_vel', 'combined_eye_acc_h', 'combined_eye_acc_v', 'isHeadStable', 'is_fixation', 'fix_duration', 'is_outlier_fixation', 'isOutlierSac', 'fix_onset', 'fix_stop', 'fix_onset_bool', 'fix_stop_bool', 'grasp_onset', 'grasp_stop', 'grasp_duration', 'grasp_onset_bool', 'grasp_end_bool', 'pickup_location', 'drop_location', 'trial_type']\n"
     ]
    }
   ],
   "source": [
    "print(samples_df.columns.to_list())"
   ]
  },
  {
   "cell_type": "code",
   "execution_count": 5,
   "metadata": {
    "ExecuteTime": {
     "end_time": "2020-07-06T15:26:31.523379Z",
     "start_time": "2020-07-06T15:26:19.618574Z"
    },
    "cell_style": "split"
   },
   "outputs": [
    {
     "data": {
      "image/png": "[encoded data removed]",
      "text/plain": [
       "<Figure size 360x360 with 1 Axes>"
      ]
     },
     "metadata": {},
     "output_type": "display_data"
    }
   ],
   "source": [
    "sns.set(context = \"poster\", style=\"ticks\", palette=\"muted\", font_scale=1,\\\n",
    "        rc={'font.size':30, 'font.sans-serif':'DejaVu Sans'})\n",
    "tmpdf = (\n",
    "    samples_df\n",
    "    .set_index('timestamp_dt')\n",
    "    .groupby(['subject_id','trial_type', 'trial_num'])\n",
    "    .apply(lambda x: (x.index[-1] - x.index[0])/np.timedelta64(1, 's'))\n",
    "    .rename('trial_duration')\n",
    "    .reset_index()\n",
    ")\n",
    "# display(tmpdf)\n",
    "\n",
    "sns.set(context = \"poster\", style=\"ticks\", palette=\"muted\", font_scale=1,\\\n",
    "        rc={'figure.figsize':(11.7,8.27), 'font.size':25, 'font.sans-serif':'DejaVu Sans'})\n",
    "_, ax = plt.subplots(1,1,figsize=(5,5))\n",
    "sns.boxplot(data=tmpdf, x='trial_type', y='trial_duration', palette = ['b', 'r'])\n",
    "\n",
    "sns.stripplot(\n",
    "    data=tmpdf, \n",
    "    x='trial_type',\n",
    "    y='trial_duration', \n",
    "    palette = ['b', 'r'], \n",
    "    alpha=0.3\n",
    ")\n",
    "ax.set_ylim(0, 400)\n",
    "# plt.xticks(rotation=90, fontsize=15)\n",
    "plt.ylabel('Trial Duration (sec)')\n",
    "plt.xlabel('Trial Type')\n",
    "sns.despine(offset=10)\n",
    "plt.savefig(PLOT_PATH+'/TrialDuration.png', quality=90, bbox_inches='tight')"
   ]
  },
  {
   "cell_type": "code",
   "execution_count": 44,
   "metadata": {
    "ExecuteTime": {
     "end_time": "2020-11-30T17:49:28.237452Z",
     "start_time": "2020-11-30T17:49:27.180387Z"
    },
    "cell_style": "split"
   },
   "outputs": [
    {
     "data": {
      "text/html": [
       "<div>\n",
       "<style scoped>\n",
       "    .dataframe tbody tr th:only-of-type {\n",
       "        vertical-align: middle;\n",
       "    }\n",
       "\n",
       "    .dataframe tbody tr th {\n",
       "        vertical-align: top;\n",
       "    }\n",
       "\n",
       "    .dataframe thead th {\n",
       "        text-align: right;\n",
       "    }\n",
       "</style>\n",
       "<table border=\"1\" class=\"dataframe\">\n",
       "  <thead>\n",
       "    <tr style=\"text-align: right;\">\n",
       "      <th></th>\n",
       "      <th>subject_id</th>\n",
       "      <th>trial_num</th>\n",
       "      <th>trial_type</th>\n",
       "      <th>num_grasp</th>\n",
       "    </tr>\n",
       "  </thead>\n",
       "  <tbody>\n",
       "    <tr>\n",
       "      <th>0</th>\n",
       "      <td>2006</td>\n",
       "      <td>2</td>\n",
       "      <td>hard</td>\n",
       "      <td>10.0</td>\n",
       "    </tr>\n",
       "    <tr>\n",
       "      <th>1</th>\n",
       "      <td>2006</td>\n",
       "      <td>3</td>\n",
       "      <td>easy</td>\n",
       "      <td>9.0</td>\n",
       "    </tr>\n",
       "    <tr>\n",
       "      <th>2</th>\n",
       "      <td>2006</td>\n",
       "      <td>4</td>\n",
       "      <td>hard</td>\n",
       "      <td>20.0</td>\n",
       "    </tr>\n",
       "    <tr>\n",
       "      <th>3</th>\n",
       "      <td>2006</td>\n",
       "      <td>5</td>\n",
       "      <td>easy</td>\n",
       "      <td>15.0</td>\n",
       "    </tr>\n",
       "    <tr>\n",
       "      <th>4</th>\n",
       "      <td>2006</td>\n",
       "      <td>6</td>\n",
       "      <td>easy</td>\n",
       "      <td>10.0</td>\n",
       "    </tr>\n",
       "    <tr>\n",
       "      <th>...</th>\n",
       "      <td>...</td>\n",
       "      <td>...</td>\n",
       "      <td>...</td>\n",
       "      <td>...</td>\n",
       "    </tr>\n",
       "    <tr>\n",
       "      <th>1139</th>\n",
       "      <td>2065</td>\n",
       "      <td>19</td>\n",
       "      <td>hard</td>\n",
       "      <td>16.0</td>\n",
       "    </tr>\n",
       "    <tr>\n",
       "      <th>1140</th>\n",
       "      <td>2065</td>\n",
       "      <td>20</td>\n",
       "      <td>easy</td>\n",
       "      <td>10.0</td>\n",
       "    </tr>\n",
       "    <tr>\n",
       "      <th>1141</th>\n",
       "      <td>2065</td>\n",
       "      <td>21</td>\n",
       "      <td>easy</td>\n",
       "      <td>8.0</td>\n",
       "    </tr>\n",
       "    <tr>\n",
       "      <th>1142</th>\n",
       "      <td>2065</td>\n",
       "      <td>22</td>\n",
       "      <td>easy</td>\n",
       "      <td>10.0</td>\n",
       "    </tr>\n",
       "    <tr>\n",
       "      <th>1143</th>\n",
       "      <td>2065</td>\n",
       "      <td>23</td>\n",
       "      <td>hard</td>\n",
       "      <td>10.0</td>\n",
       "    </tr>\n",
       "  </tbody>\n",
       "</table>\n",
       "<p>1144 rows × 4 columns</p>\n",
       "</div>"
      ],
      "text/plain": [
       "      subject_id  trial_num trial_type  num_grasp\n",
       "0           2006          2       hard       10.0\n",
       "1           2006          3       easy        9.0\n",
       "2           2006          4       hard       20.0\n",
       "3           2006          5       easy       15.0\n",
       "4           2006          6       easy       10.0\n",
       "...          ...        ...        ...        ...\n",
       "1139        2065         19       hard       16.0\n",
       "1140        2065         20       easy       10.0\n",
       "1141        2065         21       easy        8.0\n",
       "1142        2065         22       easy       10.0\n",
       "1143        2065         23       hard       10.0\n",
       "\n",
       "[1144 rows x 4 columns]"
      ]
     },
     "metadata": {},
     "output_type": "display_data"
    },
    {
     "data": {
      "text/plain": [
       "<Figure size 432x288 with 0 Axes>"
      ]
     },
     "metadata": {},
     "output_type": "display_data"
    }
   ],
   "source": [
    "tmpdf = (\n",
    "    samples_df\n",
    "    .groupby(['subject_id', 'trial_num','trial_type',], as_index=False)\n",
    "    .grasp_onset_bool\n",
    "    .sum()\n",
    "    .rename(columns = {'grasp_onset_bool':'num_grasp'})\n",
    ")\n",
    "display(tmpdf)\n",
    "# _, ax = plt.subplots(1,1,figsize=(5,5))\n",
    "\n",
    "# sns.boxplot(\n",
    "#     data=tmpdf,\n",
    "#     x='trial_type',\n",
    "#     y='num_grasp',\n",
    "#     palette=['b', 'r'],\n",
    "#     order=['easy', 'hard']\n",
    "# )\n",
    "# sns.stripplot(\n",
    "#     data=tmpdf,\n",
    "#     x='trial_type',\n",
    "#     y='num_grasp',\n",
    "#     palette=['b', 'r'],\n",
    "#     order=['easy', 'hard'],\n",
    "#     alpha=0.3\n",
    "# )\n",
    "# ax.set_ylim(0,60)\n",
    "# # plt.xticks(rotation=90, fontsize=15)\n",
    "# plt.ylabel('Number of Grasps')\n",
    "# plt.xlabel('Trial Type')\n",
    "# sns.despine(offset=10)\n",
    "plt.savefig(PLOT_PATH+'/grasps.png', quality=90, bbox_inches='tight')"
   ]
  },
  {
   "cell_type": "code",
   "execution_count": 10,
   "metadata": {
    "ExecuteTime": {
     "end_time": "2020-07-06T15:29:10.082024Z",
     "start_time": "2020-07-06T15:29:08.459657Z"
    },
    "cell_style": "split"
   },
   "outputs": [
    {
     "data": {
      "image/png": "[encoded data removed]",
      "text/plain": [
       "<Figure size 360x360 with 1 Axes>"
      ]
     },
     "metadata": {},
     "output_type": "display_data"
    }
   ],
   "source": [
    "tmpdf = (\n",
    "    samples_df\n",
    "    .groupby(['subject_id', 'trial_type','trial_num',], as_index=False)\n",
    "    .grasp_duration\n",
    "    .mean()\n",
    "    .reset_index()\n",
    ")\n",
    "\n",
    "_, ax = plt.subplots(1,1,figsize=(5,5))\n",
    "sns.boxplot(\n",
    "    data=tmpdf,\n",
    "    x='trial_type',\n",
    "    y='grasp_duration',\n",
    "    palette=['b', 'r'],\n",
    "    order=['easy', 'hard']\n",
    ")\n",
    "sns.stripplot(\n",
    "    data=tmpdf,\n",
    "    x='trial_type',\n",
    "    y='grasp_duration',\n",
    "    palette=['b', 'r'],\n",
    "    order=['easy', 'hard'],\n",
    "    alpha=0.3\n",
    ")\n",
    "ax.set_ylim(0,8)\n",
    "# plt.xticks(rotation=90, fontsize=15)\n",
    "plt.ylabel('Duration of Grasps (s)')\n",
    "plt.xlabel('Trial Type')\n",
    "sns.despine(offset=10)\n",
    "plt.savefig(PLOT_PATH+'/grasps_duration.png', quality=90, bbox_inches='tight')"
   ]
  },
  {
   "cell_type": "code",
   "execution_count": null,
   "metadata": {},
   "outputs": [],
   "source": []
  },
  {
   "cell_type": "code",
   "execution_count": null,
   "metadata": {},
   "outputs": [],
   "source": []
  },
  {
   "cell_type": "code",
   "execution_count": null,
   "metadata": {},
   "outputs": [],
   "source": []
  },
  {
   "cell_type": "code",
   "execution_count": null,
   "metadata": {},
   "outputs": [],
   "source": []
  }
 ],
 "metadata": {
  "kernelspec": {
   "display_name": "Python 3",
   "language": "python",
   "name": "python3"
  },
  "language_info": {
   "codemirror_mode": {
    "name": "ipython",
    "version": 3
   },
   "file_extension": ".py",
   "mimetype": "text/x-python",
   "name": "python",
   "nbconvert_exporter": "python",
   "pygments_lexer": "ipython3",
   "version": "3.7.4"
  },
  "toc": {
   "base_numbering": 1,
   "nav_menu": {},
   "number_sections": true,
   "sideBar": true,
   "skip_h1_title": false,
   "title_cell": "Table of Contents",
   "title_sidebar": "Contents",
   "toc_cell": false,
   "toc_position": {},
   "toc_section_display": true,
   "toc_window_display": false
  },
  "varInspector": {
   "cols": {
    "lenName": 16,
    "lenType": 16,
    "lenVar": 40
   },
   "kernels_config": {
    "python": {
     "delete_cmd_postfix": "",
     "delete_cmd_prefix": "del ",
     "library": "var_list.py",
     "varRefreshCmd": "print(var_dic_list())"
    },
    "r": {
     "delete_cmd_postfix": ") ",
     "delete_cmd_prefix": "rm(",
     "library": "var_list.r",
     "varRefreshCmd": "cat(var_dic_list()) "
    }
   },
   "types_to_exclude": [
    "module",
    "function",
    "builtin_function_or_method",
    "instance",
    "_Feature"
   ],
   "window_display": false
  }
 },
 "nbformat": 4,
 "nbformat_minor": 4
}
