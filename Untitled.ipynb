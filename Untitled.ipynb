{
 "cells": [
  {
   "cell_type": "code",
   "execution_count": null,
   "metadata": {},
   "outputs": [],
   "source": [
    "import ProtobufTypes_pb2 \n",
    "import pandas as pd\n",
    "import sys\n",
    "from google.protobuf.json_format import MessageToDict\n",
    "import collections\n",
    "import numpy as np\n",
    "import glob\n",
    "import seaborn as sns\n",
    "import os\n",
    "import statsmodels.api as sm\n",
    "import matplotlib.pyplot as plt\n",
    "from matplotlib import rcParams\n",
    "import pickle\n",
    "import pprint\n",
    "from IPython.display import display\n",
    "from datetime import date\n",
    "# rcParams.keys()"
   ]
  },
  {
   "cell_type": "code",
   "execution_count": null,
   "metadata": {},
   "outputs": [],
   "source": [
    "PROCESSED_DATA_PATH = '../ProcessedData'\n",
    "PLOT_PATH = f'./PLOTS-{date.today().strftime(\"%b-%d-%Y\")}/data_quality/'\n",
    "\n",
    "os.makedirs(os.path.dirname(PLOT_PATH), exist_ok=True)\n",
    "\n",
    "sns.set(context = \"talk\", style=\"white\", palette=\"deep\", font_scale=1,\\\n",
    "        rc={'figure.figsize':(11.7,8.27), 'font.size':15, 'font.sans-serif':'DejaVu Sans'})"
   ]
  }
 ],
 "metadata": {
  "kernelspec": {
   "display_name": "Python 3",
   "language": "python",
   "name": "python3"
  },
  "language_info": {
   "codemirror_mode": {
    "name": "ipython",
    "version": 3
   },
   "file_extension": ".py",
   "mimetype": "text/x-python",
   "name": "python",
   "nbconvert_exporter": "python",
   "pygments_lexer": "ipython3",
   "version": "3.7.4"
  }
 },
 "nbformat": 4,
 "nbformat_minor": 2
}
