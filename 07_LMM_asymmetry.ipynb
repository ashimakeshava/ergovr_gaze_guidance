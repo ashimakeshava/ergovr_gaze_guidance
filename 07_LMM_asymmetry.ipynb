{
 "cells": [
  {
   "cell_type": "code",
   "execution_count": 32,
   "metadata": {
    "scrolled": false
   },
   "outputs": [
    {
     "data": {
      "text/plain": [
       "R version 3.6.1 (2019-07-05)\n",
       "Platform: x86_64-w64-mingw32/x64 (64-bit)\n",
       "Running under: Windows 10 x64 (build 19041)\n",
       "\n",
       "Matrix products: default\n",
       "\n",
       "locale:\n",
       "[1] LC_COLLATE=English_United States.1252 \n",
       "[2] LC_CTYPE=English_United States.1252   \n",
       "[3] LC_MONETARY=English_United States.1252\n",
       "[4] LC_NUMERIC=C                          \n",
       "[5] LC_TIME=English_United States.1252    \n",
       "\n",
       "attached base packages:\n",
       "[1] stats     graphics  grDevices utils     datasets  methods   base     \n",
       "\n",
       "other attached packages:\n",
       " [1] moments_0.14      effects_4.2-0     lmerTest_3.1-3    car_3.0-10       \n",
       " [5] carData_3.0-4     gridExtra_2.3     see_0.6.1         performance_0.6.1\n",
       " [9] plyr_1.8.6        emmeans_1.5.3     multcomp_1.4-15   TH.data_1.0-10   \n",
       "[13] MASS_7.3-51.3     survival_3.2-7    mvtnorm_1.1-1     ggplot2_3.3.3    \n",
       "[17] lme4_1.1-26       Matrix_1.2-17     jsonlite_1.6     \n",
       "\n",
       "loaded via a namespace (and not attached):\n",
       " [1] tidyr_1.1.2         splines_3.6.1       statmod_1.4.35     \n",
       " [4] cellranger_1.1.0    bayestestR_0.8.0    backports_1.2.0    \n",
       " [7] numDeriv_2016.8-1.1 pillar_1.4.7        lattice_0.20-38    \n",
       "[10] glue_1.4.2          uuid_0.1-2          digest_0.6.18      \n",
       "[13] minqa_1.2.4         colorspace_2.0-0    sandwich_3.0-0     \n",
       "[16] htmltools_0.3.6     survey_4.0          pkgconfig_2.0.3    \n",
       "[19] broom_0.7.3         haven_2.3.1         purrr_0.3.4        \n",
       "[22] xtable_1.8-4        scales_1.1.1        openxlsx_4.2.3     \n",
       "[25] rio_0.5.16          tibble_3.0.5        generics_0.1.0     \n",
       "[28] ellipsis_0.3.1      withr_2.4.0         repr_0.19.2        \n",
       "[31] nnet_7.3-12         pbkrtest_0.5-0.1    magrittr_2.0.1     \n",
       "[34] crayon_1.3.4        effectsize_0.4.3    readxl_1.3.1       \n",
       "[37] estimability_1.3    evaluate_0.13       nlme_3.1-139       \n",
       "[40] forcats_0.5.0       foreign_0.8-71      tools_3.6.1        \n",
       "[43] data.table_1.13.6   hms_1.0.0           mitools_2.4        \n",
       "[46] lifecycle_0.2.0     munsell_0.5.0       zip_2.1.1          \n",
       "[49] compiler_3.6.1      rlang_0.4.10        grid_3.6.1         \n",
       "[52] nloptr_1.2.2.2      ggridges_0.5.3      pbdZMQ_0.3-3       \n",
       "[55] IRkernel_0.8.15     parameters_0.11.0   base64enc_0.1-3    \n",
       "[58] boot_1.3-20         gtable_0.3.0        codetools_0.2-16   \n",
       "[61] abind_1.4-5         DBI_1.1.1           curl_4.3           \n",
       "[64] R6_2.5.0            zoo_1.8-8           dplyr_1.0.3        \n",
       "[67] insight_0.12.0      stringi_1.5.3       parallel_3.6.1     \n",
       "[70] IRdisplay_0.7.0     Rcpp_1.0.1          vctrs_0.3.6        \n",
       "[73] tidyselect_1.1.0   "
      ]
     },
     "metadata": {},
     "output_type": "display_data"
    }
   ],
   "source": [
    "sessionInfo()"
   ]
  },
  {
   "cell_type": "code",
   "execution_count": null,
   "metadata": {
    "scrolled": true
   },
   "outputs": [],
   "source": [
    "library(lme4)\n",
    "library(ggplot2)\n",
    "library(multcomp)\n",
    "library(emmeans)\n",
    "library(plyr)\n",
    "library(performance)\n",
    "library(see)\n",
    "library(gridExtra)\n",
    "library(car)\n",
    "library(lmerTest)\n",
    "library(effects)\n",
    "library(moments)\n",
    "library(effectsize)\n",
    "library(MuMIn)"
   ]
  },
  {
   "cell_type": "code",
   "execution_count": 2,
   "metadata": {
    "scrolled": true
   },
   "outputs": [],
   "source": [
    "setwd('D:/projects/ErgoVR/code')"
   ]
  },
  {
   "cell_type": "markdown",
   "metadata": {},
   "source": [
    "# read data"
   ]
  },
  {
   "cell_type": "code",
   "execution_count": 11,
   "metadata": {
    "ExecuteTime": {
     "end_time": "2022-01-19T14:52:18.957446Z",
     "start_time": "2022-01-19T14:52:18.907Z"
    },
    "scrolled": true
   },
   "outputs": [],
   "source": [
    "df = read.csv(file = 'D:/projects/ErgoVR/processed_data/EIH_1/all_epoch_symmetry_19Jan.csv')"
   ]
  },
  {
   "cell_type": "markdown",
   "metadata": {},
   "source": [
    "# summary of data"
   ]
  },
  {
   "cell_type": "code",
   "execution_count": 12,
   "metadata": {
    "ExecuteTime": {
     "end_time": "2022-01-19T14:52:20.736478Z",
     "start_time": "2022-01-19T14:52:20.687Z"
    },
    "scrolled": true
   },
   "outputs": [
    {
     "data": {
      "text/plain": [
       "   subject_id     trial_num     trial_type    sym_index         grasp_num     \n",
       " Min.   :2006   Min.   : 2.00   easy:1144   Min.   :0.08333   Min.   : 3.000  \n",
       " 1st Qu.:2020   1st Qu.: 7.00   hard: 808   1st Qu.:0.50854   1st Qu.: 7.000  \n",
       " Median :2033   Median :12.00               Median :0.63673   Median : 9.000  \n",
       " Mean   :2035   Mean   :12.51               Mean   :0.64041   Mean   : 9.918  \n",
       " 3rd Qu.:2050   3rd Qu.:18.00               3rd Qu.:0.77513   3rd Qu.:12.000  \n",
       " Max.   :2062   Max.   :26.00               Max.   :1.00000   Max.   :31.000  \n",
       "       epoch    \n",
       " execution:975  \n",
       " planning :977  \n",
       "                \n",
       "                \n",
       "                \n",
       "                "
      ]
     },
     "metadata": {},
     "output_type": "display_data"
    }
   ],
   "source": [
    "summary(df)"
   ]
  },
  {
   "cell_type": "markdown",
   "metadata": {},
   "source": [
    "# center the categorical and continuous variables"
   ]
  },
  {
   "cell_type": "code",
   "execution_count": 13,
   "metadata": {
    "ExecuteTime": {
     "end_time": "2022-01-19T14:52:23.454587Z",
     "start_time": "2022-01-19T14:52:23.397Z"
    },
    "scrolled": true
   },
   "outputs": [
    {
     "data": {
      "text/html": [
       "<table>\n",
       "<thead><tr><th></th><th scope=col>2</th></tr></thead>\n",
       "<tbody>\n",
       "\t<tr><th scope=row>easy</th><td>-0.5</td></tr>\n",
       "\t<tr><th scope=row>hard</th><td> 0.5</td></tr>\n",
       "</tbody>\n",
       "</table>\n"
      ],
      "text/latex": [
       "\\begin{tabular}{r|l}\n",
       "  & 2\\\\\n",
       "\\hline\n",
       "\teasy & -0.5\\\\\n",
       "\thard &  0.5\\\\\n",
       "\\end{tabular}\n"
      ],
      "text/markdown": [
       "\n",
       "| <!--/--> | 2 |\n",
       "|---|---|\n",
       "| easy | -0.5 |\n",
       "| hard |  0.5 |\n",
       "\n"
      ],
      "text/plain": [
       "     2   \n",
       "easy -0.5\n",
       "hard  0.5"
      ]
     },
     "metadata": {},
     "output_type": "display_data"
    }
   ],
   "source": [
    "df$trial_type.effect <- factor(df$trial_type)\n",
    "c <-contr.treatment(2, base=1)\n",
    "my.coding <- matrix(rep(1/2,2),ncol=1)\n",
    "my.simpleT <- c - my.coding\n",
    "contrasts(df$trial_type.effect) <- my.simpleT\n",
    "contrasts(df$trial_type.effect)\n"
   ]
  },
  {
   "cell_type": "code",
   "execution_count": 14,
   "metadata": {
    "ExecuteTime": {
     "end_time": "2022-01-19T14:52:24.540110Z",
     "start_time": "2022-01-19T14:52:24.481Z"
    },
    "scrolled": true
   },
   "outputs": [
    {
     "data": {
      "text/html": [
       "<table>\n",
       "<thead><tr><th></th><th scope=col>2</th></tr></thead>\n",
       "<tbody>\n",
       "\t<tr><th scope=row>execution</th><td>-0.5</td></tr>\n",
       "\t<tr><th scope=row>planning</th><td> 0.5</td></tr>\n",
       "</tbody>\n",
       "</table>\n"
      ],
      "text/latex": [
       "\\begin{tabular}{r|l}\n",
       "  & 2\\\\\n",
       "\\hline\n",
       "\texecution & -0.5\\\\\n",
       "\tplanning &  0.5\\\\\n",
       "\\end{tabular}\n"
      ],
      "text/markdown": [
       "\n",
       "| <!--/--> | 2 |\n",
       "|---|---|\n",
       "| execution | -0.5 |\n",
       "| planning |  0.5 |\n",
       "\n"
      ],
      "text/plain": [
       "          2   \n",
       "execution -0.5\n",
       "planning   0.5"
      ]
     },
     "metadata": {},
     "output_type": "display_data"
    }
   ],
   "source": [
    "df$epoch.effect <- factor(df$epoch)\n",
    "c <-contr.treatment(2, base=1)\n",
    "my.coding <- matrix(rep(1/2,2),ncol=1)\n",
    "my.simpleT <- c - my.coding\n",
    "contrasts(df$epoch.effect) <- my.simpleT\n",
    "contrasts(df$epoch.effect)"
   ]
  },
  {
   "cell_type": "code",
   "execution_count": 15,
   "metadata": {
    "ExecuteTime": {
     "end_time": "2022-01-19T14:52:25.487011Z",
     "start_time": "2022-01-19T14:52:25.443Z"
    },
    "scrolled": true
   },
   "outputs": [],
   "source": [
    "df$grasp_num.center <- df$grasp_num - mean(df$grasp_num)\n"
   ]
  },
  {
   "cell_type": "markdown",
   "metadata": {},
   "source": [
    "# make models"
   ]
  },
  {
   "cell_type": "code",
   "execution_count": 83,
   "metadata": {
    "ExecuteTime": {
     "end_time": "2022-01-24T17:18:44.127771Z",
     "start_time": "2022-01-24T17:18:43.640Z"
    },
    "scrolled": true
   },
   "outputs": [
    {
     "data": {
      "text/plain": [
       "Linear mixed model fit by REML. t-tests use Satterthwaite's method [\n",
       "lmerModLmerTest]\n",
       "Formula: sym_index ~ 1 + trial_type.effect * epoch.effect * grasp_num.center +  \n",
       "    (1 + trial_type.effect + epoch.effect | subject_id)\n",
       "   Data: df\n",
       "Control: strictControl\n",
       "\n",
       "REML criterion at convergence: -2179.6\n",
       "\n",
       "Scaled residuals: \n",
       "    Min      1Q  Median      3Q     Max \n",
       "-3.9192 -0.6019  0.0194  0.6536  3.4082 \n",
       "\n",
       "Random effects:\n",
       " Groups     Name               Variance  Std.Dev. Corr       \n",
       " subject_id (Intercept)        0.0135758 0.11652             \n",
       "            trial_type.effect2 0.0002834 0.01683   0.20      \n",
       "            epoch.effect2      0.0045868 0.06773  -0.55  0.08\n",
       " Residual                      0.0164886 0.12841             \n",
       "Number of obs: 1952, groups:  subject_id, 48\n",
       "\n",
       "Fixed effects:\n",
       "                                                    Estimate Std. Error\n",
       "(Intercept)                                        6.457e-01  1.719e-02\n",
       "trial_type.effect2                                -4.171e-02  7.770e-03\n",
       "epoch.effect2                                      2.260e-02  1.207e-02\n",
       "grasp_num.center                                   2.920e-03  9.303e-04\n",
       "trial_type.effect2:epoch.effect2                  -3.855e-02  1.448e-02\n",
       "trial_type.effect2:grasp_num.center               -8.316e-03  1.765e-03\n",
       "epoch.effect2:grasp_num.center                     1.465e-03  1.775e-03\n",
       "trial_type.effect2:epoch.effect2:grasp_num.center -9.361e-03  3.407e-03\n",
       "                                                          df t value Pr(>|t|)\n",
       "(Intercept)                                        4.836e+01  37.555  < 2e-16\n",
       "trial_type.effect2                                 8.704e+01  -5.368 6.51e-07\n",
       "epoch.effect2                                      5.926e+01   1.873  0.06603\n",
       "grasp_num.center                                   1.449e+03   3.139  0.00173\n",
       "trial_type.effect2:epoch.effect2                   1.836e+03  -2.662  0.00782\n",
       "trial_type.effect2:grasp_num.center                7.705e+02  -4.713 2.89e-06\n",
       "epoch.effect2:grasp_num.center                     1.574e+03   0.826  0.40904\n",
       "trial_type.effect2:epoch.effect2:grasp_num.center  1.815e+03  -2.747  0.00607\n",
       "                                                     \n",
       "(Intercept)                                       ***\n",
       "trial_type.effect2                                ***\n",
       "epoch.effect2                                     .  \n",
       "grasp_num.center                                  ** \n",
       "trial_type.effect2:epoch.effect2                  ** \n",
       "trial_type.effect2:grasp_num.center               ***\n",
       "epoch.effect2:grasp_num.center                       \n",
       "trial_type.effect2:epoch.effect2:grasp_num.center ** \n",
       "---\n",
       "Signif. codes:  0 '***' 0.001 '**' 0.01 '*' 0.05 '.' 0.1 ' ' 1\n",
       "\n",
       "Correlation of Fixed Effects:\n",
       "            (Intr) trl_.2 epch.2 grsp_. tr_.2:.2 t_.2:_ e.2:_.\n",
       "trl_typ.ff2  0.068                                            \n",
       "epoch.ffct2 -0.430 -0.023                                     \n",
       "grsp_nm.cnt  0.046 -0.552  0.049                              \n",
       "trl_ty.2:.2 -0.016  0.035  0.023 -0.049                       \n",
       "trl_ty.2:_. -0.112  0.244 -0.037 -0.561  0.073                \n",
       "epch.ff2:_.  0.016 -0.045  0.123  0.025 -0.563   -0.018       \n",
       "tr_.2:.2:_. -0.012  0.070 -0.313 -0.022  0.237    0.041 -0.543"
      ]
     },
     "metadata": {},
     "output_type": "display_data"
    }
   ],
   "source": [
    "strictControl <- lmerControl(optCtrl = list(\n",
    "   algorithm = \"NLOPT_LN_NELDERMEAD\",\n",
    "   xtol_abs = 1e-8,\n",
    "   ftol_abs = 1e-8))\n",
    "\n",
    "\n",
    "model_1 <- lmer(\n",
    "    sym_index ~ 1 + trial_type.effect * epoch.effect * grasp_num.center\n",
    "    + (1 + trial_type.effect + epoch.effect | subject_id),\n",
    "    data=df,\n",
    "    control=strictControl\n",
    ")\n",
    "summary(model_1)\n"
   ]
  },
  {
   "cell_type": "code",
   "execution_count": 84,
   "metadata": {
    "ExecuteTime": {
     "end_time": "2022-01-24T17:18:51.785065Z",
     "start_time": "2022-01-24T17:18:51.397Z"
    },
    "scrolled": true
   },
   "outputs": [
    {
     "data": {
      "text/plain": [
       "Linear mixed model fit by REML. t-tests use Satterthwaite's method [\n",
       "lmerModLmerTest]\n",
       "Formula: sym_index ~ 1 + (1 + trial_type.effect + epoch.effect | subject_id)\n",
       "   Data: df\n",
       "Control: strictControl\n",
       "\n",
       "REML criterion at convergence: -2191.7\n",
       "\n",
       "Scaled residuals: \n",
       "    Min      1Q  Median      3Q     Max \n",
       "-3.9082 -0.5980  0.0195  0.6485  3.3756 \n",
       "\n",
       "Random effects:\n",
       " Groups     Name               Variance Std.Dev. Corr       \n",
       " subject_id (Intercept)        0.013855 0.11771             \n",
       "            trial_type.effect2 0.001115 0.03339   0.14      \n",
       "            epoch.effect2      0.004519 0.06722  -0.55 -0.10\n",
       " Residual                      0.016756 0.12945             \n",
       "Number of obs: 1952, groups:  subject_id, 48\n",
       "\n",
       "Fixed effects:\n",
       "            Estimate Std. Error       df t value Pr(>|t|)    \n",
       "(Intercept)  0.65064    0.01524 47.28919    42.7   <2e-16 ***\n",
       "---\n",
       "Signif. codes:  0 '***' 0.001 '**' 0.01 '*' 0.05 '.' 0.1 ' ' 1"
      ]
     },
     "metadata": {},
     "output_type": "display_data"
    }
   ],
   "source": [
    "model_null <- lmer(\n",
    "    sym_index ~ 1\n",
    "    + (1 + trial_type.effect + epoch.effect | subject_id),\n",
    "    data=df,\n",
    "    control=strictControl\n",
    "    #control=lmerControl(optimizer=\"bobyqa\", optCtrl=list(maxfun=10e5))\n",
    ")\n",
    "summary(model_null)\n"
   ]
  },
  {
   "cell_type": "code",
   "execution_count": 91,
   "metadata": {
    "ExecuteTime": {
     "end_time": "2022-01-24T17:27:50.623662Z",
     "start_time": "2022-01-24T17:27:50.060Z"
    },
    "collapsed": true,
    "scrolled": true
   },
   "outputs": [
    {
     "data": {
      "text/html": [
       "<table>\n",
       "<thead><tr><th scope=col>Parameter</th><th scope=col>Coefficient</th><th scope=col>SE</th><th scope=col>95% CI</th><th scope=col>t</th><th scope=col>df</th><th scope=col>p</th></tr></thead>\n",
       "<tbody>\n",
       "\t<tr><td><span style=white-space:pre-wrap>(Intercept)                                            </span></td><td>0.64566                                                                                        </td><td>0.01719                                                                                        </td><td><span style=white-space:pre-wrap>0.61, 0.68         </span>                                    </td><td>37.55518                                                                                       </td><td><span style=white-space:pre-wrap>48.36  </span>                                                </td><td>&lt; .001                                                                                      </td></tr>\n",
       "\t<tr><td><span style=white-space:pre-wrap>trial_type.effect2                                     </span></td><td>-0.04171                                                                                       </td><td>0.00777                                                                                        </td><td><span style=white-space:pre-wrap>-0.06, -0.03       </span>                                    </td><td>-5.36828                                                                                       </td><td><span style=white-space:pre-wrap>87.04  </span>                                                </td><td>&lt; .001                                                                                      </td></tr>\n",
       "\t<tr><td>epoch.effect2                                          </td><td>0.02260                                                </td><td>0.01207                                                </td><td>-1.05e-03, 0.05                                        </td><td>1.87284                                                </td><td>59.26                                                  </td><td>0.066                                                  </td></tr>\n",
       "\t<tr><td>grasp_num.center                                       </td><td>0.00292                                                </td><td>0.00093                                                </td><td>1.10e-03, 4.74e-03                                     </td><td>3.13893                                                </td><td>1448.78                                                </td><td>0.002                                                  </td></tr>\n",
       "\t<tr><td>trial_type.effect2 * epoch.effect2                     </td><td>-0.03855                                               </td><td>0.01448                                                </td><td>-0.07, -0.01                                           </td><td>-2.66248                                               </td><td>1835.94                                                </td><td>0.008                                                  </td></tr>\n",
       "\t<tr><td><span style=white-space:pre-wrap>trial_type.effect2 * grasp_num.center                  </span></td><td>-0.00832                                                                                       </td><td>0.00176                                                                                        </td><td><span style=white-space:pre-wrap>-0.01, -4.86e-03   </span>                                    </td><td>-4.71336                                                                                       </td><td>770.47                                                                                         </td><td>&lt; .001                                                                                      </td></tr>\n",
       "\t<tr><td>epoch.effect2 * grasp_num.center                       </td><td>0.00147                                                </td><td>0.00177                                                </td><td>-2.01e-03, 4.94e-03                                    </td><td>0.82581                                                </td><td>1573.90                                                </td><td>0.409                                                  </td></tr>\n",
       "\t<tr><td>(trial_type.effect2 * epoch.effect2) * grasp_num.center</td><td>-0.00936                                               </td><td>0.00341                                                </td><td>-0.02, -2.68e-03                                       </td><td>-2.74740                                               </td><td>1814.87                                                </td><td>0.006                                                  </td></tr>\n",
       "</tbody>\n",
       "</table>\n"
      ],
      "text/latex": [
       "\\begin{tabular}{r|lllllll}\n",
       " Parameter & Coefficient & SE & 95\\% CI & t & df & p\\\\\n",
       "\\hline\n",
       "\t (Intercept)                                             & 0.64566                                                 & 0.01719                                                 & 0.61, 0.68                                              & 37.55518                                                & 48.36                                                   & < .001                                                 \\\\\n",
       "\t trial\\_type.effect2                                      & -0.04171                                                  & 0.00777                                                   & -0.06, -0.03                                              & -5.36828                                                  & 87.04                                                     & < .001                                                   \\\\\n",
       "\t epoch.effect2                                           & 0.02260                                                 & 0.01207                                                 & -1.05e-03, 0.05                                         & 1.87284                                                 & 59.26                                                   & 0.066                                                  \\\\\n",
       "\t grasp\\_num.center                                        & 0.00292                                                   & 0.00093                                                   & 1.10e-03, 4.74e-03                                        & 3.13893                                                   & 1448.78                                                   & 0.002                                                    \\\\\n",
       "\t trial\\_type.effect2 * epoch.effect2                      & -0.03855                                                  & 0.01448                                                   & -0.07, -0.01                                              & -2.66248                                                  & 1835.94                                                   & 0.008                                                    \\\\\n",
       "\t trial\\_type.effect2 * grasp\\_num.center                   & -0.00832                                                    & 0.00176                                                     & -0.01, -4.86e-03                                            & -4.71336                                                    & 770.47                                                      & < .001                                                     \\\\\n",
       "\t epoch.effect2 * grasp\\_num.center                        & 0.00147                                                   & 0.00177                                                   & -2.01e-03, 4.94e-03                                       & 0.82581                                                   & 1573.90                                                   & 0.409                                                    \\\\\n",
       "\t (trial\\_type.effect2 * epoch.effect2) * grasp\\_num.center & -0.00936                                                    & 0.00341                                                     & -0.02, -2.68e-03                                            & -2.74740                                                    & 1814.87                                                     & 0.006                                                      \\\\\n",
       "\\end{tabular}\n"
      ],
      "text/markdown": [
       "\n",
       "| Parameter | Coefficient | SE | 95% CI | t | df | p |\n",
       "|---|---|---|---|---|---|---|\n",
       "| (Intercept)                                             | 0.64566                                                 | 0.01719                                                 | 0.61, 0.68                                              | 37.55518                                                | 48.36                                                   | < .001                                                  |\n",
       "| trial_type.effect2                                      | -0.04171                                                | 0.00777                                                 | -0.06, -0.03                                            | -5.36828                                                | 87.04                                                   | < .001                                                  |\n",
       "| epoch.effect2                                           | 0.02260                                                 | 0.01207                                                 | -1.05e-03, 0.05                                         | 1.87284                                                 | 59.26                                                   | 0.066                                                   |\n",
       "| grasp_num.center                                        | 0.00292                                                 | 0.00093                                                 | 1.10e-03, 4.74e-03                                      | 3.13893                                                 | 1448.78                                                 | 0.002                                                   |\n",
       "| trial_type.effect2 * epoch.effect2                      | -0.03855                                                | 0.01448                                                 | -0.07, -0.01                                            | -2.66248                                                | 1835.94                                                 | 0.008                                                   |\n",
       "| trial_type.effect2 * grasp_num.center                   | -0.00832                                                | 0.00176                                                 | -0.01, -4.86e-03                                        | -4.71336                                                | 770.47                                                  | < .001                                                  |\n",
       "| epoch.effect2 * grasp_num.center                        | 0.00147                                                 | 0.00177                                                 | -2.01e-03, 4.94e-03                                     | 0.82581                                                 | 1573.90                                                 | 0.409                                                   |\n",
       "| (trial_type.effect2 * epoch.effect2) * grasp_num.center | -0.00936                                                | 0.00341                                                 | -0.02, -2.68e-03                                        | -2.74740                                                | 1814.87                                                 | 0.006                                                   |\n",
       "\n"
      ],
      "text/plain": [
       "  Parameter                                               Coefficient SE     \n",
       "1 (Intercept)                                             0.64566     0.01719\n",
       "2 trial_type.effect2                                      -0.04171    0.00777\n",
       "3 epoch.effect2                                           0.02260     0.01207\n",
       "4 grasp_num.center                                        0.00292     0.00093\n",
       "5 trial_type.effect2 * epoch.effect2                      -0.03855    0.01448\n",
       "6 trial_type.effect2 * grasp_num.center                   -0.00832    0.00176\n",
       "7 epoch.effect2 * grasp_num.center                        0.00147     0.00177\n",
       "8 (trial_type.effect2 * epoch.effect2) * grasp_num.center -0.00936    0.00341\n",
       "  95% CI              t        df      p     \n",
       "1 0.61, 0.68          37.55518 48.36   < .001\n",
       "2 -0.06, -0.03        -5.36828 87.04   < .001\n",
       "3 -1.05e-03, 0.05     1.87284  59.26   0.066 \n",
       "4 1.10e-03, 4.74e-03  3.13893  1448.78 0.002 \n",
       "5 -0.07, -0.01        -2.66248 1835.94 0.008 \n",
       "6 -0.01, -4.86e-03    -4.71336 770.47  < .001\n",
       "7 -2.01e-03, 4.94e-03 0.82581  1573.90 0.409 \n",
       "8 -0.02, -2.68e-03    -2.74740 1814.87 0.006 "
      ]
     },
     "metadata": {},
     "output_type": "display_data"
    }
   ],
   "source": [
    "tmp <- parameters::model_parameters(model_1, effects = \"fixed\", df_method = \"satterthwaite\")\n",
    "format(tmp, format='f', digits=5)\n",
    "#write.csv(tmp, './model_1.csv')"
   ]
  },
  {
   "cell_type": "code",
   "execution_count": 81,
   "metadata": {
    "ExecuteTime": {
     "end_time": "2022-01-24T17:16:49.255088Z",
     "start_time": "2022-01-24T17:16:49.177Z"
    },
    "scrolled": true
   },
   "outputs": [
    {
     "name": "stdout",
     "output_type": "stream",
     "text": [
      "Type III Analysis of Variance Table with Satterthwaite's method\n",
      "                                                 Sum Sq Mean Sq NumDF   DenDF\n",
      "trial_type.effect                               0.47518 0.47518     1   87.04\n",
      "epoch.effect                                    0.05783 0.05783     1   59.26\n",
      "grasp_num.center                                0.16246 0.16246     1 1448.78\n",
      "trial_type.effect:epoch.effect                  0.11688 0.11688     1 1835.94\n",
      "trial_type.effect:grasp_num.center              0.36631 0.36631     1  770.47\n",
      "epoch.effect:grasp_num.center                   0.01124 0.01124     1 1573.90\n",
      "trial_type.effect:epoch.effect:grasp_num.center 0.12446 0.12446     1 1814.87\n",
      "                                                F value    Pr(>F)    \n",
      "trial_type.effect                               28.8185 6.512e-07 ***\n",
      "epoch.effect                                     3.5075  0.066026 .  \n",
      "grasp_num.center                                 9.8529  0.001730 ** \n",
      "trial_type.effect:epoch.effect                   7.0888  0.007824 ** \n",
      "trial_type.effect:grasp_num.center              22.2158 2.891e-06 ***\n",
      "epoch.effect:grasp_num.center                    0.6820  0.409037    \n",
      "trial_type.effect:epoch.effect:grasp_num.center  7.5482  0.006066 ** \n",
      "---\n",
      "Signif. codes:  0 '***' 0.001 '**' 0.01 '*' 0.05 '.' 0.1 ' ' 1\n"
     ]
    },
    {
     "data": {
      "text/html": [
       "<table>\n",
       "<thead><tr><th scope=col>Eta2_partial</th><th scope=col>CI</th><th scope=col>CI_low</th><th scope=col>CI_high</th></tr></thead>\n",
       "<tbody>\n",
       "\t<tr><td>0.2487462466</td><td>0.9         </td><td>0.1282718638</td><td>0.368693675 </td></tr>\n",
       "\t<tr><td>0.0558842503</td><td>0.9         </td><td>0.0000000000</td><td>0.174074931 </td></tr>\n",
       "\t<tr><td>0.0067548609</td><td>0.9         </td><td>0.0015315285</td><td>0.015564531 </td></tr>\n",
       "\t<tr><td>0.0038462815</td><td>0.9         </td><td>0.0005602938</td><td>0.010010053 </td></tr>\n",
       "\t<tr><td>0.0280258832</td><td>0.9         </td><td>0.0119698037</td><td>0.050007901 </td></tr>\n",
       "\t<tr><td>0.0004331076</td><td>0.9         </td><td>0.0000000000</td><td>0.003848555 </td></tr>\n",
       "\t<tr><td>0.0041418541</td><td>0.9         </td><td>0.0006661083</td><td>0.010524389 </td></tr>\n",
       "</tbody>\n",
       "</table>\n"
      ],
      "text/latex": [
       "\\begin{tabular}{r|llll}\n",
       " Eta2\\_partial & CI & CI\\_low & CI\\_high\\\\\n",
       "\\hline\n",
       "\t 0.2487462466 & 0.9          & 0.1282718638 & 0.368693675 \\\\\n",
       "\t 0.0558842503 & 0.9          & 0.0000000000 & 0.174074931 \\\\\n",
       "\t 0.0067548609 & 0.9          & 0.0015315285 & 0.015564531 \\\\\n",
       "\t 0.0038462815 & 0.9          & 0.0005602938 & 0.010010053 \\\\\n",
       "\t 0.0280258832 & 0.9          & 0.0119698037 & 0.050007901 \\\\\n",
       "\t 0.0004331076 & 0.9          & 0.0000000000 & 0.003848555 \\\\\n",
       "\t 0.0041418541 & 0.9          & 0.0006661083 & 0.010524389 \\\\\n",
       "\\end{tabular}\n"
      ],
      "text/markdown": [
       "\n",
       "| Eta2_partial | CI | CI_low | CI_high |\n",
       "|---|---|---|---|\n",
       "| 0.2487462466 | 0.9          | 0.1282718638 | 0.368693675  |\n",
       "| 0.0558842503 | 0.9          | 0.0000000000 | 0.174074931  |\n",
       "| 0.0067548609 | 0.9          | 0.0015315285 | 0.015564531  |\n",
       "| 0.0038462815 | 0.9          | 0.0005602938 | 0.010010053  |\n",
       "| 0.0280258832 | 0.9          | 0.0119698037 | 0.050007901  |\n",
       "| 0.0004331076 | 0.9          | 0.0000000000 | 0.003848555  |\n",
       "| 0.0041418541 | 0.9          | 0.0006661083 | 0.010524389  |\n",
       "\n"
      ],
      "text/plain": [
       "  Eta2_partial CI  CI_low       CI_high    \n",
       "1 0.2487462466 0.9 0.1282718638 0.368693675\n",
       "2 0.0558842503 0.9 0.0000000000 0.174074931\n",
       "3 0.0067548609 0.9 0.0015315285 0.015564531\n",
       "4 0.0038462815 0.9 0.0005602938 0.010010053\n",
       "5 0.0280258832 0.9 0.0119698037 0.050007901\n",
       "6 0.0004331076 0.9 0.0000000000 0.003848555\n",
       "7 0.0041418541 0.9 0.0006661083 0.010524389"
      ]
     },
     "metadata": {},
     "output_type": "display_data"
    }
   ],
   "source": [
    "an_model <- anova(model_1)\n",
    "print(an_model)\n",
    "F_to_eta2(\n",
    "  f = an_model[,5],\n",
    "  df = an_model[,3],\n",
    "  df_error = an_model[,4],\n",
    "    CI=95\n",
    ")"
   ]
  },
  {
   "cell_type": "code",
   "execution_count": 85,
   "metadata": {
    "ExecuteTime": {
     "end_time": "2022-01-24T17:18:57.245421Z",
     "start_time": "2022-01-24T17:18:57.194Z"
    },
    "scrolled": true
   },
   "outputs": [
    {
     "data": {
      "text/html": [
       "<table>\n",
       "<thead><tr><th scope=col>R2m</th><th scope=col>R2c</th></tr></thead>\n",
       "<tbody>\n",
       "\t<tr><td>0.01889932</td><td>0.4816604 </td></tr>\n",
       "</tbody>\n",
       "</table>\n"
      ],
      "text/latex": [
       "\\begin{tabular}{ll}\n",
       " R2m & R2c\\\\\n",
       "\\hline\n",
       "\t 0.01889932 & 0.4816604 \\\\\n",
       "\\end{tabular}\n"
      ],
      "text/markdown": [
       "\n",
       "| R2m | R2c |\n",
       "|---|---|\n",
       "| 0.01889932 | 0.4816604  |\n",
       "\n"
      ],
      "text/plain": [
       "     R2m        R2c      \n",
       "[1,] 0.01889932 0.4816604"
      ]
     },
     "metadata": {},
     "output_type": "display_data"
    }
   ],
   "source": [
    "r.squaredGLMM(model_1)"
   ]
  },
  {
   "cell_type": "code",
   "execution_count": 18,
   "metadata": {
    "ExecuteTime": {
     "end_time": "2022-01-19T14:53:02.236388Z",
     "start_time": "2022-01-19T14:53:02.108Z"
    },
    "scrolled": true
   },
   "outputs": [
    {
     "name": "stdout",
     "output_type": "stream",
     "text": [
      " model: sym_index ~ 1 + trial_type.effect * epoch.effect + grasp_num.center\n",
      "\n",
      " grasp_num.center effect\n",
      "grasp_num.center\n",
      "       -7      0.08         7        10        20 \n",
      "0.6358076 0.6391189 0.6423554 0.6437585 0.6484355 \n",
      "\n",
      " trial_type.effect*epoch.effect effect\n",
      "                 epoch.effect\n",
      "trial_type.effect execution  planning\n",
      "             easy 0.6393165 0.6649875\n",
      "             hard 0.6230555 0.6180638\n"
     ]
    }
   ],
   "source": [
    "e = allEffects(model_1)\n",
    "print(e)"
   ]
  },
  {
   "cell_type": "code",
   "execution_count": 20,
   "metadata": {
    "ExecuteTime": {
     "end_time": "2022-01-19T14:53:22.544035Z",
     "start_time": "2022-01-19T14:53:22.002Z"
    },
    "scrolled": true
   },
   "outputs": [
    {
     "data": {
      "image/png": "[encoded data removed]",
      "text/plain": [
       "plot without title"
      ]
     },
     "metadata": {},
     "output_type": "display_data"
    }
   ],
   "source": [
    "plot(e)"
   ]
  },
  {
   "cell_type": "code",
   "execution_count": 21,
   "metadata": {
    "ExecuteTime": {
     "end_time": "2022-01-19T14:53:36.254133Z",
     "start_time": "2022-01-19T14:53:35.871Z"
    },
    "scrolled": true
   },
   "outputs": [
    {
     "data": {
      "image/png": "[encoded data removed]",
      "text/plain": [
       "plot without title"
      ]
     },
     "metadata": {},
     "output_type": "display_data"
    }
   ],
   "source": [
    "plot(e,multiline=TRUE,confint=TRUE,ci.style=\"bands\"\n",
    "     ,xlab=\"Object displacements\"\n",
    "     ,ylab=\"Net Transitions (F-value)\",\n",
    "    )"
   ]
  },
  {
   "cell_type": "code",
   "execution_count": null,
   "metadata": {
    "scrolled": true
   },
   "outputs": [],
   "source": []
  }
 ],
 "metadata": {
  "kernelspec": {
   "display_name": "R",
   "language": "R",
   "name": "ir"
  },
  "language_info": {
   "codemirror_mode": "r",
   "file_extension": ".r",
   "mimetype": "text/x-r-source",
   "name": "R",
   "pygments_lexer": "r",
   "version": "3.6.1"
  },
  "toc": {
   "base_numbering": 1,
   "nav_menu": {},
   "number_sections": true,
   "sideBar": true,
   "skip_h1_title": false,
   "title_cell": "Table of Contents",
   "title_sidebar": "Contents",
   "toc_cell": false,
   "toc_position": {
    "height": "calc(100% - 180px)",
    "left": "10px",
    "top": "150px",
    "width": "406.225px"
   },
   "toc_section_display": true,
   "toc_window_display": true
  },
  "varInspector": {
   "cols": {
    "lenName": 16,
    "lenType": 16,
    "lenVar": 40
   },
   "kernels_config": {
    "python": {
     "delete_cmd_postfix": "",
     "delete_cmd_prefix": "del ",
     "library": "var_list.py",
     "varRefreshCmd": "print(var_dic_list())"
    },
    "r": {
     "delete_cmd_postfix": ") ",
     "delete_cmd_prefix": "rm(",
     "library": "var_list.r",
     "varRefreshCmd": "cat(var_dic_list()) "
    }
   },
   "types_to_exclude": [
    "module",
    "function",
    "builtin_function_or_method",
    "instance",
    "_Feature"
   ],
   "window_display": false
  }
 },
 "nbformat": 4,
 "nbformat_minor": 4
}
