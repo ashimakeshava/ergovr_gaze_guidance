{
 "cells": [
  {
   "cell_type": "code",
   "execution_count": null,
   "metadata": {
    "ExecuteTime": {
     "end_time": "2019-06-11T11:11:30.871814Z",
     "start_time": "2019-06-11T11:11:30.863688Z"
    },
    "hide_input": true
   },
   "outputs": [],
   "source": [
    "raise"
   ]
  },
  {
   "cell_type": "code",
   "execution_count": 1,
   "metadata": {
    "ExecuteTime": {
     "end_time": "2019-06-11T17:25:42.225238Z",
     "start_time": "2019-06-11T17:25:41.563309Z"
    }
   },
   "outputs": [
    {
     "data": {
      "image/png": "[encoded data removed]",
      "text/plain": [
       "<Figure size 720x72 with 1 Axes>"
      ]
     },
     "metadata": {},
     "output_type": "display_data"
    }
   ],
   "source": [
    "# Initializing\n",
    "\n",
    "# general purpose\n",
    "import os\n",
    "import re\n",
    "import copy\n",
    "import glob\n",
    "import json\n",
    "import math\n",
    "import itertools\n",
    "import functools\n",
    "import time\n",
    "import pickle\n",
    "from pprint import pprint\n",
    "from datetime import datetime, timedelta, date\n",
    "\n",
    "# plotting\n",
    "%matplotlib inline\n",
    "import matplotlib.pyplot as plt\n",
    "import matplotlib.pylab as mpl\n",
    "import matplotlib.mlab as mlab\n",
    "import matplotlib\n",
    "import seaborn as sns\n",
    "mpl.rcParams['font.family'] = 'DejaVu Sans'\n",
    "sns.set(palette='muted')\n",
    "default_palette = sns.color_palette()\n",
    "sns.palplot(default_palette)\n",
    "\n",
    "# display\n",
    "from pprint import pprint\n",
    "from IPython.display import display\n",
    "from tqdm import tqdm_notebook\n",
    "\n",
    "# stats\n",
    "import pandas as pd\n",
    "import numpy as np\n",
    "import scipy.stats as stats\n",
    "import scipy\n",
    "\n",
    "PROJECT_DIR = '/home/ubuntu/devbench/main'\n",
    "def get_path(path_str):\n",
    "    return os.path.join(PROJECT_DIR, path_str)"
   ]
  },
  {
   "cell_type": "code",
   "execution_count": 2,
   "metadata": {
    "ExecuteTime": {
     "end_time": "2019-06-11T17:25:46.345237Z",
     "start_time": "2019-06-11T17:25:46.108286Z"
    }
   },
   "outputs": [],
   "source": [
    "from roo_data_storage import snowflake_utils\n",
    "from roo_data_storage.snowflake_utils import RooSnowflakeAdapter\n",
    "\n",
    "snowflake_utils.set_logging_for_snowflake_and_botocore('WARNING')\n",
    "\n",
    "# Connect to snowflake\n",
    "creds = snowflake_utils.get_snowflake_settings_from_env()\n",
    "\n",
    "snow = snowflake_utils.RooSnowflakeAdapter(**creds)\n",
    "\n",
    "def download_file(snow_file_name, dest_dir):\n",
    "    directory = os.path.join('./', dest_dir)\n",
    "    try :\n",
    "        os.makedirs(directory)\n",
    "    except :\n",
    "        pass\n",
    "    _ = snow.download_csv('GET @~/exportcsv/{} file://{}'.format(snow_file_name, directory))\n",
    "#     _ = snow.download_csv('RM @~/exportcsv/{}/{}'.format(ticket_number, snow_file_name))\n",
    "\n",
    "    return os.path.join(directory, snow_file_name)"
   ]
  },
  {
   "cell_type": "code",
   "execution_count": 3,
   "metadata": {
    "ExecuteTime": {
     "end_time": "2019-06-11T17:27:46.942841Z",
     "start_time": "2019-06-11T17:27:46.938773Z"
    },
    "collapsed": true
   },
   "outputs": [
    {
     "name": "stdout",
     "output_type": "stream",
     "text": [
      "set (start_date, end_date) = ('2019-05-28', '2019-06-11');\n",
      "\n",
      "-- Get pato fee components (available for RAs where pato is ACTIVELY generating fees, not just shadow)\n",
      "CREATE OR REPLACE TEMP TABLE SCRATCH.DELIVEROO.ASSIGNMENT_FEE_COMPONENTS AS (\n",
      "      WITH base AS (\n",
      "        SELECT\n",
      "          calcs.rec:data:pickup_id::INT AS ra_id\n",
      "          , calcs.rec:data:country_id::INT AS country_id\n",
      "          , calcs.rec:data:local_currency::STRING AS currency\n",
      "          , calcs.rec:data:zone_code::STRING AS rider_zone_code\n",
      "          , calcs.rec:data:zone_id::STRING AS rider_zone_id\n",
      "          , calcs.rec:message_metadata:source_timestamp AS source_timestamp\n",
      "\n",
      "          -- Pato settings\n",
      "          , calcs.rec:data:rider_acceptance_model_enabled::BOOLEAN AS rider_acceptance_model_enabled\n",
      "          , calcs.rec:data:target_rejection_rate::FLOAT AS target_rejection_rate\n",
      "          , calcs.rec:data:load_index_one_normalised::FLOAT AS load_index_one_normalised\n",
      "          , calcs.rec:data:experiment_branch as cohort\n",
      "          , calcs.rec:data:fee_type as pato_or_param\n",
      "\n",
      "          -- Fee parameters\n",
      "          , ROUND(calcs.rec:data:parametric_fee)::INT::FLOAT/100.0 AS parametric_fee\n",
      "          , ROUND(calcs.rec:data:fee)::INT::FLOAT/100.0 AS offered_fee_without_surge_and_randomization\n",
      "          -- unweighted_model_fee is raw_model_fee + any minimum fee / stacking constraints + jitter\n",
      "          -- but not randomization and 50% blend\n",
      "          , ROUND(calcs.rec:data:unweighted_model_fee)::INT::FLOAT/100.0 AS pato_one_hundred_fee\n",
      "\n",
      "          -- Misc\n",
      "          , ROW_NUMBER() OVER(PARTITION BY calcs.rec:data:pickup_id::INT, calcs.rec:data:rider_id::INT\n",
      "              ORDER BY calcs.rec:message_metadata:source_timestamp::TIMESTAMP DESC)\n",
      "              AS nth_fee_calc_per_assignment -- Pricer computes the fee multiple times per assignment\n",
      "        FROM PRODUCTION.TOPIC_RIDER_DYNAMIC_FEE_ANALYTICS.RAW_RIDER_DYNAMIC_FEE_ANALYTICS as calcs\n",
      "        INNER JOIN PRODUCTION.TOPIC_RIDER_PAYMENTS_FEES.RAW_RIDER_PAYMENTS_FEES as fees\n",
      "          ON calcs.rec:data:pickup_id::int = fees.rec:pickup_id::int\n",
      "          AND calcs.rec:data:fee::int = fees.rec:amount_cents::int\n",
      "\n",
      "        WHERE calcs.rec:message_metadata:source_timestamp::DATE >= DATEADD(day, -1, $start_date)\n",
      "          AND calcs.rec:message_metadata:source_timestamp::DATE <= DATEADD(day, 1, $end_date)\n",
      "      )\n",
      "      SELECT base.*,\n",
      "        base.parametric_fee * fx.all_fixed_rate AS parametric_fee_gbp,\n",
      "        base.pato_one_hundred_fee * fx.all_fixed_rate as pato_one_hundred_fee_gbp,\n",
      "        base.offered_fee_without_surge_and_randomization * fx.all_fixed_rate AS offered_fee_without_surge_and_randomization_gbp,\n",
      "        fx.all_fixed_rate,\n",
      "        CONVERT_TIMEZONE('UTC', zcc.city_tz_name, source_timestamp)::DATE AS calendar_date,\n",
      "        (CASE\n",
      "          WHEN ra.acknowledged_at is not NULL THEN 1\n",
      "          ELSE 0\n",
      "          END) AS assignment_accepted\n",
      "      FROM base\n",
      "      JOIN PRODUCTION.REFERENCE.ZONE_CITY_COUNTRY zcc\n",
      "        ON zcc.zone_code = base.rider_zone_code\n",
      "      JOIN PRODUCTION.ORDERWEB.RESTAURANT_ASSIGNMENT ra\n",
      "        ON ra.id = base.ra_id\n",
      "      LEFT JOIN PRODUCTION.STATIC.FX fx\n",
      "        ON fx.base_currency = base.currency\n",
      "        AND DATE_TRUNC('MONTH', base.source_timestamp::DATE) = fx.month_date::DATE\n",
      "      WHERE nth_fee_calc_per_assignment = 1  -- Use 1st fee calculation for a given assignment\n",
      "        AND calendar_date >= $start_date\n",
      "        AND calendar_date <= $end_date\n",
      "        -- for experiment, it is better to rely on cohort\n",
      "        AND cohort in ('variant', 'control')\n",
      "\n",
      "        -- rider_acceptance_model_enabled is a flag that indicates whether pato\n",
      "        -- was being used in the default state (i.e not an experiment. During an\n",
      "        -- experiment, the experiment config takes precedence over this flag)\n",
      "        --AND rider_acceptance_model_enabled = True\n",
      ");\n",
      "\n",
      "-- Get OrderPricingFee (randomization) from rider payments logs  (available for RAs w/ randomization)\n",
      "CREATE OR REPLACE TEMP TABLE SCRATCH.DELIVEROO.ASSIGNMENT_FEES AS (\n",
      "  WITH raw AS (\n",
      "    /* Extract raw data from JSON */\n",
      "    SELECT\n",
      "        rec:action ::STRING AS event\n",
      "      , rec:amount_cents:: INT / 100 AS amount_offered_ra\n",
      "      , rec:amount_cents:: INT AS amount_offered_cents_ra\n",
      "      , rec:amount_currency::STRING AS currency\n",
      "      , rec:created_at::TIMESTAMP AS created_at\n",
      "      , rec:id:: INT AS id\n",
      "      , rec:old_amount_cents:: INT /100 AS old_amount_offered_ra\n",
      "      , rec:old_amount_cents:: INT AS old_amount_offered_cents_ra\n",
      "      , rec:pickup_id:: INT AS ra_id\n",
      "      , rec:type ::STRING AS event_type\n",
      "      , rec:updated_at::TIMESTAMP AS updated_at\n",
      "      , rec:zone_id::STRING AS rider_zone_id\n",
      "    FROM PRODUCTION.TOPIC_RIDER_PAYMENTS_FEES.RAW_RIDER_PAYMENTS_FEES\n",
      "    WHERE rec:updated_at::DATE >= $start_date\n",
      "      AND rec:updated_at::DATE <= $end_date\n",
      "  ),\n",
      "  tmp_identify_dynamic_fee_duplicates AS (\n",
      "    /* Rank events so that we can subsequently remove duplicates created during streaming */\n",
      "    SELECT\n",
      "        id\n",
      "      , event\n",
      "      , event_type\n",
      "      , event_type IN ('DeliveryFee', 'StackDeliveryFee') AS is_delivery_fee\n",
      "      , created_at\n",
      "      , updated_at\n",
      "      , ra_id\n",
      "      , amount_offered_ra\n",
      "      , amount_offered_cents_ra\n",
      "      , old_amount_offered_ra\n",
      "      , old_amount_offered_cents_ra\n",
      "      , currency\n",
      "      , rider_zone_id\n",
      "      , ROW_NUMBER() OVER (PARTITION BY id ORDER BY updated_at DESC ) AS dup_check\n",
      "    FROM raw\n",
      "  ),\n",
      "  tmp_delivery_events AS (\n",
      "    /* Rank delivery events per ra_id from the non duplicated events data.\n",
      "       Restrict to delivery events then subsequently join on surges and other adjustments */\n",
      "    SELECT\n",
      "        idfd.id\n",
      "      , idfd.event\n",
      "      , idfd.event_type\n",
      "      , idfd.is_delivery_fee\n",
      "      , idfd.created_at\n",
      "      , LEAD(idfd.created_at) OVER (PARTITION BY idfd.ra_id ORDER BY idfd.created_at) AS created_at_next\n",
      "      , idfd.updated_at\n",
      "      , ROW_NUMBER() OVER (PARTITION BY idfd.ra_id ORDER BY idfd.created_at ASC) AS delivery_event_rank\n",
      "      , ROW_NUMBER() OVER (PARTITION BY idfd.ra_id ORDER BY idfd.created_at DESC) AS delivery_event_rank_reversed\n",
      "      , idfd.ra_id\n",
      "      , idfd.amount_offered_ra\n",
      "      , idfd.amount_offered_cents_ra\n",
      "      , idfd.old_amount_offered_ra\n",
      "      , idfd.old_amount_offered_cents_ra\n",
      "      , idfd.currency\n",
      "      , idfd.rider_zone_id\n",
      "      , count(*) over (partition by ra_id) as count_delivery_events\n",
      "   FROM tmp_identify_dynamic_fee_duplicates idfd\n",
      "\n",
      "   WHERE\n",
      "      -- remove duplicate events\n",
      "      dup_check = 1\n",
      "      -- only delivery fee events\n",
      "      AND is_delivery_fee\n",
      "  )\n",
      "  /* Join surges and other adjustments onto delivery events */\n",
      "  SELECT del.ra_id\n",
      "    , max(del.created_at) as last_delivery_event_creation_timestamp\n",
      "    , any_value(fx.all_fixed_rate) as all_fixed_rate\n",
      "    , any_value(del.currency) as currency\n",
      "    , max(del.amount_offered_ra) AS delivery_fee_ra\n",
      "    , SUM(CASE\n",
      "            WHEN oth.event_type = 'SurgeFee' AND oth.event IN ('create', 'update')\n",
      "              THEN oth.amount_offered_ra\n",
      "            ELSE 0\n",
      "          END) AS surge_fee_add_sum\n",
      "    , SUM(CASE\n",
      "            WHEN oth.event_type = 'SurgeFee' AND oth.event IN ('destroy')\n",
      "              THEN oth.amount_offered_ra\n",
      "          ELSE 0\n",
      "          END) AS surge_fee_sub_sum\n",
      "    , surge_fee_add_sum - surge_fee_sub_sum AS surge_fee_sum\n",
      "    , SUM(CASE\n",
      "            WHEN oth.event_type = 'OrderPricingFee'  AND oth.event IN ('create', 'update')\n",
      "              THEN oth.amount_offered_ra\n",
      "            ELSE 0\n",
      "          END) AS order_pricing_fee_add_sum\n",
      "    , SUM(CASE\n",
      "            WHEN oth.event_type = 'OrderPricingFee'  AND oth.event IN ('destroy')\n",
      "              THEN oth.amount_offered_ra\n",
      "            ELSE 0\n",
      "          END) AS order_pricing_fee_sub_sum\n",
      "    , order_pricing_fee_add_sum - order_pricing_fee_sub_sum AS order_pricing_fee_sum\n",
      "    , SUM(CASE\n",
      "            WHEN oth.event_type NOT IN ('OrderPricingFee', 'SurgeFee') AND oth.event IN ('create', 'update')\n",
      "              THEN oth.amount_offered_ra\n",
      "            ELSE 0\n",
      "          END) AS other_fees_add_sum\n",
      "    , SUM(CASE\n",
      "            WHEN oth.event_type NOT IN ('OrderPricingFee', 'SurgeFee') AND oth.event IN ('destroy')\n",
      "              THEN oth.amount_offered_ra\n",
      "            ELSE 0\n",
      "          END) AS other_fees_sub_sum\n",
      "    , other_fees_add_sum - other_fees_sub_sum AS other_fees_sum\n",
      "    , delivery_fee_ra + surge_fee_sum + order_pricing_fee_sum + other_fees_sum AS total_fee_offered_sum\n",
      "    , total_fee_offered_sum * any_value(fx.all_fixed_rate) AS total_fee_offered_sum_gbp\n",
      "    , order_pricing_fee_sum * any_value(fx.all_fixed_rate) AS order_pricing_fee_sum_gbp\n",
      "    , (delivery_fee_ra + order_pricing_fee_sum) * any_value(fx.all_fixed_rate) AS fee_offered_without_surge\n",
      "  FROM tmp_delivery_events del\n",
      "  LEFT JOIN tmp_identify_dynamic_fee_duplicates oth\n",
      "    -- remove duplicate events\n",
      "    ON oth.dup_check = 1\n",
      "    -- only add on non delivery fee events\n",
      "    AND NOT oth.is_delivery_fee\n",
      "    AND oth.ra_id = del.ra_id\n",
      "  LEFT JOIN production.static.fx fx\n",
      "    ON fx.base_currency = del.currency\n",
      "    AND DATE_TRUNC('MONTH', del.created_at::DATE) = fx.month_date::DATE\n",
      "  -- there are a very small number (~50 per day) of assignments with multiple delivery events. Excluding them from the analysis.\n",
      "  WHERE del.count_delivery_events = 1\n",
      "  GROUP BY 1\n",
      ");\n",
      "\n",
      "CREATE OR REPLACE TEMP TABLE SCRATCH.DELIVEROO.PATO_DATA AS (\n",
      "  WITH OA_INFO AS (\n",
      "    SELECT oa.ra_id\n",
      "      , MAX(ra.estimated_travel_time / 60.00) AS ra_estimated_rider_restaurant_time\n",
      "      , MAX(o.estimated_loading_time) AS ra_estimated_loading_time\n",
      "      , SUM(oa.estimated_travel_duration / 60.00) AS ra_estimated_restaurant_customer_time\n",
      "      , COUNT(distinct order_id) AS orders\n",
      "      , ra_estimated_rider_restaurant_time + ra_estimated_loading_time + ra_estimated_restaurant_customer_time\n",
      "          AS rider_experience_time\n",
      "    FROM PRODUCTION.ORDERWEB.ORDER_ASSIGNMENT AS oa\n",
      "    JOIN PRODUCTION.ORDERWEB.RESTAURANT_ASSIGNMENT AS ra\n",
      "      ON oa.ra_id = ra.id\n",
      "    JOIN PRODUCTION.ORDERWEB.ORDERS  AS o\n",
      "      ON o.id = oa.order_id\n",
      "    WHERE ra.created_at::DATE >= $start_date\n",
      "      AND ra.created_at::DATE <= $end_date\n",
      "    GROUP BY 1\n",
      "  ),\n",
      "  rx_orders AS (\n",
      "    SELECT restaurant_id\n",
      "      , COUNT(*) / COUNT(distinct created_at::DATE) AS orders_per_day\n",
      "    FROM PRODUCTION.ORDERWEB.ORDERS\n",
      "    WHERE created_at::DATE >= $start_date\n",
      "      AND created_at::DATE <= $end_date\n",
      "    GROUP BY 1\n",
      "  ),\n",
      "  non_fee_info AS (\n",
      "    SELECT ra.id AS ra_id\n",
      "      , IFF(ra.acknowledged_at IS NULL, 1, 0) AS assignment_rejected\n",
      "      , ra.restaurant_id\n",
      "      , r.zone_id as restaurant_zone_id\n",
      "      , zr.zone_code as restaurant_zone_code\n",
      "      , zr.city_id\n",
      "      , zr.country_id\n",
      "      , v.code AS vehicle_type_code\n",
      "      , ra.created_at AS ra_created_at\n",
      "      , ra.created_at::DATE AS calendar_date\n",
      "      , CONVERT_TIMEZONE('UTC', zo.city_tz_name, ra_created_at) AS local_time_ra_created_at\n",
      "      , CONVERT_TIMEZONE('UTC', zo.city_tz_name, ra_created_at)::DATE AS local_calendar_date\n",
      "      , rider_experience_time\n",
      "      , orders\n",
      "      , orders > 1 AS stacked\n",
      "      , COALESCE(ro.orders_per_day, 0) AS restaurant_orders_per_day\n",
      "    FROM PRODUCTION.ORDERWEB.RESTAURANT_ASSIGNMENT AS ra\n",
      "    JOIN PRODUCTION.ORDERWEB.VEHICLE_TYPE AS v\n",
      "      ON v.id = ra.vehicle_type_id\n",
      "    JOIN PRODUCTION.REFERENCE.ZONE_CITY_COUNTRY AS zo\n",
      "      ON zo.zone_id = ra.driver_zone_id\n",
      "    JOIN PRODUCTION.ORDERWEB.RESTAURANT AS r\n",
      "      ON r.id = ra.restaurant_id\n",
      "    JOIN PRODUCTION.REFERENCE.ZONE_CITY_COUNTRY AS zr\n",
      "      ON zr.zone_id = r.zone_id\n",
      "    JOIN oa_info AS oa\n",
      "      ON oa.ra_id = ra.id\n",
      "    JOIN PRODUCTION.REFERENCE.RIDER_PAY_GROUPS_DAILY rpg\n",
      "      ON rpg.rider_id = ra.driver_id\n",
      "      AND ra.created_at::date = rpg.work_date\n",
      "    LEFT OUTER JOIN RX_ORDERS AS ro\n",
      "      ON ro.restaurant_id = r.id\n",
      "    WHERE ra.created_at::DATE >= $start_date\n",
      "      AND ra.created_at::DATE <= $end_date\n",
      "      AND rpg.pay_model = 'Drop'\n",
      "  ),\n",
      "  all_info AS (\n",
      "    SELECT\n",
      "      non_fee_info.*\n",
      "      , afc.rider_zone_id\n",
      "      , afc.rider_zone_code\n",
      "      , COALESCE(dfr.all_fixed_rate, afc.all_fixed_rate) AS all_fixed_rate\n",
      "      , COALESCE(dfr.all_fixed_rate*0 + 1, 0) AS has_randomization_fee\n",
      "      , COALESCE(afc.all_fixed_rate*0 + 1, 0) AS has_pato_fee\n",
      "\n",
      "      , afc.cohort\n",
      "      , afc.pato_or_param\n",
      "\n",
      "      -- Fee components: order pricing fee (randomization)\n",
      "      , dfr.total_fee_offered_sum_gbp - dfr.order_pricing_fee_sum_gbp AS fee_logs_fee_0\n",
      "      , dfr.order_pricing_fee_sum_gbp AS order_pricing_fee\n",
      "      , dfr.total_fee_offered_sum_gbp\n",
      "\n",
      "      -- Fee components: pato logs\n",
      "      , COALESCE(afc.rider_acceptance_model_enabled, FALSE) AS rider_acceptance_model_enabled\n",
      "      , afc.parametric_fee_gbp AS pato_logs_fee_0\n",
      "      , afc.offered_fee_without_surge_and_randomization_gbp - afc.parametric_fee_gbp AS pato_fee_inc\n",
      "      , dfr.fee_offered_without_surge\n",
      "      , afc.parametric_fee_gbp + dfr.order_pricing_fee_sum_gbp AS parametric_fee_without_surge\n",
      "      , afc.pato_one_hundred_fee_gbp + dfr.order_pricing_fee_sum_gbp as pato_one_hundred_fee\n",
      "      , afc.target_rejection_rate\n",
      "\n",
      "    FROM non_fee_info\n",
      "    LEFT OUTER JOIN SCRATCH.DELIVEROO.ASSIGNMENT_FEES AS dfr\n",
      "      ON non_fee_info.ra_id = dfr.ra_id\n",
      "    LEFT OUTER JOIN SCRATCH.DELIVEROO.ASSIGNMENT_FEE_COMPONENTS AS afc\n",
      "      ON non_fee_info.ra_id = afc.ra_id\n",
      "  )\n",
      "  SELECT\n",
      "    all_info.*\n",
      "    , COALESCE(pato_logs_fee_0, fee_logs_fee_0) AS fee_0\n",
      "    -- TODO: Consider making nulls = 0, to simplify this to just \"order_pricing_fee + pato_fee_inc\"\n",
      "    , (CASE\n",
      "        WHEN has_randomization_fee = 1 AND has_pato_fee = 1\n",
      "          THEN order_pricing_fee + pato_fee_inc\n",
      "        WHEN has_randomization_fee = 1 AND has_pato_fee = 0\n",
      "          THEN order_pricing_fee\n",
      "        WHEN has_randomization_fee = 0 AND has_pato_fee = 1\n",
      "          THEN pato_fee_inc\n",
      "        ELSE NULL\n",
      "        END) AS fee_inc\n",
      "  FROM all_info\n",
      "\n",
      "  -- A small % of RAs have neither pato nor randomization. Dropped for now.\n",
      "  --WHERE NOT (has_randomization_fee=0 AND has_pato_fee=0)\n",
      "  WHERE all_info.cohort is not NULL\n",
      ");\n",
      "\n",
      "CREATE OR REPLACE TEMP TABLE SCRATCH.DELIVEROO.PATO_EXPERIMENT_ANALYSIS AS (\n",
      "    SELECT\n",
      "        pd.ra_id\n",
      "      , pd.stacked\n",
      "      , pd.orders\n",
      "      , pd.cohort::STRING as cohort\n",
      "      , pd.pato_or_param::STRING as pato_or_param\n",
      "      , pd.assignment_rejected\n",
      "      , pd.restaurant_id\n",
      "      , pd.rider_zone_id\n",
      "      , pd.rider_zone_code\n",
      "      , pd.restaurant_zone_id\n",
      "      , pd.restaurant_zone_code\n",
      "      , pd.city_id\n",
      "      , pd.country_id\n",
      "      , pd.vehicle_type_code\n",
      "      , pd.ra_created_at\n",
      "      , case\n",
      "          when extract(hour from pd.ra_created_at) >= 4 then pd.calendar_date\n",
      "          else dateadd(day, -1, pd.calendar_date)\n",
      "        end as experiment_date\n",
      "      , pd.calendar_date\n",
      "      , pd.rider_experience_time\n",
      "      , pd.fee_offered_without_surge\n",
      "      , pd.parametric_fee_without_surge\n",
      "      , pd.pato_one_hundred_fee\n",
      "      , pd.total_fee_offered_sum_gbp as final_fee_offered\n",
      "      , pd.target_rejection_rate\n",
      "      , cpo.cpo_target\n",
      "    FROM SCRATCH.DELIVEROO.PATO_DATA pd\n",
      "    -- this should later be replaced with the zone-hour snapshot table and the\n",
      "    -- relevant join\n",
      "    LEFT JOIN PRODUCTION.PRICING_ALGORITHMS.CPO_TARGETS_LATEST cpo\n",
      "       ON cpo.zone_id = pd.rider_zone_id\n",
      "      AND cpo.vehicle_type_code = pd.vehicle_type_code\n",
      ")\n",
      ";\n",
      "\n"
     ]
    }
   ],
   "source": [
    "snow_file_name = 'pato_exp_data.csv.gz'\n",
    "dest_dir = 'data'\n",
    "sql_path = ('pricing-algorithms-team/pricing_algorithms_utils/order_delivery_fees/sql/' +\n",
    "            'pato_data.sql')\n",
    "with open(get_path(sql_path)) as ifile:\n",
    "    data_store_sql = ifile.read()\n",
    "\n",
    "data_pull_sql = '''\n",
    "COPY INTO @~/exportcsv/{}\n",
    "FROM PATO_EXPERIMENT_ANALYSIS\n",
    "FILE_FORMAT=(TYPE='CSV' COMPRESSION='gzip' NULL_IF=('') FIELD_OPTIONALLY_ENCLOSED_BY='\"')\n",
    "OVERWRITE=TRUE SINGLE=TRUE HEADER=TRUE\n",
    "MAX_FILE_SIZE=5000000000\n",
    ";\n",
    "'''.format(snow_file_name)\n",
    "\n",
    "print(data_store_sql)"
   ]
  },
  {
   "cell_type": "code",
   "execution_count": 4,
   "metadata": {
    "ExecuteTime": {
     "end_time": "2019-06-11T17:29:19.608010Z",
     "start_time": "2019-06-11T17:27:59.038628Z"
    }
   },
   "outputs": [],
   "source": [
    "_ = snow.read_data(data_store_sql)\n",
    "_ = snow.read_data(data_pull_sql)\n",
    "raw_data_path = download_file(snow_file_name, dest_dir)\n",
    "raw_data = pd.read_csv(raw_data_path)\n",
    "raw_data.columns = raw_data.columns.str.lower()\n",
    "raw_data.calendar_date = pd.to_datetime(raw_data.calendar_date)\n",
    "raw_data.ra_created_at = pd.to_datetime(raw_data.ra_created_at)\n",
    "raw_data.experiment_date = pd.to_datetime(raw_data.experiment_date)"
   ]
  },
  {
   "cell_type": "code",
   "execution_count": 5,
   "metadata": {
    "ExecuteTime": {
     "end_time": "2019-06-11T17:29:19.647680Z",
     "start_time": "2019-06-11T17:29:19.609671Z"
    }
   },
   "outputs": [
    {
     "name": "stdout",
     "output_type": "stream",
     "text": [
      "<class 'pandas.core.frame.DataFrame'>\n",
      "RangeIndex: 3522127 entries, 0 to 3522126\n",
      "Data columns (total 24 columns):\n",
      "ra_id                           int64\n",
      "stacked                         bool\n",
      "orders                          int64\n",
      "cohort                          object\n",
      "pato_or_param                   object\n",
      "assignment_rejected             int64\n",
      "restaurant_id                   int64\n",
      "rider_zone_id                   float64\n",
      "rider_zone_code                 object\n",
      "restaurant_zone_id              int64\n",
      "restaurant_zone_code            object\n",
      "city_id                         int64\n",
      "country_id                      int64\n",
      "vehicle_type_code               object\n",
      "ra_created_at                   datetime64[ns]\n",
      "experiment_date                 object\n",
      "calendar_date                   datetime64[ns]\n",
      "rider_experience_time           float64\n",
      "fee_offered_without_surge       float64\n",
      "parametric_fee_without_surge    float64\n",
      "pato_one_hundred_fee            float64\n",
      "final_fee_offered               float64\n",
      "target_rejection_rate           float64\n",
      "cpo_target                      float64\n",
      "dtypes: bool(1), datetime64[ns](2), float64(8), int64(7), object(6)\n",
      "memory usage: 621.4+ MB\n"
     ]
    }
   ],
   "source": [
    "raw_data.info()"
   ]
  },
  {
   "cell_type": "code",
   "execution_count": 6,
   "metadata": {
    "ExecuteTime": {
     "end_time": "2019-06-11T17:29:23.809370Z",
     "start_time": "2019-06-11T17:29:23.785279Z"
    }
   },
   "outputs": [
    {
     "data": {
      "text/html": [
       "<div>\n",
       "<style scoped>\n",
       "    .dataframe tbody tr th:only-of-type {\n",
       "        vertical-align: middle;\n",
       "    }\n",
       "\n",
       "    .dataframe tbody tr th {\n",
       "        vertical-align: top;\n",
       "    }\n",
       "\n",
       "    .dataframe thead th {\n",
       "        text-align: right;\n",
       "    }\n",
       "</style>\n",
       "<table border=\"1\" class=\"dataframe\">\n",
       "  <thead>\n",
       "    <tr style=\"text-align: right;\">\n",
       "      <th></th>\n",
       "      <th>ra_id</th>\n",
       "      <th>stacked</th>\n",
       "      <th>orders</th>\n",
       "      <th>cohort</th>\n",
       "      <th>pato_or_param</th>\n",
       "      <th>assignment_rejected</th>\n",
       "      <th>restaurant_id</th>\n",
       "      <th>rider_zone_id</th>\n",
       "      <th>rider_zone_code</th>\n",
       "      <th>restaurant_zone_id</th>\n",
       "      <th>...</th>\n",
       "      <th>ra_created_at</th>\n",
       "      <th>experiment_date</th>\n",
       "      <th>calendar_date</th>\n",
       "      <th>rider_experience_time</th>\n",
       "      <th>fee_offered_without_surge</th>\n",
       "      <th>parametric_fee_without_surge</th>\n",
       "      <th>pato_one_hundred_fee</th>\n",
       "      <th>final_fee_offered</th>\n",
       "      <th>target_rejection_rate</th>\n",
       "      <th>cpo_target</th>\n",
       "    </tr>\n",
       "  </thead>\n",
       "  <tbody>\n",
       "    <tr>\n",
       "      <th>0</th>\n",
       "      <td>286436965</td>\n",
       "      <td>False</td>\n",
       "      <td>1</td>\n",
       "      <td>variant</td>\n",
       "      <td>model_v2</td>\n",
       "      <td>0</td>\n",
       "      <td>26912</td>\n",
       "      <td>23.0</td>\n",
       "      <td>BNC</td>\n",
       "      <td>23</td>\n",
       "      <td>...</td>\n",
       "      <td>2019-06-07 08:57:49.329</td>\n",
       "      <td>2019-06-07</td>\n",
       "      <td>2019-06-07</td>\n",
       "      <td>14.836300</td>\n",
       "      <td>4.21</td>\n",
       "      <td>4.26</td>\n",
       "      <td>4.17</td>\n",
       "      <td>4.21</td>\n",
       "      <td>0.6721</td>\n",
       "      <td>3.89405</td>\n",
       "    </tr>\n",
       "    <tr>\n",
       "      <th>1</th>\n",
       "      <td>283598691</td>\n",
       "      <td>False</td>\n",
       "      <td>1</td>\n",
       "      <td>control</td>\n",
       "      <td>parametric</td>\n",
       "      <td>1</td>\n",
       "      <td>26912</td>\n",
       "      <td>23.0</td>\n",
       "      <td>BNC</td>\n",
       "      <td>23</td>\n",
       "      <td>...</td>\n",
       "      <td>2019-06-02 19:26:05.022</td>\n",
       "      <td>2019-06-02</td>\n",
       "      <td>2019-06-02</td>\n",
       "      <td>15.313767</td>\n",
       "      <td>4.31</td>\n",
       "      <td>4.31</td>\n",
       "      <td>NaN</td>\n",
       "      <td>4.31</td>\n",
       "      <td>NaN</td>\n",
       "      <td>3.89405</td>\n",
       "    </tr>\n",
       "    <tr>\n",
       "      <th>2</th>\n",
       "      <td>287150212</td>\n",
       "      <td>False</td>\n",
       "      <td>1</td>\n",
       "      <td>variant</td>\n",
       "      <td>model_v2</td>\n",
       "      <td>1</td>\n",
       "      <td>26912</td>\n",
       "      <td>23.0</td>\n",
       "      <td>BNC</td>\n",
       "      <td>23</td>\n",
       "      <td>...</td>\n",
       "      <td>2019-06-07 19:53:22.792</td>\n",
       "      <td>2019-06-07</td>\n",
       "      <td>2019-06-07</td>\n",
       "      <td>18.398383</td>\n",
       "      <td>4.89</td>\n",
       "      <td>4.75</td>\n",
       "      <td>5.04</td>\n",
       "      <td>4.89</td>\n",
       "      <td>0.6721</td>\n",
       "      <td>3.89405</td>\n",
       "    </tr>\n",
       "    <tr>\n",
       "      <th>3</th>\n",
       "      <td>289187745</td>\n",
       "      <td>False</td>\n",
       "      <td>1</td>\n",
       "      <td>control</td>\n",
       "      <td>parametric</td>\n",
       "      <td>1</td>\n",
       "      <td>26912</td>\n",
       "      <td>23.0</td>\n",
       "      <td>BNC</td>\n",
       "      <td>23</td>\n",
       "      <td>...</td>\n",
       "      <td>2019-06-10 14:05:03.354</td>\n",
       "      <td>2019-06-10</td>\n",
       "      <td>2019-06-10</td>\n",
       "      <td>14.309450</td>\n",
       "      <td>4.27</td>\n",
       "      <td>4.27</td>\n",
       "      <td>NaN</td>\n",
       "      <td>4.27</td>\n",
       "      <td>NaN</td>\n",
       "      <td>3.89405</td>\n",
       "    </tr>\n",
       "    <tr>\n",
       "      <th>4</th>\n",
       "      <td>281407340</td>\n",
       "      <td>True</td>\n",
       "      <td>2</td>\n",
       "      <td>variant</td>\n",
       "      <td>model_v2</td>\n",
       "      <td>1</td>\n",
       "      <td>26912</td>\n",
       "      <td>23.0</td>\n",
       "      <td>BNC</td>\n",
       "      <td>23</td>\n",
       "      <td>...</td>\n",
       "      <td>2019-05-30 19:42:12.025</td>\n",
       "      <td>2019-05-30</td>\n",
       "      <td>2019-05-30</td>\n",
       "      <td>22.169167</td>\n",
       "      <td>4.28</td>\n",
       "      <td>4.31</td>\n",
       "      <td>4.24</td>\n",
       "      <td>4.28</td>\n",
       "      <td>0.6904</td>\n",
       "      <td>3.89405</td>\n",
       "    </tr>\n",
       "  </tbody>\n",
       "</table>\n",
       "<p>5 rows × 24 columns</p>\n",
       "</div>"
      ],
      "text/plain": [
       "       ra_id  stacked  orders   cohort pato_or_param  assignment_rejected  \\\n",
       "0  286436965    False       1  variant      model_v2                    0   \n",
       "1  283598691    False       1  control    parametric                    1   \n",
       "2  287150212    False       1  variant      model_v2                    1   \n",
       "3  289187745    False       1  control    parametric                    1   \n",
       "4  281407340     True       2  variant      model_v2                    1   \n",
       "\n",
       "   restaurant_id  rider_zone_id rider_zone_code  restaurant_zone_id  ...  \\\n",
       "0          26912           23.0             BNC                  23  ...   \n",
       "1          26912           23.0             BNC                  23  ...   \n",
       "2          26912           23.0             BNC                  23  ...   \n",
       "3          26912           23.0             BNC                  23  ...   \n",
       "4          26912           23.0             BNC                  23  ...   \n",
       "\n",
       "            ra_created_at  experiment_date  calendar_date  \\\n",
       "0 2019-06-07 08:57:49.329       2019-06-07     2019-06-07   \n",
       "1 2019-06-02 19:26:05.022       2019-06-02     2019-06-02   \n",
       "2 2019-06-07 19:53:22.792       2019-06-07     2019-06-07   \n",
       "3 2019-06-10 14:05:03.354       2019-06-10     2019-06-10   \n",
       "4 2019-05-30 19:42:12.025       2019-05-30     2019-05-30   \n",
       "\n",
       "  rider_experience_time fee_offered_without_surge  \\\n",
       "0             14.836300                      4.21   \n",
       "1             15.313767                      4.31   \n",
       "2             18.398383                      4.89   \n",
       "3             14.309450                      4.27   \n",
       "4             22.169167                      4.28   \n",
       "\n",
       "  parametric_fee_without_surge pato_one_hundred_fee  final_fee_offered  \\\n",
       "0                         4.26                 4.17               4.21   \n",
       "1                         4.31                  NaN               4.31   \n",
       "2                         4.75                 5.04               4.89   \n",
       "3                         4.27                  NaN               4.27   \n",
       "4                         4.31                 4.24               4.28   \n",
       "\n",
       "   target_rejection_rate  cpo_target  \n",
       "0                 0.6721     3.89405  \n",
       "1                    NaN     3.89405  \n",
       "2                 0.6721     3.89405  \n",
       "3                    NaN     3.89405  \n",
       "4                 0.6904     3.89405  \n",
       "\n",
       "[5 rows x 24 columns]"
      ]
     },
     "execution_count": 6,
     "metadata": {},
     "output_type": "execute_result"
    }
   ],
   "source": [
    "raw_data.head()"
   ]
  },
  {
   "cell_type": "code",
   "execution_count": 60,
   "metadata": {
    "ExecuteTime": {
     "end_time": "2019-06-12T09:37:40.716281Z",
     "start_time": "2019-06-12T09:37:40.709694Z"
    },
    "collapsed": true
   },
   "outputs": [
    {
     "data": {
      "text/plain": [
       "0     WME\n",
       "1     WGR\n",
       "2     HAY\n",
       "3     BWD\n",
       "4     LEW\n",
       "5     CNN\n",
       "6     BAR\n",
       "7     CPP\n",
       "8     WOT\n",
       "9     BRO\n",
       "10    SID\n",
       "11    TWI\n",
       "12    GBC\n",
       "13    WIG\n",
       "14    WAL\n",
       "15    STL\n",
       "16    SUR\n",
       "17    STR\n",
       "18    WEM\n",
       "19    UPT\n",
       "20    WAR\n",
       "21    DER\n",
       "22    SLO\n",
       "23    SUA\n",
       "24    SLS\n",
       "25    MNS\n",
       "26     LS\n",
       "27    BOU\n",
       "28    SOL\n",
       "29    PRE\n",
       "30    DND\n",
       "31    BKS\n",
       "32    ECC\n",
       "33    REI\n",
       "34    SOS\n",
       "35    EST\n",
       "36    ABD\n",
       "37    POO\n",
       "38    PET\n",
       "39    STI\n",
       "40    HUL\n",
       "41    HER\n",
       "42    ABR\n",
       "43    CRW\n",
       "44    CLM\n",
       "45    NGF\n",
       "46    BAS\n",
       "47    GRY\n",
       "48    CHS\n",
       "49    LIN\n",
       "50    HEM\n",
       "Name: rider_zone_code, dtype: object"
      ]
     },
     "execution_count": 60,
     "metadata": {},
     "output_type": "execute_result"
    }
   ],
   "source": [
    "# exclude zones\n",
    "excluded_zones = pd.read_csv('./data/UK_Zones_Acceptance_based_Incentives.csv', squeeze=True)\n",
    "excluded_zones"
   ]
  },
  {
   "cell_type": "code",
   "execution_count": 63,
   "metadata": {
    "ExecuteTime": {
     "end_time": "2019-06-12T09:39:08.280548Z",
     "start_time": "2019-06-12T09:39:07.430173Z"
    }
   },
   "outputs": [],
   "source": [
    "processed_data = (\n",
    "    raw_data\n",
    "    [\n",
    "        (~raw_data.rider_zone_code.isin(excluded_zones.values))\n",
    "        & (raw_data.rider_experience_time <= 100)\n",
    "    ]\n",
    "    .pipe(lambda df: df.assign(\n",
    "        eRET_bin=pd.cut(df.rider_experience_time, 8),\n",
    "#         exp_date=df.apply(lambda row: row.calendar_date if row.ra_created_at.hour >= 4\n",
    "#                           else row.calendar_date - pd.Timedelta(days=1), axis=1)\n",
    "    ))\n",
    ")"
   ]
  },
  {
   "cell_type": "code",
   "execution_count": 65,
   "metadata": {
    "ExecuteTime": {
     "end_time": "2019-06-12T09:39:35.843243Z",
     "start_time": "2019-06-12T09:39:34.806448Z"
    }
   },
   "outputs": [
    {
     "data": {
      "image/png": "[encoded data removed]",
      "text/plain": [
       "<Figure size 432x288 with 1 Axes>"
      ]
     },
     "metadata": {},
     "output_type": "display_data"
    }
   ],
   "source": [
    "# difference in variant and control eRET observed\n",
    "tmpdf = processed_data\n",
    "tmpdf[tmpdf.cohort == 'control'].rider_experience_time.hist(bins=50, alpha=0.5, density=True,\n",
    "                                                            label='Control')\n",
    "tmpdf[tmpdf.cohort == 'variant'].rider_experience_time.hist(bins=50, alpha=0.5, density=True,\n",
    "                                                            label='Variant')\n",
    "_ = plt.legend()"
   ]
  },
  {
   "cell_type": "markdown",
   "metadata": {},
   "source": [
    "# CPO"
   ]
  },
  {
   "cell_type": "markdown",
   "metadata": {},
   "source": [
    "## Difference from Target"
   ]
  },
  {
   "cell_type": "code",
   "execution_count": 66,
   "metadata": {
    "ExecuteTime": {
     "end_time": "2019-06-12T09:39:43.292845Z",
     "start_time": "2019-06-12T09:39:42.862441Z"
    }
   },
   "outputs": [
    {
     "name": "stdout",
     "output_type": "stream",
     "text": [
      "Zone Vehicle Level Target Error\n",
      "\n",
      "control : 0.015\n",
      "variant : 0.036\n"
     ]
    },
    {
     "data": {
      "text/html": [
       "<div>\n",
       "<style scoped>\n",
       "    .dataframe tbody tr th:only-of-type {\n",
       "        vertical-align: middle;\n",
       "    }\n",
       "\n",
       "    .dataframe tbody tr th {\n",
       "        vertical-align: top;\n",
       "    }\n",
       "\n",
       "    .dataframe thead th {\n",
       "        text-align: right;\n",
       "    }\n",
       "</style>\n",
       "<table border=\"1\" class=\"dataframe\">\n",
       "  <thead>\n",
       "    <tr style=\"text-align: right;\">\n",
       "      <th></th>\n",
       "      <th>fee_offered_without_surge</th>\n",
       "      <th>orders</th>\n",
       "      <th>cpo_target</th>\n",
       "      <th>observed_cpo</th>\n",
       "      <th>target_err</th>\n",
       "    </tr>\n",
       "    <tr>\n",
       "      <th>cohort</th>\n",
       "      <th></th>\n",
       "      <th></th>\n",
       "      <th></th>\n",
       "      <th></th>\n",
       "      <th></th>\n",
       "    </tr>\n",
       "  </thead>\n",
       "  <tbody>\n",
       "    <tr>\n",
       "      <th>control</th>\n",
       "      <td>883.292654</td>\n",
       "      <td>232.012601</td>\n",
       "      <td>4.158740</td>\n",
       "      <td>4.143341</td>\n",
       "      <td>0.015399</td>\n",
       "    </tr>\n",
       "    <tr>\n",
       "      <th>variant</th>\n",
       "      <td>871.521984</td>\n",
       "      <td>232.437314</td>\n",
       "      <td>4.154447</td>\n",
       "      <td>4.118879</td>\n",
       "      <td>0.035568</td>\n",
       "    </tr>\n",
       "  </tbody>\n",
       "</table>\n",
       "</div>"
      ],
      "text/plain": [
       "         fee_offered_without_surge      orders  cpo_target  observed_cpo  \\\n",
       "cohort                                                                     \n",
       "control                 883.292654  232.012601    4.158740      4.143341   \n",
       "variant                 871.521984  232.437314    4.154447      4.118879   \n",
       "\n",
       "         target_err  \n",
       "cohort               \n",
       "control    0.015399  \n",
       "variant    0.035568  "
      ]
     },
     "metadata": {},
     "output_type": "display_data"
    },
    {
     "name": "stdout",
     "output_type": "stream",
     "text": [
      "\n",
      "\n",
      "Zone Vehicle Level Weighted Target Error\n",
      "\n"
     ]
    },
    {
     "data": {
      "text/plain": [
       "cohort\n",
       "control   -0.002311\n",
       "variant    0.053657\n",
       "Name: target_err, dtype: float64"
      ]
     },
     "metadata": {},
     "output_type": "display_data"
    },
    {
     "data": {
      "text/html": [
       "<div>\n",
       "<style scoped>\n",
       "    .dataframe tbody tr th:only-of-type {\n",
       "        vertical-align: middle;\n",
       "    }\n",
       "\n",
       "    .dataframe tbody tr th {\n",
       "        vertical-align: top;\n",
       "    }\n",
       "\n",
       "    .dataframe thead th {\n",
       "        text-align: right;\n",
       "    }\n",
       "</style>\n",
       "<table border=\"1\" class=\"dataframe\">\n",
       "  <thead>\n",
       "    <tr style=\"text-align: right;\">\n",
       "      <th></th>\n",
       "      <th>weighted_observed_cpo</th>\n",
       "      <th>weighted_target_cpo</th>\n",
       "      <th>target_err</th>\n",
       "    </tr>\n",
       "    <tr>\n",
       "      <th>cohort</th>\n",
       "      <th></th>\n",
       "      <th></th>\n",
       "      <th></th>\n",
       "    </tr>\n",
       "  </thead>\n",
       "  <tbody>\n",
       "    <tr>\n",
       "      <th>control</th>\n",
       "      <td>3.805567</td>\n",
       "      <td>3.803256</td>\n",
       "      <td>-0.002311</td>\n",
       "    </tr>\n",
       "    <tr>\n",
       "      <th>variant</th>\n",
       "      <td>3.748110</td>\n",
       "      <td>3.801767</td>\n",
       "      <td>0.053657</td>\n",
       "    </tr>\n",
       "  </tbody>\n",
       "</table>\n",
       "</div>"
      ],
      "text/plain": [
       "         weighted_observed_cpo  weighted_target_cpo  target_err\n",
       "cohort                                                         \n",
       "control               3.805567             3.803256   -0.002311\n",
       "variant               3.748110             3.801767    0.053657"
      ]
     },
     "metadata": {},
     "output_type": "display_data"
    }
   ],
   "source": [
    "# are we hitting or missing our targets\n",
    "\n",
    "# paired t-test\n",
    "cpodf = (\n",
    "    processed_data\n",
    "    .query('assignment_rejected == 0')\n",
    "    .groupby(['cohort', 'rider_zone_id', 'vehicle_type_code', 'experiment_date'])\n",
    "    .agg({'fee_offered_without_surge': 'sum', 'orders': 'sum', 'cpo_target': 'mean'})\n",
    "    .reset_index()\n",
    "    \n",
    "    # sum over all fees in a zone and divide by total orders orders to get observed_cpo\n",
    "    .pipe(lambda df: df.assign(\n",
    "        observed_cpo=(df.fee_offered_without_surge / df.orders),\n",
    "        target_err=df.cpo_target - (df.fee_offered_without_surge / df.orders),\n",
    "        dow=df.experiment_date.dt.day_name()\n",
    "    ))\n",
    ")\n",
    "\n",
    "# avg of averages\n",
    "tmpdf = cpodf.groupby(['cohort', 'rider_zone_id', 'vehicle_type_code']).mean().reset_index()\n",
    "\n",
    "print('Zone Vehicle Level Target Error\\n')\n",
    "print('control : {:.3f}'.format(tmpdf.query('cohort == \"control\"').target_err.mean()))\n",
    "print('variant : {:.3f}'.format(tmpdf.query('cohort == \"variant\"').target_err.mean()))\n",
    "\n",
    "display(tmpdf.groupby('cohort').mean().drop('rider_zone_id', axis=1))\n",
    "\n",
    "print('\\n\\nZone Vehicle Level Weighted Target Error\\n')\n",
    "tmpdf = (\n",
    "    pd.merge(\n",
    "        (\n",
    "            cpodf\n",
    "            .groupby('cohort')\n",
    "            .apply(\n",
    "                lambda df: (df.observed_cpo * df.orders).div(df.orders.sum()).sum()\n",
    "            )\n",
    "            .to_frame('weighted_observed_cpo')\n",
    "        ),\n",
    "        (\n",
    "            cpodf\n",
    "            .groupby('cohort')\n",
    "            .apply(\n",
    "                lambda df: (df.cpo_target * df.orders).div(df.orders.sum()).sum()\n",
    "            )\n",
    "            .to_frame('weighted_target_cpo')\n",
    "        ),\n",
    "        left_index=True, right_index=True\n",
    "    ).pipe(lambda df: df.assign(target_err=df.weighted_target_cpo - df.weighted_observed_cpo))\n",
    ")\n",
    "display(tmpdf.target_err)\n",
    "display(tmpdf)"
   ]
  },
  {
   "cell_type": "code",
   "execution_count": 67,
   "metadata": {
    "ExecuteTime": {
     "end_time": "2019-06-12T09:39:59.166877Z",
     "start_time": "2019-06-12T09:39:58.872339Z"
    }
   },
   "outputs": [
    {
     "name": "stdout",
     "output_type": "stream",
     "text": [
      "Observed PATO Mean CPO : 4.097\n",
      "Target Mean CPO : 4.126\n",
      "Significance : 0.00403\n"
     ]
    },
    {
     "data": {
      "image/png": "[encoded data removed]",
      "text/plain": [
       "<Figure size 432x288 with 1 Axes>"
      ]
     },
     "metadata": {},
     "output_type": "display_data"
    }
   ],
   "source": [
    "cpodf.observed_cpo.hist(bins=50, alpha=0.5, density=True, label='Observed PATO')\n",
    "cpodf.cpo_target.hist(bins=50, alpha=0.5, density=True, label='Target')\n",
    "plt.xlabel('CPO')\n",
    "plt.ylabel('Density')\n",
    "plt.title('Zone Vehicle Level CPO Distribution')\n",
    "print('Observed PATO Mean CPO : {:.3f}'.format(cpodf.observed_cpo.mean()))\n",
    "print('Target Mean CPO : {:.3f}'.format(cpodf.cpo_target.mean()))\n",
    "print('Significance : {:.5f}'.format(\n",
    "    stats.ttest_ind(cpodf.observed_cpo, cpodf.cpo_target, nan_policy='omit').pvalue\n",
    "))"
   ]
  },
  {
   "cell_type": "markdown",
   "metadata": {},
   "source": [
    "## Significane of Test Difference"
   ]
  },
  {
   "cell_type": "code",
   "execution_count": 97,
   "metadata": {
    "ExecuteTime": {
     "end_time": "2019-06-12T11:33:08.230743Z",
     "start_time": "2019-06-12T11:33:02.619031Z"
    }
   },
   "outputs": [
    {
     "name": "stdout",
     "output_type": "stream",
     "text": [
      "Zone Vehicle level paired differences mean : -0.032\n",
      "Significance : 0.00000\n"
     ]
    },
    {
     "data": {
      "image/png": "[encoded data removed]",
      "text/plain": [
       "<Figure size 432x288 with 1 Axes>"
      ]
     },
     "metadata": {},
     "output_type": "display_data"
    }
   ],
   "source": [
    "tmpdf = (\n",
    "    cpodf\n",
    "    \n",
    "    # remove all zones with a single day of data (no paired observations)\n",
    "    .pipe(lambda df: df.groupby(['rider_zone_id', 'vehicle_type_code', 'dow']).filter(\n",
    "        lambda zvdf: len(zvdf) > 1\n",
    "    ))\n",
    "    \n",
    "    # calculating paired differences\n",
    "    .groupby(['rider_zone_id', 'vehicle_type_code', 'dow'])\n",
    "    .apply(lambda df: (df[df.cohort == 'variant'].observed_cpo.values[0]\n",
    "                       - df[df.cohort == 'control'].observed_cpo.values[0])\n",
    "          )\n",
    ")\n",
    "\n",
    "tmpdf.hist(bins=50, alpha=0.5)\n",
    "plt.title('(Variant - Control) Paired CPO Differences')\n",
    "print('Zone Vehicle level paired differences mean : {:.3f}'.format(tmpdf.mean()))\n",
    "print('Significance : {:.5f}'.format(stats.ttest_1samp(tmpdf.values, 0).pvalue))"
   ]
  },
  {
   "cell_type": "markdown",
   "metadata": {},
   "source": [
    "# Acceptance Rate"
   ]
  },
  {
   "cell_type": "code",
   "execution_count": 98,
   "metadata": {
    "ExecuteTime": {
     "end_time": "2019-06-12T11:39:08.875392Z",
     "start_time": "2019-06-12T11:39:06.599419Z"
    }
   },
   "outputs": [
    {
     "name": "stdout",
     "output_type": "stream",
     "text": [
      "Zone level paired differences mean : -0.001\n",
      "Significance : 0.84548\n"
     ]
    },
    {
     "data": {
      "image/png": "[encoded data removed]",
      "text/plain": [
       "<Figure size 432x288 with 1 Axes>"
      ]
     },
     "metadata": {},
     "output_type": "display_data"
    }
   ],
   "source": [
    "# Using Zone day level values since that is the level of randomization\n",
    "tmpdf = (\n",
    "    processed_data\n",
    "    .groupby(['cohort', 'rider_zone_id', 'experiment_date'])\n",
    "    .assignment_rejected.mean()\n",
    "    .apply(lambda x: 1 - x)\n",
    "    .reset_index()\n",
    "    .rename(columns={'assignment_rejected': 'acceptance_rate'})\n",
    "    .pipe(lambda df: df.assign(\n",
    "        dow=df.experiment_date.dt.day_name()\n",
    "    ))\n",
    "    \n",
    "    # remove all zones with a single day of data (no paired observations)\n",
    "    .pipe(lambda df: df.groupby(['rider_zone_id', 'dow']).filter(\n",
    "        lambda zvdf: len(zvdf) > 1\n",
    "    ))\n",
    "    \n",
    "    # calculating paired differences\n",
    "    .groupby(['rider_zone_id', 'dow'])\n",
    "    .apply(lambda df: (df[df.cohort == 'variant'].acceptance_rate.values[0]\n",
    "                       - df[df.cohort == 'control'].acceptance_rate.values[0])\n",
    "          )\n",
    ")\n",
    "tmpdf.hist(bins=50, alpha=0.5)\n",
    "plt.title('(Variant - Control) Paired Acceptance Rate Differences')\n",
    "print('Zone level paired differences mean : {:.3f}'.format(tmpdf.mean()))\n",
    "print('Significance : {:.5f}'.format(stats.ttest_1samp(tmpdf.values, 0).pvalue))"
   ]
  },
  {
   "cell_type": "markdown",
   "metadata": {},
   "source": [
    "# Fee Offered by Distance"
   ]
  },
  {
   "cell_type": "code",
   "execution_count": 77,
   "metadata": {
    "ExecuteTime": {
     "end_time": "2019-06-12T10:36:37.131606Z",
     "start_time": "2019-06-12T10:36:35.504580Z"
    }
   },
   "outputs": [
    {
     "data": {
      "image/png": "[encoded data removed]",
      "text/plain": [
       "<Figure size 1296x288 with 2 Axes>"
      ]
     },
     "metadata": {},
     "output_type": "display_data"
    }
   ],
   "source": [
    "# difference in variant and control fee curves\n",
    "fig, ax = plt.subplots(1, 2, figsize=(18, 4))\n",
    "\n",
    "tmpdf = (\n",
    "    processed_data\n",
    "    .query('assignment_rejected == 0')\n",
    "    .groupby(['cohort', 'rider_zone_id', 'experiment_date', 'eRET_bin'])\n",
    "    .fee_offered_without_surge.mean()\n",
    "    .reset_index()\n",
    ")\n",
    "sns.pointplot(x='eRET_bin', y='fee_offered_without_surge', hue='cohort',\n",
    "              data=tmpdf, ax=ax[0], alpha=0.5)\n",
    "ax[0].tick_params(axis='x', labelrotation=90)\n",
    "ax[0].set_title('Distribution of Accepted Fees')\n",
    "\n",
    "tmpdf = (\n",
    "    processed_data\n",
    "    .query('assignment_rejected == 1')\n",
    "    .groupby(['cohort', 'rider_zone_id', 'experiment_date', 'eRET_bin'])\n",
    "    .fee_offered_without_surge.mean()\n",
    "    .reset_index()\n",
    ")\n",
    "sns.pointplot(x='eRET_bin', y='fee_offered_without_surge', hue='cohort',\n",
    "              data=tmpdf, ax=ax[1], alpha=0.5)\n",
    "ax[1].tick_params(axis='x', labelrotation=90)\n",
    "_ = ax[1].set_title('Distribution of Rejected Fees')"
   ]
  },
  {
   "cell_type": "markdown",
   "metadata": {},
   "source": [
    "# Acceptance by Distance"
   ]
  },
  {
   "cell_type": "code",
   "execution_count": 78,
   "metadata": {
    "ExecuteTime": {
     "end_time": "2019-06-12T10:36:54.630377Z",
     "start_time": "2019-06-12T10:36:53.869556Z"
    }
   },
   "outputs": [
    {
     "data": {
      "image/png": "[encoded data removed]",
      "text/plain": [
       "<Figure size 576x288 with 1 Axes>"
      ]
     },
     "metadata": {},
     "output_type": "display_data"
    }
   ],
   "source": [
    "fig, ax = plt.subplots(figsize=(8, 4))\n",
    "tmpdf = (\n",
    "    processed_data\n",
    "    .groupby(['cohort', 'rider_zone_id', 'experiment_date', 'eRET_bin'])\n",
    "    .assignment_rejected.mean()\n",
    "    .apply(lambda x: 1 - x)\n",
    "    .reset_index()\n",
    ")\n",
    "sns.pointplot(x='eRET_bin', y='assignment_rejected', hue='cohort',\n",
    "              data=tmpdf, ax=ax, alpha=0.5)\n",
    "ax.tick_params(axis='x', labelrotation=90)\n",
    "ax.set_ylabel('Acceptance Rate')\n",
    "_ = ax.set_title('Acceptance Rate vs eRET')"
   ]
  },
  {
   "cell_type": "markdown",
   "metadata": {},
   "source": [
    "# PATO 100 Projections"
   ]
  },
  {
   "cell_type": "code",
   "execution_count": 79,
   "metadata": {
    "ExecuteTime": {
     "end_time": "2019-06-12T10:37:18.479141Z",
     "start_time": "2019-06-12T10:37:16.798615Z"
    }
   },
   "outputs": [
    {
     "data": {
      "image/png": "[encoded data removed]",
      "text/plain": [
       "<Figure size 1296x288 with 2 Axes>"
      ]
     },
     "metadata": {},
     "output_type": "display_data"
    }
   ],
   "source": [
    "# pato 100\n",
    "tmpdf = (\n",
    "    processed_data\n",
    "    [processed_data.cohort == 'variant']\n",
    "    [['rider_zone_id', 'experiment_date', 'eRET_bin', 'fee_offered_without_surge',\n",
    "     'pato_one_hundred_fee']]\n",
    "    .pipe(lambda df: df.assign(pato_diff=(df.fee_offered_without_surge\n",
    "                                          - df.pato_one_hundred_fee)))\n",
    "    .groupby(['rider_zone_id', 'experiment_date', 'eRET_bin'])\n",
    "    .mean()\n",
    "    .reset_index()\n",
    ")\n",
    "\n",
    "fig, ax = plt.subplots(1, 2, figsize=(18, 4))\n",
    "\n",
    "sns.pointplot(x='eRET_bin', y='fee_offered_without_surge', color=default_palette[0],\n",
    "              data=tmpdf, ax=ax[0], alpha=0.5)\n",
    "sns.pointplot(x='eRET_bin', y='pato_one_hundred_fee', color=default_palette[1],\n",
    "              data=tmpdf, ax=ax[0], alpha=0.5)\n",
    "ax[0].tick_params(axis='x', labelrotation=90)\n",
    "ax[0].set_title('PATO 50 vs PATO 100')\n",
    "ax[0].legend(handles=ax[0].lines[::tmpdf.eRET_bin.nunique() + 1],\n",
    "             labels=['PATO 50', 'PATO 100'])\n",
    "\n",
    "sns.pointplot(x='eRET_bin', y='pato_diff', color=default_palette[2],\n",
    "              data=tmpdf, ax=ax[1], alpha=0.5)\n",
    "ax[1].tick_params(axis='x', labelrotation=90)\n",
    "_ = ax[1].set_title('Difference in PATO (P50 - P100)')"
   ]
  },
  {
   "cell_type": "markdown",
   "metadata": {},
   "source": [
    "# Misc"
   ]
  },
  {
   "cell_type": "code",
   "execution_count": 25,
   "metadata": {
    "ExecuteTime": {
     "end_time": "2019-06-11T17:34:44.963423Z",
     "start_time": "2019-06-11T17:34:44.477449Z"
    }
   },
   "outputs": [
    {
     "data": {
      "text/plain": [
       "model_v2      1635770\n",
       "parametric     130618\n",
       "Name: pato_or_param, dtype: int64"
      ]
     },
     "execution_count": 25,
     "metadata": {},
     "output_type": "execute_result"
    }
   ],
   "source": [
    "# what % of time do we serve parametric as fallback\n",
    "(\n",
    "    raw_data\n",
    "    [raw_data.cohort == 'variant']\n",
    "    .pato_or_param.value_counts()\n",
    ")"
   ]
  }
 ],
 "metadata": {
  "kernelspec": {
   "display_name": "Python 3",
   "language": "python",
   "name": "python3"
  },
  "language_info": {
   "codemirror_mode": {
    "name": "ipython",
    "version": 3
   },
   "file_extension": ".py",
   "mimetype": "text/x-python",
   "name": "python",
   "nbconvert_exporter": "python",
   "pygments_lexer": "ipython3",
   "version": "3.6.8"
  },
  "toc": {
   "base_numbering": 1,
   "nav_menu": {},
   "number_sections": true,
   "sideBar": true,
   "skip_h1_title": false,
   "title_cell": "Table of Contents",
   "title_sidebar": "Contents",
   "toc_cell": false,
   "toc_position": {},
   "toc_section_display": true,
   "toc_window_display": false
  }
 },
 "nbformat": 4,
 "nbformat_minor": 2
}
