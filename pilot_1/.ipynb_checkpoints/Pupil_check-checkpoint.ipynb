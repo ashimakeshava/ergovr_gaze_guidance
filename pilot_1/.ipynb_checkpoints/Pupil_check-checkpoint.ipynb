{
 "cells": [
  {
   "cell_type": "markdown",
   "metadata": {},
   "source": [
    "# Sanity Check on Pupil Labs Data"
   ]
  },
  {
   "cell_type": "code",
   "execution_count": 1,
   "metadata": {},
   "outputs": [],
   "source": [
    "import ProtobufTypes_pb2 \n",
    "import pandas as pd\n",
    "import sys\n",
    "import json\n",
    "import inspect\n",
    "from google.protobuf.json_format import MessageToDict\n",
    "from google.protobuf.json_format import MessageToJson\n",
    "from pandas.io.json import json_normalize\n",
    "import collections\n",
    "import numpy as np"
   ]
  },
  {
   "cell_type": "markdown",
   "metadata": {},
   "source": [
    "### Read Pupil Data from protobuf"
   ]
  },
  {
   "cell_type": "code",
   "execution_count": 44,
   "metadata": {},
   "outputs": [],
   "source": [
    "protobuf_obj = ProtobufTypes_pb2.EyetrackingDataSet()\n",
    "# print(et_data.SerializeToString())\n",
    "with open('Pupil.etd', \"rb\") as f:\n",
    "    protobuf_obj.ParseFromString(f.read())\n",
    "dict_obj = MessageToDict(protobuf_obj)"
   ]
  },
  {
   "cell_type": "code",
   "execution_count": 45,
   "metadata": {},
   "outputs": [],
   "source": [
    "#Flatten the dictionary for easy df conversion\n",
    "def flatten(d, parent_key='', sep='_'):\n",
    "    items = []\n",
    "    for k, v in d.items():\n",
    "        nk = parent_key + sep + k if parent_key else k\n",
    "        if isinstance(v, collections.MutableMapping):\n",
    "            items.extend(flatten(v, nk, sep=sep).items())\n",
    "        else:\n",
    "            items.append((nk,v))\n",
    "    return dict(items)"
   ]
  },
  {
   "cell_type": "code",
   "execution_count": 46,
   "metadata": {},
   "outputs": [
    {
     "name": "stderr",
     "output_type": "stream",
     "text": [
      "/home/lonesome/venv3/lib/python3.6/site-packages/ipykernel_launcher.py:3: FutureWarning: Sorting because non-concatenation axis is not aligned. A future version\n",
      "of pandas will change to not sort by default.\n",
      "\n",
      "To accept the future behavior, pass 'sort=False'.\n",
      "\n",
      "To retain the current behavior and silence the warning, pass 'sort=True'.\n",
      "\n",
      "  This is separate from the ipykernel package so we can avoid doing imports until\n"
     ]
    }
   ],
   "source": [
    "val_df = pd.concat([pd.DataFrame(flatten(samples), index=[idx]) \n",
    "            for idx, samples in enumerate(dict_obj['validationSamples'])],\n",
    "            ignore_index=True)\n"
   ]
  },
  {
   "cell_type": "code",
   "execution_count": 47,
   "metadata": {},
   "outputs": [
    {
     "data": {
      "text/plain": [
       "combinedEyeAngleOffset_x    0.000000\n",
       "combinedEyeAngleOffset_y    0.000000\n",
       "combinedEyeAngleOffset_z    0.000000\n",
       "headTransform_position_x    0.000000\n",
       "headTransform_position_y    0.000000\n",
       "headTransform_position_z    0.000000\n",
       "headTransform_rotation_w    0.000000\n",
       "headTransform_rotation_x    0.000000\n",
       "headTransform_rotation_y    0.000000\n",
       "headTransform_rotation_z    0.000000\n",
       "headTransform_scale_x       0.000000\n",
       "headTransform_scale_y       0.000000\n",
       "headTransform_scale_z       0.000000\n",
       "leftEyeAngleOffset_x        0.289858\n",
       "leftEyeAngleOffset_y        0.289858\n",
       "leftEyeAngleOffset_z        0.289858\n",
       "pointToFocus_x              0.000000\n",
       "pointToFocus_y              0.000000\n",
       "pointToFocus_z              0.000000\n",
       "rightEyeAngleOffset_x       0.893509\n",
       "rightEyeAngleOffset_y       0.893509\n",
       "rightEyeAngleOffset_z       0.893509\n",
       "dtype: float64"
      ]
     },
     "execution_count": 47,
     "metadata": {},
     "output_type": "execute_result"
    }
   ],
   "source": [
    "val_df.isna().mean()"
   ]
  },
  {
   "cell_type": "markdown",
   "metadata": {},
   "source": [
    "Pupil labs returns upto 89% of data as mean only during the validation period."
   ]
  },
  {
   "cell_type": "code",
   "execution_count": 6,
   "metadata": {},
   "outputs": [
    {
     "data": {
      "text/plain": [
       "Index(['combinedEyeAngleOffset_x', 'combinedEyeAngleOffset_y',\n",
       "       'combinedEyeAngleOffset_z', 'headTransform_position_x',\n",
       "       'headTransform_position_y', 'headTransform_position_z',\n",
       "       'headTransform_rotation_w', 'headTransform_rotation_x',\n",
       "       'headTransform_rotation_y', 'headTransform_rotation_z',\n",
       "       'headTransform_scale_x', 'headTransform_scale_y',\n",
       "       'headTransform_scale_z', 'leftEyeAngleOffset_x', 'leftEyeAngleOffset_y',\n",
       "       'leftEyeAngleOffset_z', 'pointToFocus_x', 'pointToFocus_y',\n",
       "       'pointToFocus_z', 'rightEyeAngleOffset_x', 'rightEyeAngleOffset_y',\n",
       "       'rightEyeAngleOffset_z'],\n",
       "      dtype='object')"
      ]
     },
     "execution_count": 6,
     "metadata": {},
     "output_type": "execute_result"
    }
   ],
   "source": [
    "val_df.columns"
   ]
  },
  {
   "cell_type": "code",
   "execution_count": 48,
   "metadata": {
    "scrolled": true
   },
   "outputs": [],
   "source": [
    "#change angles to be within 180 degrees\n",
    "sel_columns = ['combinedEyeAngleOffset_x', 'combinedEyeAngleOffset_y','combinedEyeAngleOffset_z',\n",
    "               'leftEyeAngleOffset_x', 'leftEyeAngleOffset_y','leftEyeAngleOffset_z',\n",
    "               'rightEyeAngleOffset_x', 'rightEyeAngleOffset_y','rightEyeAngleOffset_z']\n",
    "\n",
    "for col in sel_columns:\n",
    "    val_df.loc[val_df[col]>180, col] = 360 - val_df[col] "
   ]
  },
  {
   "cell_type": "markdown",
   "metadata": {},
   "source": [
    "### Plot the Validation error distribution for Left, Right and Cyclopean eye"
   ]
  },
  {
   "cell_type": "code",
   "execution_count": 59,
   "metadata": {},
   "outputs": [
    {
     "data": {
      "text/plain": [
       "(-5, 30)"
      ]
     },
     "execution_count": 59,
     "metadata": {},
     "output_type": "execute_result"
    },
    {
     "data": {
      "image/png": "[encoded data removed]",
      "text/plain": [
       "<Figure size 432x288 with 1 Axes>"
      ]
     },
     "metadata": {
      "needs_background": "light"
     },
     "output_type": "display_data"
    }
   ],
   "source": [
    "ax = val_df.loc[:,['combinedEyeAngleOffset_x','combinedEyeAngleOffset_y','combinedEyeAngleOffset_z']]\\\n",
    "    .plot.kde(title='Angular error for Cyclopean eye')\n",
    "ax.set_xlabel('Angle in degrees')\n",
    "ax.set_xlim((-5, 30))"
   ]
  },
  {
   "cell_type": "code",
   "execution_count": 60,
   "metadata": {},
   "outputs": [
    {
     "data": {
      "text/plain": [
       "(-5, 30)"
      ]
     },
     "execution_count": 60,
     "metadata": {},
     "output_type": "execute_result"
    },
    {
     "data": {
      "image/png": "[encoded data removed]",
      "text/plain": [
       "<Figure size 432x288 with 1 Axes>"
      ]
     },
     "metadata": {
      "needs_background": "light"
     },
     "output_type": "display_data"
    }
   ],
   "source": [
    "ax = val_df.loc[:,['leftEyeAngleOffset_x', 'leftEyeAngleOffset_y','leftEyeAngleOffset_z']]\\\n",
    "    .plot.kde(title='Angular error for Left Eye')\n",
    "ax.set_xlabel('Angle in degrees')\n",
    "ax.set_xlim((-5, 30))"
   ]
  },
  {
   "cell_type": "code",
   "execution_count": 63,
   "metadata": {},
   "outputs": [
    {
     "data": {
      "text/plain": [
       "Text(0.5, 0, 'Angle in degrees')"
      ]
     },
     "execution_count": 63,
     "metadata": {},
     "output_type": "execute_result"
    },
    {
     "data": {
      "image/png": "[encoded data removed]",
      "text/plain": [
       "<Figure size 432x288 with 1 Axes>"
      ]
     },
     "metadata": {
      "needs_background": "light"
     },
     "output_type": "display_data"
    }
   ],
   "source": [
    "ax = val_df.loc[:,['rightEyeAngleOffset_x', 'rightEyeAngleOffset_y','rightEyeAngleOffset_z']]\\\n",
    "    .plot.kde(title='Angular error for Right Eye')\n",
    "ax.set_xlabel('Angle in degrees')\n",
    "# ax.set_xlim((-5, 100))"
   ]
  },
  {
   "cell_type": "code",
   "execution_count": 40,
   "metadata": {},
   "outputs": [
    {
     "name": "stdout",
     "output_type": "stream",
     "text": [
      "dict_keys(['subjectID', 'trials', 'validationSamples'])\n"
     ]
    }
   ],
   "source": [
    "print(dict_obj.keys())"
   ]
  },
  {
   "cell_type": "code",
   "execution_count": 41,
   "metadata": {},
   "outputs": [],
   "source": [
    "# Create DF for initial config, before start of each trial\n",
    "\n",
    "ini_conf = pd.DataFrame()\n",
    "for trial in dict_obj['trials']:\n",
    "    temp = pd.concat([pd.DataFrame(flatten(conf), index=[idx]) \n",
    "            for idx, conf in enumerate(trial['metaData']['initialConfiguration']['items'])],\n",
    "              ignore_index=True, sort=True )\n",
    "    temp['trialID'] = trial['metaData']['trialID']\n",
    "    ini_conf = pd.concat([ini_conf,temp],ignore_index=True, sort=True)\n",
    "ini_conf['subjectID'] = dict_obj['subjectID']"
   ]
  },
  {
   "cell_type": "code",
   "execution_count": 42,
   "metadata": {},
   "outputs": [],
   "source": [
    "# create DF for the eye samples\n",
    "samples = pd.DataFrame()\n",
    "for trial in dict_obj['trials']:\n",
    "    temp = pd.concat([ pd.DataFrame(flatten(samp), index=[idx])\n",
    "                      for idx, samp in enumerate(trial['samples'])], ignore_index=True, sort=False)\n",
    "    temp['trialID'] = trial['metaData']['trialID']\n",
    "    samples = pd.concat([samples,temp],ignore_index=True, sort=True)\n",
    "samples['subjectID'] = dict_obj['subjectID']"
   ]
  },
  {
   "cell_type": "code",
   "execution_count": 66,
   "metadata": {},
   "outputs": [
    {
     "data": {
      "text/html": [
       "<div>\n",
       "<style scoped>\n",
       "    .dataframe tbody tr th:only-of-type {\n",
       "        vertical-align: middle;\n",
       "    }\n",
       "\n",
       "    .dataframe tbody tr th {\n",
       "        vertical-align: top;\n",
       "    }\n",
       "\n",
       "    .dataframe thead th {\n",
       "        text-align: right;\n",
       "    }\n",
       "</style>\n",
       "<table border=\"1\" class=\"dataframe\">\n",
       "  <thead>\n",
       "    <tr style=\"text-align: right;\">\n",
       "      <th></th>\n",
       "      <th>combinedEye_direction_x</th>\n",
       "      <th>combinedEye_direction_y</th>\n",
       "      <th>combinedEye_direction_z</th>\n",
       "      <th>combinedEye_position_x</th>\n",
       "      <th>combinedEye_position_y</th>\n",
       "      <th>combinedEye_position_z</th>\n",
       "      <th>combinedEye_raycastHitLocation_x</th>\n",
       "      <th>combinedEye_raycastHitLocation_y</th>\n",
       "      <th>combinedEye_raycastHitLocation_z</th>\n",
       "      <th>combinedEye_raycastHitObject</th>\n",
       "      <th>...</th>\n",
       "      <th>rightEye_position_y</th>\n",
       "      <th>rightEye_position_z</th>\n",
       "      <th>rightEye_raycastHitLocation_x</th>\n",
       "      <th>rightEye_raycastHitLocation_y</th>\n",
       "      <th>rightEye_raycastHitLocation_z</th>\n",
       "      <th>rightEye_raycastHitObject</th>\n",
       "      <th>timestamp</th>\n",
       "      <th>trialID</th>\n",
       "      <th>unixTimestamp_seconds</th>\n",
       "      <th>subjectID</th>\n",
       "    </tr>\n",
       "  </thead>\n",
       "  <tbody>\n",
       "    <tr>\n",
       "      <th>0</th>\n",
       "      <td>1.000000</td>\n",
       "      <td>NaN</td>\n",
       "      <td>0.000002</td>\n",
       "      <td>0.003854</td>\n",
       "      <td>1.672067</td>\n",
       "      <td>-1.092731</td>\n",
       "      <td>-0.500000</td>\n",
       "      <td>0.076547</td>\n",
       "      <td>-0.068399</td>\n",
       "      <td>Pane</td>\n",
       "      <td>...</td>\n",
       "      <td>1.669465</td>\n",
       "      <td>-1.093456</td>\n",
       "      <td>NaN</td>\n",
       "      <td>NaN</td>\n",
       "      <td>NaN</td>\n",
       "      <td>NaN</td>\n",
       "      <td>-1.0</td>\n",
       "      <td>5</td>\n",
       "      <td>1562602501</td>\n",
       "      <td>3</td>\n",
       "    </tr>\n",
       "    <tr>\n",
       "      <th>1</th>\n",
       "      <td>-0.064362</td>\n",
       "      <td>-0.044970</td>\n",
       "      <td>0.996913</td>\n",
       "      <td>0.003280</td>\n",
       "      <td>1.672017</td>\n",
       "      <td>-1.090997</td>\n",
       "      <td>-0.462051</td>\n",
       "      <td>1.000003</td>\n",
       "      <td>-0.438007</td>\n",
       "      <td>Cube_Red</td>\n",
       "      <td>...</td>\n",
       "      <td>NaN</td>\n",
       "      <td>NaN</td>\n",
       "      <td>NaN</td>\n",
       "      <td>NaN</td>\n",
       "      <td>NaN</td>\n",
       "      <td>NaN</td>\n",
       "      <td>-1.0</td>\n",
       "      <td>5</td>\n",
       "      <td>1562602501</td>\n",
       "      <td>3</td>\n",
       "    </tr>\n",
       "    <tr>\n",
       "      <th>2</th>\n",
       "      <td>-0.065139</td>\n",
       "      <td>-0.044124</td>\n",
       "      <td>0.996900</td>\n",
       "      <td>0.001852</td>\n",
       "      <td>1.672026</td>\n",
       "      <td>-1.087325</td>\n",
       "      <td>-0.423714</td>\n",
       "      <td>1.000003</td>\n",
       "      <td>-0.437773</td>\n",
       "      <td>Cube_Red</td>\n",
       "      <td>...</td>\n",
       "      <td>NaN</td>\n",
       "      <td>NaN</td>\n",
       "      <td>NaN</td>\n",
       "      <td>NaN</td>\n",
       "      <td>NaN</td>\n",
       "      <td>NaN</td>\n",
       "      <td>-1.0</td>\n",
       "      <td>5</td>\n",
       "      <td>1562602501</td>\n",
       "      <td>3</td>\n",
       "    </tr>\n",
       "    <tr>\n",
       "      <th>3</th>\n",
       "      <td>1.000000</td>\n",
       "      <td>NaN</td>\n",
       "      <td>0.000002</td>\n",
       "      <td>-0.000886</td>\n",
       "      <td>1.672234</td>\n",
       "      <td>-1.081418</td>\n",
       "      <td>-0.500001</td>\n",
       "      <td>0.086209</td>\n",
       "      <td>-0.075832</td>\n",
       "      <td>Pane</td>\n",
       "      <td>...</td>\n",
       "      <td>1.669809</td>\n",
       "      <td>-1.082603</td>\n",
       "      <td>NaN</td>\n",
       "      <td>NaN</td>\n",
       "      <td>NaN</td>\n",
       "      <td>NaN</td>\n",
       "      <td>-1.0</td>\n",
       "      <td>5</td>\n",
       "      <td>1562602501</td>\n",
       "      <td>3</td>\n",
       "    </tr>\n",
       "    <tr>\n",
       "      <th>4</th>\n",
       "      <td>1.000000</td>\n",
       "      <td>NaN</td>\n",
       "      <td>0.000002</td>\n",
       "      <td>-0.001926</td>\n",
       "      <td>1.672367</td>\n",
       "      <td>-1.079384</td>\n",
       "      <td>-0.500000</td>\n",
       "      <td>0.088969</td>\n",
       "      <td>-0.074249</td>\n",
       "      <td>Pane</td>\n",
       "      <td>...</td>\n",
       "      <td>1.669990</td>\n",
       "      <td>-1.080550</td>\n",
       "      <td>NaN</td>\n",
       "      <td>NaN</td>\n",
       "      <td>NaN</td>\n",
       "      <td>NaN</td>\n",
       "      <td>-1.0</td>\n",
       "      <td>5</td>\n",
       "      <td>1562602501</td>\n",
       "      <td>3</td>\n",
       "    </tr>\n",
       "  </tbody>\n",
       "</table>\n",
       "<p>5 rows × 66 columns</p>\n",
       "</div>"
      ],
      "text/plain": [
       "   combinedEye_direction_x  combinedEye_direction_y  combinedEye_direction_z  \\\n",
       "0                 1.000000                      NaN                 0.000002   \n",
       "1                -0.064362                -0.044970                 0.996913   \n",
       "2                -0.065139                -0.044124                 0.996900   \n",
       "3                 1.000000                      NaN                 0.000002   \n",
       "4                 1.000000                      NaN                 0.000002   \n",
       "\n",
       "   combinedEye_position_x  combinedEye_position_y  combinedEye_position_z  \\\n",
       "0                0.003854                1.672067               -1.092731   \n",
       "1                0.003280                1.672017               -1.090997   \n",
       "2                0.001852                1.672026               -1.087325   \n",
       "3               -0.000886                1.672234               -1.081418   \n",
       "4               -0.001926                1.672367               -1.079384   \n",
       "\n",
       "   combinedEye_raycastHitLocation_x  combinedEye_raycastHitLocation_y  \\\n",
       "0                         -0.500000                          0.076547   \n",
       "1                         -0.462051                          1.000003   \n",
       "2                         -0.423714                          1.000003   \n",
       "3                         -0.500001                          0.086209   \n",
       "4                         -0.500000                          0.088969   \n",
       "\n",
       "   combinedEye_raycastHitLocation_z combinedEye_raycastHitObject  ...  \\\n",
       "0                         -0.068399                         Pane  ...   \n",
       "1                         -0.438007                     Cube_Red  ...   \n",
       "2                         -0.437773                     Cube_Red  ...   \n",
       "3                         -0.075832                         Pane  ...   \n",
       "4                         -0.074249                         Pane  ...   \n",
       "\n",
       "   rightEye_position_y  rightEye_position_z  rightEye_raycastHitLocation_x  \\\n",
       "0             1.669465            -1.093456                            NaN   \n",
       "1                  NaN                  NaN                            NaN   \n",
       "2                  NaN                  NaN                            NaN   \n",
       "3             1.669809            -1.082603                            NaN   \n",
       "4             1.669990            -1.080550                            NaN   \n",
       "\n",
       "   rightEye_raycastHitLocation_y  rightEye_raycastHitLocation_z  \\\n",
       "0                            NaN                            NaN   \n",
       "1                            NaN                            NaN   \n",
       "2                            NaN                            NaN   \n",
       "3                            NaN                            NaN   \n",
       "4                            NaN                            NaN   \n",
       "\n",
       "   rightEye_raycastHitObject  timestamp  trialID  unixTimestamp_seconds  \\\n",
       "0                        NaN       -1.0        5             1562602501   \n",
       "1                        NaN       -1.0        5             1562602501   \n",
       "2                        NaN       -1.0        5             1562602501   \n",
       "3                        NaN       -1.0        5             1562602501   \n",
       "4                        NaN       -1.0        5             1562602501   \n",
       "\n",
       "   subjectID  \n",
       "0          3  \n",
       "1          3  \n",
       "2          3  \n",
       "3          3  \n",
       "4          3  \n",
       "\n",
       "[5 rows x 66 columns]"
      ]
     },
     "execution_count": 66,
     "metadata": {},
     "output_type": "execute_result"
    }
   ],
   "source": [
    "samples.head()"
   ]
  },
  {
   "cell_type": "code",
   "execution_count": null,
   "metadata": {},
   "outputs": [],
   "source": []
  }
 ],
 "metadata": {
  "kernelspec": {
   "display_name": "Python 3",
   "language": "python",
   "name": "python3"
  },
  "language_info": {
   "codemirror_mode": {
    "name": "ipython",
    "version": 3
   },
   "file_extension": ".py",
   "mimetype": "text/x-python",
   "name": "python",
   "nbconvert_exporter": "python",
   "pygments_lexer": "ipython3",
   "version": "3.6.8"
  }
 },
 "nbformat": 4,
 "nbformat_minor": 2
}
