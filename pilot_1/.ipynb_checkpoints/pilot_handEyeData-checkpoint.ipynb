{
 "cells": [
  {
   "cell_type": "markdown",
   "metadata": {},
   "source": [
    "# Pilot data check - TODO\n",
    "\n",
    "- frame rate/subject\n",
    "- number of grasps/subject\n",
    "- number of eye samples/object\n",
    "- number of eye samples/grasped object\n",
    "- number of eye samples/grasped object/sorting type --> shouldn't be different\n",
    "- number of samples with NaN\n",
    "- validation error across trials/subject\n",
    "- azimuth and elevation angles/subject (histograms)\n",
    "- Amplitude of head movements based on velocity\n",
    "- Saccade amplitude based on velocity"
   ]
  },
  {
   "cell_type": "markdown",
   "metadata": {},
   "source": [
    "# Quick notes\n",
    "Subjects 1001, 1002, 1003, 1004, 1005, 1007 --> no grasped object recorded"
   ]
  },
  {
   "cell_type": "code",
   "execution_count": 1,
   "metadata": {},
   "outputs": [],
   "source": [
    "import ProtobufTypes_pb2 \n",
    "import pandas as pd\n",
    "import sys\n",
    "from google.protobuf.json_format import MessageToDict\n",
    "import collections\n",
    "import numpy as np\n",
    "import glob\n",
    "import seaborn as sns\n",
    "import os\n",
    "import matplotlib.pyplot as plt\n",
    "import pickle\n",
    "import pprint\n",
    "from IPython.display import display\n",
    "PLOT_DIR = './PLOTS/data_quality/'\n",
    "os.makedirs(os.path.dirname(PLOT_DIR), exist_ok=True)\n",
    "sns.set(context = \"talk\", style=\"white\", palette=\"dark\", font_scale=1, rc={'figure.figsize':(11.7,8.27)})\n",
    "COLORS = {'g': '#CAE6CB', 'r': '#E6CACA', 'b': '#C9D4F5'}"
   ]
  },
  {
   "cell_type": "code",
   "execution_count": 2,
   "metadata": {},
   "outputs": [],
   "source": [
    "# pickle the data\n",
    "def pickleData(filepath,filename, data):\n",
    "    os.makedirs(os.path.dirname(filepath), exist_ok=True)\n",
    "    with open(str(filepath+filename),'wb') as fh:\n",
    "        pickle.dump(data,fh)\n",
    "\n",
    "# read from pickled data\n",
    "def read_dataFrameFromFile(filename):\n",
    "    with open(filename, 'rb') as fh:\n",
    "        dataframe = pickle.load(fh)\n",
    "    return dataframe"
   ]
  },
  {
   "cell_type": "code",
   "execution_count": null,
   "metadata": {},
   "outputs": [],
   "source": [
    "protobuf_obj = ProtobufTypes_pb2.EyetrackingDataSet()\n",
    "files = glob.glob(\"./subject*.etd\")\n",
    "samples_df = pd.DataFrame()\n",
    "shelf_df = pd.DataFrame()\n",
    "for fi in files:\n",
    "    try:\n",
    "        with open(fi, \"rb\") as f:\n",
    "            protobuf_obj.ParseFromString(f.read())\n",
    "        dict_obj = MessageToDict(protobuf_obj)\n",
    "        for nT, trial in enumerate(dict_obj['trials']):\n",
    "            tmpdf = pd.io.json.json_normalize(data=trial['samples'])\n",
    "            if 'handData.graspedObject' in tmpdf.columns:\n",
    "                tmpdf = tmpdf.loc[:, ['unixTimestamp','timestamp', 'combinedEye.raycastHitObject','handData.graspedObject']]\n",
    "            else:\n",
    "                tmpdf = tmpdf.loc[:, ['unixTimestamp','timestamp', 'combinedEye.raycastHitObject']]\n",
    "                                  \n",
    "            tmpdf['trialID'] = trial['metaData']['trialID'] if 'trialID' in trial['metaData'] else np.NaN  \n",
    "            tmpdf['subjectID'] = dict_obj['subjectID']\n",
    "            tmpdf['trialNum'] = nT\n",
    "            samples_df = pd.concat([samples_df, tmpdf], ignore_index=True, sort=False)             \n",
    "            \n",
    "            tmpdf = pd.io.json.json_normalize(data=trial['metaData']['initialConfiguration']['items'])\n",
    "            tmpdf['trialID'] = trial['metaData']['trialID'] if 'trialID' in trial['metaData'] else np.NaN  \n",
    "            tmpdf['subjectID'] = dict_obj['subjectID']\n",
    "            tmpdf['trialNum'] = nT\n",
    "            shelf_df = pd.concat([shelf_df, tmpdf], ignore_index=True, sort=False) \n",
    "            \n",
    "    except FileNotFoundError:\n",
    "        print(\"{} not found, moving on!\".format(fi))\n",
    "    \n",
    "pickleData('./Data/','reducedAllData',samples_df)\n",
    "del samples_df\n",
    "pickleData('./Data/','allShelfData',shelf_df)\n",
    "del shelf_df"
   ]
  },
  {
   "cell_type": "code",
   "execution_count": null,
   "metadata": {},
   "outputs": [],
   "source": [
    "samples_df = read_dataFrameFromFile('./Data/reducedAllData')"
   ]
  },
  {
   "cell_type": "code",
   "execution_count": null,
   "metadata": {},
   "outputs": [],
   "source": [
    "samples_df.head(20)"
   ]
  },
  {
   "cell_type": "code",
   "execution_count": null,
   "metadata": {
    "scrolled": true
   },
   "outputs": [],
   "source": [
    "samples_df.info()"
   ]
  },
  {
   "cell_type": "code",
   "execution_count": null,
   "metadata": {},
   "outputs": [],
   "source": [
    "samples_df.isna().mean()"
   ]
  },
  {
   "cell_type": "code",
   "execution_count": null,
   "metadata": {
    "scrolled": true
   },
   "outputs": [],
   "source": [
    "filtered_df = samples_df.dropna(subset=['trialID'])\n",
    "filtered_df = filtered_df.drop(columns='unixTimestamp')\n",
    "filtered_df = filtered_df.loc[(filtered_df.timestamp!=-1), :]"
   ]
  },
  {
   "cell_type": "code",
   "execution_count": null,
   "metadata": {},
   "outputs": [],
   "source": [
    "filtered_df.subjectID.unique()"
   ]
  },
  {
   "cell_type": "code",
   "execution_count": null,
   "metadata": {},
   "outputs": [],
   "source": [
    "filtered_df.trialNum.value_counts()"
   ]
  },
  {
   "cell_type": "code",
   "execution_count": null,
   "metadata": {
    "scrolled": true
   },
   "outputs": [],
   "source": [
    "tmpdf = (\n",
    "    samples_df\n",
    "    .groupby(['subjectID','trialNum'])['timestamp']\n",
    "    .apply(lambda x: 1/np.mean(x - x.shift()))\n",
    "    .rename('Frame_Rate')\n",
    "    .reset_index()\n",
    ")\n",
    "# display(tmpdf)\n",
    "\n",
    "_, ax = plt.subplots(1,1,figsize=(20,10))\n",
    "sns.pointplot(data=tmpdf, x='subjectID', y='Frame_Rate', color='b',\n",
    "              errwidth=2, capsize=0, saturation=0.5,ci='sd')\n",
    "\n",
    "plt.title('Frame Rate')\n",
    "plt.savefig(PLOT_DIR+'/frame_rate.png', quality=90)"
   ]
  },
  {
   "cell_type": "code",
   "execution_count": null,
   "metadata": {},
   "outputs": [],
   "source": [
    "tmpdf = (\n",
    "    samples_df\n",
    "    .groupby(['subjectID','trialID','trialNum'])['handData.graspedObject']\n",
    "    .apply(pd.Series.nunique)\n",
    "    .rename('Number of Grasped Objects')\n",
    "    .reset_index()\n",
    ")\n",
    "# display(tmpdf)\n",
    "_, ax = plt.subplots(figsize=(20,10))\n",
    "sns.boxplot(data=tmpdf, x='subjectID', y='Number of Grasped Objects', palette='GnBu')\n",
    "# sns.boxplot(data=tmpdf, x='trialID', y='Number of Grasped Objects', palette='GnBu')\n",
    "\n",
    "plt.title('Number of Unique Grasped Objects over Subjects')\n",
    "plt.savefig(PLOT_DIR+'/graspedObjects_perSubject.png', quality=90)"
   ]
  },
  {
   "cell_type": "code",
   "execution_count": null,
   "metadata": {
    "scrolled": false
   },
   "outputs": [],
   "source": [
    "tmpdf = (\n",
    "    samples_df\n",
    "    .groupby(['subjectID','trialID','trialNum'])['handData.graspedObject']\n",
    "    .apply(lambda x: pd.Series.nunique(x) -1)\n",
    "    .rename('Number of Grasped Objects')\n",
    "    .reset_index()\n",
    ")\n",
    "# display(tmpdf)\n",
    "_, ax = plt.subplots(figsize=(20,10))\n",
    "# sns.pointplot(data=tmpdf, x='trialID', y='Number of Grasped Objects', color='b',\n",
    "#               errwidth=2, capsize=0, saturation=0.5,ci='sd')\n",
    "sns.stripplot(data=tmpdf, x='trialID', y='Number of Grasped Objects', palette='GnBu', size=20)\n",
    "plt.title('Number of Unique Grasped Objects')\n",
    "plt.savefig(PLOT_DIR+'/graspedObjects_perTrial.png', quality=90)"
   ]
  },
  {
   "cell_type": "code",
   "execution_count": null,
   "metadata": {},
   "outputs": [],
   "source": [
    "tmpdf = (\n",
    "    samples_df\n",
    "    .groupby(['subjectID','trialNum','combinedEye.raycastHitObject'])\n",
    "    .agg({'trialID':'count'})\n",
    "    .rename(columns={'trialID':'numSamples'})\n",
    "    .reset_index()\n",
    ")\n",
    "# display(tmpdf)\n",
    "\n",
    "_, ax = plt.subplots(figsize=(20,10))\n",
    "sns.pointplot(data=tmpdf, x='subjectID', y='numSamples', color='b',\n",
    "              errwidth=2, capsize=0, saturation=0.5,ci='sd')\n",
    "\n",
    "plt.title('Number of Raycast Hits per Trial')\n",
    "plt.savefig(PLOT_DIR+'/SamplesPerObject_subject.png', quality=90)"
   ]
  },
  {
   "cell_type": "code",
   "execution_count": null,
   "metadata": {},
   "outputs": [],
   "source": [
    "def replace_objs(s):\n",
    "    valid_objs = ['Cube_Blue', 'Cube_Green', 'Cube_Red', 'Cube_Yellow', 'Cylinder_Blue', 'Cylinder_Green',\n",
    "                  'Cylinder_Red','Cylinder_Yellow', 'Sphere_Blue', 'Sphere_Green', 'Sphere_Red',\n",
    "                  'Sphere_Yellow', 'Tetraeder_Blue', 'Tetraeder_Green', 'Tetraeder_Red', 'Tetraeder_Yellow']\n",
    "    if s in valid_objs:\n",
    "        return s\n",
    "    else:\n",
    "        return 'Other'\n",
    "\n"
   ]
  },
  {
   "cell_type": "code",
   "execution_count": null,
   "metadata": {},
   "outputs": [],
   "source": [
    "tmpdf = samples_df\n",
    "tmpdf['combinedEye.raycastHitObject'] = tmpdf['combinedEye.raycastHitObject'].apply(replace_objs)\n",
    "display(tmpdf)\n",
    "tmpdf = (\n",
    "    tmpdf\n",
    "    .groupby(['subjectID','trialNum','combinedEye.raycastHitObject'])\n",
    "    .agg({'trialID': 'count'})\n",
    "    .rename(columns={'trialID': 'numSamples'})\n",
    "    .reset_index()\n",
    ")\n",
    "# display(tmpdf)\n",
    "_, ax = plt.subplots(1,1,figsize=(20,10))\n",
    "sns.pointplot(data=tmpdf, x='subjectID', y='numSamples', hue='combinedEye.raycastHitObject',\n",
    "              errwidth=2, capsize=0, saturation=0.5,ci='sd', palette='dark', dodge=0.2, ax=ax)\n",
    "plt.legend(loc='upper left')\n",
    "plt.title('Number of Raycast Hits per Trial')\n",
    "plt.savefig(PLOT_DIR+'/SamplesPerObject_Shelf.png', quality=90)"
   ]
  },
  {
   "cell_type": "code",
   "execution_count": null,
   "metadata": {},
   "outputs": [],
   "source": []
  },
  {
   "cell_type": "code",
   "execution_count": null,
   "metadata": {},
   "outputs": [],
   "source": [
    "samples_df['handData.graspedObject'].value_counts()"
   ]
  },
  {
   "cell_type": "code",
   "execution_count": null,
   "metadata": {},
   "outputs": [],
   "source": [
    "samples_df.head()"
   ]
  },
  {
   "cell_type": "code",
   "execution_count": null,
   "metadata": {
    "scrolled": true
   },
   "outputs": [],
   "source": [
    "tmpdf = (\n",
    "    samples_df\n",
    "    .groupby(['trialID','subjectID','combinedEye.raycastHitObject'])\n",
    "    .agg({'trialID':'count'})\n",
    "    .rename(columns={'trialID':'numSamples'})\n",
    "    .reset_index()\n",
    ")\n",
    "# display(tmpdf)\n",
    "_, ax = plt.subplots(1,1,figsize=(20,10))\n",
    "sns.boxplot(data=tmpdf, x='trialID', y='numSamples', hue='combinedEye.raycastHitObject',\n",
    "              saturation=0.5, palette='GnBu', dodge=0.1, ax=ax)\n",
    "# sns.pointplot(data=tmpdf, x='trialID', y='numSamples', hue='combinedEye.raycastHitObject',\n",
    "#               errwidth=2, capsize=0, saturation=0.5,ci='sd', palette='dark', dodge=0.1, ax=ax)\n",
    "# sns.stripplot(data=tmpdf, x='trialID', y='numSamples', hue='combinedEye.raycastHitObject',\n",
    "#                palette='dark', jitter=0.1,dodge=0.2, size=10, ax=ax)\n",
    "plt.ylim(0, 40000)\n",
    "plt.legend(loc='upper left')\n",
    "plt.title('Number of Raycast Hits per Task Type')\n",
    "plt.savefig(PLOT_DIR+'/SamplesPerObject_trials.png', quality=90)"
   ]
  },
  {
   "cell_type": "code",
   "execution_count": null,
   "metadata": {
    "scrolled": true
   },
   "outputs": [],
   "source": [
    "tmpdf = (\n",
    "    samples_df.groupby(['subjectID','trialID','trialNum'])['timestamp']\n",
    "    .apply(lambda x: (x.iloc[-1]-x.iloc[0]))\n",
    "    .reset_index()\n",
    ")\n",
    "# display(tmpdf)\n",
    "# ax = sns.pointplot(data=tmpdf, x='trialID', y='timestamp',\n",
    "#               errwidth=2, capsize=0, saturation=0.5,ci='sd')\n",
    "_, ax = plt.subplots(1,1,figsize=(20,10))\n",
    "ax = sns.boxplot(data=tmpdf, x='trialID', y='timestamp', palette='GnBu',\n",
    "              saturation=0.5)\n",
    "ax.set_ylabel('Duration (sec)')\n",
    "plt.title('Duration of Trials over Subjects')\n",
    "plt.savefig(PLOT_DIR+'/durationPertrials_taskType.png', quality=90)"
   ]
  },
  {
   "cell_type": "code",
   "execution_count": null,
   "metadata": {
    "scrolled": true
   },
   "outputs": [],
   "source": [
    "tmpdf = (\n",
    "    samples_df.groupby(['subjectID', 'trialNum'])['timestamp']\n",
    "    .apply(lambda x: (x.iloc[-1]-x.iloc[0]))\n",
    "    .reset_index()\n",
    ")\n",
    "# display(tmpdf)\n",
    "# ax = sns.pointplot(data=tmpdf, x='trialID', y='timestamp',\n",
    "#               errwidth=2, capsize=0, saturation=0.5,ci='sd')\n",
    "_, ax = plt.subplots(1,1,figsize=(20,10))\n",
    "ax = sns.boxplot(data=tmpdf, x='subjectID', y='timestamp', palette='GnBu',\n",
    "              saturation=0.5)\n",
    "ax.set_ylabel('Duration (sec)')\n",
    "plt.title('Duration of Trials/Subjects')\n",
    "plt.savefig(PLOT_DIR+'/durationPertrials_subject.png', quality=90)"
   ]
  },
  {
   "cell_type": "code",
   "execution_count": null,
   "metadata": {},
   "outputs": [],
   "source": [
    "shelf_df = read_dataFrameFromFile('./Data/allShelfData')\n",
    "shelf_df.info()\n",
    "shelf_df.isna().mean()"
   ]
  },
  {
   "cell_type": "code",
   "execution_count": null,
   "metadata": {
    "scrolled": true
   },
   "outputs": [],
   "source": [
    "%matplotlib inline\n",
    "%matplotlib inline\n",
    "tmpdf = (\n",
    "    shelf_df\n",
    "    .groupby('subjectID')\n",
    "    .apply(lambda x: x.isna().mean())\n",
    "    .drop(columns=['subjectID','trialID'])\n",
    "    .reset_index()\n",
    "    .set_index('subjectID')\n",
    ")\n",
    "_, _ = plt.subplots(1,1,figsize=(12,12))\n",
    "ax = sns.heatmap(tmpdf, vmin=0, vmax=0.25, annot=True, linewidths=.5, cmap='viridis_r', annot_kws={\"size\": 25})\n",
    "ax.set_ylim(len(tmpdf)-0.1, -0.5)\n",
    "plt.yticks(rotation=0, fontsize=25) \n",
    "plt.xticks(rotation=45, fontsize=25)\n",
    "plt.xlabel(fontsize=20)\n",
    "plt.title('Proportion of Missing Vlues of Shelf Configuration', fontsize=30)\n",
    "plt.savefig(PLOT_DIR+'/shelf_missingVals.png', quality=90, transparent=True)"
   ]
  },
  {
   "cell_type": "code",
   "execution_count": null,
   "metadata": {},
   "outputs": [],
   "source": [
    "samples_df.head()\n",
    "    "
   ]
  },
  {
   "cell_type": "code",
   "execution_count": null,
   "metadata": {},
   "outputs": [],
   "source": [
    "samples_df['handData.graspedObject'].fillna(0, inplace=True)\n",
    "samples_df['numHits'] = (\n",
    "        samples_df['combinedEye.raycastHitObject']\n",
    "        .groupby((samples_df['combinedEye.raycastHitObject']!=samples_df['combinedEye.raycastHitObject'].shift())\n",
    "        .cumsum())\n",
    "        .transform('size')\n",
    ")\n",
    "samples_df['eyeChange'] = (\n",
    "                samples_df['combinedEye.raycastHitObject']!=samples_df['combinedEye.raycastHitObject'].shift()\n",
    ")\n",
    "samples_df['handChange'] = (\n",
    "                samples_df['handData.graspedObject']!=samples_df['handData.graspedObject'].shift()\n",
    ")\n",
    "\n",
    "# samples_df['dwellTime'] = (\n",
    "#                 samples_df['combinedEye.raycastHitObject']!=samples_df['combinedEye.raycastHitObject'].shift()\n",
    "# )\n",
    "\n",
    "tmpdf = samples_df\n",
    "tmpdf.loc[(~tmpdf['handChange']),'handData.graspedObject' ] = 0\n",
    "\n",
    "grasp = np.where(tmpdf.handChange)[0]\n",
    "next_grasp = np.where(tmpdf.handChange.shift())[0]\n",
    "display(tmpdf.loc[next_grasp])"
   ]
  },
  {
   "cell_type": "code",
   "execution_count": null,
   "metadata": {},
   "outputs": [],
   "source": [
    "filtered_df.head()"
   ]
  },
  {
   "cell_type": "code",
   "execution_count": null,
   "metadata": {},
   "outputs": [],
   "source": [
    "filtered_df['combinedEye.raycastHitObject'] = filtered_df['combinedEye.raycastHitObject'].apply(replace_objs)\n",
    "display(filtered_df.tail())"
   ]
  },
  {
   "cell_type": "code",
   "execution_count": null,
   "metadata": {
    "scrolled": false
   },
   "outputs": [],
   "source": [
    "# %matplotlib notebook\n",
    "tmpdf = (\n",
    "    filtered_df\n",
    "    .rename(columns={'combinedEye.raycastHitObject':'eyeHit', 'handData:graspedObject':'grasp'})\n",
    "    .query('subjectID == 1006 & trialNum == 6')\n",
    "    .query('eyeHit != \"Other\"')\n",
    "    .sort_values('timestamp')\n",
    "    [['timestamp', 'eyeHit']]\n",
    "    .set_index('timestamp')\n",
    ")\n",
    "sns.set(context = \"talk\", style=\"whitegrid\", palette=\"dark\", font_scale=1, rc={'figure.figsize':(11.7,8.27)})\n",
    "_, ax = plt.subplots(figsize=(20,10))\n",
    "tmpdf = pd.get_dummies(tmpdf, prefix='')\n",
    "tmpdf = tmpdf.mul(np.arange(1,17))\n",
    "tmpdf.plot(ax=ax)\n"
   ]
  },
  {
   "cell_type": "code",
   "execution_count": null,
   "metadata": {},
   "outputs": [],
   "source": [
    "raise"
   ]
  },
  {
   "cell_type": "markdown",
   "metadata": {},
   "source": [
    "# Scratch"
   ]
  },
  {
   "cell_type": "code",
   "execution_count": null,
   "metadata": {},
   "outputs": [],
   "source": [
    "np.arange(1,17)"
   ]
  }
 ],
 "metadata": {
  "kernelspec": {
   "display_name": "Python 3",
   "language": "python",
   "name": "python3"
  },
  "language_info": {
   "codemirror_mode": {
    "name": "ipython",
    "version": 3
   },
   "file_extension": ".py",
   "mimetype": "text/x-python",
   "name": "python",
   "nbconvert_exporter": "python",
   "pygments_lexer": "ipython3",
   "version": "3.6.8"
  }
 },
 "nbformat": 4,
 "nbformat_minor": 2
}
