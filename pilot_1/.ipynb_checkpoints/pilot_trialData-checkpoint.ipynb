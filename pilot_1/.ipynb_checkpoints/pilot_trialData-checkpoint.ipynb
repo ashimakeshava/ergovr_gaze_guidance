{
 "cells": [
  {
   "cell_type": "markdown",
   "metadata": {},
   "source": [
    "# Pilot data check - TODO\n",
    "\n",
    "- frame rate/subject\n",
    "- number of grasps/subject\n",
    "- number of eye samples/object\n",
    "- number of eye samples/grasped object\n",
    "- number of eye samples/grasped object/sorting type --> shouldn't be different\n",
    "- number of samples with NaN\n",
    "- validation error across trials/subject\n",
    "- azimuth and elevation angles/subject (histograms)\n",
    "- Amplitude of head movements based on velocity\n",
    "- Saccade amplitude based on velocity"
   ]
  },
  {
   "cell_type": "code",
   "execution_count": 1,
   "metadata": {},
   "outputs": [],
   "source": [
    "# %pip install pprint\n",
    "# fill this value to sun script for that particular subject\n",
    "subjectID = '1001'"
   ]
  },
  {
   "cell_type": "code",
   "execution_count": 2,
   "metadata": {},
   "outputs": [],
   "source": [
    "import ProtobufTypes_pb2 \n",
    "import pandas as pd\n",
    "import sys\n",
    "from google.protobuf.json_format import MessageToDict\n",
    "import collections\n",
    "import numpy as np\n",
    "import glob\n",
    "import seaborn as sns\n",
    "import os\n",
    "import matplotlib.pyplot as plt\n",
    "import pickle\n",
    "import pprint\n",
    "from IPython.display import display\n",
    "PLOT_DIR = './PLOTS/data_quality'\n",
    "os.makedirs(os.path.dirname(PLOT_DIR), exist_ok=True)\n",
    "sns.set(context = \"talk\", style=\"white\", palette=\"dark\", font_scale=1, rc={'figure.figsize':(11.7,8.27)})\n",
    "COLORS = {'g': '#CAE6CB', 'r': '#E6CACA', 'b': '#C9D4F5'}"
   ]
  },
  {
   "cell_type": "code",
   "execution_count": 3,
   "metadata": {},
   "outputs": [],
   "source": [
    "# pickle the data\n",
    "def pickleData(filepath,filename, data):\n",
    "    os.makedirs(os.path.dirname(filepath), exist_ok=True)\n",
    "    with open(str(filepath+filename),'wb') as fh:\n",
    "        pickle.dump(data,fh)\n",
    "\n",
    "# read from pickled data\n",
    "def read_dataFrameFromFile(filename):\n",
    "    with open(filename, 'rb') as fh:\n",
    "        dataframe = pickle.load(fh)\n",
    "    return dataframe\n",
    "\n",
    "#Flatten the dictionary for easy df conversion\n",
    "def flatten(d, parent_key='', sep='_'):\n",
    "    items = []\n",
    "    for k, v in d.items():\n",
    "        nk = parent_key + sep + k if parent_key else k\n",
    "        if isinstance(v, collections.MutableMapping):\n",
    "            items.extend(flatten(v, nk, sep=sep).items())\n",
    "        else:\n",
    "            items.append((nk,v))\n",
    "    return dict(items)\n",
    "\n",
    "def flatten(d, parent_key='', sep='_'):\n",
    "    items = []\n",
    "    if isinstance(d, dict):\n",
    "        for k, v in d.items():\n",
    "            nk = parent_key + sep + k if parent_key else k\n",
    "            if isinstance(v, collections.MutableMapping):\n",
    "                items.extend(flatten(v, nk, sep=sep).items())\n",
    "            else:\n",
    "                items.append((nk,v))\n",
    "    return dict(items)"
   ]
  },
  {
   "cell_type": "code",
   "execution_count": 4,
   "metadata": {},
   "outputs": [
    {
     "name": "stdout",
     "output_type": "stream",
     "text": [
      "['./subject1004.etd', './subject1001.etd', './subject1002.etd', './subject1003.etd', './subject1005.etd', './subject1006.etd', './subject1006_1.etd', './subject1007.etd', './subject1007_1.etd', './subject1008.etd', './subject1009.etd', './subject1011.etd']\n"
     ]
    }
   ],
   "source": [
    "protobuf_obj = ProtobufTypes_pb2.EyetrackingDataSet()\n",
    "files = glob.glob(\"./subject*.etd\")\n",
    "print(files)"
   ]
  },
  {
   "cell_type": "code",
   "execution_count": null,
   "metadata": {},
   "outputs": [],
   "source": [
    "# Read Subject data\n",
    "# subjectID = 1001\n",
    "trials_df= pd.DataFrame()\n",
    "with open('subject{}.etd'.format(subjectID), \"rb\") as f:\n",
    "    protobuf_obj.ParseFromString(f.read())\n",
    "dict_obj = MessageToDict(protobuf_obj)"
   ]
  },
  {
   "cell_type": "code",
   "execution_count": 23,
   "metadata": {},
   "outputs": [
    {
     "data": {
      "text/html": [
       "<div>\n",
       "<style scoped>\n",
       "    .dataframe tbody tr th:only-of-type {\n",
       "        vertical-align: middle;\n",
       "    }\n",
       "\n",
       "    .dataframe tbody tr th {\n",
       "        vertical-align: top;\n",
       "    }\n",
       "\n",
       "    .dataframe thead th {\n",
       "        text-align: right;\n",
       "    }\n",
       "</style>\n",
       "<table border=\"1\" class=\"dataframe\">\n",
       "  <thead>\n",
       "    <tr style=\"text-align: right;\">\n",
       "      <th></th>\n",
       "      <th>samples</th>\n",
       "      <th>metaData.initialConfiguration.items</th>\n",
       "      <th>metaData.trialID</th>\n",
       "    </tr>\n",
       "  </thead>\n",
       "  <tbody>\n",
       "    <tr>\n",
       "      <th>0</th>\n",
       "      <td>[{'timestamp': -1.0, 'leftEye': {'position': {...</td>\n",
       "      <td>[{'shape': 'Cube', 'position': {'y': 3.0}}, {'...</td>\n",
       "      <td>NaN</td>\n",
       "    </tr>\n",
       "    <tr>\n",
       "      <th>1</th>\n",
       "      <td>[{'timestamp': -1.0, 'leftEye': {'position': {...</td>\n",
       "      <td>[{'shape': 'Cube', 'position': {'x': 2.0, 'y':...</td>\n",
       "      <td>4.0</td>\n",
       "    </tr>\n",
       "  </tbody>\n",
       "</table>\n",
       "</div>"
      ],
      "text/plain": [
       "                                             samples  \\\n",
       "0  [{'timestamp': -1.0, 'leftEye': {'position': {...   \n",
       "1  [{'timestamp': -1.0, 'leftEye': {'position': {...   \n",
       "\n",
       "                 metaData.initialConfiguration.items  metaData.trialID  \n",
       "0  [{'shape': 'Cube', 'position': {'y': 3.0}}, {'...               NaN  \n",
       "1  [{'shape': 'Cube', 'position': {'x': 2.0, 'y':...               4.0  "
      ]
     },
     "execution_count": 23,
     "metadata": {},
     "output_type": "execute_result"
    }
   ],
   "source": [
    "trials_df = pd.io.json.json_normalize(data = dict_obj['trials'][:2], max_level=6)\n",
    "trials_df.head()"
   ]
  },
  {
   "cell_type": "code",
   "execution_count": 29,
   "metadata": {},
   "outputs": [],
   "source": []
  },
  {
   "cell_type": "code",
   "execution_count": 32,
   "metadata": {
    "scrolled": true
   },
   "outputs": [
    {
     "data": {
      "text/html": [
       "<div>\n",
       "<style scoped>\n",
       "    .dataframe tbody tr th:only-of-type {\n",
       "        vertical-align: middle;\n",
       "    }\n",
       "\n",
       "    .dataframe tbody tr th {\n",
       "        vertical-align: top;\n",
       "    }\n",
       "\n",
       "    .dataframe thead th {\n",
       "        text-align: right;\n",
       "    }\n",
       "</style>\n",
       "<table border=\"1\" class=\"dataframe\">\n",
       "  <thead>\n",
       "    <tr style=\"text-align: right;\">\n",
       "      <th></th>\n",
       "      <th>timestamp</th>\n",
       "      <th>leftEye.position.x</th>\n",
       "      <th>leftEye.position.y</th>\n",
       "      <th>leftEye.position.z</th>\n",
       "      <th>leftEye.direction.x</th>\n",
       "      <th>leftEye.direction.y</th>\n",
       "      <th>leftEye.direction.z</th>\n",
       "      <th>leftEye.raycastHitObject</th>\n",
       "      <th>leftEye.raycastHitLocation.x</th>\n",
       "      <th>leftEye.raycastHitLocation.z</th>\n",
       "      <th>...</th>\n",
       "      <th>headTransform.position.x</th>\n",
       "      <th>headTransform.position.y</th>\n",
       "      <th>headTransform.position.z</th>\n",
       "      <th>headTransform.rotation.x</th>\n",
       "      <th>headTransform.rotation.y</th>\n",
       "      <th>headTransform.rotation.z</th>\n",
       "      <th>headTransform.rotation.w</th>\n",
       "      <th>headTransform.scale.x</th>\n",
       "      <th>headTransform.scale.y</th>\n",
       "      <th>headTransform.scale.z</th>\n",
       "    </tr>\n",
       "  </thead>\n",
       "  <tbody>\n",
       "    <tr>\n",
       "      <th>0</th>\n",
       "      <td>-1.000000</td>\n",
       "      <td>0.030714</td>\n",
       "      <td>-0.002184</td>\n",
       "      <td>-0.020189</td>\n",
       "      <td>0.299089</td>\n",
       "      <td>0.200272</td>\n",
       "      <td>0.932972</td>\n",
       "      <td>Showroom</td>\n",
       "      <td>0.592327</td>\n",
       "      <td>-0.010408</td>\n",
       "      <td>...</td>\n",
       "      <td>-0.002944</td>\n",
       "      <td>1.473839</td>\n",
       "      <td>-1.369252</td>\n",
       "      <td>0.493948</td>\n",
       "      <td>-0.00515</td>\n",
       "      <td>-0.008708</td>\n",
       "      <td>0.869433</td>\n",
       "      <td>1.0</td>\n",
       "      <td>1.0</td>\n",
       "      <td>1.0</td>\n",
       "    </tr>\n",
       "    <tr>\n",
       "      <th>1</th>\n",
       "      <td>0.333333</td>\n",
       "      <td>0.030883</td>\n",
       "      <td>-0.002540</td>\n",
       "      <td>-0.019241</td>\n",
       "      <td>0.310365</td>\n",
       "      <td>0.212892</td>\n",
       "      <td>0.926472</td>\n",
       "      <td>Showroom</td>\n",
       "      <td>0.629698</td>\n",
       "      <td>0.029693</td>\n",
       "      <td>...</td>\n",
       "      <td>-0.002604</td>\n",
       "      <td>1.473794</td>\n",
       "      <td>-1.368930</td>\n",
       "      <td>0.493790</td>\n",
       "      <td>-0.00461</td>\n",
       "      <td>-0.008740</td>\n",
       "      <td>0.869525</td>\n",
       "      <td>1.0</td>\n",
       "      <td>1.0</td>\n",
       "      <td>1.0</td>\n",
       "    </tr>\n",
       "  </tbody>\n",
       "</table>\n",
       "<p>2 rows × 60 columns</p>\n",
       "</div>"
      ],
      "text/plain": [
       "   timestamp  leftEye.position.x  leftEye.position.y  leftEye.position.z  \\\n",
       "0  -1.000000            0.030714           -0.002184           -0.020189   \n",
       "1   0.333333            0.030883           -0.002540           -0.019241   \n",
       "\n",
       "   leftEye.direction.x  leftEye.direction.y  leftEye.direction.z  \\\n",
       "0             0.299089             0.200272             0.932972   \n",
       "1             0.310365             0.212892             0.926472   \n",
       "\n",
       "  leftEye.raycastHitObject  leftEye.raycastHitLocation.x  \\\n",
       "0                 Showroom                      0.592327   \n",
       "1                 Showroom                      0.629698   \n",
       "\n",
       "   leftEye.raycastHitLocation.z  ...  headTransform.position.x  \\\n",
       "0                     -0.010408  ...                 -0.002944   \n",
       "1                      0.029693  ...                 -0.002604   \n",
       "\n",
       "   headTransform.position.y  headTransform.position.z  \\\n",
       "0                  1.473839                 -1.369252   \n",
       "1                  1.473794                 -1.368930   \n",
       "\n",
       "   headTransform.rotation.x  headTransform.rotation.y  \\\n",
       "0                  0.493948                  -0.00515   \n",
       "1                  0.493790                  -0.00461   \n",
       "\n",
       "   headTransform.rotation.z  headTransform.rotation.w headTransform.scale.x  \\\n",
       "0                 -0.008708                  0.869433                   1.0   \n",
       "1                 -0.008740                  0.869525                   1.0   \n",
       "\n",
       "   headTransform.scale.y  headTransform.scale.z  \n",
       "0                    1.0                    1.0  \n",
       "1                    1.0                    1.0  \n",
       "\n",
       "[2 rows x 60 columns]"
      ]
     },
     "metadata": {},
     "output_type": "display_data"
    },
    {
     "data": {
      "text/html": [
       "<div>\n",
       "<style scoped>\n",
       "    .dataframe tbody tr th:only-of-type {\n",
       "        vertical-align: middle;\n",
       "    }\n",
       "\n",
       "    .dataframe tbody tr th {\n",
       "        vertical-align: top;\n",
       "    }\n",
       "\n",
       "    .dataframe thead th {\n",
       "        text-align: right;\n",
       "    }\n",
       "</style>\n",
       "<table border=\"1\" class=\"dataframe\">\n",
       "  <thead>\n",
       "    <tr style=\"text-align: right;\">\n",
       "      <th></th>\n",
       "      <th>timestamp</th>\n",
       "      <th>leftEye.position.x</th>\n",
       "      <th>leftEye.position.y</th>\n",
       "      <th>leftEye.position.z</th>\n",
       "      <th>leftEye.direction.x</th>\n",
       "      <th>leftEye.direction.y</th>\n",
       "      <th>leftEye.direction.z</th>\n",
       "      <th>leftEye.raycastHitObject</th>\n",
       "      <th>leftEye.raycastHitLocation.x</th>\n",
       "      <th>leftEye.raycastHitLocation.y</th>\n",
       "      <th>...</th>\n",
       "      <th>headTransform.position.x</th>\n",
       "      <th>headTransform.position.y</th>\n",
       "      <th>headTransform.position.z</th>\n",
       "      <th>headTransform.rotation.x</th>\n",
       "      <th>headTransform.rotation.y</th>\n",
       "      <th>headTransform.rotation.z</th>\n",
       "      <th>headTransform.rotation.w</th>\n",
       "      <th>headTransform.scale.x</th>\n",
       "      <th>headTransform.scale.y</th>\n",
       "      <th>headTransform.scale.z</th>\n",
       "    </tr>\n",
       "  </thead>\n",
       "  <tbody>\n",
       "    <tr>\n",
       "      <th>0</th>\n",
       "      <td>-1.000000</td>\n",
       "      <td>0.032172</td>\n",
       "      <td>0.000513</td>\n",
       "      <td>-0.021043</td>\n",
       "      <td>0.003738</td>\n",
       "      <td>0.057953</td>\n",
       "      <td>0.998312</td>\n",
       "      <td>Cylinder_Red</td>\n",
       "      <td>-0.082011</td>\n",
       "      <td>1.446152</td>\n",
       "      <td>...</td>\n",
       "      <td>-0.058745</td>\n",
       "      <td>1.605516</td>\n",
       "      <td>-1.462020</td>\n",
       "      <td>0.079352</td>\n",
       "      <td>-0.009517</td>\n",
       "      <td>0.013140</td>\n",
       "      <td>0.996715</td>\n",
       "      <td>1.0</td>\n",
       "      <td>1.0</td>\n",
       "      <td>1.0</td>\n",
       "    </tr>\n",
       "    <tr>\n",
       "      <th>1</th>\n",
       "      <td>0.333333</td>\n",
       "      <td>0.032172</td>\n",
       "      <td>0.000512</td>\n",
       "      <td>-0.021040</td>\n",
       "      <td>0.003799</td>\n",
       "      <td>0.057221</td>\n",
       "      <td>0.998354</td>\n",
       "      <td>Cylinder_Red</td>\n",
       "      <td>-0.080666</td>\n",
       "      <td>1.445455</td>\n",
       "      <td>...</td>\n",
       "      <td>-0.058651</td>\n",
       "      <td>1.605524</td>\n",
       "      <td>-1.461978</td>\n",
       "      <td>0.079252</td>\n",
       "      <td>-0.009158</td>\n",
       "      <td>0.012871</td>\n",
       "      <td>0.996729</td>\n",
       "      <td>1.0</td>\n",
       "      <td>1.0</td>\n",
       "      <td>1.0</td>\n",
       "    </tr>\n",
       "  </tbody>\n",
       "</table>\n",
       "<p>2 rows × 64 columns</p>\n",
       "</div>"
      ],
      "text/plain": [
       "   timestamp  leftEye.position.x  leftEye.position.y  leftEye.position.z  \\\n",
       "0  -1.000000            0.032172            0.000513           -0.021043   \n",
       "1   0.333333            0.032172            0.000512           -0.021040   \n",
       "\n",
       "   leftEye.direction.x  leftEye.direction.y  leftEye.direction.z  \\\n",
       "0             0.003738             0.057953             0.998312   \n",
       "1             0.003799             0.057221             0.998354   \n",
       "\n",
       "  leftEye.raycastHitObject  leftEye.raycastHitLocation.x  \\\n",
       "0             Cylinder_Red                     -0.082011   \n",
       "1             Cylinder_Red                     -0.080666   \n",
       "\n",
       "   leftEye.raycastHitLocation.y  ...  headTransform.position.x  \\\n",
       "0                      1.446152  ...                 -0.058745   \n",
       "1                      1.445455  ...                 -0.058651   \n",
       "\n",
       "   headTransform.position.y  headTransform.position.z  \\\n",
       "0                  1.605516                 -1.462020   \n",
       "1                  1.605524                 -1.461978   \n",
       "\n",
       "   headTransform.rotation.x  headTransform.rotation.y  \\\n",
       "0                  0.079352                 -0.009517   \n",
       "1                  0.079252                 -0.009158   \n",
       "\n",
       "   headTransform.rotation.z  headTransform.rotation.w  headTransform.scale.x  \\\n",
       "0                  0.013140                  0.996715                    1.0   \n",
       "1                  0.012871                  0.996729                    1.0   \n",
       "\n",
       "  headTransform.scale.y  headTransform.scale.z  \n",
       "0                   1.0                    1.0  \n",
       "1                   1.0                    1.0  \n",
       "\n",
       "[2 rows x 64 columns]"
      ]
     },
     "metadata": {},
     "output_type": "display_data"
    },
    {
     "data": {
      "text/plain": [
       "0    None\n",
       "1    None\n",
       "Name: samples, dtype: object"
      ]
     },
     "execution_count": 32,
     "metadata": {},
     "output_type": "execute_result"
    }
   ],
   "source": [
    "tmpdf = (\n",
    "    trials_df\n",
    "    .samples.apply(lambda d: pd.io.json.json_normalize(d[:2]))\n",
    "    # .to_frame('samples')\n",
    ")\n",
    "\n",
    "tmpdf.apply(lambda s: display(s))"
   ]
  },
  {
   "cell_type": "code",
   "execution_count": null,
   "metadata": {},
   "outputs": [],
   "source": []
  },
  {
   "cell_type": "code",
   "execution_count": null,
   "metadata": {},
   "outputs": [],
   "source": [
    "trials_df['subID'] = subjectID\n",
    "# pickleData('./Data/subject{}/'.format(subjectID),'trialsData',trials_df)"
   ]
  },
  {
   "cell_type": "code",
   "execution_count": null,
   "metadata": {},
   "outputs": [],
   "source": [
    "#change angles to be within 180 degrees\n",
    "sel_columns = ['combinedEyeAngleOffset.x', 'combinedEyeAngleOffset.y','combinedEyeAngleOffset.z',\n",
    "               'leftEyeAngleOffset.x', 'leftEyeAngleOffset.y','leftEyeAngleOffset.z',\n",
    "               'rightEyeAngleOffset.x', 'rightEyeAngleOffset.y','rightEyeAngleOffset.z']\n",
    "\n",
    "for col in sel_columns:\n",
    "    val_df.loc[val_df[col]>360, col] = val_df[col] - 360\n",
    "    val_df.loc[val_df[col]>180, col] = 360 - val_df[col]"
   ]
  },
  {
   "cell_type": "code",
   "execution_count": null,
   "metadata": {
    "scrolled": false
   },
   "outputs": [],
   "source": [
    "%matplotlib notebook\n",
    "ax = val_df.loc[:,['combinedEyeAngleOffset.x','combinedEyeAngleOffset.y']]\\\n",
    "                                            .plot.kde(title='Angular error for Cyclopean eye SUBJECT-{}'.format(subjectID))\n",
    "ax.set_xlabel('Angle in degrees')\n",
    "ax.set_xlim((-5,20))\n",
    "ax.axvline(1, linestyle='--', color=COLORS['r'])\n",
    "ax.legend(['Azimuth', 'Elevation'])\n",
    "plt.savefig(PLOT_DIR+'/validation_error_{}.png'.format(subjectID), quality=90)"
   ]
  },
  {
   "cell_type": "code",
   "execution_count": null,
   "metadata": {},
   "outputs": [],
   "source": [
    "# %matplotlib inline\n",
    "fig = plt.figure(figsize=(10,10))\n",
    "# plt.subplots_adjust(bottom=0.2)\n",
    "ax = sns.pointplot(data = val_df, x='validationPointIdx', y='combinedEyeAngleOffset.x', ci='sd', color='b')\n",
    "ax.set_label('Azimuth')\n",
    "ax = sns.pointplot(data = val_df, x='validationPointIdx', y='combinedEyeAngleOffset.y', ci='sd', color='r')\n",
    "ax.set_xlabel('Validation Point Index')\n",
    "ax.set_ylabel('Calibration Error ($^\\circ$) ')\n",
    "ax.set_ylim(-10,10)\n",
    "ax.set_yticks((-10,-5,0,5,10))\n",
    "ax.axhline(1, linestyle='--', color = COLORS['b'])\n",
    "ax.set_label('Elevation')\n",
    "ax.legend(['Azimuth', 'Elevation'])\n",
    "plt.title('Calibration Errors For Different Positions SUBJECT-{}'.format(subjectID), fontsize=20,x=0.5, y=0.998)\n",
    "# plt.savefig(PLOT_DIR+'/validation_error_positions_{}.png'.format(subjectID), quality=90)"
   ]
  },
  {
   "cell_type": "code",
   "execution_count": null,
   "metadata": {},
   "outputs": [],
   "source": [
    "%matplotlib inline\n",
    "fig, ax = plt.subplots(2, 1, figsize=(15,15), sharex=True)\n",
    "plt.subplots_adjust(bottom=0.2)\n",
    "sns.pointplot(data = val_df, x='validationPointIdx', y='combinedEyeAngleOffset.x', ci='sd', ax=ax[0])\n",
    "ax[0].set_xlabel('')\n",
    "ax[0].set_ylabel('Calibration Error along Azimuth ($^\\circ$) ')\n",
    "ax[0].set_ylim(-10,10)\n",
    "ax[0].set_yticks((-10,-5,0,5,10))\n",
    "ax[0].axhline(1, linestyle='--', color = 'r')\n",
    "sns.pointplot(data = val_df, x='validationPointIdx', y='combinedEyeAngleOffset.y', ci='sd', ax=ax[1])\n",
    "ax[1].set_xlabel('Validation Point Index')\n",
    "ax[1].set_ylabel('Calibration Error along Elevation ($^\\circ$) ')\n",
    "ax[1].set_ylim(-10,10)\n",
    "ax[1].set_yticks((-10,-5,0,5,10))\n",
    "ax[1].axhline(1, linestyle='--', color = 'r')\n",
    "plt.suptitle('Calibration Errors For Different Positions SUBJECT-{}'.format(subjectID), fontsize=28,x=0.5, y=0.94)\n",
    "plt.savefig(PLOT_DIR+'/validation_error_positions_{}.png'.format(subjectID), quality=90)"
   ]
  },
  {
   "cell_type": "code",
   "execution_count": null,
   "metadata": {},
   "outputs": [],
   "source": [
    "del val_df # clean up memory\n",
    "raise"
   ]
  },
  {
   "cell_type": "code",
   "execution_count": null,
   "metadata": {},
   "outputs": [],
   "source": [
    "eye_df = pd.DataFrame()\n",
    "hand_df = pd.DataFrame()\n",
    "shelf_df = pd.DataFrame()\n",
    "for trialID, trialData in enumerate(MessageToDict(protobuf_obj)['trials']):\n",
    "    for s_id, shelfData in enumerate(trialData['metaData']['initialConfiguration']['items']):     \n",
    "        shelf_df = pd.concat([shelf_df, pd.DataFrame(shelfData, index=[s_id])], ignore_index=True, sort=False)\n",
    "    for s_id, sampleData in enumerate(trialData['samples']):\n",
    "        eye_df = pd.concat([eye_df, pd.DataFrame(flatten(sampleData), index=[s_id])], ignore_index=True, sort=False)\n",
    "#         for h_id, handData in enumerate(sampleData['handData']):\n",
    "#             hand_df = pd.concat([hand_df, pd.DataFrame(handData, index=[h_id])], ignore_index=True, sort=False)\n",
    "#             hand_df['timestamp'] = sampleData['timestamp']\n",
    "    eye_df['trialID'] = trialID\n",
    "#     hand_df['trialID'] = trialID\n",
    "    eye_df['subjectID'] = subjectID\n",
    "#     hand_df['subjectID'] = subjectID\n",
    "    shelf_df['trialID'] = trialID\n",
    "    shelf_df['subjectID'] = subjectID"
   ]
  },
  {
   "cell_type": "code",
   "execution_count": null,
   "metadata": {},
   "outputs": [],
   "source": [
    "shelf_df"
   ]
  },
  {
   "cell_type": "code",
   "execution_count": null,
   "metadata": {},
   "outputs": [],
   "source": [
    "pickleData('./Data/subject{}/'.format(subjectID),'eyeData',eye_df)\n",
    "pickleData('./Data/subject{}/'.format(subjectID),'shelfdata',shelf_df)\n",
    "del shelf_df\n",
    "del eye_df"
   ]
  },
  {
   "cell_type": "code",
   "execution_count": null,
   "metadata": {},
   "outputs": [],
   "source": [
    "raise"
   ]
  },
  {
   "cell_type": "markdown",
   "metadata": {},
   "source": [
    "# Scratch"
   ]
  },
  {
   "cell_type": "code",
   "execution_count": null,
   "metadata": {},
   "outputs": [],
   "source": [
    "# dict_obj = MessageToDict(protobuf_obj)\n",
    "dict_obj['trials'][2]['samples'][1]['handData']"
   ]
  },
  {
   "cell_type": "code",
   "execution_count": null,
   "metadata": {},
   "outputs": [],
   "source": [
    "dict_obj['trials'][1]['samples']"
   ]
  },
  {
   "cell_type": "code",
   "execution_count": null,
   "metadata": {},
   "outputs": [],
   "source": [
    "eye_df.trialID.value_counts()"
   ]
  }
 ],
 "metadata": {
  "kernelspec": {
   "display_name": "Python 3",
   "language": "python",
   "name": "python3"
  },
  "language_info": {
   "codemirror_mode": {
    "name": "ipython",
    "version": 3
   },
   "file_extension": ".py",
   "mimetype": "text/x-python",
   "name": "python",
   "nbconvert_exporter": "python",
   "pygments_lexer": "ipython3",
   "version": "3.6.8"
  }
 },
 "nbformat": 4,
 "nbformat_minor": 2
}
