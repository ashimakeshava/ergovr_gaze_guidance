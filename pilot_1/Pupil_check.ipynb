{
 "cells": [
  {
   "cell_type": "markdown",
   "metadata": {},
   "source": [
    "# Sanity Check on Pupil Labs Data"
   ]
  },
  {
   "cell_type": "code",
   "execution_count": 74,
   "metadata": {},
   "outputs": [],
   "source": [
    "import ProtobufTypes_pb2 \n",
    "import pandas as pd\n",
    "import sys\n",
    "import json\n",
    "import inspect\n",
    "from google.protobuf.json_format import MessageToDict\n",
    "from google.protobuf.json_format import MessageToJson\n",
    "from pandas.io.json import json_normalize\n",
    "import collections\n",
    "import numpy as np\n",
    "from IPython.display import display, HTML"
   ]
  },
  {
   "cell_type": "markdown",
   "metadata": {},
   "source": [
    "### Read Pupil Data from protobuf"
   ]
  },
  {
   "cell_type": "code",
   "execution_count": 44,
   "metadata": {},
   "outputs": [],
   "source": [
    "protobuf_obj = ProtobufTypes_pb2.EyetrackingDataSet()\n",
    "# print(et_data.SerializeToString())\n",
    "with open('Pupil.etd', \"rb\") as f:\n",
    "    protobuf_obj.ParseFromString(f.read())\n",
    "dict_obj = MessageToDict(protobuf_obj)"
   ]
  },
  {
   "cell_type": "code",
   "execution_count": 45,
   "metadata": {},
   "outputs": [],
   "source": [
    "#Flatten the dictionary for easy df conversion\n",
    "def flatten(d, parent_key='', sep='_'):\n",
    "    items = []\n",
    "    for k, v in d.items():\n",
    "        nk = parent_key + sep + k if parent_key else k\n",
    "        if isinstance(v, collections.MutableMapping):\n",
    "            items.extend(flatten(v, nk, sep=sep).items())\n",
    "        else:\n",
    "            items.append((nk,v))\n",
    "    return dict(items)"
   ]
  },
  {
   "cell_type": "code",
   "execution_count": 46,
   "metadata": {},
   "outputs": [
    {
     "name": "stderr",
     "output_type": "stream",
     "text": [
      "/home/lonesome/venv3/lib/python3.6/site-packages/ipykernel_launcher.py:3: FutureWarning: Sorting because non-concatenation axis is not aligned. A future version\n",
      "of pandas will change to not sort by default.\n",
      "\n",
      "To accept the future behavior, pass 'sort=False'.\n",
      "\n",
      "To retain the current behavior and silence the warning, pass 'sort=True'.\n",
      "\n",
      "  This is separate from the ipykernel package so we can avoid doing imports until\n"
     ]
    }
   ],
   "source": [
    "val_df = pd.concat([pd.DataFrame(flatten(samples), index=[idx]) \n",
    "            for idx, samples in enumerate(dict_obj['validationSamples'])],\n",
    "            ignore_index=True)\n"
   ]
  },
  {
   "cell_type": "code",
   "execution_count": 47,
   "metadata": {},
   "outputs": [
    {
     "data": {
      "text/plain": [
       "combinedEyeAngleOffset_x    0.000000\n",
       "combinedEyeAngleOffset_y    0.000000\n",
       "combinedEyeAngleOffset_z    0.000000\n",
       "headTransform_position_x    0.000000\n",
       "headTransform_position_y    0.000000\n",
       "headTransform_position_z    0.000000\n",
       "headTransform_rotation_w    0.000000\n",
       "headTransform_rotation_x    0.000000\n",
       "headTransform_rotation_y    0.000000\n",
       "headTransform_rotation_z    0.000000\n",
       "headTransform_scale_x       0.000000\n",
       "headTransform_scale_y       0.000000\n",
       "headTransform_scale_z       0.000000\n",
       "leftEyeAngleOffset_x        0.289858\n",
       "leftEyeAngleOffset_y        0.289858\n",
       "leftEyeAngleOffset_z        0.289858\n",
       "pointToFocus_x              0.000000\n",
       "pointToFocus_y              0.000000\n",
       "pointToFocus_z              0.000000\n",
       "rightEyeAngleOffset_x       0.893509\n",
       "rightEyeAngleOffset_y       0.893509\n",
       "rightEyeAngleOffset_z       0.893509\n",
       "dtype: float64"
      ]
     },
     "execution_count": 47,
     "metadata": {},
     "output_type": "execute_result"
    }
   ],
   "source": [
    "val_df.isna().mean()"
   ]
  },
  {
   "cell_type": "markdown",
   "metadata": {},
   "source": [
    "Pupil labs returns upto 89% of data as mean only during the validation period."
   ]
  },
  {
   "cell_type": "code",
   "execution_count": 6,
   "metadata": {},
   "outputs": [
    {
     "data": {
      "text/plain": [
       "Index(['combinedEyeAngleOffset_x', 'combinedEyeAngleOffset_y',\n",
       "       'combinedEyeAngleOffset_z', 'headTransform_position_x',\n",
       "       'headTransform_position_y', 'headTransform_position_z',\n",
       "       'headTransform_rotation_w', 'headTransform_rotation_x',\n",
       "       'headTransform_rotation_y', 'headTransform_rotation_z',\n",
       "       'headTransform_scale_x', 'headTransform_scale_y',\n",
       "       'headTransform_scale_z', 'leftEyeAngleOffset_x', 'leftEyeAngleOffset_y',\n",
       "       'leftEyeAngleOffset_z', 'pointToFocus_x', 'pointToFocus_y',\n",
       "       'pointToFocus_z', 'rightEyeAngleOffset_x', 'rightEyeAngleOffset_y',\n",
       "       'rightEyeAngleOffset_z'],\n",
       "      dtype='object')"
      ]
     },
     "execution_count": 6,
     "metadata": {},
     "output_type": "execute_result"
    }
   ],
   "source": [
    "val_df.columns"
   ]
  },
  {
   "cell_type": "code",
   "execution_count": 48,
   "metadata": {
    "scrolled": true
   },
   "outputs": [],
   "source": [
    "#change angles to be within 180 degrees\n",
    "sel_columns = ['combinedEyeAngleOffset_x', 'combinedEyeAngleOffset_y','combinedEyeAngleOffset_z',\n",
    "               'leftEyeAngleOffset_x', 'leftEyeAngleOffset_y','leftEyeAngleOffset_z',\n",
    "               'rightEyeAngleOffset_x', 'rightEyeAngleOffset_y','rightEyeAngleOffset_z']\n",
    "\n",
    "for col in sel_columns:\n",
    "    val_df.loc[val_df[col]>180, col] = 360 - val_df[col] "
   ]
  },
  {
   "cell_type": "markdown",
   "metadata": {},
   "source": [
    "### Plot the Validation error distribution for Left, Right and Cyclopean eye"
   ]
  },
  {
   "cell_type": "code",
   "execution_count": 90,
   "metadata": {},
   "outputs": [
    {
     "data": {
      "text/plain": [
       "(-5, 30)"
      ]
     },
     "execution_count": 90,
     "metadata": {},
     "output_type": "execute_result"
    },
    {
     "data": {
      "image/png": "[encoded data removed]",
      "text/plain": [
       "<Figure size 432x288 with 1 Axes>"
      ]
     },
     "metadata": {
      "needs_background": "light"
     },
     "output_type": "display_data"
    }
   ],
   "source": [
    "ax = val_df.loc[:,['combinedEyeAngleOffset_x','combinedEyeAngleOffset_y','combinedEyeAngleOffset_z']]\\\n",
    "    .plot.hist(title='Angular error for Cyclopean eye', bins =200)\n",
    "ax.set_xlabel('Angle in degrees')\n",
    "ax.set_xlim((-5, 30))"
   ]
  },
  {
   "cell_type": "code",
   "execution_count": 60,
   "metadata": {},
   "outputs": [
    {
     "data": {
      "text/plain": [
       "(-5, 30)"
      ]
     },
     "execution_count": 60,
     "metadata": {},
     "output_type": "execute_result"
    },
    {
     "data": {
      "image/png": "[encoded data removed]",
      "text/plain": [
       "<Figure size 432x288 with 1 Axes>"
      ]
     },
     "metadata": {
      "needs_background": "light"
     },
     "output_type": "display_data"
    }
   ],
   "source": [
    "ax = val_df.loc[:,['leftEyeAngleOffset_x', 'leftEyeAngleOffset_y','leftEyeAngleOffset_z']]\\\n",
    "    .plot.kde(title='Angular error for Left Eye')\n",
    "ax.set_xlabel('Angle in degrees')\n",
    "ax.set_xlim((-5, 30))"
   ]
  },
  {
   "cell_type": "code",
   "execution_count": 63,
   "metadata": {},
   "outputs": [
    {
     "data": {
      "text/plain": [
       "Text(0.5, 0, 'Angle in degrees')"
      ]
     },
     "execution_count": 63,
     "metadata": {},
     "output_type": "execute_result"
    },
    {
     "data": {
      "image/png": "[encoded data removed]",
      "text/plain": [
       "<Figure size 432x288 with 1 Axes>"
      ]
     },
     "metadata": {
      "needs_background": "light"
     },
     "output_type": "display_data"
    }
   ],
   "source": [
    "ax = val_df.loc[:,['rightEyeAngleOffset_x', 'rightEyeAngleOffset_y','rightEyeAngleOffset_z']]\\\n",
    "    .plot.kde(title='Angular error for Right Eye')\n",
    "ax.set_xlabel('Angle in degrees')\n",
    "# ax.set_xlim((-5, 100))"
   ]
  },
  {
   "cell_type": "code",
   "execution_count": 40,
   "metadata": {},
   "outputs": [
    {
     "name": "stdout",
     "output_type": "stream",
     "text": [
      "dict_keys(['subjectID', 'trials', 'validationSamples'])\n"
     ]
    }
   ],
   "source": [
    "print(dict_obj.keys())"
   ]
  },
  {
   "cell_type": "code",
   "execution_count": 41,
   "metadata": {},
   "outputs": [],
   "source": [
    "# Create DF for initial config, before start of each trial\n",
    "\n",
    "ini_conf = pd.DataFrame()\n",
    "for trial in dict_obj['trials']:\n",
    "    temp = pd.concat([pd.DataFrame(flatten(conf), index=[idx]) \n",
    "            for idx, conf in enumerate(trial['metaData']['initialConfiguration']['items'])],\n",
    "              ignore_index=True, sort=True )\n",
    "    temp['trialID'] = trial['metaData']['trialID']\n",
    "    ini_conf = pd.concat([ini_conf,temp],ignore_index=True, sort=True)\n",
    "ini_conf['subjectID'] = dict_obj['subjectID']"
   ]
  },
  {
   "cell_type": "code",
   "execution_count": 42,
   "metadata": {},
   "outputs": [],
   "source": [
    "# create DF for the eye samples\n",
    "samples = pd.DataFrame()\n",
    "for trial in dict_obj['trials']:\n",
    "    temp = pd.concat([ pd.DataFrame(flatten(samp), index=[idx])\n",
    "                      for idx, samp in enumerate(trial['samples'])], ignore_index=True, sort=False)\n",
    "    temp['trialID'] = trial['metaData']['trialID']\n",
    "    samples = pd.concat([samples,temp],ignore_index=True, sort=True)\n",
    "samples['subjectID'] = dict_obj['subjectID']"
   ]
  },
  {
   "cell_type": "code",
   "execution_count": 79,
   "metadata": {},
   "outputs": [
    {
     "data": {
      "text/plain": [
       "combinedEye_direction_x             0.000000\n",
       "combinedEye_direction_y             0.233152\n",
       "combinedEye_direction_z             0.000000\n",
       "combinedEye_position_x              0.000000\n",
       "combinedEye_position_y              0.000000\n",
       "combinedEye_position_z              0.000000\n",
       "combinedEye_raycastHitLocation_x    0.000000\n",
       "combinedEye_raycastHitLocation_y    0.116935\n",
       "combinedEye_raycastHitLocation_z    0.000000\n",
       "combinedEye_raycastHitObject        0.000000\n",
       "handData_gridPosition_x             0.000000\n",
       "handData_gridPosition_y             0.000000\n",
       "handData_transform_position_x       0.000000\n",
       "handData_transform_position_y       0.000000\n",
       "handData_transform_position_z       0.000000\n",
       "handData_transform_rotation_w       0.000000\n",
       "handData_transform_rotation_x       0.000000\n",
       "handData_transform_rotation_y       0.000000\n",
       "handData_transform_rotation_z       0.000205\n",
       "handData_transform_scale_x          0.000000\n",
       "handData_transform_scale_y          0.000000\n",
       "handData_transform_scale_z          0.000000\n",
       "headTransform_position_x            0.000000\n",
       "headTransform_position_y            0.000000\n",
       "headTransform_position_z            0.000000\n",
       "headTransform_rotation_w            0.000000\n",
       "headTransform_rotation_x            0.000000\n",
       "headTransform_rotation_y            0.000000\n",
       "headTransform_rotation_z            0.000000\n",
       "headTransform_scale_x               0.000000\n",
       "headTransform_scale_y               0.000000\n",
       "headTransform_scale_z               0.000000\n",
       "leftEye_direction_x                 0.292851\n",
       "leftEye_direction_y                 0.292851\n",
       "leftEye_direction_z                 0.292851\n",
       "leftEye_position_x                  0.290389\n",
       "leftEye_position_y                  0.290389\n",
       "leftEye_position_z                  0.290389\n",
       "leftEye_raycastHitLocation_x        0.292851\n",
       "leftEye_raycastHitLocation_y        0.311519\n",
       "leftEye_raycastHitLocation_z        0.292851\n",
       "leftEye_raycastHitObject            0.292851\n",
       "nosePointer_direction_x             0.000000\n",
       "nosePointer_direction_y             0.000000\n",
       "nosePointer_direction_z             0.000000\n",
       "nosePointer_position_x              0.000000\n",
       "nosePointer_position_y              0.000000\n",
       "nosePointer_position_z              0.000000\n",
       "nosePointer_raycastHitLocation_x    0.000000\n",
       "nosePointer_raycastHitLocation_y    0.015181\n",
       "nosePointer_raycastHitLocation_z    0.000000\n",
       "nosePointer_raycastHitObject        0.000000\n",
       "rightEye_direction_x                0.907683\n",
       "rightEye_direction_y                0.907683\n",
       "rightEye_direction_z                0.907683\n",
       "rightEye_position_x                 0.673300\n",
       "rightEye_position_y                 0.673300\n",
       "rightEye_position_z                 0.673300\n",
       "rightEye_raycastHitLocation_x       0.907683\n",
       "rightEye_raycastHitLocation_y       0.945020\n",
       "rightEye_raycastHitLocation_z       0.907683\n",
       "rightEye_raycastHitObject           0.907683\n",
       "timestamp                           0.000000\n",
       "trialID                             0.000000\n",
       "unixTimestamp_seconds               0.000000\n",
       "subjectID                           0.000000\n",
       "dtype: float64"
      ]
     },
     "metadata": {},
     "output_type": "display_data"
    }
   ],
   "source": [
    "# pd.set_option('display.height', 1000)\n",
    "with pd.option_context('display.max_rows', None, 'display.max_columns', None):  # more options can be specified also\n",
    "    display(samples.isna().mean())\n"
   ]
  },
  {
   "cell_type": "code",
   "execution_count": 85,
   "metadata": {},
   "outputs": [
    {
     "data": {
      "text/plain": [
       "(9749,)"
      ]
     },
     "execution_count": 85,
     "metadata": {},
     "output_type": "execute_result"
    }
   ],
   "source": [
    "samples['unixTimestamp_seconds'].shape"
   ]
  },
  {
   "cell_type": "code",
   "execution_count": 86,
   "metadata": {},
   "outputs": [
    {
     "data": {
      "text/plain": [
       "(128,)"
      ]
     },
     "execution_count": 86,
     "metadata": {},
     "output_type": "execute_result"
    }
   ],
   "source": [
    "samples['unixTimestamp_seconds'].unique().shape"
   ]
  },
  {
   "cell_type": "code",
   "execution_count": 87,
   "metadata": {},
   "outputs": [
    {
     "data": {
      "text/plain": [
       "(9749,)"
      ]
     },
     "execution_count": 87,
     "metadata": {},
     "output_type": "execute_result"
    }
   ],
   "source": [
    "samples['timestamp'].shape"
   ]
  },
  {
   "cell_type": "code",
   "execution_count": 88,
   "metadata": {},
   "outputs": [
    {
     "data": {
      "text/plain": [
       "(1,)"
      ]
     },
     "execution_count": 88,
     "metadata": {},
     "output_type": "execute_result"
    }
   ],
   "source": [
    "samples['timestamp'].unique().shape"
   ]
  },
  {
   "cell_type": "code",
   "execution_count": 84,
   "metadata": {},
   "outputs": [
    {
     "data": {
      "text/plain": [
       "array([ 5, 11,  3,  4])"
      ]
     },
     "execution_count": 84,
     "metadata": {},
     "output_type": "execute_result"
    }
   ],
   "source": [
    "samples['trialID'].unique()"
   ]
  }
 ],
 "metadata": {
  "kernelspec": {
   "display_name": "Python 3",
   "language": "python",
   "name": "python3"
  },
  "language_info": {
   "codemirror_mode": {
    "name": "ipython",
    "version": 3
   },
   "file_extension": ".py",
   "mimetype": "text/x-python",
   "name": "python",
   "nbconvert_exporter": "python",
   "pygments_lexer": "ipython3",
   "version": "3.6.8"
  }
 },
 "nbformat": 4,
 "nbformat_minor": 2
}
