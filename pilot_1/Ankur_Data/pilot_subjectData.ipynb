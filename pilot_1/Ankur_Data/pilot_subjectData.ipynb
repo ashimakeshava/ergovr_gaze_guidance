{
 "cells": [
  {
   "cell_type": "markdown",
   "metadata": {},
   "source": [
    "# Pilot data check - TODO\n",
    "\n",
    "- frame rate/subject\n",
    "- number of grasps/subject\n",
    "- number of eye samples/object\n",
    "- number of eye samples/grasped object\n",
    "- number of eye samples/grasped object/sorting type --> shouldn't be different\n",
    "- number of samples with NaN\n",
    "- validation error across trials/subject\n",
    "- azimuth and elevation angles/subject (histograms)\n",
    "- Amplitude of head movements based on velocity\n",
    "- Saccade amplitude based on velocity"
   ]
  },
  {
   "cell_type": "markdown",
   "metadata": {},
   "source": [
    "# Quick notes\n",
    "Subjects 1001, 1002, 1003, 1004, 1005, 1007 --> no grasped object recorded"
   ]
  },
  {
   "cell_type": "code",
   "execution_count": 1,
   "metadata": {},
   "outputs": [],
   "source": [
    "import ProtobufTypes_pb2 \n",
    "import pandas as pd\n",
    "import sys\n",
    "from google.protobuf.json_format import MessageToDict\n",
    "import collections\n",
    "import numpy as np\n",
    "import glob\n",
    "import seaborn as sns\n",
    "import os\n",
    "import matplotlib.pyplot as plt\n",
    "import pickle\n",
    "import pprint\n",
    "from IPython.display import display\n",
    "PLOT_DIR = './PLOTS/data_quality/'\n",
    "os.makedirs(os.path.dirname(PLOT_DIR), exist_ok=True)\n",
    "sns.set(context = \"talk\", style=\"white\", palette=\"dark\", font_scale=1, rc={'figure.figsize':(11.7,8.27)})\n",
    "COLORS = {'g': '#CAE6CB', 'r': '#E6CACA', 'b': '#C9D4F5'}"
   ]
  },
  {
   "cell_type": "code",
   "execution_count": 2,
   "metadata": {},
   "outputs": [],
   "source": [
    "# pickle the data\n",
    "def pickleData(filepath,filename, data):\n",
    "    os.makedirs(os.path.dirname(filepath), exist_ok=True)\n",
    "    with open(str(filepath+filename),'wb') as fh:\n",
    "        pickle.dump(data,fh)\n",
    "\n",
    "# read from pickled data\n",
    "def read_dataFrameFromFile(filename):\n",
    "    with open(filename, 'rb') as fh:\n",
    "        dataframe = pickle.load(fh)\n",
    "    return dataframe"
   ]
  },
  {
   "cell_type": "code",
   "execution_count": 4,
   "metadata": {},
   "outputs": [],
   "source": [
    "protobuf_obj = ProtobufTypes_pb2.EyetrackingDataSet()\n",
    "files = glob.glob(\"./subject2*.etd\")\n",
    "samples_df = pd.DataFrame()\n",
    "shelf_df = pd.DataFrame()\n",
    "for fi in files:\n",
    "    try:\n",
    "        with open(fi, \"rb\") as f:\n",
    "            protobuf_obj.ParseFromString(f.read())\n",
    "        dict_obj = MessageToDict(protobuf_obj)\n",
    "        for nT, trial in enumerate(dict_obj['trials']):\n",
    "            tmpdf = pd.io.json.json_normalize(data=trial['samples'])\n",
    "            if 'handData.graspedObject' in tmpdf.columns:\n",
    "                tmpdf = tmpdf.loc[:, ['unixTimestamp','timestamp', 'combinedEye.raycastHitObject','handData.graspedObject']]\n",
    "            else:\n",
    "                tmpdf = tmpdf.loc[:, ['unixTimestamp','timestamp', 'combinedEye.raycastHitObject']]\n",
    "                                  \n",
    "            tmpdf['trialID'] = trial['metaData']['trialID'] if 'trialID' in trial['metaData'] else np.NaN  \n",
    "            tmpdf['subjectID'] = dict_obj['subjectID']\n",
    "            tmpdf['trialNum'] = nT\n",
    "            samples_df = pd.concat([samples_df, tmpdf], ignore_index=True, sort=False)             \n",
    "            \n",
    "            tmpdf = pd.io.json.json_normalize(data=trial['metaData']['initialConfiguration']['items'])\n",
    "            tmpdf['trialID'] = trial['metaData']['trialID'] if 'trialID' in trial['metaData'] else np.NaN  \n",
    "            tmpdf['subjectID'] = dict_obj['subjectID']\n",
    "            tmpdf['trialNum'] = nT\n",
    "            shelf_df = pd.concat([shelf_df, tmpdf], ignore_index=True, sort=False) \n",
    "            \n",
    "    except FileNotFoundError:\n",
    "        print(\"{} not found, moving on!\".format(fi))\n",
    "    \n",
    "pickleData('./Data/','reducedAllData',samples_df)\n",
    "del samples_df\n",
    "pickleData('./Data/','allShelfData',shelf_df)\n",
    "del shelf_df"
   ]
  },
  {
   "cell_type": "code",
   "execution_count": 6,
   "metadata": {},
   "outputs": [],
   "source": [
    "samples_df = read_dataFrameFromFile('./Data/reducedAllData')"
   ]
  },
  {
   "cell_type": "code",
   "execution_count": 7,
   "metadata": {},
   "outputs": [
    {
     "data": {
      "text/html": [
       "<div>\n",
       "<style scoped>\n",
       "    .dataframe tbody tr th:only-of-type {\n",
       "        vertical-align: middle;\n",
       "    }\n",
       "\n",
       "    .dataframe tbody tr th {\n",
       "        vertical-align: top;\n",
       "    }\n",
       "\n",
       "    .dataframe thead th {\n",
       "        text-align: right;\n",
       "    }\n",
       "</style>\n",
       "<table border=\"1\" class=\"dataframe\">\n",
       "  <thead>\n",
       "    <tr style=\"text-align: right;\">\n",
       "      <th></th>\n",
       "      <th>unixTimestamp</th>\n",
       "      <th>timestamp</th>\n",
       "      <th>combinedEye.raycastHitObject</th>\n",
       "      <th>handData.graspedObject</th>\n",
       "      <th>trialID</th>\n",
       "      <th>subjectID</th>\n",
       "      <th>trialNum</th>\n",
       "    </tr>\n",
       "  </thead>\n",
       "  <tbody>\n",
       "    <tr>\n",
       "      <th>0</th>\n",
       "      <td>NaN</td>\n",
       "      <td>-1.000000</td>\n",
       "      <td>Pane</td>\n",
       "      <td>NaN</td>\n",
       "      <td>7.0</td>\n",
       "      <td>2003</td>\n",
       "      <td>0</td>\n",
       "    </tr>\n",
       "    <tr>\n",
       "      <th>1</th>\n",
       "      <td>NaN</td>\n",
       "      <td>0.333333</td>\n",
       "      <td>Pane</td>\n",
       "      <td>NaN</td>\n",
       "      <td>7.0</td>\n",
       "      <td>2003</td>\n",
       "      <td>0</td>\n",
       "    </tr>\n",
       "    <tr>\n",
       "      <th>2</th>\n",
       "      <td>NaN</td>\n",
       "      <td>0.344618</td>\n",
       "      <td>Back</td>\n",
       "      <td>NaN</td>\n",
       "      <td>7.0</td>\n",
       "      <td>2003</td>\n",
       "      <td>0</td>\n",
       "    </tr>\n",
       "    <tr>\n",
       "      <th>3</th>\n",
       "      <td>NaN</td>\n",
       "      <td>0.351899</td>\n",
       "      <td>Back</td>\n",
       "      <td>NaN</td>\n",
       "      <td>7.0</td>\n",
       "      <td>2003</td>\n",
       "      <td>0</td>\n",
       "    </tr>\n",
       "    <tr>\n",
       "      <th>4</th>\n",
       "      <td>NaN</td>\n",
       "      <td>0.370050</td>\n",
       "      <td>Back</td>\n",
       "      <td>NaN</td>\n",
       "      <td>7.0</td>\n",
       "      <td>2003</td>\n",
       "      <td>0</td>\n",
       "    </tr>\n",
       "    <tr>\n",
       "      <th>5</th>\n",
       "      <td>NaN</td>\n",
       "      <td>0.380484</td>\n",
       "      <td>Back</td>\n",
       "      <td>NaN</td>\n",
       "      <td>7.0</td>\n",
       "      <td>2003</td>\n",
       "      <td>0</td>\n",
       "    </tr>\n",
       "    <tr>\n",
       "      <th>6</th>\n",
       "      <td>NaN</td>\n",
       "      <td>0.391781</td>\n",
       "      <td>Back</td>\n",
       "      <td>NaN</td>\n",
       "      <td>7.0</td>\n",
       "      <td>2003</td>\n",
       "      <td>0</td>\n",
       "    </tr>\n",
       "    <tr>\n",
       "      <th>7</th>\n",
       "      <td>NaN</td>\n",
       "      <td>0.402628</td>\n",
       "      <td>Back</td>\n",
       "      <td>NaN</td>\n",
       "      <td>7.0</td>\n",
       "      <td>2003</td>\n",
       "      <td>0</td>\n",
       "    </tr>\n",
       "    <tr>\n",
       "      <th>8</th>\n",
       "      <td>NaN</td>\n",
       "      <td>0.413729</td>\n",
       "      <td>Back</td>\n",
       "      <td>NaN</td>\n",
       "      <td>7.0</td>\n",
       "      <td>2003</td>\n",
       "      <td>0</td>\n",
       "    </tr>\n",
       "    <tr>\n",
       "      <th>9</th>\n",
       "      <td>NaN</td>\n",
       "      <td>0.424950</td>\n",
       "      <td>Back</td>\n",
       "      <td>NaN</td>\n",
       "      <td>7.0</td>\n",
       "      <td>2003</td>\n",
       "      <td>0</td>\n",
       "    </tr>\n",
       "    <tr>\n",
       "      <th>10</th>\n",
       "      <td>NaN</td>\n",
       "      <td>0.435918</td>\n",
       "      <td>Back</td>\n",
       "      <td>NaN</td>\n",
       "      <td>7.0</td>\n",
       "      <td>2003</td>\n",
       "      <td>0</td>\n",
       "    </tr>\n",
       "    <tr>\n",
       "      <th>11</th>\n",
       "      <td>NaN</td>\n",
       "      <td>0.447124</td>\n",
       "      <td>Back</td>\n",
       "      <td>NaN</td>\n",
       "      <td>7.0</td>\n",
       "      <td>2003</td>\n",
       "      <td>0</td>\n",
       "    </tr>\n",
       "    <tr>\n",
       "      <th>12</th>\n",
       "      <td>NaN</td>\n",
       "      <td>0.457981</td>\n",
       "      <td>Back</td>\n",
       "      <td>NaN</td>\n",
       "      <td>7.0</td>\n",
       "      <td>2003</td>\n",
       "      <td>0</td>\n",
       "    </tr>\n",
       "    <tr>\n",
       "      <th>13</th>\n",
       "      <td>NaN</td>\n",
       "      <td>0.469251</td>\n",
       "      <td>Back</td>\n",
       "      <td>NaN</td>\n",
       "      <td>7.0</td>\n",
       "      <td>2003</td>\n",
       "      <td>0</td>\n",
       "    </tr>\n",
       "    <tr>\n",
       "      <th>14</th>\n",
       "      <td>NaN</td>\n",
       "      <td>0.480263</td>\n",
       "      <td>Back</td>\n",
       "      <td>NaN</td>\n",
       "      <td>7.0</td>\n",
       "      <td>2003</td>\n",
       "      <td>0</td>\n",
       "    </tr>\n",
       "    <tr>\n",
       "      <th>15</th>\n",
       "      <td>NaN</td>\n",
       "      <td>0.491701</td>\n",
       "      <td>Back</td>\n",
       "      <td>NaN</td>\n",
       "      <td>7.0</td>\n",
       "      <td>2003</td>\n",
       "      <td>0</td>\n",
       "    </tr>\n",
       "    <tr>\n",
       "      <th>16</th>\n",
       "      <td>NaN</td>\n",
       "      <td>0.502336</td>\n",
       "      <td>Back</td>\n",
       "      <td>NaN</td>\n",
       "      <td>7.0</td>\n",
       "      <td>2003</td>\n",
       "      <td>0</td>\n",
       "    </tr>\n",
       "    <tr>\n",
       "      <th>17</th>\n",
       "      <td>NaN</td>\n",
       "      <td>0.513829</td>\n",
       "      <td>Back</td>\n",
       "      <td>NaN</td>\n",
       "      <td>7.0</td>\n",
       "      <td>2003</td>\n",
       "      <td>0</td>\n",
       "    </tr>\n",
       "    <tr>\n",
       "      <th>18</th>\n",
       "      <td>NaN</td>\n",
       "      <td>0.524570</td>\n",
       "      <td>Back</td>\n",
       "      <td>NaN</td>\n",
       "      <td>7.0</td>\n",
       "      <td>2003</td>\n",
       "      <td>0</td>\n",
       "    </tr>\n",
       "    <tr>\n",
       "      <th>19</th>\n",
       "      <td>NaN</td>\n",
       "      <td>0.536219</td>\n",
       "      <td>Back</td>\n",
       "      <td>NaN</td>\n",
       "      <td>7.0</td>\n",
       "      <td>2003</td>\n",
       "      <td>0</td>\n",
       "    </tr>\n",
       "  </tbody>\n",
       "</table>\n",
       "</div>"
      ],
      "text/plain": [
       "    unixTimestamp  timestamp combinedEye.raycastHitObject  \\\n",
       "0             NaN  -1.000000                         Pane   \n",
       "1             NaN   0.333333                         Pane   \n",
       "2             NaN   0.344618                         Back   \n",
       "3             NaN   0.351899                         Back   \n",
       "4             NaN   0.370050                         Back   \n",
       "5             NaN   0.380484                         Back   \n",
       "6             NaN   0.391781                         Back   \n",
       "7             NaN   0.402628                         Back   \n",
       "8             NaN   0.413729                         Back   \n",
       "9             NaN   0.424950                         Back   \n",
       "10            NaN   0.435918                         Back   \n",
       "11            NaN   0.447124                         Back   \n",
       "12            NaN   0.457981                         Back   \n",
       "13            NaN   0.469251                         Back   \n",
       "14            NaN   0.480263                         Back   \n",
       "15            NaN   0.491701                         Back   \n",
       "16            NaN   0.502336                         Back   \n",
       "17            NaN   0.513829                         Back   \n",
       "18            NaN   0.524570                         Back   \n",
       "19            NaN   0.536219                         Back   \n",
       "\n",
       "   handData.graspedObject  trialID  subjectID  trialNum  \n",
       "0                     NaN      7.0       2003         0  \n",
       "1                     NaN      7.0       2003         0  \n",
       "2                     NaN      7.0       2003         0  \n",
       "3                     NaN      7.0       2003         0  \n",
       "4                     NaN      7.0       2003         0  \n",
       "5                     NaN      7.0       2003         0  \n",
       "6                     NaN      7.0       2003         0  \n",
       "7                     NaN      7.0       2003         0  \n",
       "8                     NaN      7.0       2003         0  \n",
       "9                     NaN      7.0       2003         0  \n",
       "10                    NaN      7.0       2003         0  \n",
       "11                    NaN      7.0       2003         0  \n",
       "12                    NaN      7.0       2003         0  \n",
       "13                    NaN      7.0       2003         0  \n",
       "14                    NaN      7.0       2003         0  \n",
       "15                    NaN      7.0       2003         0  \n",
       "16                    NaN      7.0       2003         0  \n",
       "17                    NaN      7.0       2003         0  \n",
       "18                    NaN      7.0       2003         0  \n",
       "19                    NaN      7.0       2003         0  "
      ]
     },
     "execution_count": 7,
     "metadata": {},
     "output_type": "execute_result"
    }
   ],
   "source": [
    "samples_df.head(20)"
   ]
  },
  {
   "cell_type": "code",
   "execution_count": 8,
   "metadata": {
    "scrolled": true
   },
   "outputs": [
    {
     "name": "stdout",
     "output_type": "stream",
     "text": [
      "<class 'pandas.core.frame.DataFrame'>\n",
      "RangeIndex: 824140 entries, 0 to 824139\n",
      "Data columns (total 7 columns):\n",
      "unixTimestamp                   0 non-null float64\n",
      "timestamp                       824140 non-null float64\n",
      "combinedEye.raycastHitObject    803429 non-null object\n",
      "handData.graspedObject          221787 non-null object\n",
      "trialID                         754310 non-null float64\n",
      "subjectID                       824140 non-null int64\n",
      "trialNum                        824140 non-null int64\n",
      "dtypes: float64(3), int64(2), object(2)\n",
      "memory usage: 44.0+ MB\n"
     ]
    }
   ],
   "source": [
    "samples_df.info()"
   ]
  },
  {
   "cell_type": "code",
   "execution_count": null,
   "metadata": {},
   "outputs": [],
   "source": [
    "samples_df.isna().mean()"
   ]
  },
  {
   "cell_type": "code",
   "execution_count": null,
   "metadata": {
    "scrolled": true
   },
   "outputs": [],
   "source": [
    "filtered_df = samples_df.dropna(subset=['trialID'])\n",
    "filtered_df = filtered_df.drop(columns='unixTimestamp')\n",
    "filtered_df = filtered_df.loc[(filtered_df.timestamp!=-1), :]"
   ]
  },
  {
   "cell_type": "code",
   "execution_count": null,
   "metadata": {},
   "outputs": [],
   "source": [
    "filtered_df.subjectID.unique()"
   ]
  },
  {
   "cell_type": "code",
   "execution_count": null,
   "metadata": {},
   "outputs": [],
   "source": [
    "filtered_df.trialNum.value_counts()"
   ]
  },
  {
   "cell_type": "code",
   "execution_count": null,
   "metadata": {
    "scrolled": true
   },
   "outputs": [],
   "source": [
    "tmpdf = (\n",
    "    samples_df\n",
    "    .groupby(['subjectID','trialNum'])['timestamp']\n",
    "    .apply(lambda x: 1/np.mean(x - x.shift()))\n",
    "    .rename('Frame_Rate')\n",
    "    .reset_index()\n",
    ")\n",
    "# display(tmpdf)\n",
    "\n",
    "_, ax = plt.subplots(1,1,figsize=(20,10))\n",
    "sns.pointplot(data=tmpdf, x='subjectID', y='Frame_Rate', color='b',\n",
    "              errwidth=2, capsize=0, saturation=0.5,ci='sd')\n",
    "\n",
    "plt.title('Frame Rate')\n",
    "plt.savefig(PLOT_DIR+'/frame_rate.png', quality=90)"
   ]
  },
  {
   "cell_type": "code",
   "execution_count": null,
   "metadata": {},
   "outputs": [],
   "source": [
    "tmpdf = (\n",
    "    samples_df\n",
    "    .groupby(['subjectID','trialID','trialNum'])['handData.graspedObject']\n",
    "    .apply(pd.Series.nunique)\n",
    "    .rename('Number of Grasped Objects')\n",
    "    .reset_index()\n",
    ")\n",
    "# display(tmpdf)\n",
    "_, ax = plt.subplots(figsize=(20,10))\n",
    "sns.boxplot(data=tmpdf, x='subjectID', y='Number of Grasped Objects', palette='GnBu')\n",
    "# sns.boxplot(data=tmpdf, x='trialID', y='Number of Grasped Objects', palette='GnBu')\n",
    "\n",
    "plt.title('Number of Unique Grasped Objects over Subjects')\n",
    "plt.savefig(PLOT_DIR+'/graspedObjects_perSubject.png', quality=90)"
   ]
  },
  {
   "cell_type": "code",
   "execution_count": null,
   "metadata": {
    "scrolled": false
   },
   "outputs": [],
   "source": [
    "tmpdf = (\n",
    "    samples_df\n",
    "    .groupby(['subjectID','trialID','trialNum'])['handData.graspedObject']\n",
    "    .apply(lambda x: pd.Series.nunique(x) -1)\n",
    "    .rename('Number of Grasped Objects')\n",
    "    .reset_index()\n",
    ")\n",
    "# display(tmpdf)\n",
    "_, ax = plt.subplots(figsize=(20,10))\n",
    "# sns.pointplot(data=tmpdf, x='trialID', y='Number of Grasped Objects', color='b',\n",
    "#               errwidth=2, capsize=0, saturation=0.5,ci='sd')\n",
    "sns.stripplot(data=tmpdf, x='trialID', y='Number of Grasped Objects', palette='GnBu', size=20)\n",
    "plt.title('Number of Unique Grasped Objects')\n",
    "plt.savefig(PLOT_DIR+'/graspedObjects_perTrial.png', quality=90)"
   ]
  },
  {
   "cell_type": "code",
   "execution_count": null,
   "metadata": {},
   "outputs": [],
   "source": [
    "tmpdf = (\n",
    "    samples_df\n",
    "    .groupby(['subjectID','trialNum','combinedEye.raycastHitObject'])\n",
    "    .agg({'trialID':'count'})\n",
    "    .rename(columns={'trialID':'numSamples'})\n",
    "    .reset_index()\n",
    ")\n",
    "# display(tmpdf)\n",
    "\n",
    "_, ax = plt.subplots(figsize=(20,10))\n",
    "sns.pointplot(data=tmpdf, x='subjectID', y='numSamples', color='b',\n",
    "              errwidth=2, capsize=0, saturation=0.5,ci='sd')\n",
    "\n",
    "plt.title('Number of Raycast Hits per Trial')\n",
    "plt.savefig(PLOT_DIR+'/SamplesPerObject_subject.png', quality=90)"
   ]
  },
  {
   "cell_type": "code",
   "execution_count": null,
   "metadata": {},
   "outputs": [],
   "source": [
    "def replace_objs(s):\n",
    "    valid_objs = ['Cube_Blue', 'Cube_Green', 'Cube_Red', 'Cube_Yellow', 'Cylinder_Blue', 'Cylinder_Green',\n",
    "                  'Cylinder_Red','Cylinder_Yellow', 'Sphere_Blue', 'Sphere_Green', 'Sphere_Red',\n",
    "                  'Sphere_Yellow', 'Tetraeder_Blue', 'Tetraeder_Green', 'Tetraeder_Red', 'Tetraeder_Yellow']\n",
    "    if s in valid_objs:\n",
    "        return s\n",
    "    else:\n",
    "        return 'Other'\n",
    "\n"
   ]
  },
  {
   "cell_type": "code",
   "execution_count": null,
   "metadata": {},
   "outputs": [],
   "source": [
    "tmpdf = samples_df\n",
    "tmpdf['combinedEye.raycastHitObject'] = tmpdf['combinedEye.raycastHitObject'].apply(replace_objs)\n",
    "display(tmpdf)\n",
    "tmpdf = (\n",
    "    tmpdf\n",
    "    .groupby(['subjectID','trialNum','combinedEye.raycastHitObject'])\n",
    "    .agg({'trialID': 'count'})\n",
    "    .rename(columns={'trialID': 'numSamples'})\n",
    "    .reset_index()\n",
    ")\n",
    "# display(tmpdf)\n",
    "_, ax = plt.subplots(1,1,figsize=(20,10))\n",
    "sns.pointplot(data=tmpdf, x='subjectID', y='numSamples', hue='combinedEye.raycastHitObject',\n",
    "              errwidth=2, capsize=0, saturation=0.5,ci='sd', palette='dark', dodge=0.2, ax=ax)\n",
    "plt.legend(loc='upper left')\n",
    "plt.title('Number of Raycast Hits per Trial')\n",
    "plt.savefig(PLOT_DIR+'/SamplesPerObject_Shelf.png', quality=90)"
   ]
  },
  {
   "cell_type": "code",
   "execution_count": null,
   "metadata": {},
   "outputs": [],
   "source": []
  },
  {
   "cell_type": "code",
   "execution_count": null,
   "metadata": {},
   "outputs": [],
   "source": [
    "samples_df['handData.graspedObject'].value_counts()"
   ]
  },
  {
   "cell_type": "code",
   "execution_count": null,
   "metadata": {},
   "outputs": [],
   "source": [
    "samples_df.head()"
   ]
  },
  {
   "cell_type": "code",
   "execution_count": null,
   "metadata": {
    "scrolled": true
   },
   "outputs": [],
   "source": [
    "tmpdf = (\n",
    "    samples_df\n",
    "    .groupby(['trialID','subjectID','combinedEye.raycastHitObject'])\n",
    "    .agg({'trialID':'count'})\n",
    "    .rename(columns={'trialID':'numSamples'})\n",
    "    .reset_index()\n",
    ")\n",
    "# display(tmpdf)\n",
    "_, ax = plt.subplots(1,1,figsize=(20,10))\n",
    "sns.boxplot(data=tmpdf, x='trialID', y='numSamples', hue='combinedEye.raycastHitObject',\n",
    "              saturation=0.5, palette='GnBu', dodge=0.1, ax=ax)\n",
    "# sns.pointplot(data=tmpdf, x='trialID', y='numSamples', hue='combinedEye.raycastHitObject',\n",
    "#               errwidth=2, capsize=0, saturation=0.5,ci='sd', palette='dark', dodge=0.1, ax=ax)\n",
    "# sns.stripplot(data=tmpdf, x='trialID', y='numSamples', hue='combinedEye.raycastHitObject',\n",
    "#                palette='dark', jitter=0.1,dodge=0.2, size=10, ax=ax)\n",
    "plt.ylim(0, 40000)\n",
    "plt.legend(loc='upper left')\n",
    "plt.title('Number of Raycast Hits per Task Type')\n",
    "plt.savefig(PLOT_DIR+'/SamplesPerObject_trials.png', quality=90)"
   ]
  },
  {
   "cell_type": "code",
   "execution_count": null,
   "metadata": {
    "scrolled": true
   },
   "outputs": [],
   "source": [
    "tmpdf = (\n",
    "    samples_df.groupby(['subjectID','trialID','trialNum'])['timestamp']\n",
    "    .apply(lambda x: (x.iloc[-1]-x.iloc[0]))\n",
    "    .reset_index()\n",
    ")\n",
    "# display(tmpdf)\n",
    "# ax = sns.pointplot(data=tmpdf, x='trialID', y='timestamp',\n",
    "#               errwidth=2, capsize=0, saturation=0.5,ci='sd')\n",
    "_, ax = plt.subplots(1,1,figsize=(20,10))\n",
    "ax = sns.boxplot(data=tmpdf, x='trialID', y='timestamp', palette='GnBu',\n",
    "              saturation=0.5)\n",
    "ax.set_ylabel('Duration (sec)')\n",
    "plt.title('Duration of Trials over Subjects')\n",
    "plt.savefig(PLOT_DIR+'/durationPertrials_taskType.png', quality=90)"
   ]
  },
  {
   "cell_type": "code",
   "execution_count": null,
   "metadata": {
    "scrolled": true
   },
   "outputs": [],
   "source": [
    "tmpdf = (\n",
    "    samples_df.groupby(['subjectID', 'trialNum'])['timestamp']\n",
    "    .apply(lambda x: (x.iloc[-1]-x.iloc[0]))\n",
    "    .reset_index()\n",
    ")\n",
    "# display(tmpdf)\n",
    "# ax = sns.pointplot(data=tmpdf, x='trialID', y='timestamp',\n",
    "#               errwidth=2, capsize=0, saturation=0.5,ci='sd')\n",
    "_, ax = plt.subplots(1,1,figsize=(20,10))\n",
    "ax = sns.boxplot(data=tmpdf, x='subjectID', y='timestamp', palette='GnBu',\n",
    "              saturation=0.5)\n",
    "ax.set_ylabel('Duration (sec)')\n",
    "plt.title('Duration of Trials/Subjects')\n",
    "plt.savefig(PLOT_DIR+'/durationPertrials_subject.png', quality=90)"
   ]
  },
  {
   "cell_type": "code",
   "execution_count": null,
   "metadata": {},
   "outputs": [],
   "source": [
    "shelf_df = read_dataFrameFromFile('./Data/allShelfData')\n",
    "shelf_df.info()\n",
    "shelf_df.isna().mean()"
   ]
  },
  {
   "cell_type": "code",
   "execution_count": null,
   "metadata": {
    "scrolled": true
   },
   "outputs": [],
   "source": [
    "%matplotlib inline\n",
    "%matplotlib inline\n",
    "tmpdf = (\n",
    "    shelf_df\n",
    "    .groupby('subjectID')\n",
    "    .apply(lambda x: x.isna().mean())\n",
    "    .drop(columns=['subjectID','trialID'])\n",
    "    .reset_index()\n",
    "    .set_index('subjectID')\n",
    ")\n",
    "_, _ = plt.subplots(1,1,figsize=(12,12))\n",
    "ax = sns.heatmap(tmpdf, vmin=0, vmax=0.25, annot=True, linewidths=.5, cmap='viridis_r', annot_kws={\"size\": 25})\n",
    "ax.set_ylim(len(tmpdf)-0.1, -0.5)\n",
    "plt.yticks(rotation=0, fontsize=25) \n",
    "plt.xticks(rotation=45, fontsize=25)\n",
    "plt.xlabel(fontsize=20)\n",
    "plt.title('Proportion of Missing Vlues of Shelf Configuration', fontsize=30)\n",
    "plt.savefig(PLOT_DIR+'/shelf_missingVals.png', quality=90, transparent=True)"
   ]
  },
  {
   "cell_type": "code",
   "execution_count": null,
   "metadata": {},
   "outputs": [],
   "source": [
    "samples_df.head()\n",
    "    "
   ]
  },
  {
   "cell_type": "code",
   "execution_count": null,
   "metadata": {},
   "outputs": [],
   "source": [
    "samples_df['handData.graspedObject'].fillna(0, inplace=True)\n",
    "samples_df['numHits'] = (\n",
    "        samples_df['combinedEye.raycastHitObject']\n",
    "        .groupby((samples_df['combinedEye.raycastHitObject']!=samples_df['combinedEye.raycastHitObject'].shift())\n",
    "        .cumsum())\n",
    "        .transform('size')\n",
    ")\n",
    "samples_df['eyeChange'] = (\n",
    "                samples_df['combinedEye.raycastHitObject']!=samples_df['combinedEye.raycastHitObject'].shift()\n",
    ")\n",
    "samples_df['handChange'] = (\n",
    "                samples_df['handData.graspedObject']!=samples_df['handData.graspedObject'].shift()\n",
    ")\n",
    "\n",
    "# samples_df['dwellTime'] = (\n",
    "#                 samples_df['combinedEye.raycastHitObject']!=samples_df['combinedEye.raycastHitObject'].shift()\n",
    "# )\n",
    "\n",
    "tmpdf = samples_df\n",
    "tmpdf.loc[(~tmpdf['handChange']),'handData.graspedObject' ] = 0\n",
    "\n",
    "grasp = np.where(tmpdf.handChange)[0]\n",
    "next_grasp = np.where(tmpdf.handChange.shift())[0]\n",
    "display(tmpdf.loc[next_grasp])"
   ]
  },
  {
   "cell_type": "code",
   "execution_count": null,
   "metadata": {},
   "outputs": [],
   "source": [
    "filtered_df.head()"
   ]
  },
  {
   "cell_type": "code",
   "execution_count": null,
   "metadata": {},
   "outputs": [],
   "source": [
    "filtered_df['combinedEye.raycastHitObject'] = filtered_df['combinedEye.raycastHitObject'].apply(replace_objs)\n",
    "display(filtered_df.tail())"
   ]
  },
  {
   "cell_type": "code",
   "execution_count": null,
   "metadata": {
    "scrolled": false
   },
   "outputs": [],
   "source": [
    "# %matplotlib notebook\n",
    "tmpdf = (\n",
    "    filtered_df\n",
    "    .rename(columns={'combinedEye.raycastHitObject':'eyeHit', 'handData:graspedObject':'grasp'})\n",
    "    .query('subjectID == 1006 & trialNum == 6')\n",
    "    .query('eyeHit != \"Other\"')\n",
    "    .sort_values('timestamp')\n",
    "    [['timestamp', 'eyeHit']]\n",
    "    .set_index('timestamp')\n",
    ")\n",
    "sns.set(context = \"talk\", style=\"whitegrid\", palette=\"dark\", font_scale=1, rc={'figure.figsize':(11.7,8.27)})\n",
    "_, ax = plt.subplots(figsize=(20,10))\n",
    "tmpdf = pd.get_dummies(tmpdf, prefix='')\n",
    "tmpdf = tmpdf.mul(np.arange(1,17))\n",
    "tmpdf.plot(ax=ax)\n"
   ]
  },
  {
   "cell_type": "code",
   "execution_count": null,
   "metadata": {},
   "outputs": [],
   "source": [
    "raise"
   ]
  },
  {
   "cell_type": "markdown",
   "metadata": {},
   "source": [
    "# Scratch"
   ]
  },
  {
   "cell_type": "code",
   "execution_count": null,
   "metadata": {},
   "outputs": [],
   "source": [
    "np.arange(1,17)"
   ]
  }
 ],
 "metadata": {
  "kernelspec": {
   "display_name": "Python 3",
   "language": "python",
   "name": "python3"
  },
  "language_info": {
   "codemirror_mode": {
    "name": "ipython",
    "version": 3
   },
   "file_extension": ".py",
   "mimetype": "text/x-python",
   "name": "python",
   "nbconvert_exporter": "python",
   "pygments_lexer": "ipython3",
   "version": "3.6.8"
  }
 },
 "nbformat": 4,
 "nbformat_minor": 2
}
