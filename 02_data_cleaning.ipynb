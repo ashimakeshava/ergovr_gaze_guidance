{
 "cells": [
  {
   "cell_type": "markdown",
   "metadata": {},
   "source": [
    "# Clean data based on number of grasps and fixations"
   ]
  },
  {
   "cell_type": "code",
   "execution_count": 1,
   "metadata": {
    "ExecuteTime": {
     "end_time": "2022-02-09T18:06:38.015657Z",
     "start_time": "2022-02-09T18:06:31.353081Z"
    }
   },
   "outputs": [],
   "source": [
    "import os\n",
    "import datetime\n",
    "\n",
    "import numpy as np\n",
    "import pandas as pd\n",
    "import scipy\n",
    "\n",
    "import statsmodels as sm\n",
    "import statsmodels.formula.api as smf\n",
    "from patsy.contrasts import ContrastMatrix\n",
    "import patsy\n",
    "\n",
    "import matplotlib.pyplot as plt\n",
    "import matplotlib.pylab as mpl\n",
    "import seaborn as sns\n",
    "\n",
    "from IPython.display import display\n",
    "\n",
    "from functools import partial\n",
    "\n",
    "from utils.multi_processing_functions import *\n",
    "\n",
    "PLOT_PATH = './plots_grasp_aligned_fixations_final/'\n",
    "PROCESSED_DATA_PATH = '../processed_data/EIH_1/'\n",
    "\n",
    "sns.set(\n",
    "    context=\"talk\",\n",
    "    style=\"ticks\",\n",
    "    palette=\"muted\",\n",
    "    rc={'font.weight':'light'}    \n",
    ")"
   ]
  },
  {
   "cell_type": "markdown",
   "metadata": {},
   "source": [
    "## Read processed data file"
   ]
  },
  {
   "cell_type": "code",
   "execution_count": 3,
   "metadata": {
    "ExecuteTime": {
     "end_time": "2022-02-09T18:15:22.929368Z",
     "start_time": "2022-02-09T18:13:03.636707Z"
    }
   },
   "outputs": [
    {
     "name": "stderr",
     "output_type": "stream",
     "text": [
      "C:\\Users\\akeshava\\.conda\\envs\\conda_ergovr\\lib\\site-packages\\ipykernel_launcher.py:5: DeprecationWarning: `np.bool` is a deprecated alias for the builtin `bool`. To silence this warning, use `bool` by itself. Doing this will not modify any behavior and is safe. If you specifically wanted the numpy scalar type, use `np.bool_` here.\n",
      "Deprecated in NumPy 1.20; for more details and guidance: https://numpy.org/devdocs/release/1.20.0-notes.html#deprecations\n",
      "  \"\"\"\n",
      "C:\\Users\\akeshava\\.conda\\envs\\conda_ergovr\\lib\\site-packages\\IPython\\core\\interactiveshell.py:3331: DtypeWarning: Columns (31,69,70) have mixed types.Specify dtype option on import or set low_memory=False.\n",
      "  exec(code_obj, self.user_global_ns, self.user_ns)\n"
     ]
    },
    {
     "data": {
      "text/html": [
       "<div>\n",
       "<style scoped>\n",
       "    .dataframe tbody tr th:only-of-type {\n",
       "        vertical-align: middle;\n",
       "    }\n",
       "\n",
       "    .dataframe tbody tr th {\n",
       "        vertical-align: top;\n",
       "    }\n",
       "\n",
       "    .dataframe thead th {\n",
       "        text-align: right;\n",
       "    }\n",
       "</style>\n",
       "<table border=\"1\" class=\"dataframe\">\n",
       "  <thead>\n",
       "    <tr style=\"text-align: right;\">\n",
       "      <th></th>\n",
       "      <th>timestamp_dt</th>\n",
       "      <th>combinedEye_position_x</th>\n",
       "      <th>combinedEye_position_y</th>\n",
       "      <th>combinedEye_position_z</th>\n",
       "      <th>combinedEye_direction_x</th>\n",
       "      <th>combinedEye_direction_y</th>\n",
       "      <th>combinedEye_direction_z</th>\n",
       "      <th>combinedEye_raycastHitObject</th>\n",
       "      <th>combinedEye_raycastHitLocation_x</th>\n",
       "      <th>combinedEye_raycastHitLocation_y</th>\n",
       "      <th>...</th>\n",
       "      <th>fix_stop</th>\n",
       "      <th>fix_onset_bool</th>\n",
       "      <th>fix_stop_bool</th>\n",
       "      <th>grasp_onset</th>\n",
       "      <th>grasp_stop</th>\n",
       "      <th>grasp_duration</th>\n",
       "      <th>grasp_onset_bool</th>\n",
       "      <th>grasp_end_bool</th>\n",
       "      <th>pickup_location</th>\n",
       "      <th>drop_location</th>\n",
       "    </tr>\n",
       "  </thead>\n",
       "  <tbody>\n",
       "    <tr>\n",
       "      <th>0</th>\n",
       "      <td>1970-01-01 00:00:00.352107048</td>\n",
       "      <td>0.003028</td>\n",
       "      <td>-0.001079</td>\n",
       "      <td>-0.024180</td>\n",
       "      <td>-0.054200</td>\n",
       "      <td>0.050507</td>\n",
       "      <td>0.997252</td>\n",
       "      <td>Back</td>\n",
       "      <td>-0.039172</td>\n",
       "      <td>1.393820</td>\n",
       "      <td>...</td>\n",
       "      <td>1970-01-01 00:00:00.692297995</td>\n",
       "      <td>True</td>\n",
       "      <td>False</td>\n",
       "      <td>1970-01-01 00:00:00.352107048</td>\n",
       "      <td>1970-01-01 00:00:00.352107048</td>\n",
       "      <td>0.0</td>\n",
       "      <td>False</td>\n",
       "      <td>False</td>\n",
       "      <td>NaN</td>\n",
       "      <td>NaN</td>\n",
       "    </tr>\n",
       "    <tr>\n",
       "      <th>1</th>\n",
       "      <td>1970-01-01 00:00:00.360527635</td>\n",
       "      <td>0.003028</td>\n",
       "      <td>-0.001079</td>\n",
       "      <td>-0.024180</td>\n",
       "      <td>-0.054200</td>\n",
       "      <td>0.050507</td>\n",
       "      <td>0.997252</td>\n",
       "      <td>Back</td>\n",
       "      <td>-0.038426</td>\n",
       "      <td>1.393964</td>\n",
       "      <td>...</td>\n",
       "      <td>1970-01-01 00:00:00.692297995</td>\n",
       "      <td>False</td>\n",
       "      <td>False</td>\n",
       "      <td>1970-01-01 00:00:00.360527635</td>\n",
       "      <td>1970-01-01 00:00:00.360527635</td>\n",
       "      <td>0.0</td>\n",
       "      <td>False</td>\n",
       "      <td>False</td>\n",
       "      <td>NaN</td>\n",
       "      <td>NaN</td>\n",
       "    </tr>\n",
       "    <tr>\n",
       "      <th>2</th>\n",
       "      <td>1970-01-01 00:00:00.370871246</td>\n",
       "      <td>0.002949</td>\n",
       "      <td>-0.001093</td>\n",
       "      <td>-0.024174</td>\n",
       "      <td>-0.053986</td>\n",
       "      <td>0.050858</td>\n",
       "      <td>0.997246</td>\n",
       "      <td>Back</td>\n",
       "      <td>-0.037744</td>\n",
       "      <td>1.394590</td>\n",
       "      <td>...</td>\n",
       "      <td>1970-01-01 00:00:00.692297995</td>\n",
       "      <td>False</td>\n",
       "      <td>False</td>\n",
       "      <td>1970-01-01 00:00:00.370871246</td>\n",
       "      <td>1970-01-01 00:00:00.370871246</td>\n",
       "      <td>0.0</td>\n",
       "      <td>False</td>\n",
       "      <td>False</td>\n",
       "      <td>NaN</td>\n",
       "      <td>NaN</td>\n",
       "    </tr>\n",
       "    <tr>\n",
       "      <th>3</th>\n",
       "      <td>1970-01-01 00:00:00.381479651</td>\n",
       "      <td>0.002235</td>\n",
       "      <td>-0.001173</td>\n",
       "      <td>-0.024120</td>\n",
       "      <td>-0.053696</td>\n",
       "      <td>0.051041</td>\n",
       "      <td>0.997252</td>\n",
       "      <td>Back</td>\n",
       "      <td>-0.036357</td>\n",
       "      <td>1.395406</td>\n",
       "      <td>...</td>\n",
       "      <td>1970-01-01 00:00:00.692297995</td>\n",
       "      <td>False</td>\n",
       "      <td>False</td>\n",
       "      <td>1970-01-01 00:00:00.381479651</td>\n",
       "      <td>1970-01-01 00:00:00.381479651</td>\n",
       "      <td>0.0</td>\n",
       "      <td>False</td>\n",
       "      <td>False</td>\n",
       "      <td>NaN</td>\n",
       "      <td>NaN</td>\n",
       "    </tr>\n",
       "    <tr>\n",
       "      <th>4</th>\n",
       "      <td>1970-01-01 00:00:00.392510742</td>\n",
       "      <td>0.002873</td>\n",
       "      <td>-0.001116</td>\n",
       "      <td>-0.024140</td>\n",
       "      <td>-0.053543</td>\n",
       "      <td>0.051026</td>\n",
       "      <td>0.997261</td>\n",
       "      <td>Back</td>\n",
       "      <td>-0.035890</td>\n",
       "      <td>1.395458</td>\n",
       "      <td>...</td>\n",
       "      <td>1970-01-01 00:00:00.692297995</td>\n",
       "      <td>False</td>\n",
       "      <td>False</td>\n",
       "      <td>1970-01-01 00:00:00.392510742</td>\n",
       "      <td>1970-01-01 00:00:00.392510742</td>\n",
       "      <td>0.0</td>\n",
       "      <td>False</td>\n",
       "      <td>False</td>\n",
       "      <td>NaN</td>\n",
       "      <td>NaN</td>\n",
       "    </tr>\n",
       "  </tbody>\n",
       "</table>\n",
       "<p>5 rows × 71 columns</p>\n",
       "</div>"
      ],
      "text/plain": [
       "                   timestamp_dt  combinedEye_position_x  \\\n",
       "0 1970-01-01 00:00:00.352107048                0.003028   \n",
       "1 1970-01-01 00:00:00.360527635                0.003028   \n",
       "2 1970-01-01 00:00:00.370871246                0.002949   \n",
       "3 1970-01-01 00:00:00.381479651                0.002235   \n",
       "4 1970-01-01 00:00:00.392510742                0.002873   \n",
       "\n",
       "   combinedEye_position_y  combinedEye_position_z  combinedEye_direction_x  \\\n",
       "0               -0.001079               -0.024180                -0.054200   \n",
       "1               -0.001079               -0.024180                -0.054200   \n",
       "2               -0.001093               -0.024174                -0.053986   \n",
       "3               -0.001173               -0.024120                -0.053696   \n",
       "4               -0.001116               -0.024140                -0.053543   \n",
       "\n",
       "   combinedEye_direction_y  combinedEye_direction_z  \\\n",
       "0                 0.050507                 0.997252   \n",
       "1                 0.050507                 0.997252   \n",
       "2                 0.050858                 0.997246   \n",
       "3                 0.051041                 0.997252   \n",
       "4                 0.051026                 0.997261   \n",
       "\n",
       "  combinedEye_raycastHitObject  combinedEye_raycastHitLocation_x  \\\n",
       "0                         Back                         -0.039172   \n",
       "1                         Back                         -0.038426   \n",
       "2                         Back                         -0.037744   \n",
       "3                         Back                         -0.036357   \n",
       "4                         Back                         -0.035890   \n",
       "\n",
       "   combinedEye_raycastHitLocation_y  ...                       fix_stop  \\\n",
       "0                          1.393820  ...  1970-01-01 00:00:00.692297995   \n",
       "1                          1.393964  ...  1970-01-01 00:00:00.692297995   \n",
       "2                          1.394590  ...  1970-01-01 00:00:00.692297995   \n",
       "3                          1.395406  ...  1970-01-01 00:00:00.692297995   \n",
       "4                          1.395458  ...  1970-01-01 00:00:00.692297995   \n",
       "\n",
       "   fix_onset_bool  fix_stop_bool                    grasp_onset  \\\n",
       "0            True          False  1970-01-01 00:00:00.352107048   \n",
       "1           False          False  1970-01-01 00:00:00.360527635   \n",
       "2           False          False  1970-01-01 00:00:00.370871246   \n",
       "3           False          False  1970-01-01 00:00:00.381479651   \n",
       "4           False          False  1970-01-01 00:00:00.392510742   \n",
       "\n",
       "                      grasp_stop  grasp_duration  grasp_onset_bool  \\\n",
       "0  1970-01-01 00:00:00.352107048             0.0             False   \n",
       "1  1970-01-01 00:00:00.360527635             0.0             False   \n",
       "2  1970-01-01 00:00:00.370871246             0.0             False   \n",
       "3  1970-01-01 00:00:00.381479651             0.0             False   \n",
       "4  1970-01-01 00:00:00.392510742             0.0             False   \n",
       "\n",
       "  grasp_end_bool  pickup_location  drop_location  \n",
       "0          False              NaN            NaN  \n",
       "1          False              NaN            NaN  \n",
       "2          False              NaN            NaN  \n",
       "3          False              NaN            NaN  \n",
       "4          False              NaN            NaN  \n",
       "\n",
       "[5 rows x 71 columns]"
      ]
     },
     "execution_count": 3,
     "metadata": {},
     "output_type": "execute_result"
    }
   ],
   "source": [
    "samples_df = pd.read_csv(\n",
    "    '../processed_data/EIH_1/05_ET_samples_graspInfo.csv',\n",
    "    parse_dates = ['timestamp_dt'],\n",
    "    dtype = {\n",
    "        'isFixV': np.bool, 'grasp_onset_bool': np.bool,'grasp_end_bool': np.bool,\n",
    "#         'subjectID': 'int32', 'trial_num': 'int32', 'trialID': 'int32',\n",
    "    },\n",
    "    index_col=False,\n",
    ")\n",
    "samples_df.head()"
   ]
  },
  {
   "cell_type": "code",
   "execution_count": 4,
   "metadata": {
    "ExecuteTime": {
     "end_time": "2022-02-09T18:16:16.731180Z",
     "start_time": "2022-02-09T18:15:25.081631Z"
    }
   },
   "outputs": [
    {
     "name": "stdout",
     "output_type": "stream",
     "text": [
      "(10153442, 71)\n",
      "(0, 71)\n"
     ]
    }
   ],
   "source": [
    "#change column names as pep8 standards\n",
    "\n",
    "samples_df = samples_df.rename(columns = {\n",
    "    'subjectID': 'subject_id',\n",
    "#     'trialNum' : 'trial_num',\n",
    "    'combinedEye_raycastHitObject' : 'eye_hit',\n",
    "    'eye_shelfHits' : 'eye_shelf_hit',\n",
    "    'trialID' : 'trial_id',\n",
    "    'isFixV' : 'is_fixation',\n",
    "    'nosePointer_shelfHits' : 'head_hit',\n",
    "    'isOutlierFix' : 'is_outlier_fixation',\n",
    "    'handData_graspedObject' : 'grasp'\n",
    "    \n",
    "})\n",
    "print(samples_df.shape)\n",
    "print(samples_df.query('eye_shelf_hit == \"ERROR\"').shape)\n",
    "\n",
    "samples_df = (\n",
    "    samples_df\n",
    "    .query('subject_id not in [2008, 2011, 2039, 2034, 2042, 2046]')\n",
    "    .query('eye_shelf_hit != \"ERROR\"')\n",
    "    .query('subject_id != 2022 and trial_num != 0')\n",
    "    .query('subject_id != 2044 and trial_num != 1')\n",
    ")\n",
    "\n",
    "samples_df.loc[\n",
    "    (\n",
    "        (samples_df.subject_id == 2040)\n",
    "        & (samples_df.subjectfileName.str.endswith('_2.etd'))\n",
    "    ), 'trial_num'\n",
    "] += 3\n",
    "\n",
    "samples_df['trial_type'] = (\n",
    "    samples_df\n",
    "    .trial_id\n",
    "    .apply(lambda s: 'easy' if s in np.arange(0,8) else 'hard')\n",
    ")\n",
    "\n",
    "samples_df = samples_df[[\n",
    "    'subject_id', 'trial_num', 'trial_type', 'timestamp_dt', 'is_fixation', 'eye_hit', 'grasp',\n",
    "    'grasp_onset_bool', 'eye_shelf_hit', 'fix_duration', 'grasp_end_bool', 'grasp_duration', \n",
    "    'is_outlier_fixation', 'pickup_location', 'drop_location'\n",
    "]]\n",
    "\n",
    "valid_objs = ['Cube_Blue', 'Cube_Green', 'Cube_Red', 'Cube_Yellow',\n",
    "    'Cylinder_Blue', 'Cylinder_Green', 'Cylinder_Red','Cylinder_Yellow',\n",
    "    'Sphere_Blue', 'Sphere_Green', 'Sphere_Red', 'Sphere_Yellow', \n",
    "    'Tetraeder_Blue', 'Tetraeder_Green', 'Tetraeder_Red', 'Tetraeder_Yellow']\n",
    "\n",
    "samples_df.loc[~(samples_df.eye_hit.isin(valid_objs)) & \n",
    "           ~(pd.isnull(samples_df.eye_hit)),\n",
    "               'eye_hit'] ='Other'"
   ]
  },
  {
   "cell_type": "markdown",
   "metadata": {},
   "source": [
    "## Get number of grasps per subject and trial"
   ]
  },
  {
   "cell_type": "code",
   "execution_count": 5,
   "metadata": {
    "ExecuteTime": {
     "end_time": "2022-02-09T18:16:32.752462Z",
     "start_time": "2022-02-09T18:16:16.780048Z"
    }
   },
   "outputs": [
    {
     "data": {
      "text/html": [
       "<div>\n",
       "<style scoped>\n",
       "    .dataframe tbody tr th:only-of-type {\n",
       "        vertical-align: middle;\n",
       "    }\n",
       "\n",
       "    .dataframe tbody tr th {\n",
       "        vertical-align: top;\n",
       "    }\n",
       "\n",
       "    .dataframe thead th {\n",
       "        text-align: right;\n",
       "    }\n",
       "</style>\n",
       "<table border=\"1\" class=\"dataframe\">\n",
       "  <thead>\n",
       "    <tr style=\"text-align: right;\">\n",
       "      <th></th>\n",
       "      <th></th>\n",
       "      <th></th>\n",
       "      <th></th>\n",
       "      <th>pickup_location</th>\n",
       "      <th>current_TO</th>\n",
       "      <th>on_time</th>\n",
       "      <th>off_time</th>\n",
       "      <th>drop_location</th>\n",
       "      <th>between_grasp_duration</th>\n",
       "      <th>in_grasp_duration</th>\n",
       "      <th>pickup_x</th>\n",
       "      <th>pickup_y</th>\n",
       "      <th>drop_x</th>\n",
       "      <th>drop_y</th>\n",
       "      <th>offset_x</th>\n",
       "      <th>offset_y</th>\n",
       "    </tr>\n",
       "    <tr>\n",
       "      <th>subject_id</th>\n",
       "      <th>trial_type</th>\n",
       "      <th>trial_num</th>\n",
       "      <th>grasp_num</th>\n",
       "      <th></th>\n",
       "      <th></th>\n",
       "      <th></th>\n",
       "      <th></th>\n",
       "      <th></th>\n",
       "      <th></th>\n",
       "      <th></th>\n",
       "      <th></th>\n",
       "      <th></th>\n",
       "      <th></th>\n",
       "      <th></th>\n",
       "      <th></th>\n",
       "      <th></th>\n",
       "    </tr>\n",
       "  </thead>\n",
       "  <tbody>\n",
       "    <tr>\n",
       "      <th rowspan=\"5\" valign=\"top\">2006.0</th>\n",
       "      <th rowspan=\"5\" valign=\"top\">easy</th>\n",
       "      <th rowspan=\"5\" valign=\"top\">5.0</th>\n",
       "      <th>0</th>\n",
       "      <td>2_1</td>\n",
       "      <td>Tetraeder_Green</td>\n",
       "      <td>1970-01-01 00:00:05.835639477</td>\n",
       "      <td>1970-01-01 00:00:06.802226543</td>\n",
       "      <td>1_1</td>\n",
       "      <td>1.798360</td>\n",
       "      <td>0.966587</td>\n",
       "      <td>2</td>\n",
       "      <td>1</td>\n",
       "      <td>1</td>\n",
       "      <td>1</td>\n",
       "      <td>-1</td>\n",
       "      <td>0</td>\n",
       "    </tr>\n",
       "    <tr>\n",
       "      <th>1</th>\n",
       "      <td>2_2</td>\n",
       "      <td>Cube_Yellow</td>\n",
       "      <td>1970-01-01 00:00:07.633999825</td>\n",
       "      <td>1970-01-01 00:00:10.744694710</td>\n",
       "      <td>1_3</td>\n",
       "      <td>4.542501</td>\n",
       "      <td>3.110695</td>\n",
       "      <td>2</td>\n",
       "      <td>2</td>\n",
       "      <td>1</td>\n",
       "      <td>3</td>\n",
       "      <td>-1</td>\n",
       "      <td>1</td>\n",
       "    </tr>\n",
       "    <tr>\n",
       "      <th>2</th>\n",
       "      <td>1_4</td>\n",
       "      <td>Sphere_Green</td>\n",
       "      <td>1970-01-01 00:00:12.176501274</td>\n",
       "      <td>1970-01-01 00:00:13.243731499</td>\n",
       "      <td>2_2</td>\n",
       "      <td>3.088381</td>\n",
       "      <td>1.067230</td>\n",
       "      <td>1</td>\n",
       "      <td>4</td>\n",
       "      <td>2</td>\n",
       "      <td>2</td>\n",
       "      <td>1</td>\n",
       "      <td>-2</td>\n",
       "    </tr>\n",
       "    <tr>\n",
       "      <th>3</th>\n",
       "      <td>2_4</td>\n",
       "      <td>Cylinder_Yellow</td>\n",
       "      <td>1970-01-01 00:00:15.264882088</td>\n",
       "      <td>1970-01-01 00:00:16.397928238</td>\n",
       "      <td>1_4</td>\n",
       "      <td>2.210647</td>\n",
       "      <td>1.133046</td>\n",
       "      <td>2</td>\n",
       "      <td>4</td>\n",
       "      <td>1</td>\n",
       "      <td>4</td>\n",
       "      <td>-1</td>\n",
       "      <td>0</td>\n",
       "    </tr>\n",
       "    <tr>\n",
       "      <th>4</th>\n",
       "      <td>2_5</td>\n",
       "      <td>Cube_Red</td>\n",
       "      <td>1970-01-01 00:00:17.475528717</td>\n",
       "      <td>1970-01-01 00:00:19.519012451</td>\n",
       "      <td>2_3</td>\n",
       "      <td>3.331923</td>\n",
       "      <td>2.043484</td>\n",
       "      <td>2</td>\n",
       "      <td>5</td>\n",
       "      <td>2</td>\n",
       "      <td>3</td>\n",
       "      <td>0</td>\n",
       "      <td>-2</td>\n",
       "    </tr>\n",
       "  </tbody>\n",
       "</table>\n",
       "</div>"
      ],
      "text/plain": [
       "                                          pickup_location       current_TO  \\\n",
       "subject_id trial_type trial_num grasp_num                                    \n",
       "2006.0     easy       5.0       0                     2_1  Tetraeder_Green   \n",
       "                                1                     2_2      Cube_Yellow   \n",
       "                                2                     1_4     Sphere_Green   \n",
       "                                3                     2_4  Cylinder_Yellow   \n",
       "                                4                     2_5         Cube_Red   \n",
       "\n",
       "                                                                on_time  \\\n",
       "subject_id trial_type trial_num grasp_num                                 \n",
       "2006.0     easy       5.0       0         1970-01-01 00:00:05.835639477   \n",
       "                                1         1970-01-01 00:00:07.633999825   \n",
       "                                2         1970-01-01 00:00:12.176501274   \n",
       "                                3         1970-01-01 00:00:15.264882088   \n",
       "                                4         1970-01-01 00:00:17.475528717   \n",
       "\n",
       "                                                               off_time  \\\n",
       "subject_id trial_type trial_num grasp_num                                 \n",
       "2006.0     easy       5.0       0         1970-01-01 00:00:06.802226543   \n",
       "                                1         1970-01-01 00:00:10.744694710   \n",
       "                                2         1970-01-01 00:00:13.243731499   \n",
       "                                3         1970-01-01 00:00:16.397928238   \n",
       "                                4         1970-01-01 00:00:19.519012451   \n",
       "\n",
       "                                          drop_location  \\\n",
       "subject_id trial_type trial_num grasp_num                 \n",
       "2006.0     easy       5.0       0                   1_1   \n",
       "                                1                   1_3   \n",
       "                                2                   2_2   \n",
       "                                3                   1_4   \n",
       "                                4                   2_3   \n",
       "\n",
       "                                           between_grasp_duration  \\\n",
       "subject_id trial_type trial_num grasp_num                           \n",
       "2006.0     easy       5.0       0                        1.798360   \n",
       "                                1                        4.542501   \n",
       "                                2                        3.088381   \n",
       "                                3                        2.210647   \n",
       "                                4                        3.331923   \n",
       "\n",
       "                                           in_grasp_duration pickup_x  \\\n",
       "subject_id trial_type trial_num grasp_num                               \n",
       "2006.0     easy       5.0       0                   0.966587        2   \n",
       "                                1                   3.110695        2   \n",
       "                                2                   1.067230        1   \n",
       "                                3                   1.133046        2   \n",
       "                                4                   2.043484        2   \n",
       "\n",
       "                                          pickup_y drop_x drop_y  offset_x  \\\n",
       "subject_id trial_type trial_num grasp_num                                    \n",
       "2006.0     easy       5.0       0                1      1      1        -1   \n",
       "                                1                2      1      3        -1   \n",
       "                                2                4      2      2         1   \n",
       "                                3                4      1      4        -1   \n",
       "                                4                5      2      3         0   \n",
       "\n",
       "                                           offset_y  \n",
       "subject_id trial_type trial_num grasp_num            \n",
       "2006.0     easy       5.0       0                 0  \n",
       "                                1                 1  \n",
       "                                2                -2  \n",
       "                                3                 0  \n",
       "                                4                -2  "
      ]
     },
     "metadata": {},
     "output_type": "display_data"
    }
   ],
   "source": [
    "def get_grasps(sample_df): \n",
    "    sample_df = sample_df.sort_values(by='timestamp_dt')\n",
    "    grasp_times = (\n",
    "        sample_df.query('grasp_onset_bool == 1')\n",
    "        [['pickup_location', 'grasp', 'timestamp_dt']]\n",
    "        .rename(columns=dict(\n",
    "            timestamp_dt='on_time',\n",
    "            grasp='current_TO',\n",
    "        ))\n",
    "    )\n",
    "    grasp_times['off_time'] = sample_df.query('grasp_end_bool == 1').timestamp_dt.values\n",
    "    grasp_times['drop_location'] = sample_df.query('grasp_end_bool == 1').drop_location.values\n",
    "    grasp_times = grasp_times.sort_values(by='on_time').reset_index(drop=True)\n",
    "\n",
    "    grasp_times = grasp_times.drop_duplicates(subset = ['pickup_location', 'drop_location', 'current_TO'], keep='first')\n",
    "\n",
    "    grasp_times = grasp_times.query('pickup_location != drop_location')\n",
    "    grasp_times['between_grasp_duration'] = (grasp_times['on_time'].shift(-1) - grasp_times['on_time'])/np.timedelta64(1, 's')\n",
    "    grasp_times['in_grasp_duration'] = (grasp_times['off_time'] - grasp_times['on_time'])/np.timedelta64(1, 's')\n",
    "    \n",
    "    grasp_times[['pickup_x','pickup_y']] = grasp_times.pickup_location.str.split('_', expand=True)\n",
    "    grasp_times[['drop_x','drop_y']] = grasp_times.drop_location.str.split('_', expand=True)\n",
    "    grasp_times['offset_x'] = grasp_times.drop_x.astype(int) - grasp_times.pickup_x.astype(int)\n",
    "    grasp_times['offset_y'] = grasp_times.drop_y.astype(int) - grasp_times.pickup_y.astype(int)\n",
    "    grasp_times['grasp_num'] = grasp_times.index\n",
    "    \n",
    "    return grasp_times.set_index('grasp_num')\n",
    "\n",
    "grp_cols = ['subject_id', 'trial_type', 'trial_num']\n",
    "grasp_df = (\n",
    "    samples_df\n",
    "    .reset_index()\n",
    "#         .query('subject_id == @subjects')\n",
    "    .groupby(grp_cols)\n",
    "    .apply(get_grasps)        \n",
    ")\n",
    "# df.reset_index(level=2, drop=True)\n",
    "\n",
    "display(grasp_df.head())"
   ]
  },
  {
   "cell_type": "code",
   "execution_count": 6,
   "metadata": {
    "ExecuteTime": {
     "end_time": "2022-02-09T18:16:32.860527Z",
     "start_time": "2022-02-09T18:16:32.818288Z"
    }
   },
   "outputs": [
    {
     "data": {
      "text/html": [
       "<div>\n",
       "<style scoped>\n",
       "    .dataframe tbody tr th:only-of-type {\n",
       "        vertical-align: middle;\n",
       "    }\n",
       "\n",
       "    .dataframe tbody tr th {\n",
       "        vertical-align: top;\n",
       "    }\n",
       "\n",
       "    .dataframe thead th {\n",
       "        text-align: right;\n",
       "    }\n",
       "</style>\n",
       "<table border=\"1\" class=\"dataframe\">\n",
       "  <thead>\n",
       "    <tr style=\"text-align: right;\">\n",
       "      <th></th>\n",
       "      <th>subject_id</th>\n",
       "      <th>trial_num</th>\n",
       "      <th>trial_type</th>\n",
       "      <th>num_grasp</th>\n",
       "    </tr>\n",
       "  </thead>\n",
       "  <tbody>\n",
       "    <tr>\n",
       "      <th>0</th>\n",
       "      <td>2006.0</td>\n",
       "      <td>2.0</td>\n",
       "      <td>hard</td>\n",
       "      <td>10</td>\n",
       "    </tr>\n",
       "    <tr>\n",
       "      <th>1</th>\n",
       "      <td>2006.0</td>\n",
       "      <td>3.0</td>\n",
       "      <td>hard</td>\n",
       "      <td>9</td>\n",
       "    </tr>\n",
       "    <tr>\n",
       "      <th>2</th>\n",
       "      <td>2006.0</td>\n",
       "      <td>4.0</td>\n",
       "      <td>hard</td>\n",
       "      <td>18</td>\n",
       "    </tr>\n",
       "    <tr>\n",
       "      <th>3</th>\n",
       "      <td>2006.0</td>\n",
       "      <td>5.0</td>\n",
       "      <td>easy</td>\n",
       "      <td>15</td>\n",
       "    </tr>\n",
       "    <tr>\n",
       "      <th>4</th>\n",
       "      <td>2006.0</td>\n",
       "      <td>6.0</td>\n",
       "      <td>easy</td>\n",
       "      <td>10</td>\n",
       "    </tr>\n",
       "  </tbody>\n",
       "</table>\n",
       "</div>"
      ],
      "text/plain": [
       "   subject_id  trial_num trial_type  num_grasp\n",
       "0      2006.0        2.0       hard         10\n",
       "1      2006.0        3.0       hard          9\n",
       "2      2006.0        4.0       hard         18\n",
       "3      2006.0        5.0       easy         15\n",
       "4      2006.0        6.0       easy         10"
      ]
     },
     "execution_count": 6,
     "metadata": {},
     "output_type": "execute_result"
    }
   ],
   "source": [
    "tmpdf = (\n",
    "    grasp_df\n",
    "    .reset_index()\n",
    "    .groupby(['subject_id', 'trial_num','trial_type',], as_index=False)\n",
    "    .grasp_num\n",
    "    .count()\n",
    "    .rename(columns = {'grasp_num':'num_grasp'})\n",
    ")\n",
    "tmpdf.head()"
   ]
  },
  {
   "cell_type": "markdown",
   "metadata": {},
   "source": [
    "### Calculate upper limit of grasps based on 1.5 x IQR"
   ]
  },
  {
   "cell_type": "code",
   "execution_count": 7,
   "metadata": {
    "ExecuteTime": {
     "end_time": "2022-02-09T18:16:32.923008Z",
     "start_time": "2022-02-09T18:16:32.896081Z"
    }
   },
   "outputs": [
    {
     "data": {
      "text/plain": [
       "18.0"
      ]
     },
     "metadata": {},
     "output_type": "display_data"
    },
    {
     "data": {
      "text/plain": [
       "33.5"
      ]
     },
     "metadata": {},
     "output_type": "display_data"
    }
   ],
   "source": [
    "t1 = tmpdf.query('trial_type == \"easy\"')\n",
    "upper_limit_easy = t1.num_grasp.quantile(0.75) + 1.5*(t1.num_grasp.quantile(0.75) - t1.num_grasp.quantile(0.25))\n",
    "display(upper_limit_easy)\n",
    "\n",
    "t2 = tmpdf.query('trial_type == \"hard\"')\n",
    "upper_limit_hard = t2.num_grasp.quantile(0.75) + 1.5*(t2.num_grasp.quantile(0.75) - t2.num_grasp.quantile(0.25))\n",
    "display(upper_limit_hard)"
   ]
  },
  {
   "cell_type": "markdown",
   "metadata": {},
   "source": [
    "## Reject trials with grasps > 1.5 x IQR or < 3"
   ]
  },
  {
   "cell_type": "code",
   "execution_count": 8,
   "metadata": {
    "ExecuteTime": {
     "end_time": "2022-02-09T18:16:33.015761Z",
     "start_time": "2022-02-09T18:16:32.988832Z"
    }
   },
   "outputs": [
    {
     "data": {
      "text/html": [
       "<div>\n",
       "<style scoped>\n",
       "    .dataframe tbody tr th:only-of-type {\n",
       "        vertical-align: middle;\n",
       "    }\n",
       "\n",
       "    .dataframe tbody tr th {\n",
       "        vertical-align: top;\n",
       "    }\n",
       "\n",
       "    .dataframe thead th {\n",
       "        text-align: right;\n",
       "    }\n",
       "</style>\n",
       "<table border=\"1\" class=\"dataframe\">\n",
       "  <thead>\n",
       "    <tr style=\"text-align: right;\">\n",
       "      <th></th>\n",
       "      <th>subject_id</th>\n",
       "      <th>trial_num</th>\n",
       "      <th>trial_type</th>\n",
       "      <th>num_grasp</th>\n",
       "    </tr>\n",
       "  </thead>\n",
       "  <tbody>\n",
       "    <tr>\n",
       "      <th>0</th>\n",
       "      <td>2012.0</td>\n",
       "      <td>15.0</td>\n",
       "      <td>easy</td>\n",
       "      <td>22</td>\n",
       "    </tr>\n",
       "    <tr>\n",
       "      <th>1</th>\n",
       "      <td>2012.0</td>\n",
       "      <td>20.0</td>\n",
       "      <td>easy</td>\n",
       "      <td>28</td>\n",
       "    </tr>\n",
       "    <tr>\n",
       "      <th>2</th>\n",
       "      <td>2014.0</td>\n",
       "      <td>13.0</td>\n",
       "      <td>easy</td>\n",
       "      <td>26</td>\n",
       "    </tr>\n",
       "    <tr>\n",
       "      <th>3</th>\n",
       "      <td>2015.0</td>\n",
       "      <td>2.0</td>\n",
       "      <td>easy</td>\n",
       "      <td>24</td>\n",
       "    </tr>\n",
       "    <tr>\n",
       "      <th>4</th>\n",
       "      <td>2016.0</td>\n",
       "      <td>10.0</td>\n",
       "      <td>easy</td>\n",
       "      <td>19</td>\n",
       "    </tr>\n",
       "  </tbody>\n",
       "</table>\n",
       "</div>"
      ],
      "text/plain": [
       "   subject_id  trial_num trial_type  num_grasp\n",
       "0      2012.0       15.0       easy         22\n",
       "1      2012.0       20.0       easy         28\n",
       "2      2014.0       13.0       easy         26\n",
       "3      2015.0        2.0       easy         24\n",
       "4      2016.0       10.0       easy         19"
      ]
     },
     "metadata": {},
     "output_type": "display_data"
    }
   ],
   "source": [
    "reject_subjects = pd.concat(\n",
    "    [\n",
    "        t1[(t1.num_grasp>upper_limit_easy) | (t1.num_grasp<3) ], \n",
    "        t2[(t2.num_grasp>upper_limit_hard) | (t2.num_grasp<3)]\n",
    "    ], ignore_index=True)\n",
    "#reject_subjects.to_csv('rejected_data_grasp.csv')\n",
    "display(reject_subjects.head())"
   ]
  },
  {
   "cell_type": "code",
   "execution_count": 9,
   "metadata": {
    "ExecuteTime": {
     "end_time": "2022-02-09T18:16:33.079590Z",
     "start_time": "2022-02-09T18:16:33.065627Z"
    }
   },
   "outputs": [],
   "source": [
    "rejected = list(zip(reject_subjects.subject_id.values, reject_subjects.trial_num.values))"
   ]
  },
  {
   "cell_type": "code",
   "execution_count": 10,
   "metadata": {
    "ExecuteTime": {
     "end_time": "2022-02-09T18:16:33.872474Z",
     "start_time": "2022-02-09T18:16:33.129460Z"
    }
   },
   "outputs": [
    {
     "data": {
      "text/plain": [
       "subject_id\n",
       "2006.0    22\n",
       "2007.0    22\n",
       "2009.0    22\n",
       "2010.0    22\n",
       "2012.0    22\n",
       "2013.0    22\n",
       "2014.0    22\n",
       "2015.0    22\n",
       "2016.0    22\n",
       "2017.0    22\n",
       "2018.0    22\n",
       "2019.0    22\n",
       "2020.0    22\n",
       "2021.0    22\n",
       "2023.0    22\n",
       "2024.0    22\n",
       "2025.0    22\n",
       "2026.0    22\n",
       "2027.0    22\n",
       "2028.0    22\n",
       "2029.0    22\n",
       "2030.0    22\n",
       "2031.0    22\n",
       "2032.0    22\n",
       "2033.0    22\n",
       "2035.0    22\n",
       "2037.0    22\n",
       "2038.0    22\n",
       "2040.0    22\n",
       "2041.0    22\n",
       "2043.0    22\n",
       "2045.0    22\n",
       "2047.0    22\n",
       "2048.0    22\n",
       "2049.0    22\n",
       "2050.0    22\n",
       "2051.0    22\n",
       "2052.0    22\n",
       "2053.0    22\n",
       "2054.0    22\n",
       "2055.0    22\n",
       "2056.0    22\n",
       "2057.0    22\n",
       "2058.0    22\n",
       "2059.0    22\n",
       "2060.0    22\n",
       "2061.0    22\n",
       "2062.0    20\n",
       "Name: trial_num, dtype: int64"
      ]
     },
     "metadata": {},
     "output_type": "display_data"
    }
   ],
   "source": [
    "display(samples_df.groupby(['subject_id']).trial_num.nunique())"
   ]
  },
  {
   "cell_type": "code",
   "execution_count": 11,
   "metadata": {
    "ExecuteTime": {
     "end_time": "2022-02-09T18:17:26.633665Z",
     "start_time": "2022-02-09T18:16:33.918352Z"
    }
   },
   "outputs": [],
   "source": [
    "samples_df = samples_df[~samples_df[['subject_id','trial_num']].apply(tuple, 1).isin(rejected)]"
   ]
  },
  {
   "cell_type": "code",
   "execution_count": 12,
   "metadata": {
    "ExecuteTime": {
     "end_time": "2022-02-09T18:17:27.362726Z",
     "start_time": "2022-02-09T18:17:26.714449Z"
    },
    "scrolled": true
   },
   "outputs": [
    {
     "data": {
      "text/plain": [
       "48"
      ]
     },
     "metadata": {},
     "output_type": "display_data"
    },
    {
     "data": {
      "text/plain": [
       "996"
      ]
     },
     "metadata": {},
     "output_type": "display_data"
    },
    {
     "data": {
      "text/plain": [
       "20.75"
      ]
     },
     "metadata": {},
     "output_type": "display_data"
    },
    {
     "data": {
      "text/plain": [
       "1.8042503010769237"
      ]
     },
     "metadata": {},
     "output_type": "display_data"
    }
   ],
   "source": [
    "tmpdf = samples_df.groupby(['subject_id']).trial_num.nunique().reset_index()\n",
    "\n",
    "display(tmpdf.subject_id.nunique())\n",
    "display(tmpdf.trial_num.sum())\n",
    "display(tmpdf.trial_num.mean())\n",
    "display(tmpdf.trial_num.std())"
   ]
  },
  {
   "cell_type": "code",
   "execution_count": 13,
   "metadata": {
    "ExecuteTime": {
     "end_time": "2022-02-09T18:17:27.594105Z",
     "start_time": "2022-02-09T18:17:27.457469Z"
    }
   },
   "outputs": [],
   "source": [
    "grasp_df = grasp_df.reset_index()\n",
    "grasp_df = grasp_df[~grasp_df[['subject_id','trial_num']].apply(tuple, 1).isin(rejected)]"
   ]
  },
  {
   "cell_type": "code",
   "execution_count": 14,
   "metadata": {
    "ExecuteTime": {
     "end_time": "2022-02-09T18:17:27.673892Z",
     "start_time": "2022-02-09T18:17:27.647961Z"
    }
   },
   "outputs": [
    {
     "data": {
      "text/plain": [
       "48"
      ]
     },
     "metadata": {},
     "output_type": "display_data"
    },
    {
     "data": {
      "text/plain": [
       "12266"
      ]
     },
     "metadata": {},
     "output_type": "display_data"
    },
    {
     "data": {
      "text/plain": [
       "12.315261044176706"
      ]
     },
     "metadata": {},
     "output_type": "display_data"
    },
    {
     "data": {
      "text/plain": [
       "5.110144412018798"
      ]
     },
     "metadata": {},
     "output_type": "display_data"
    }
   ],
   "source": [
    "tmpdf = grasp_df.groupby(['subject_id', 'trial_num']).grasp_num.nunique().reset_index()\n",
    "display(tmpdf.subject_id.nunique())\n",
    "display(tmpdf.grasp_num.sum())\n",
    "display(tmpdf.grasp_num.mean())\n",
    "display(tmpdf.grasp_num.std())"
   ]
  },
  {
   "cell_type": "code",
   "execution_count": 19,
   "metadata": {
    "ExecuteTime": {
     "end_time": "2022-01-18T12:37:39.470889Z",
     "start_time": "2022-01-18T12:37:39.219560Z"
    },
    "cell_style": "split"
   },
   "outputs": [
    {
     "data": {
      "text/plain": [
       "count    996.000000\n",
       "mean       1.886501\n",
       "std        0.610689\n",
       "min        0.902087\n",
       "25%        1.515966\n",
       "50%        1.773623\n",
       "75%        2.116870\n",
       "max        7.765473\n",
       "Name: in_grasp_duration, dtype: float64"
      ]
     },
     "metadata": {},
     "output_type": "display_data"
    },
    {
     "data": {
      "image/png": "[encoded data removed]",
      "text/plain": [
       "<Figure size 432x288 with 1 Axes>"
      ]
     },
     "metadata": {},
     "output_type": "display_data"
    }
   ],
   "source": [
    "(\n",
    "    grasp_df\n",
    "    .groupby(['subject_id', 'trial_num'])\n",
    "    .in_grasp_duration\n",
    "    .mean()\n",
    "    .reset_index()\n",
    "    .in_grasp_duration\n",
    "    .plot.hist(bins=100)\n",
    ");\n",
    "\n",
    "display(\n",
    "    grasp_df\n",
    "    .groupby(['subject_id', 'trial_num'])\n",
    "    .in_grasp_duration\n",
    "    .mean()\n",
    "    .reset_index()\n",
    "    .in_grasp_duration\n",
    "    .describe()\n",
    ")"
   ]
  },
  {
   "cell_type": "code",
   "execution_count": 20,
   "metadata": {
    "ExecuteTime": {
     "end_time": "2022-01-18T12:37:42.444018Z",
     "start_time": "2022-01-18T12:37:42.113903Z"
    },
    "cell_style": "split"
   },
   "outputs": [
    {
     "data": {
      "text/plain": [
       "count    996.000000\n",
       "mean       4.637985\n",
       "std        2.516168\n",
       "min        1.566797\n",
       "25%        3.111104\n",
       "50%        3.958096\n",
       "75%        5.340170\n",
       "max       27.308301\n",
       "Name: between_grasp_duration, dtype: float64"
      ]
     },
     "metadata": {},
     "output_type": "display_data"
    },
    {
     "data": {
      "image/png": "[encoded data removed]",
      "text/plain": [
       "<Figure size 432x288 with 1 Axes>"
      ]
     },
     "metadata": {},
     "output_type": "display_data"
    }
   ],
   "source": [
    "(\n",
    "    grasp_df\n",
    "    .groupby(['subject_id', 'trial_num'])\n",
    "    .between_grasp_duration\n",
    "    .mean()\n",
    "    .reset_index()\n",
    "    .between_grasp_duration\n",
    "    .plot.hist(bins=100)\n",
    ");\n",
    "\n",
    "display(\n",
    "    grasp_df\n",
    "    .groupby(['subject_id', 'trial_num'])\n",
    "    .between_grasp_duration\n",
    "    .mean()\n",
    "    .reset_index()\n",
    "    .between_grasp_duration\n",
    "    .describe()\n",
    ")"
   ]
  },
  {
   "cell_type": "code",
   "execution_count": 12,
   "metadata": {
    "ExecuteTime": {
     "end_time": "2021-10-21T12:30:13.200630Z",
     "start_time": "2021-10-21T12:30:13.140439Z"
    },
    "scrolled": true
   },
   "outputs": [
    {
     "data": {
      "text/html": [
       "<div>\n",
       "<style scoped>\n",
       "    .dataframe tbody tr th:only-of-type {\n",
       "        vertical-align: middle;\n",
       "    }\n",
       "\n",
       "    .dataframe tbody tr th {\n",
       "        vertical-align: top;\n",
       "    }\n",
       "\n",
       "    .dataframe thead th {\n",
       "        text-align: right;\n",
       "    }\n",
       "</style>\n",
       "<table border=\"1\" class=\"dataframe\">\n",
       "  <thead>\n",
       "    <tr style=\"text-align: right;\">\n",
       "      <th></th>\n",
       "      <th>timestamp_dt</th>\n",
       "      <th>combinedEye_position_x</th>\n",
       "      <th>combinedEye_position_y</th>\n",
       "      <th>combinedEye_position_z</th>\n",
       "      <th>combinedEye_direction_x</th>\n",
       "      <th>combinedEye_direction_y</th>\n",
       "      <th>combinedEye_direction_z</th>\n",
       "      <th>eye_hit</th>\n",
       "      <th>combinedEye_raycastHitLocation_x</th>\n",
       "      <th>combinedEye_raycastHitLocation_y</th>\n",
       "      <th>...</th>\n",
       "      <th>fix_onset_bool</th>\n",
       "      <th>fix_stop_bool</th>\n",
       "      <th>grasp_onset</th>\n",
       "      <th>grasp_stop</th>\n",
       "      <th>grasp_duration</th>\n",
       "      <th>grasp_onset_bool</th>\n",
       "      <th>grasp_end_bool</th>\n",
       "      <th>pickup_location</th>\n",
       "      <th>drop_location</th>\n",
       "      <th>trial_type</th>\n",
       "    </tr>\n",
       "  </thead>\n",
       "  <tbody>\n",
       "    <tr>\n",
       "      <th>8905</th>\n",
       "      <td>1970-01-01 00:00:00.351460844</td>\n",
       "      <td>-0.009295</td>\n",
       "      <td>-0.002215</td>\n",
       "      <td>-0.023014</td>\n",
       "      <td>0.038575</td>\n",
       "      <td>0.107453</td>\n",
       "      <td>0.993462</td>\n",
       "      <td>Other</td>\n",
       "      <td>0.227122</td>\n",
       "      <td>1.447578</td>\n",
       "      <td>...</td>\n",
       "      <td>True</td>\n",
       "      <td>False</td>\n",
       "      <td>1970-01-01 00:00:00.351460844</td>\n",
       "      <td>1970-01-01 00:00:00.351460844</td>\n",
       "      <td>0.0</td>\n",
       "      <td>False</td>\n",
       "      <td>False</td>\n",
       "      <td>NaN</td>\n",
       "      <td>NaN</td>\n",
       "      <td>hard</td>\n",
       "    </tr>\n",
       "    <tr>\n",
       "      <th>8906</th>\n",
       "      <td>1970-01-01 00:00:00.360775739</td>\n",
       "      <td>-0.004848</td>\n",
       "      <td>-0.001775</td>\n",
       "      <td>-0.023124</td>\n",
       "      <td>0.037461</td>\n",
       "      <td>0.100694</td>\n",
       "      <td>0.994212</td>\n",
       "      <td>Other</td>\n",
       "      <td>0.225640</td>\n",
       "      <td>1.438154</td>\n",
       "      <td>...</td>\n",
       "      <td>False</td>\n",
       "      <td>False</td>\n",
       "      <td>1970-01-01 00:00:00.360775739</td>\n",
       "      <td>1970-01-01 00:00:00.360775739</td>\n",
       "      <td>0.0</td>\n",
       "      <td>False</td>\n",
       "      <td>False</td>\n",
       "      <td>NaN</td>\n",
       "      <td>NaN</td>\n",
       "      <td>hard</td>\n",
       "    </tr>\n",
       "    <tr>\n",
       "      <th>8907</th>\n",
       "      <td>1970-01-01 00:00:00.371934354</td>\n",
       "      <td>-0.004848</td>\n",
       "      <td>-0.001775</td>\n",
       "      <td>-0.023124</td>\n",
       "      <td>0.037461</td>\n",
       "      <td>0.100694</td>\n",
       "      <td>0.994212</td>\n",
       "      <td>Other</td>\n",
       "      <td>0.224285</td>\n",
       "      <td>1.438936</td>\n",
       "      <td>...</td>\n",
       "      <td>False</td>\n",
       "      <td>False</td>\n",
       "      <td>1970-01-01 00:00:00.371934354</td>\n",
       "      <td>1970-01-01 00:00:00.371934354</td>\n",
       "      <td>0.0</td>\n",
       "      <td>False</td>\n",
       "      <td>False</td>\n",
       "      <td>NaN</td>\n",
       "      <td>NaN</td>\n",
       "      <td>hard</td>\n",
       "    </tr>\n",
       "    <tr>\n",
       "      <th>8908</th>\n",
       "      <td>1970-01-01 00:00:00.383572042</td>\n",
       "      <td>-0.009973</td>\n",
       "      <td>-0.002281</td>\n",
       "      <td>-0.022997</td>\n",
       "      <td>0.037522</td>\n",
       "      <td>0.107240</td>\n",
       "      <td>0.993525</td>\n",
       "      <td>Other</td>\n",
       "      <td>0.222477</td>\n",
       "      <td>1.448279</td>\n",
       "      <td>...</td>\n",
       "      <td>False</td>\n",
       "      <td>False</td>\n",
       "      <td>1970-01-01 00:00:00.383572042</td>\n",
       "      <td>1970-01-01 00:00:00.383572042</td>\n",
       "      <td>0.0</td>\n",
       "      <td>False</td>\n",
       "      <td>False</td>\n",
       "      <td>NaN</td>\n",
       "      <td>NaN</td>\n",
       "      <td>hard</td>\n",
       "    </tr>\n",
       "    <tr>\n",
       "      <th>8909</th>\n",
       "      <td>1970-01-01 00:00:00.394215554</td>\n",
       "      <td>0.004572</td>\n",
       "      <td>-0.000881</td>\n",
       "      <td>-0.023263</td>\n",
       "      <td>0.042648</td>\n",
       "      <td>0.104645</td>\n",
       "      <td>0.993595</td>\n",
       "      <td>Other</td>\n",
       "      <td>0.228530</td>\n",
       "      <td>1.445886</td>\n",
       "      <td>...</td>\n",
       "      <td>False</td>\n",
       "      <td>False</td>\n",
       "      <td>1970-01-01 00:00:00.394215554</td>\n",
       "      <td>1970-01-01 00:00:00.394215554</td>\n",
       "      <td>0.0</td>\n",
       "      <td>False</td>\n",
       "      <td>False</td>\n",
       "      <td>NaN</td>\n",
       "      <td>NaN</td>\n",
       "      <td>hard</td>\n",
       "    </tr>\n",
       "  </tbody>\n",
       "</table>\n",
       "<p>5 rows × 72 columns</p>\n",
       "</div>"
      ],
      "text/plain": [
       "                      timestamp_dt  combinedEye_position_x  \\\n",
       "8905 1970-01-01 00:00:00.351460844               -0.009295   \n",
       "8906 1970-01-01 00:00:00.360775739               -0.004848   \n",
       "8907 1970-01-01 00:00:00.371934354               -0.004848   \n",
       "8908 1970-01-01 00:00:00.383572042               -0.009973   \n",
       "8909 1970-01-01 00:00:00.394215554                0.004572   \n",
       "\n",
       "      combinedEye_position_y  combinedEye_position_z  combinedEye_direction_x  \\\n",
       "8905               -0.002215               -0.023014                 0.038575   \n",
       "8906               -0.001775               -0.023124                 0.037461   \n",
       "8907               -0.001775               -0.023124                 0.037461   \n",
       "8908               -0.002281               -0.022997                 0.037522   \n",
       "8909               -0.000881               -0.023263                 0.042648   \n",
       "\n",
       "      combinedEye_direction_y  combinedEye_direction_z eye_hit  \\\n",
       "8905                 0.107453                 0.993462   Other   \n",
       "8906                 0.100694                 0.994212   Other   \n",
       "8907                 0.100694                 0.994212   Other   \n",
       "8908                 0.107240                 0.993525   Other   \n",
       "8909                 0.104645                 0.993595   Other   \n",
       "\n",
       "      combinedEye_raycastHitLocation_x  combinedEye_raycastHitLocation_y  ...  \\\n",
       "8905                          0.227122                          1.447578  ...   \n",
       "8906                          0.225640                          1.438154  ...   \n",
       "8907                          0.224285                          1.438936  ...   \n",
       "8908                          0.222477                          1.448279  ...   \n",
       "8909                          0.228530                          1.445886  ...   \n",
       "\n",
       "      fix_onset_bool  fix_stop_bool                    grasp_onset  \\\n",
       "8905            True          False  1970-01-01 00:00:00.351460844   \n",
       "8906           False          False  1970-01-01 00:00:00.360775739   \n",
       "8907           False          False  1970-01-01 00:00:00.371934354   \n",
       "8908           False          False  1970-01-01 00:00:00.383572042   \n",
       "8909           False          False  1970-01-01 00:00:00.394215554   \n",
       "\n",
       "                         grasp_stop  grasp_duration  grasp_onset_bool  \\\n",
       "8905  1970-01-01 00:00:00.351460844             0.0             False   \n",
       "8906  1970-01-01 00:00:00.360775739             0.0             False   \n",
       "8907  1970-01-01 00:00:00.371934354             0.0             False   \n",
       "8908  1970-01-01 00:00:00.383572042             0.0             False   \n",
       "8909  1970-01-01 00:00:00.394215554             0.0             False   \n",
       "\n",
       "      grasp_end_bool pickup_location  drop_location  trial_type  \n",
       "8905           False             NaN            NaN        hard  \n",
       "8906           False             NaN            NaN        hard  \n",
       "8907           False             NaN            NaN        hard  \n",
       "8908           False             NaN            NaN        hard  \n",
       "8909           False             NaN            NaN        hard  \n",
       "\n",
       "[5 rows x 72 columns]"
      ]
     },
     "execution_count": 12,
     "metadata": {},
     "output_type": "execute_result"
    }
   ],
   "source": [
    "samples_df.head()"
   ]
  },
  {
   "cell_type": "markdown",
   "metadata": {},
   "source": [
    "## Clean fixation samples"
   ]
  },
  {
   "cell_type": "code",
   "execution_count": 15,
   "metadata": {
    "ExecuteTime": {
     "end_time": "2022-02-09T18:18:28.249283Z",
     "start_time": "2022-02-09T18:17:27.721762Z"
    }
   },
   "outputs": [],
   "source": [
    "### make saccadic samples less that 0.03s into fixations\n",
    "samples_df.loc[\n",
    "    (samples_df.is_fixation==False) & (samples_df.fix_duration<=0.03), \n",
    "    'is_fixation'] = True\n",
    "\n",
    "### make fixation samples less than 0.05s into saccades\n",
    "samples_df.loc[\n",
    "    (samples_df.is_fixation==True) & (samples_df.fix_duration<=0.05), \n",
    "    'is_fixation'] = False\n",
    "\n",
    "### recalculate fixation duration\n",
    "samples_df['fix_duration'] = (\n",
    "    samples_df\n",
    "    .set_index('timestamp_dt')\n",
    "    .groupby(['subject_id', 'trial_num'], as_index=False)\n",
    "    .is_fixation\n",
    "    .apply(\n",
    "        lambda x: \n",
    "        x\n",
    "        .groupby((x != x.shift()).cumsum())\n",
    "        .transform(lambda x: (x.index[-1] - x.index[0])/np.timedelta64(1, 's') )\n",
    "    )\n",
    ").reset_index().is_fixation\n",
    "\n",
    "### discard fixation samples with duration less than 0.1s\n",
    "samples_df.loc[(samples_df.is_fixation==True) & (samples_df.fix_duration<=0.1), 'is_fixation'] = False"
   ]
  },
  {
   "cell_type": "code",
   "execution_count": 16,
   "metadata": {
    "ExecuteTime": {
     "end_time": "2022-02-09T18:18:29.278537Z",
     "start_time": "2022-02-09T18:18:28.329070Z"
    }
   },
   "outputs": [
    {
     "name": "stderr",
     "output_type": "stream",
     "text": [
      "C:\\Users\\akeshava\\.conda\\envs\\conda_ergovr\\lib\\site-packages\\ipykernel_launcher.py:4: FutureWarning: Support for multi-dimensional indexing (e.g. `obj[:, None]`) is deprecated and will be removed in a future version.  Convert to a numpy array before indexing instead.\n",
      "  after removing the cwd from sys.path.\n"
     ]
    }
   ],
   "source": [
    "def simple_mad(angular_vel, thresh = 3.5):\n",
    "#     th_1 = np.median(angular_vel)\n",
    "    if len(angular_vel.shape) == 1:\n",
    "        angular_vel = angular_vel[:,None]\n",
    "    median = np.median(angular_vel)\n",
    "    diff = (angular_vel - median)**2\n",
    "    diff = np.sqrt(diff)\n",
    "#     print(diff)\n",
    "    med_abs_deviation = np.median(diff)\n",
    "    saccade_thresh = median + thresh*1.48*med_abs_deviation\n",
    "    return saccade_thresh\n",
    "\n",
    "duration_mad = simple_mad(\n",
    "    samples_df\n",
    "    .dropna(subset=['fix_duration'])\n",
    "    .query('is_fixation==True')\n",
    "    .fix_duration\n",
    ")\n",
    "\n",
    "## Only keep fixation samples that are 3.5 times the MAD\n",
    "samples_df.loc[(samples_df.is_fixation == True) \n",
    "               & (samples_df.fix_duration>=duration_mad), 'is_fixation'] = False"
   ]
  },
  {
   "cell_type": "markdown",
   "metadata": {},
   "source": [
    "## Save cleaned data"
   ]
  },
  {
   "cell_type": "code",
   "execution_count": 15,
   "metadata": {
    "ExecuteTime": {
     "end_time": "2021-10-21T12:45:59.805195Z",
     "start_time": "2021-10-21T12:38:14.974290Z"
    }
   },
   "outputs": [],
   "source": [
    "samples_df.to_csv(f'{PROCESSED_DATA_PATH}/06_ET_cleaned.csv',index=False)"
   ]
  }
 ],
 "metadata": {
  "kernelspec": {
   "display_name": "Python 3",
   "language": "python",
   "name": "python3"
  },
  "language_info": {
   "codemirror_mode": {
    "name": "ipython",
    "version": 3
   },
   "file_extension": ".py",
   "mimetype": "text/x-python",
   "name": "python",
   "nbconvert_exporter": "python",
   "pygments_lexer": "ipython3",
   "version": "3.7.4"
  },
  "toc": {
   "base_numbering": 1,
   "nav_menu": {},
   "number_sections": true,
   "sideBar": true,
   "skip_h1_title": false,
   "title_cell": "Table of Contents",
   "title_sidebar": "Contents",
   "toc_cell": false,
   "toc_position": {},
   "toc_section_display": true,
   "toc_window_display": true
  },
  "varInspector": {
   "cols": {
    "lenName": 16,
    "lenType": 16,
    "lenVar": 40
   },
   "kernels_config": {
    "python": {
     "delete_cmd_postfix": "",
     "delete_cmd_prefix": "del ",
     "library": "var_list.py",
     "varRefreshCmd": "print(var_dic_list())"
    },
    "r": {
     "delete_cmd_postfix": ") ",
     "delete_cmd_prefix": "rm(",
     "library": "var_list.r",
     "varRefreshCmd": "cat(var_dic_list()) "
    }
   },
   "types_to_exclude": [
    "module",
    "function",
    "builtin_function_or_method",
    "instance",
    "_Feature"
   ],
   "window_display": false
  }
 },
 "nbformat": 4,
 "nbformat_minor": 4
}
