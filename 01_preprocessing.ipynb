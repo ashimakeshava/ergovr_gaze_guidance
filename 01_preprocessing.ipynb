{
 "cells": [
  {
   "cell_type": "markdown",
   "metadata": {},
   "source": [
    "# ErgoVR- Object selection strategies revealed by gaze movement in VR"
   ]
  },
  {
   "cell_type": "code",
   "execution_count": 48,
   "metadata": {
    "ExecuteTime": {
     "end_time": "2020-12-30T19:17:20.372506Z",
     "start_time": "2020-12-30T19:17:20.359540Z"
    }
   },
   "outputs": [],
   "source": [
    "import pandas as pd\n",
    "import numpy as np\n",
    "import seaborn as sns\n",
    "import matplotlib.pyplot as plt\n",
    "from utils.pre_processing_functions import *\n",
    "from datetime import date\n",
    "import os"
   ]
  },
  {
   "cell_type": "code",
   "execution_count": 2,
   "metadata": {
    "ExecuteTime": {
     "end_time": "2020-12-30T16:53:36.977328Z",
     "start_time": "2020-12-30T16:53:36.963367Z"
    }
   },
   "outputs": [],
   "source": [
    "DATA_PATH = '../experiment_et_data/'\n",
    "META_DATA_PATH = '../experiment_meta/'\n",
    "PROCESSED_DATA_PATH = '../processed_data/EIH_1/'\n",
    "os.makedirs(os.path.dirname(PROCESSED_DATA_PATH), exist_ok=True)"
   ]
  },
  {
   "cell_type": "code",
   "execution_count": 45,
   "metadata": {
    "ExecuteTime": {
     "end_time": "2020-12-30T19:15:16.747803Z",
     "start_time": "2020-12-30T19:15:16.733840Z"
    }
   },
   "outputs": [],
   "source": [
    "import multiprocessing as mp\n",
    "from functools import partial\n",
    "\n",
    "def pandas_mp_apply(grouped_df, apply_func):\n",
    "    with mp.Pool(mp.cpu_count() - 1) as p:\n",
    "        ret_list = p.map(apply_func, [(group, name) for name, group in grouped_df])\n",
    "    \n",
    "    return pd.concat(ret_list)"
   ]
  },
  {
   "cell_type": "markdown",
   "metadata": {},
   "source": [
    "## Read .etd files and save as df"
   ]
  },
  {
   "cell_type": "code",
   "execution_count": null,
   "metadata": {
    "scrolled": true
   },
   "outputs": [],
   "source": [
    "#execution time ~6h so run only if restarting \n",
    "read_preprocess_save(DATA_PATH, PROCESSED_DATA_PATH)"
   ]
  },
  {
   "cell_type": "code",
   "execution_count": null,
   "metadata": {},
   "outputs": [],
   "source": [
    "samples_df = pd.read_csv(\n",
    "    f'{PROCESSED_DATA_PATH}/00_ET_samples_master.csv',\n",
    "    parse_dates=['timestamp_dt'], \n",
    "    index_col=False,\n",
    "    infer_datetime_format=True,\n",
    ")"
   ]
  },
  {
   "cell_type": "code",
   "execution_count": null,
   "metadata": {},
   "outputs": [],
   "source": [
    "# display(samples_df.iloc[:, 0:25].isna().sum().to_frame())\n",
    "display(samples_df.columns)"
   ]
  },
  {
   "cell_type": "code",
   "execution_count": null,
   "metadata": {},
   "outputs": [],
   "source": [
    "samples_df['EIH_pos_x'] = np.nan\n",
    "samples_df['EIH_pos_y'] = np.nan\n",
    "samples_df['EIH_pos_z'] = np.nan\n",
    "samples_df['EIH_dir_x'] = np.nan\n",
    "samples_df['EIH_dir_y'] = np.nan\n",
    "samples_df['EIH_dir_z'] = np.nan\n",
    "samples_df['eye_shelf_hit'] = np.nan\n",
    "samples_df.head()"
   ]
  },
  {
   "cell_type": "code",
   "execution_count": null,
   "metadata": {},
   "outputs": [],
   "source": [
    "(\n",
    "    samples_df\n",
    "    .dropna(subset=['combinedEye_position_x', 'combinedEye_position_y',\n",
    "       'combinedEye_position_z', 'combinedEye_direction_x',\n",
    "       'combinedEye_direction_y', 'combinedEye_direction_z', \n",
    "       'nosePointer_position_x', 'nosePointer_position_y',\n",
    "       'nosePointer_position_z', 'nosePointer_direction_x',\n",
    "       'nosePointer_direction_y', 'nosePointer_direction_z',])\n",
    "    .to_csv(\n",
    "        f'{PROCESSED_DATA_PATH}/01_ET_samples_EIH_offline_raycast_no_nan_1.csv',\n",
    "        index=False,\n",
    "    )\n",
    ")"
   ]
  },
  {
   "cell_type": "markdown",
   "metadata": {},
   "source": [
    "## Data sent for offline raycasting\n",
    "Next steps are after offline raycasting as been done and the csv filled with the EIH and shelf_hit values"
   ]
  },
  {
   "cell_type": "markdown",
   "metadata": {},
   "source": [
    "## Calculate gaze information"
   ]
  },
  {
   "cell_type": "code",
   "execution_count": 52,
   "metadata": {
    "ExecuteTime": {
     "end_time": "2020-12-30T19:48:02.561312Z",
     "start_time": "2020-12-30T19:45:23.397794Z"
    },
    "scrolled": true
   },
   "outputs": [
    {
     "name": "stderr",
     "output_type": "stream",
     "text": [
      "C:\\Users\\akeshava\\.conda\\envs\\conda_ergovr\\lib\\site-packages\\IPython\\core\\interactiveshell.py:3063: DtypeWarning: Columns (52) have mixed types.Specify dtype option on import or set low_memory=False.\n",
      "  interactivity=interactivity, compiler=compiler, result=result)\n"
     ]
    }
   ],
   "source": [
    "samples_df = pd.read_csv(\n",
    "    f'{PROCESSED_DATA_PATH}/01_ET_samples_EIH_offline_raycast_no_nan_1.csv',\n",
    "    parse_dates=['timestamp_dt'], \n",
    "    index_col=False,\n",
    "    infer_datetime_format=True,\n",
    ")"
   ]
  },
  {
   "cell_type": "code",
   "execution_count": 54,
   "metadata": {
    "ExecuteTime": {
     "end_time": "2020-12-30T19:48:37.923444Z",
     "start_time": "2020-12-30T19:48:35.724609Z"
    }
   },
   "outputs": [
    {
     "data": {
      "text/plain": [
       "(10156123, 46)"
      ]
     },
     "execution_count": 54,
     "metadata": {},
     "output_type": "execute_result"
    }
   ],
   "source": [
    "samples_df.drop(columns=['unixTimestamp_seconds', 'timestamp',\n",
    "                         'leftEye_position_x', 'leftEye_position_y',\n",
    "       'leftEye_position_z', 'leftEye_direction_x', 'leftEye_direction_y',\n",
    "       'leftEye_direction_z', 'leftEye_raycastHitObject',\n",
    "       'leftEye_raycastHitLocation_x', 'leftEye_raycastHitLocation_y',\n",
    "       'leftEye_raycastHitLocation_z', 'rightEye_position_x',\n",
    "       'rightEye_position_y', 'rightEye_position_z', 'rightEye_direction_x',\n",
    "       'rightEye_direction_y', 'rightEye_direction_z',\n",
    "       'rightEye_raycastHitObject', 'rightEye_raycastHitLocation_x',\n",
    "       'rightEye_raycastHitLocation_y', 'rightEye_raycastHitLocation_z',\n",
    "                        ],\n",
    "                inplace=True\n",
    ")\n",
    "samples_df.shape"
   ]
  },
  {
   "cell_type": "code",
   "execution_count": 55,
   "metadata": {
    "ExecuteTime": {
     "end_time": "2020-12-30T19:49:06.585156Z",
     "start_time": "2020-12-30T19:48:51.815702Z"
    },
    "scrolled": false
   },
   "outputs": [
    {
     "data": {
      "text/plain": [
       "(10156122, 47)"
      ]
     },
     "execution_count": 55,
     "metadata": {},
     "output_type": "execute_result"
    }
   ],
   "source": [
    "samples_df.dropna(subset = ['subjectfileName'], inplace=True)\n",
    "tmpdf = (\n",
    "    samples_df\n",
    "#     .dropna(subset = ['subjectfileName'])\n",
    "    .query('subjectfileName.str.endswith(\"_2.etd\")')\n",
    "    .groupby(['subjectID', 'subjectfileName'],)\n",
    "    .trialNum\n",
    "#     .last()\n",
    "    .apply(lambda s: s + 23 - s.max())\n",
    "#     .reset_index()\n",
    ")\n",
    "samples_df['trial_num'] = tmpdf\n",
    "samples_df.loc[\n",
    "    ~samples_df.subjectfileName.str.endswith(\"_2.etd\"), \n",
    "    'trial_num'] = samples_df.loc[~samples_df.subjectfileName.str.endswith(\"_2.etd\"), 'trialNum']\n",
    "\n",
    "samples_df.shape"
   ]
  },
  {
   "cell_type": "code",
   "execution_count": 58,
   "metadata": {
    "ExecuteTime": {
     "end_time": "2020-12-30T19:49:53.017298Z",
     "start_time": "2020-12-30T19:49:52.974692Z"
    }
   },
   "outputs": [
    {
     "data": {
      "text/html": [
       "<div>\n",
       "<style scoped>\n",
       "    .dataframe tbody tr th:only-of-type {\n",
       "        vertical-align: middle;\n",
       "    }\n",
       "\n",
       "    .dataframe tbody tr th {\n",
       "        vertical-align: top;\n",
       "    }\n",
       "\n",
       "    .dataframe thead th {\n",
       "        text-align: right;\n",
       "    }\n",
       "</style>\n",
       "<table border=\"1\" class=\"dataframe\">\n",
       "  <thead>\n",
       "    <tr style=\"text-align: right;\">\n",
       "      <th></th>\n",
       "      <th>combinedEye_position_x</th>\n",
       "      <th>combinedEye_position_y</th>\n",
       "      <th>combinedEye_position_z</th>\n",
       "      <th>combinedEye_direction_x</th>\n",
       "      <th>combinedEye_direction_y</th>\n",
       "      <th>combinedEye_direction_z</th>\n",
       "      <th>combinedEye_raycastHitObject</th>\n",
       "      <th>combinedEye_raycastHitLocation_x</th>\n",
       "      <th>combinedEye_raycastHitLocation_y</th>\n",
       "      <th>combinedEye_raycastHitLocation_z</th>\n",
       "      <th>...</th>\n",
       "      <th>subjectfileName</th>\n",
       "      <th>timestamp_dt</th>\n",
       "      <th>EIH_pos_x</th>\n",
       "      <th>EIH_pos_y</th>\n",
       "      <th>EIH_pos_z</th>\n",
       "      <th>EIH_dir_x</th>\n",
       "      <th>EIH_dir_y</th>\n",
       "      <th>EIH_dir_z</th>\n",
       "      <th>eye_shelf_hit</th>\n",
       "      <th>trial_num</th>\n",
       "    </tr>\n",
       "  </thead>\n",
       "  <tbody>\n",
       "    <tr>\n",
       "      <th>0</th>\n",
       "      <td>0.002804</td>\n",
       "      <td>-0.001095</td>\n",
       "      <td>-0.024177</td>\n",
       "      <td>-0.054383</td>\n",
       "      <td>0.050156</td>\n",
       "      <td>0.997260</td>\n",
       "      <td>Wall</td>\n",
       "      <td>-0.213000</td>\n",
       "      <td>1.367172</td>\n",
       "      <td>0.308637</td>\n",
       "      <td>...</td>\n",
       "      <td>../experiment_et_data\\subject2006.etd</td>\n",
       "      <td>1970-01-01 00:00:00.333333343</td>\n",
       "      <td>0.008821</td>\n",
       "      <td>1.591406</td>\n",
       "      <td>-1.258100</td>\n",
       "      <td>-0.134382</td>\n",
       "      <td>-0.136134</td>\n",
       "      <td>0.981534</td>\n",
       "      <td>2_3</td>\n",
       "      <td>0.0</td>\n",
       "    </tr>\n",
       "    <tr>\n",
       "      <th>1</th>\n",
       "      <td>0.003028</td>\n",
       "      <td>-0.001079</td>\n",
       "      <td>-0.024180</td>\n",
       "      <td>-0.054200</td>\n",
       "      <td>0.050507</td>\n",
       "      <td>0.997252</td>\n",
       "      <td>Back</td>\n",
       "      <td>-0.039645</td>\n",
       "      <td>1.393615</td>\n",
       "      <td>0.513000</td>\n",
       "      <td>...</td>\n",
       "      <td>../experiment_et_data\\subject2006.etd</td>\n",
       "      <td>1970-01-01 00:00:00.344199151</td>\n",
       "      <td>-0.010507</td>\n",
       "      <td>1.592493</td>\n",
       "      <td>-1.272246</td>\n",
       "      <td>-0.012008</td>\n",
       "      <td>-0.106957</td>\n",
       "      <td>0.994191</td>\n",
       "      <td>2_3</td>\n",
       "      <td>0.0</td>\n",
       "    </tr>\n",
       "    <tr>\n",
       "      <th>2</th>\n",
       "      <td>0.003028</td>\n",
       "      <td>-0.001079</td>\n",
       "      <td>-0.024180</td>\n",
       "      <td>-0.054200</td>\n",
       "      <td>0.050507</td>\n",
       "      <td>0.997252</td>\n",
       "      <td>Back</td>\n",
       "      <td>-0.039172</td>\n",
       "      <td>1.393820</td>\n",
       "      <td>0.513000</td>\n",
       "      <td>...</td>\n",
       "      <td>../experiment_et_data\\subject2006.etd</td>\n",
       "      <td>1970-01-01 00:00:00.352107048</td>\n",
       "      <td>-0.010445</td>\n",
       "      <td>1.592531</td>\n",
       "      <td>-1.272292</td>\n",
       "      <td>-0.011817</td>\n",
       "      <td>-0.106908</td>\n",
       "      <td>0.994199</td>\n",
       "      <td>2_3</td>\n",
       "      <td>0.0</td>\n",
       "    </tr>\n",
       "    <tr>\n",
       "      <th>3</th>\n",
       "      <td>0.003028</td>\n",
       "      <td>-0.001079</td>\n",
       "      <td>-0.024180</td>\n",
       "      <td>-0.054200</td>\n",
       "      <td>0.050507</td>\n",
       "      <td>0.997252</td>\n",
       "      <td>Back</td>\n",
       "      <td>-0.038426</td>\n",
       "      <td>1.393964</td>\n",
       "      <td>0.513000</td>\n",
       "      <td>...</td>\n",
       "      <td>../experiment_et_data\\subject2006.etd</td>\n",
       "      <td>1970-01-01 00:00:00.360527635</td>\n",
       "      <td>-0.010391</td>\n",
       "      <td>1.592609</td>\n",
       "      <td>-1.272324</td>\n",
       "      <td>-0.011463</td>\n",
       "      <td>-0.106908</td>\n",
       "      <td>0.994203</td>\n",
       "      <td>2_3</td>\n",
       "      <td>0.0</td>\n",
       "    </tr>\n",
       "    <tr>\n",
       "      <th>4</th>\n",
       "      <td>0.002949</td>\n",
       "      <td>-0.001093</td>\n",
       "      <td>-0.024174</td>\n",
       "      <td>-0.053986</td>\n",
       "      <td>0.050858</td>\n",
       "      <td>0.997246</td>\n",
       "      <td>Back</td>\n",
       "      <td>-0.037744</td>\n",
       "      <td>1.394590</td>\n",
       "      <td>0.513000</td>\n",
       "      <td>...</td>\n",
       "      <td>../experiment_et_data\\subject2006.etd</td>\n",
       "      <td>1970-01-01 00:00:00.370871246</td>\n",
       "      <td>-0.010339</td>\n",
       "      <td>1.592630</td>\n",
       "      <td>-1.272321</td>\n",
       "      <td>-0.011151</td>\n",
       "      <td>-0.106618</td>\n",
       "      <td>0.994238</td>\n",
       "      <td>2_3</td>\n",
       "      <td>0.0</td>\n",
       "    </tr>\n",
       "  </tbody>\n",
       "</table>\n",
       "<p>5 rows × 47 columns</p>\n",
       "</div>"
      ],
      "text/plain": [
       "   combinedEye_position_x  combinedEye_position_y  combinedEye_position_z  \\\n",
       "0                0.002804               -0.001095               -0.024177   \n",
       "1                0.003028               -0.001079               -0.024180   \n",
       "2                0.003028               -0.001079               -0.024180   \n",
       "3                0.003028               -0.001079               -0.024180   \n",
       "4                0.002949               -0.001093               -0.024174   \n",
       "\n",
       "   combinedEye_direction_x  combinedEye_direction_y  combinedEye_direction_z  \\\n",
       "0                -0.054383                 0.050156                 0.997260   \n",
       "1                -0.054200                 0.050507                 0.997252   \n",
       "2                -0.054200                 0.050507                 0.997252   \n",
       "3                -0.054200                 0.050507                 0.997252   \n",
       "4                -0.053986                 0.050858                 0.997246   \n",
       "\n",
       "  combinedEye_raycastHitObject  combinedEye_raycastHitLocation_x  \\\n",
       "0                         Wall                         -0.213000   \n",
       "1                         Back                         -0.039645   \n",
       "2                         Back                         -0.039172   \n",
       "3                         Back                         -0.038426   \n",
       "4                         Back                         -0.037744   \n",
       "\n",
       "   combinedEye_raycastHitLocation_y  combinedEye_raycastHitLocation_z  ...  \\\n",
       "0                          1.367172                          0.308637  ...   \n",
       "1                          1.393615                          0.513000  ...   \n",
       "2                          1.393820                          0.513000  ...   \n",
       "3                          1.393964                          0.513000  ...   \n",
       "4                          1.394590                          0.513000  ...   \n",
       "\n",
       "                         subjectfileName                  timestamp_dt  \\\n",
       "0  ../experiment_et_data\\subject2006.etd 1970-01-01 00:00:00.333333343   \n",
       "1  ../experiment_et_data\\subject2006.etd 1970-01-01 00:00:00.344199151   \n",
       "2  ../experiment_et_data\\subject2006.etd 1970-01-01 00:00:00.352107048   \n",
       "3  ../experiment_et_data\\subject2006.etd 1970-01-01 00:00:00.360527635   \n",
       "4  ../experiment_et_data\\subject2006.etd 1970-01-01 00:00:00.370871246   \n",
       "\n",
       "   EIH_pos_x  EIH_pos_y  EIH_pos_z  EIH_dir_x EIH_dir_y  EIH_dir_z  \\\n",
       "0   0.008821   1.591406  -1.258100  -0.134382 -0.136134   0.981534   \n",
       "1  -0.010507   1.592493  -1.272246  -0.012008 -0.106957   0.994191   \n",
       "2  -0.010445   1.592531  -1.272292  -0.011817 -0.106908   0.994199   \n",
       "3  -0.010391   1.592609  -1.272324  -0.011463 -0.106908   0.994203   \n",
       "4  -0.010339   1.592630  -1.272321  -0.011151 -0.106618   0.994238   \n",
       "\n",
       "   eye_shelf_hit  trial_num  \n",
       "0            2_3        0.0  \n",
       "1            2_3        0.0  \n",
       "2            2_3        0.0  \n",
       "3            2_3        0.0  \n",
       "4            2_3        0.0  \n",
       "\n",
       "[5 rows x 47 columns]"
      ]
     },
     "execution_count": 58,
     "metadata": {},
     "output_type": "execute_result"
    }
   ],
   "source": [
    "samples_df.head()"
   ]
  },
  {
   "cell_type": "markdown",
   "metadata": {},
   "source": [
    "### Calculate eye angular velocity"
   ]
  },
  {
   "cell_type": "code",
   "execution_count": 59,
   "metadata": {
    "ExecuteTime": {
     "end_time": "2020-12-30T19:50:49.230520Z",
     "start_time": "2020-12-30T19:50:06.806923Z"
    },
    "scrolled": true
   },
   "outputs": [
    {
     "data": {
      "text/plain": [
       "(10154782, 57)"
      ]
     },
     "execution_count": 59,
     "metadata": {},
     "output_type": "execute_result"
    }
   ],
   "source": [
    "# samples_df.sort_values(by='timestamp_dt', inplace=True)\n",
    "samples_df = calculate_EIH_theta(samples_df)\n",
    "samples_df.shape\n",
    "samples_df = calculate_EIH_angular_velocity(samples_df)\n",
    "\n",
    "samples_df.shape"
   ]
  },
  {
   "cell_type": "markdown",
   "metadata": {},
   "source": [
    "### Eye angular acceleration"
   ]
  },
  {
   "cell_type": "code",
   "execution_count": 60,
   "metadata": {
    "ExecuteTime": {
     "end_time": "2020-12-30T19:51:33.952726Z",
     "start_time": "2020-12-30T19:51:00.650737Z"
    }
   },
   "outputs": [
    {
     "name": "stderr",
     "output_type": "stream",
     "text": [
      "D:\\projects\\ErgoVR\\code\\utils\\pre_processing_functions.py:373: SettingWithCopyWarning: \n",
      "A value is trying to be set on a copy of a slice from a DataFrame.\n",
      "Try using .loc[row_indexer,col_indexer] = value instead\n",
      "\n",
      "See the caveats in the documentation: https://pandas.pydata.org/pandas-docs/stable/user_guide/indexing.html#returning-a-view-versus-a-copy\n",
      "  .apply(lambda x: x.diff()/np.timedelta64(1, 's')))\n",
      "D:\\projects\\ErgoVR\\code\\utils\\pre_processing_functions.py:380: SettingWithCopyWarning: \n",
      "A value is trying to be set on a copy of a slice from a DataFrame.\n",
      "Try using .loc[row_indexer,col_indexer] = value instead\n",
      "\n",
      "See the caveats in the documentation: https://pandas.pydata.org/pandas-docs/stable/user_guide/indexing.html#returning-a-view-versus-a-copy\n",
      "  .apply(lambda x: x.diff()/np.timedelta64(1, 's')))\n",
      "D:\\projects\\ErgoVR\\code\\utils\\pre_processing_functions.py:387: SettingWithCopyWarning: \n",
      "A value is trying to be set on a copy of a slice from a DataFrame.\n",
      "Try using .loc[row_indexer,col_indexer] = value instead\n",
      "\n",
      "See the caveats in the documentation: https://pandas.pydata.org/pandas-docs/stable/user_guide/indexing.html#returning-a-view-versus-a-copy\n",
      "  .apply(lambda x: x.diff()/np.timedelta64(1, 's')))\n",
      "D:\\projects\\ErgoVR\\code\\utils\\pre_processing_functions.py:394: SettingWithCopyWarning: \n",
      "A value is trying to be set on a copy of a slice from a DataFrame.\n",
      "Try using .loc[row_indexer,col_indexer] = value instead\n",
      "\n",
      "See the caveats in the documentation: https://pandas.pydata.org/pandas-docs/stable/user_guide/indexing.html#returning-a-view-versus-a-copy\n",
      "  .apply(lambda x: x.diff()/np.timedelta64(1, 's')))\n",
      "C:\\Users\\akeshava\\.conda\\envs\\conda_ergovr\\lib\\site-packages\\pandas\\core\\generic.py:5303: SettingWithCopyWarning: \n",
      "A value is trying to be set on a copy of a slice from a DataFrame.\n",
      "Try using .loc[row_indexer,col_indexer] = value instead\n",
      "\n",
      "See the caveats in the documentation: https://pandas.pydata.org/pandas-docs/stable/user_guide/indexing.html#returning-a-view-versus-a-copy\n",
      "  self[name] = value\n"
     ]
    },
    {
     "data": {
      "text/plain": [
       "(10153442, 61)"
      ]
     },
     "execution_count": 60,
     "metadata": {},
     "output_type": "execute_result"
    }
   ],
   "source": [
    "samples_df =  calculate_EIH_angular_acceleration(samples_df)\n",
    "samples_df.shape"
   ]
  },
  {
   "cell_type": "code",
   "execution_count": 61,
   "metadata": {
    "ExecuteTime": {
     "end_time": "2020-12-30T20:03:52.860413Z",
     "start_time": "2020-12-30T19:51:45.292701Z"
    }
   },
   "outputs": [],
   "source": [
    "samples_df.to_csv(\n",
    "    f'{PROCESSED_DATA_PATH}/02_ET_samples_vel_acc.csv',\n",
    "    index=False,\n",
    ")"
   ]
  },
  {
   "cell_type": "markdown",
   "metadata": {},
   "source": [
    "### Label fixation-based samples"
   ]
  },
  {
   "cell_type": "code",
   "execution_count": 35,
   "metadata": {
    "ExecuteTime": {
     "end_time": "2020-12-30T18:41:18.347165Z",
     "start_time": "2020-12-30T18:39:12.289351Z"
    }
   },
   "outputs": [
    {
     "name": "stderr",
     "output_type": "stream",
     "text": [
      "C:\\Users\\akeshava\\.conda\\envs\\conda_ergovr\\lib\\site-packages\\IPython\\core\\interactiveshell.py:3063: DtypeWarning: Columns (30) have mixed types.Specify dtype option on import or set low_memory=False.\n",
      "  interactivity=interactivity, compiler=compiler, result=result)\n"
     ]
    }
   ],
   "source": [
    "samples_df = pd.read_csv(\n",
    "    f'{PROCESSED_DATA_PATH}/02_ET_samples_vel_acc.csv',\n",
    "    parse_dates=['timestamp_dt'], \n",
    "    index_col=False,\n",
    "    infer_datetime_format=True,\n",
    ")"
   ]
  },
  {
   "cell_type": "code",
   "execution_count": 63,
   "metadata": {
    "ExecuteTime": {
     "end_time": "2020-12-30T20:04:24.547416Z",
     "start_time": "2020-12-30T20:04:12.653241Z"
    },
    "scrolled": true
   },
   "outputs": [],
   "source": [
    "samples_df = get_fixation_samples(samples_df)"
   ]
  },
  {
   "cell_type": "markdown",
   "metadata": {},
   "source": [
    "### Calculate fixation durations"
   ]
  },
  {
   "cell_type": "code",
   "execution_count": null,
   "metadata": {
    "ExecuteTime": {
     "start_time": "2020-12-30T20:04:28.776Z"
    },
    "scrolled": true
   },
   "outputs": [],
   "source": [
    "# samples_df.sort_values(by='timestamp_dt', inplace=True)\n",
    "samples_df = get_fixation_duration(samples_df)\n",
    "\n",
    "samples_df.shape"
   ]
  },
  {
   "cell_type": "code",
   "execution_count": null,
   "metadata": {
    "ExecuteTime": {
     "end_time": "2020-12-30T17:12:07.404158Z",
     "start_time": "2020-12-30T17:06:01.753Z"
    }
   },
   "outputs": [],
   "source": [
    "samples_df.to_csv(f'{PROCESSED_DATA_PATH}/04_ET_samples_fixations.csv',\n",
    "                 index=False)"
   ]
  },
  {
   "cell_type": "markdown",
   "metadata": {},
   "source": [
    "## Calculate grasp information"
   ]
  },
  {
   "cell_type": "code",
   "execution_count": null,
   "metadata": {},
   "outputs": [],
   "source": [
    "samples_df = pd.read_csv(\n",
    "    f'{PROCESSED_DATA_PATH}/04_ET_samples_fixations.csv',\n",
    "    parse_dates=['timestamp_dt'], \n",
    "    dtype = {'isFixV':np.bool,'isOutlierFix':np.bool,'isOutlierSac':np.bool},\n",
    "    infer_datetime_format=True,\n",
    ")"
   ]
  },
  {
   "cell_type": "markdown",
   "metadata": {},
   "source": [
    "### Calculate grasp onset, grasp stop and grasp duration"
   ]
  },
  {
   "cell_type": "code",
   "execution_count": null,
   "metadata": {
    "ExecuteTime": {
     "end_time": "2020-12-30T17:12:07.412136Z",
     "start_time": "2020-12-30T17:06:05.749Z"
    },
    "scrolled": true
   },
   "outputs": [],
   "source": [
    "samples_df = get_grasp_info(samples_df)"
   ]
  },
  {
   "cell_type": "code",
   "execution_count": null,
   "metadata": {},
   "outputs": [],
   "source": [
    "(samples_df\n",
    "                 .groupby(['subjectID', 'subjectfileName', 'trialNum'], as_index=False)\n",
    "                 .handData_graspedObject\n",
    "                 .apply(lambda x: \n",
    "                        x\n",
    "                        .groupby((x != x.shift()).cumsum())\n",
    "                        .transform(lambda x: x.index[0],\n",
    "#                                                x.index[-1],\n",
    "#                                               (x.index[-1] - x.index[0])/np.timedelta64(1,'s')\n",
    "#                                               ] \n",
    "                                   )\n",
    "                        )\n",
    ")"
   ]
  },
  {
   "cell_type": "markdown",
   "metadata": {},
   "source": [
    "### Calculate grasp pickup and drop-off locations"
   ]
  },
  {
   "cell_type": "code",
   "execution_count": null,
   "metadata": {
    "ExecuteTime": {
     "end_time": "2020-12-30T17:12:07.423106Z",
     "start_time": "2020-12-30T17:06:11.660Z"
    },
    "scrolled": true
   },
   "outputs": [],
   "source": [
    "samples_df = get_pickup_dropoff_loc(samples_df, META_DATA_PATH)"
   ]
  },
  {
   "cell_type": "code",
   "execution_count": null,
   "metadata": {},
   "outputs": [],
   "source": [
    "samples_df.to_csv(f'{PROCESSED_DATA_PATH}/05_ET_samples_graspInfo.csv',\n",
    "                 index=False)"
   ]
  },
  {
   "cell_type": "markdown",
   "metadata": {},
   "source": [
    "# Scatch\n",
    "code below is not used for preprocessing the data"
   ]
  },
  {
   "cell_type": "markdown",
   "metadata": {},
   "source": [
    "### Resample data"
   ]
  },
  {
   "cell_type": "code",
   "execution_count": null,
   "metadata": {},
   "outputs": [],
   "source": [
    "samples_df = pd.read_csv(\n",
    "    f'{PROCESSED_DATA_PATH}/02_ET_samples_vel_acc.csv',\n",
    "    parse_dates=['timestamp_dt'], \n",
    "    index_col=False,\n",
    "    infer_datetime_format=True,\n",
    ")"
   ]
  },
  {
   "cell_type": "code",
   "execution_count": null,
   "metadata": {},
   "outputs": [],
   "source": [
    "samples_df = downsample_data(samples_df)"
   ]
  },
  {
   "cell_type": "code",
   "execution_count": null,
   "metadata": {},
   "outputs": [],
   "source": [
    "samples_df.to_csv(\n",
    "    f'{PROCESSED_DATA_PATH}/03_ET_samples_downsampled_75Hz.csv',\n",
    "    index=False,\n",
    ")"
   ]
  }
 ],
 "metadata": {
  "kernelspec": {
   "display_name": "Python 3",
   "language": "python",
   "name": "python3"
  },
  "language_info": {
   "codemirror_mode": {
    "name": "ipython",
    "version": 3
   },
   "file_extension": ".py",
   "mimetype": "text/x-python",
   "name": "python",
   "nbconvert_exporter": "python",
   "pygments_lexer": "ipython3",
   "version": "3.7.4"
  },
  "toc": {
   "base_numbering": 1,
   "nav_menu": {},
   "number_sections": true,
   "sideBar": true,
   "skip_h1_title": false,
   "title_cell": "Table of Contents",
   "title_sidebar": "Contents",
   "toc_cell": false,
   "toc_position": {
    "height": "calc(100% - 180px)",
    "left": "10px",
    "top": "150px",
    "width": "165px"
   },
   "toc_section_display": true,
   "toc_window_display": false
  },
  "varInspector": {
   "cols": {
    "lenName": 16,
    "lenType": 16,
    "lenVar": 40
   },
   "kernels_config": {
    "python": {
     "delete_cmd_postfix": "",
     "delete_cmd_prefix": "del ",
     "library": "var_list.py",
     "varRefreshCmd": "print(var_dic_list())"
    },
    "r": {
     "delete_cmd_postfix": ") ",
     "delete_cmd_prefix": "rm(",
     "library": "var_list.r",
     "varRefreshCmd": "cat(var_dic_list()) "
    }
   },
   "types_to_exclude": [
    "module",
    "function",
    "builtin_function_or_method",
    "instance",
    "_Feature"
   ],
   "window_display": false
  }
 },
 "nbformat": 4,
 "nbformat_minor": 4
}
