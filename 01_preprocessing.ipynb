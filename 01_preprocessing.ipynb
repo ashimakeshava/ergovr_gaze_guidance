{
 "cells": [
  {
   "cell_type": "markdown",
   "metadata": {},
   "source": [
    "# ErgoVR- Object selection strategies revealed by gaze movement in VR"
   ]
  },
  {
   "cell_type": "code",
   "execution_count": 1,
   "metadata": {
    "ExecuteTime": {
     "end_time": "2020-06-19T20:15:04.078621Z",
     "start_time": "2020-06-19T20:15:04.002181Z"
    }
   },
   "outputs": [],
   "source": [
    "%load_ext autoreload\n",
    "%autoreload 2"
   ]
  },
  {
   "cell_type": "code",
   "execution_count": 2,
   "metadata": {
    "ExecuteTime": {
     "end_time": "2020-06-19T20:15:11.379026Z",
     "start_time": "2020-06-19T20:15:05.704004Z"
    }
   },
   "outputs": [],
   "source": [
    "import pandas as pd\n",
    "import numpy as np\n",
    "import seaborn as sns\n",
    "import matplotlib.pyplot as plt\n",
    "from utils.utils import *\n",
    "from datetime import date\n",
    "import os"
   ]
  },
  {
   "cell_type": "code",
   "execution_count": 3,
   "metadata": {
    "ExecuteTime": {
     "end_time": "2020-06-19T20:15:11.548921Z",
     "start_time": "2020-06-19T20:15:11.499056Z"
    }
   },
   "outputs": [],
   "source": [
    "DATA_PATH = '../experiment_et_data/'\n",
    "META_DATA_PATH = '../experiment_meta/'\n",
    "PROCESSED_DATA_PATH = '../processed_data/EIH/'\n",
    "os.makedirs(os.path.dirname(PROCESSED_DATA_PATH), exist_ok=True)"
   ]
  },
  {
   "cell_type": "markdown",
   "metadata": {},
   "source": [
    "## Read .etd files and save as df"
   ]
  },
  {
   "cell_type": "code",
   "execution_count": null,
   "metadata": {
    "scrolled": true
   },
   "outputs": [],
   "source": [
    "#execution time ~6h so run only if restarting \n",
    "read_preprocess_save(DATA_PATH, PROCESSED_DATA_PATH)"
   ]
  },
  {
   "cell_type": "markdown",
   "metadata": {},
   "source": [
    "## Calculate gaze information"
   ]
  },
  {
   "cell_type": "code",
   "execution_count": 4,
   "metadata": {
    "ExecuteTime": {
     "end_time": "2020-06-19T20:17:33.599259Z",
     "start_time": "2020-06-19T20:15:18.805871Z"
    }
   },
   "outputs": [
    {
     "name": "stderr",
     "output_type": "stream",
     "text": [
      "C:\\Users\\akeshava\\.conda\\envs\\conda_ergovr\\lib\\site-packages\\IPython\\core\\interactiveshell.py:3063: DtypeWarning: Columns (53) have mixed types.Specify dtype option on import or set low_memory=False.\n",
      "  interactivity=interactivity, compiler=compiler, result=result)\n"
     ]
    }
   ],
   "source": [
    "samples_df = pd.read_csv(\n",
    "    f'{PROCESSED_DATA_PATH}/01_ET_samples_EIH_transform.csv',\n",
    "    parse_dates=['timestamp_dt'], \n",
    "    index_col=False,\n",
    "    infer_datetime_format=True,\n",
    ")"
   ]
  },
  {
   "cell_type": "code",
   "execution_count": 5,
   "metadata": {
    "ExecuteTime": {
     "end_time": "2020-06-19T20:17:50.147621Z",
     "start_time": "2020-06-19T20:17:50.064198Z"
    }
   },
   "outputs": [
    {
     "data": {
      "text/plain": [
       "Index(['timestamp_dt', 'timestamp', 'leftEye_position_x', 'leftEye_position_y',\n",
       "       'leftEye_position_z', 'leftEye_direction_x', 'leftEye_direction_y',\n",
       "       'leftEye_direction_z', 'leftEye_raycastHitObject',\n",
       "       'leftEye_raycastHitLocation_x', 'leftEye_raycastHitLocation_y',\n",
       "       'leftEye_raycastHitLocation_z', 'rightEye_position_x',\n",
       "       'rightEye_position_y', 'rightEye_position_z', 'rightEye_direction_x',\n",
       "       'rightEye_direction_y', 'rightEye_direction_z',\n",
       "       'rightEye_raycastHitObject', 'rightEye_raycastHitLocation_x',\n",
       "       'rightEye_raycastHitLocation_y', 'rightEye_raycastHitLocation_z',\n",
       "       'combinedEye_position_x', 'combinedEye_position_y',\n",
       "       'combinedEye_position_z', 'combinedEye_direction_x',\n",
       "       'combinedEye_direction_y', 'combinedEye_direction_z',\n",
       "       'combinedEye_raycastHitObject', 'combinedEye_raycastHitLocation_x',\n",
       "       'combinedEye_raycastHitLocation_y', 'combinedEye_raycastHitLocation_z',\n",
       "       'nosePointer_position_x', 'nosePointer_position_y',\n",
       "       'nosePointer_position_z', 'nosePointer_direction_x',\n",
       "       'nosePointer_direction_y', 'nosePointer_direction_z',\n",
       "       'nosePointer_raycastHitObject', 'nosePointer_raycastHitLocation_x',\n",
       "       'nosePointer_raycastHitLocation_y', 'nosePointer_raycastHitLocation_z',\n",
       "       'handData_transform_position_x', 'handData_transform_position_y',\n",
       "       'handData_transform_position_z', 'handData_transform_rotation_x',\n",
       "       'handData_transform_rotation_y', 'handData_transform_rotation_z',\n",
       "       'handData_transform_rotation_w', 'handData_transform_scale_x',\n",
       "       'handData_transform_scale_y', 'handData_transform_scale_z',\n",
       "       'unixTimestamp_seconds', 'handData_graspedObject',\n",
       "       'handData_contactPoint_x', 'handData_contactPoint_y',\n",
       "       'handData_contactPoint_z', 'trialID', 'subjectID', 'trialNum',\n",
       "       'subjectfileName', 'eye_shelfHits', 'nosePointer_shelfHits',\n",
       "       'EIH_pos_x', 'EIH_pos_y', 'EIH_pos_z', 'EIH_dir_x', 'EIH_dir_y',\n",
       "       'EIH_dir_z'],\n",
       "      dtype='object')"
      ]
     },
     "execution_count": 5,
     "metadata": {},
     "output_type": "execute_result"
    }
   ],
   "source": [
    "samples_df.columns"
   ]
  },
  {
   "cell_type": "code",
   "execution_count": 5,
   "metadata": {
    "ExecuteTime": {
     "end_time": "2020-06-14T15:48:44.291340Z",
     "start_time": "2020-06-14T15:48:43.806639Z"
    }
   },
   "outputs": [
    {
     "data": {
      "text/plain": [
       "EIH_pos_x    1\n",
       "EIH_pos_y    1\n",
       "EIH_pos_z    1\n",
       "EIH_dir_x    1\n",
       "EIH_dir_y    1\n",
       "EIH_dir_z    1\n",
       "dtype: int64"
      ]
     },
     "execution_count": 5,
     "metadata": {},
     "output_type": "execute_result"
    }
   ],
   "source": [
    "samples_df[['EIH_pos_x','EIH_pos_y','EIH_pos_z', 'EIH_dir_x', 'EIH_dir_y', 'EIH_dir_z']].dtypes"
   ]
  },
  {
   "cell_type": "markdown",
   "metadata": {},
   "source": [
    "### Calculate eye angular velocity"
   ]
  },
  {
   "cell_type": "code",
   "execution_count": 6,
   "metadata": {
    "ExecuteTime": {
     "end_time": "2020-06-14T15:49:58.165920Z",
     "start_time": "2020-06-14T15:48:48.976233Z"
    },
    "scrolled": true
   },
   "outputs": [],
   "source": [
    "samples_df = calculate_EIH_theta(samples_df)\n",
    "samples_df = calculate_EIH_angular_velocity(samples_df)"
   ]
  },
  {
   "cell_type": "markdown",
   "metadata": {},
   "source": [
    "### Eye angular acceleration"
   ]
  },
  {
   "cell_type": "code",
   "execution_count": 7,
   "metadata": {
    "ExecuteTime": {
     "end_time": "2020-06-14T15:50:57.027398Z",
     "start_time": "2020-06-14T15:50:02.423550Z"
    }
   },
   "outputs": [],
   "source": [
    "samples_df =  calculate_EIH_angular_acceleration(samples_df)"
   ]
  },
  {
   "cell_type": "code",
   "execution_count": 8,
   "metadata": {
    "ExecuteTime": {
     "end_time": "2020-06-14T16:08:29.614318Z",
     "start_time": "2020-06-14T15:51:01.315953Z"
    }
   },
   "outputs": [],
   "source": [
    "samples_df.to_csv(\n",
    "    f'{PROCESSED_DATA_PATH}/02_ET_samples_vel_acc.csv',\n",
    "    index=False,\n",
    ")"
   ]
  },
  {
   "cell_type": "markdown",
   "metadata": {},
   "source": [
    "### Resample data"
   ]
  },
  {
   "cell_type": "code",
   "execution_count": null,
   "metadata": {},
   "outputs": [],
   "source": [
    "samples_df = pd.read_csv(\n",
    "    f'{PROCESSED_DATA_PATH}/02_ET_samples_vel_acc.csv',\n",
    "    parse_dates=['timestamp_dt'], \n",
    "    index_col=False,\n",
    "    infer_datetime_format=True,\n",
    ")"
   ]
  },
  {
   "cell_type": "code",
   "execution_count": null,
   "metadata": {},
   "outputs": [],
   "source": [
    "samples_df = downsample_data(samples_df)"
   ]
  },
  {
   "cell_type": "code",
   "execution_count": null,
   "metadata": {},
   "outputs": [],
   "source": [
    "samples_df.to_csv(\n",
    "    f'{PROCESSED_DATA_PATH}/03_ET_samples_downsampled_75Hz.csv',\n",
    "    index=False,\n",
    ")"
   ]
  },
  {
   "cell_type": "markdown",
   "metadata": {},
   "source": [
    "### Label fixation-based samples"
   ]
  },
  {
   "cell_type": "code",
   "execution_count": null,
   "metadata": {},
   "outputs": [],
   "source": [
    "samples_df = pd.read_csv(\n",
    "    f'{PROCESSED_DATA_PATH}/03_ET_samples_downsampled_75Hz.csv',\n",
    "    parse_dates=['timestamp_dt'], \n",
    "    index_col=False,\n",
    "    infer_datetime_format=True,\n",
    ")"
   ]
  },
  {
   "cell_type": "code",
   "execution_count": 16,
   "metadata": {
    "ExecuteTime": {
     "end_time": "2020-06-14T17:43:14.509147Z",
     "start_time": "2020-06-14T17:43:14.414403Z"
    }
   },
   "outputs": [
    {
     "data": {
      "text/html": [
       "<div>\n",
       "<style scoped>\n",
       "    .dataframe tbody tr th:only-of-type {\n",
       "        vertical-align: middle;\n",
       "    }\n",
       "\n",
       "    .dataframe tbody tr th {\n",
       "        vertical-align: top;\n",
       "    }\n",
       "\n",
       "    .dataframe thead th {\n",
       "        text-align: right;\n",
       "    }\n",
       "</style>\n",
       "<table border=\"1\" class=\"dataframe\">\n",
       "  <thead>\n",
       "    <tr style=\"text-align: right;\">\n",
       "      <th></th>\n",
       "      <th>timestamp_dt</th>\n",
       "      <th>timestamp</th>\n",
       "      <th>leftEye_position_x</th>\n",
       "      <th>leftEye_position_y</th>\n",
       "      <th>leftEye_position_z</th>\n",
       "      <th>leftEye_direction_x</th>\n",
       "      <th>leftEye_direction_y</th>\n",
       "      <th>leftEye_direction_z</th>\n",
       "      <th>leftEye_raycastHitObject</th>\n",
       "      <th>leftEye_raycastHitLocation_x</th>\n",
       "      <th>...</th>\n",
       "      <th>head_acc_v</th>\n",
       "      <th>isHeadStable</th>\n",
       "      <th>isFixV</th>\n",
       "      <th>fix_duration</th>\n",
       "      <th>isOutlierFix</th>\n",
       "      <th>isOutlierSac</th>\n",
       "      <th>fix_onset</th>\n",
       "      <th>fix_stop</th>\n",
       "      <th>fix_onset_bool</th>\n",
       "      <th>fix_stop_bool</th>\n",
       "    </tr>\n",
       "  </thead>\n",
       "  <tbody>\n",
       "    <tr>\n",
       "      <th>0</th>\n",
       "      <td>1970-01-01 00:00:00.360527635</td>\n",
       "      <td>0.360528</td>\n",
       "      <td>0.030739</td>\n",
       "      <td>0.001663</td>\n",
       "      <td>-0.025344</td>\n",
       "      <td>-0.034012</td>\n",
       "      <td>0.037598</td>\n",
       "      <td>0.998714</td>\n",
       "      <td>Back</td>\n",
       "      <td>-0.001267</td>\n",
       "      <td>...</td>\n",
       "      <td>-43.032384</td>\n",
       "      <td>True</td>\n",
       "      <td>True</td>\n",
       "      <td>0.33177</td>\n",
       "      <td>False</td>\n",
       "      <td>False</td>\n",
       "      <td>1970-01-01 00:00:00.360527635</td>\n",
       "      <td>1970-01-01 00:00:00.692297995</td>\n",
       "      <td>True</td>\n",
       "      <td>False</td>\n",
       "    </tr>\n",
       "    <tr>\n",
       "      <th>1</th>\n",
       "      <td>1970-01-01 00:00:00.370871246</td>\n",
       "      <td>0.370871</td>\n",
       "      <td>0.030738</td>\n",
       "      <td>0.001659</td>\n",
       "      <td>-0.025339</td>\n",
       "      <td>-0.033859</td>\n",
       "      <td>0.037567</td>\n",
       "      <td>0.998720</td>\n",
       "      <td>Back</td>\n",
       "      <td>-0.000663</td>\n",
       "      <td>...</td>\n",
       "      <td>-29.448556</td>\n",
       "      <td>True</td>\n",
       "      <td>True</td>\n",
       "      <td>0.33177</td>\n",
       "      <td>False</td>\n",
       "      <td>False</td>\n",
       "      <td>1970-01-01 00:00:00.360527635</td>\n",
       "      <td>1970-01-01 00:00:00.692297995</td>\n",
       "      <td>False</td>\n",
       "      <td>False</td>\n",
       "    </tr>\n",
       "    <tr>\n",
       "      <th>2</th>\n",
       "      <td>1970-01-01 00:00:00.381479651</td>\n",
       "      <td>0.381480</td>\n",
       "      <td>0.030734</td>\n",
       "      <td>0.001650</td>\n",
       "      <td>-0.025301</td>\n",
       "      <td>-0.033920</td>\n",
       "      <td>0.037476</td>\n",
       "      <td>0.998722</td>\n",
       "      <td>Back</td>\n",
       "      <td>0.000125</td>\n",
       "      <td>...</td>\n",
       "      <td>140.880292</td>\n",
       "      <td>True</td>\n",
       "      <td>True</td>\n",
       "      <td>0.33177</td>\n",
       "      <td>False</td>\n",
       "      <td>False</td>\n",
       "      <td>1970-01-01 00:00:00.360527635</td>\n",
       "      <td>1970-01-01 00:00:00.692297995</td>\n",
       "      <td>False</td>\n",
       "      <td>False</td>\n",
       "    </tr>\n",
       "    <tr>\n",
       "      <th>3</th>\n",
       "      <td>1970-01-01 00:00:00.392510742</td>\n",
       "      <td>0.392511</td>\n",
       "      <td>0.030728</td>\n",
       "      <td>0.001636</td>\n",
       "      <td>-0.025291</td>\n",
       "      <td>-0.035263</td>\n",
       "      <td>0.039078</td>\n",
       "      <td>0.998614</td>\n",
       "      <td>Back</td>\n",
       "      <td>-0.002236</td>\n",
       "      <td>...</td>\n",
       "      <td>-95.151273</td>\n",
       "      <td>True</td>\n",
       "      <td>True</td>\n",
       "      <td>0.33177</td>\n",
       "      <td>False</td>\n",
       "      <td>False</td>\n",
       "      <td>1970-01-01 00:00:00.360527635</td>\n",
       "      <td>1970-01-01 00:00:00.692297995</td>\n",
       "      <td>False</td>\n",
       "      <td>False</td>\n",
       "    </tr>\n",
       "    <tr>\n",
       "      <th>4</th>\n",
       "      <td>1970-01-01 00:00:00.403688431</td>\n",
       "      <td>0.403688</td>\n",
       "      <td>0.030728</td>\n",
       "      <td>0.001633</td>\n",
       "      <td>-0.025283</td>\n",
       "      <td>-0.035248</td>\n",
       "      <td>0.039414</td>\n",
       "      <td>0.998601</td>\n",
       "      <td>Back</td>\n",
       "      <td>-0.001497</td>\n",
       "      <td>...</td>\n",
       "      <td>8.569240</td>\n",
       "      <td>True</td>\n",
       "      <td>True</td>\n",
       "      <td>0.33177</td>\n",
       "      <td>False</td>\n",
       "      <td>False</td>\n",
       "      <td>1970-01-01 00:00:00.360527635</td>\n",
       "      <td>1970-01-01 00:00:00.692297995</td>\n",
       "      <td>False</td>\n",
       "      <td>False</td>\n",
       "    </tr>\n",
       "  </tbody>\n",
       "</table>\n",
       "<p>5 rows × 92 columns</p>\n",
       "</div>"
      ],
      "text/plain": [
       "                   timestamp_dt  timestamp  leftEye_position_x  \\\n",
       "0 1970-01-01 00:00:00.360527635   0.360528            0.030739   \n",
       "1 1970-01-01 00:00:00.370871246   0.370871            0.030738   \n",
       "2 1970-01-01 00:00:00.381479651   0.381480            0.030734   \n",
       "3 1970-01-01 00:00:00.392510742   0.392511            0.030728   \n",
       "4 1970-01-01 00:00:00.403688431   0.403688            0.030728   \n",
       "\n",
       "   leftEye_position_y  leftEye_position_z  leftEye_direction_x  \\\n",
       "0            0.001663           -0.025344            -0.034012   \n",
       "1            0.001659           -0.025339            -0.033859   \n",
       "2            0.001650           -0.025301            -0.033920   \n",
       "3            0.001636           -0.025291            -0.035263   \n",
       "4            0.001633           -0.025283            -0.035248   \n",
       "\n",
       "   leftEye_direction_y  leftEye_direction_z leftEye_raycastHitObject  \\\n",
       "0             0.037598             0.998714                     Back   \n",
       "1             0.037567             0.998720                     Back   \n",
       "2             0.037476             0.998722                     Back   \n",
       "3             0.039078             0.998614                     Back   \n",
       "4             0.039414             0.998601                     Back   \n",
       "\n",
       "   leftEye_raycastHitLocation_x  ...  head_acc_v  isHeadStable  isFixV  \\\n",
       "0                     -0.001267  ...  -43.032384          True    True   \n",
       "1                     -0.000663  ...  -29.448556          True    True   \n",
       "2                      0.000125  ...  140.880292          True    True   \n",
       "3                     -0.002236  ...  -95.151273          True    True   \n",
       "4                     -0.001497  ...    8.569240          True    True   \n",
       "\n",
       "   fix_duration  isOutlierFix  isOutlierSac                     fix_onset  \\\n",
       "0       0.33177         False         False 1970-01-01 00:00:00.360527635   \n",
       "1       0.33177         False         False 1970-01-01 00:00:00.360527635   \n",
       "2       0.33177         False         False 1970-01-01 00:00:00.360527635   \n",
       "3       0.33177         False         False 1970-01-01 00:00:00.360527635   \n",
       "4       0.33177         False         False 1970-01-01 00:00:00.360527635   \n",
       "\n",
       "                       fix_stop fix_onset_bool  fix_stop_bool  \n",
       "0 1970-01-01 00:00:00.692297995           True          False  \n",
       "1 1970-01-01 00:00:00.692297995          False          False  \n",
       "2 1970-01-01 00:00:00.692297995          False          False  \n",
       "3 1970-01-01 00:00:00.692297995          False          False  \n",
       "4 1970-01-01 00:00:00.692297995          False          False  \n",
       "\n",
       "[5 rows x 92 columns]"
      ]
     },
     "execution_count": 16,
     "metadata": {},
     "output_type": "execute_result"
    }
   ],
   "source": [
    "samples_df.head()"
   ]
  },
  {
   "cell_type": "code",
   "execution_count": 9,
   "metadata": {
    "ExecuteTime": {
     "end_time": "2020-06-14T16:08:45.623916Z",
     "start_time": "2020-06-14T16:08:33.743295Z"
    },
    "scrolled": true
   },
   "outputs": [],
   "source": [
    "samples_df = get_fixation_samples(samples_df)"
   ]
  },
  {
   "cell_type": "markdown",
   "metadata": {},
   "source": [
    "### Calculate fixation durations"
   ]
  },
  {
   "cell_type": "code",
   "execution_count": 14,
   "metadata": {
    "ExecuteTime": {
     "end_time": "2020-06-14T17:24:42.056864Z",
     "start_time": "2020-06-14T16:58:23.296419Z"
    },
    "scrolled": true
   },
   "outputs": [],
   "source": [
    "samples_df = get_fixation_duration(samples_df)"
   ]
  },
  {
   "cell_type": "code",
   "execution_count": 15,
   "metadata": {
    "ExecuteTime": {
     "end_time": "2020-06-14T17:43:10.926730Z",
     "start_time": "2020-06-14T17:24:47.433009Z"
    }
   },
   "outputs": [],
   "source": [
    "samples_df.to_csv(f'{PROCESSED_DATA_PATH}/04_ET_samples_fixations.csv',\n",
    "                 index=False)"
   ]
  },
  {
   "cell_type": "markdown",
   "metadata": {},
   "source": [
    "## Calculate grasp information"
   ]
  },
  {
   "cell_type": "code",
   "execution_count": null,
   "metadata": {},
   "outputs": [],
   "source": [
    "samples_df = pd.read_csv(\n",
    "    f'{PROCESSED_DATA_PATH}/04_ET_samples_fixations.csv',\n",
    "    parse_dates=['timestamp_dt'], \n",
    "    dtype = {'isFixV':np.bool,'isOutlierFix':np.bool,'isOutlierSac':np.bool},\n",
    "    infer_datetime_format=True,\n",
    ")"
   ]
  },
  {
   "cell_type": "markdown",
   "metadata": {},
   "source": [
    "### Calculate grasp onset, grasp stop and grasp duration"
   ]
  },
  {
   "cell_type": "code",
   "execution_count": 18,
   "metadata": {
    "ExecuteTime": {
     "end_time": "2020-06-14T19:02:30.656283Z",
     "start_time": "2020-06-14T17:49:46.524062Z"
    }
   },
   "outputs": [],
   "source": [
    "samples_df = get_grasp_info(samples_df)"
   ]
  },
  {
   "cell_type": "markdown",
   "metadata": {},
   "source": [
    "### Calculate grasp pickup and drop-off locations"
   ]
  },
  {
   "cell_type": "code",
   "execution_count": 19,
   "metadata": {
    "ExecuteTime": {
     "end_time": "2020-06-14T19:04:11.759018Z",
     "start_time": "2020-06-14T19:02:34.240696Z"
    },
    "scrolled": true
   },
   "outputs": [
    {
     "name": "stderr",
     "output_type": "stream",
     "text": [
      "D:\\projects\\ErgoVR\\code\\utils\\utils.py:637: SettingWithCopyWarning: \n",
      "A value is trying to be set on a copy of a slice from a DataFrame.\n",
      "Try using .loc[row_indexer,col_indexer] = value instead\n",
      "\n",
      "See the caveats in the documentation: https://pandas.pydata.org/pandas-docs/stable/user_guide/indexing.html#returning-a-view-versus-a-copy\n",
      "  grasp_object = grasp.handData_graspedObject.split('_')[0]\n"
     ]
    }
   ],
   "source": [
    "samples_df = get_pickup_dropoff_loc(samples_df, META_DATA_PATH)"
   ]
  },
  {
   "cell_type": "code",
   "execution_count": 20,
   "metadata": {
    "ExecuteTime": {
     "end_time": "2020-06-14T19:17:30.933976Z",
     "start_time": "2020-06-14T19:04:16.332784Z"
    }
   },
   "outputs": [],
   "source": [
    "samples_df.to_csv(f'{PROCESSED_DATA_PATH}/05_ET_samples_graspInfo.csv',\n",
    "                 index=False)"
   ]
  },
  {
   "cell_type": "code",
   "execution_count": null,
   "metadata": {},
   "outputs": [],
   "source": [
    "display(samples_df.columns)\n",
    "samples_df['EIH_pos_x'] = np.nan\n",
    "samples_df['EIH_pos_y'] = np.nan\n",
    "samples_df['EIH_pos_z'] = np.nan\n",
    "samples_df['EIH_dir_x'] = np.nan\n",
    "samples_df['EIH_dir_y'] = np.nan\n",
    "samples_df['EIH_dir_z'] = np.nan\n",
    "samples_df.drop(columns=['combined_eye_theta_h', 'combined_eye_theta_v',\n",
    "       'combined_eye_vel_h', 'combined_eye_vel_v', 'combined_eye_acc_h',\n",
    "       'combined_eye_acc_v', 'eye_angular_vel', 'head_angular_vel',\n",
    "       'isHeadStable', 'isFixV', 'fix_duration', 'corrected_fix_duration',\n",
    "       'fix_onset', 'isOutlierFix', 'isOutlierSac', 'grasp_onset',\n",
    "       'grasp_stop', 'grasp_duration',],\n",
    "        inplace=True\n",
    ")\n",
    "display(samples_df.columns)"
   ]
  },
  {
   "cell_type": "code",
   "execution_count": null,
   "metadata": {},
   "outputs": [],
   "source": [
    "samples_df.to_csv(\n",
    "    f'{PROCESSED_DATA_PATH}/01_ET_samples_EIH_transform.csv',\n",
    "    index=False,\n",
    ")"
   ]
  }
 ],
 "metadata": {
  "kernelspec": {
   "display_name": "Python 3",
   "language": "python",
   "name": "python3"
  },
  "language_info": {
   "codemirror_mode": {
    "name": "ipython",
    "version": 3
   },
   "file_extension": ".py",
   "mimetype": "text/x-python",
   "name": "python",
   "nbconvert_exporter": "python",
   "pygments_lexer": "ipython3",
   "version": "3.7.4"
  },
  "toc": {
   "base_numbering": 1,
   "nav_menu": {},
   "number_sections": true,
   "sideBar": true,
   "skip_h1_title": false,
   "title_cell": "Table of Contents",
   "title_sidebar": "Contents",
   "toc_cell": false,
   "toc_position": {
    "height": "calc(100% - 180px)",
    "left": "10px",
    "top": "150px",
    "width": "165px"
   },
   "toc_section_display": true,
   "toc_window_display": false
  },
  "varInspector": {
   "cols": {
    "lenName": 16,
    "lenType": 16,
    "lenVar": 40
   },
   "kernels_config": {
    "python": {
     "delete_cmd_postfix": "",
     "delete_cmd_prefix": "del ",
     "library": "var_list.py",
     "varRefreshCmd": "print(var_dic_list())"
    },
    "r": {
     "delete_cmd_postfix": ") ",
     "delete_cmd_prefix": "rm(",
     "library": "var_list.r",
     "varRefreshCmd": "cat(var_dic_list()) "
    }
   },
   "types_to_exclude": [
    "module",
    "function",
    "builtin_function_or_method",
    "instance",
    "_Feature"
   ],
   "window_display": false
  }
 },
 "nbformat": 4,
 "nbformat_minor": 4
}
